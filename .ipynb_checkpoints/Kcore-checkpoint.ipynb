{
 "cells": [
  {
   "cell_type": "code",
   "execution_count": 1,
   "metadata": {},
   "outputs": [
    {
     "name": "stdout",
     "output_type": "stream",
     "text": [
      "Using matplotlib backend: Qt5Agg\n",
      "Populating the interactive namespace from numpy and matplotlib\n"
     ]
    }
   ],
   "source": [
    "#1\n",
    "import numpy as np\n",
    "%pylab \n",
    "style.use('ggplot')\n",
    "rcParams['figure.figsize'] = (7,7)\n",
    "from numba import jit\n",
    "\n",
    "#from IPython.core.display import display, HTML\n",
    "#display(HTML(\"<style>.container { width:90% !important; }</style>\"))\n",
    "import copy\n",
    "import networkx as nx"
   ]
  },
  {
   "cell_type": "code",
   "execution_count": 2,
   "metadata": {},
   "outputs": [],
   "source": [
    "#2\n",
    "#TODO: Implement different random connectivity matrix to make loops more or less probable\n",
    "#Here we construct a random connectivity matrix (single-directional map)\n",
    "def getRandomConnectivity(N, pct_connected):\n",
    "    #Directed mapping\n",
    "    M = np.random.rand(N**2).reshape(N,N)\n",
    "    for i in range(N):\n",
    "        for j in range(N):\n",
    "            if (i == j):\n",
    "                M[i,j] = 0\n",
    "            else:\n",
    "                if (M[i,j] < pct_connected):\n",
    "                    M[i,j] = 1 #i connects to j\n",
    "                else:\n",
    "                    M[i,j] = 0\n",
    "    return M\n",
    "\n",
    "# alternate version\n",
    "def getRandomConnectivity2(N, pct_connected):\n",
    "    # There are N*(N-1)/2 upper diagonal elements\n",
    "    rand_elems = np.where(np.random.rand(N*(N-1)/2) < pct_connected, 1, 0)\n",
    "    M = np.zeros((N,N))\n",
    "    M[np.triu_indices(N,1)] = rand_elems\n",
    "    return M + M.T\n",
    "\n",
    "# Original version with bidirectional mapping \n",
    "def getRandomConnectivity3(N, pct_connected):\n",
    "    # There is no self coupling so the diagonal must be zero. \n",
    "    # The graph is non directed so M must be symmetric\n",
    "    M = np.random.rand(N**2).reshape(N,N)\n",
    "    for i in range(N):\n",
    "        for j in range(i, N):\n",
    "            if (i == j):\n",
    "                M[i,j] = 0\n",
    "            else:\n",
    "                if (M[i,j] < pct_connected):\n",
    "                    M[i,j] = 1\n",
    "                else:\n",
    "                    M[i,j] = 0\n",
    "                M[j,i] = M[i,j]\n",
    "    return M"
   ]
  },
  {
   "cell_type": "code",
   "execution_count": 3,
   "metadata": {},
   "outputs": [],
   "source": [
    "#3\n",
    "# algorithm for finding k cores\n",
    "# The basic idea is to recursively remove nodes of connectivity < k until we either have nothing to remove or no nodes left\n",
    "\n",
    "def hasKcore(M, k):\n",
    "    # we'll be destroying the array so make a copy to work with\n",
    "    X = M.copy()\n",
    "    while(True):\n",
    "        cur_num_nodes = X.shape[0]\n",
    "        s = np.sum(X, 0)\n",
    "        nodes_to_delete = np.where(s < k)[0]\n",
    "        if (len(nodes_to_delete) == cur_num_nodes):\n",
    "            # nothing has at least k connections\n",
    "            \n",
    "            X = np.delete(X, nodes_to_delete, axis=0)\n",
    "            X = np.delete(X, nodes_to_delete, axis=1)\n",
    "            \n",
    "            return False\n",
    "            break\n",
    "        elif (len(nodes_to_delete) == 0):\n",
    "            # They all have at least k connections, we've found a kcore\n",
    "            return True\n",
    "            break\n",
    "        else:\n",
    "            X = np.delete(X, nodes_to_delete, axis=0)\n",
    "            X = np.delete(X, nodes_to_delete, axis=1)\n",
    "\n",
    "            \n",
    "# TODO get Kcore indices \n",
    "\n",
    "def largestKcore(M):\n",
    "    # we can begin the search at the least connected node\n",
    "    connectivity = np.sum(M,0)\n",
    "    min_kcore = np.min(connectivity)\n",
    "    max_kcore = np.max(connectivity)\n",
    "    if max_kcore == 0:\n",
    "        return 0\n",
    "    k = min_kcore\n",
    "    while (hasKcore(M,k)):\n",
    "        k = k+1\n",
    "        \n",
    "    return k - 1\n",
    "        \n",
    "    \n",
    "    \n",
    "def largestkcore(M):\n",
    "    # we can begin the search at the least connected node\n",
    "    connectivity = np.sum(M,0)\n",
    "    min_kcore = np.min(connectivity)\n",
    "    max_kcore = np.max(connectivity)\n",
    "    if max_kcore == 0:\n",
    "        return 0\n",
    "    k = min_kcore\n",
    "    s=1\n",
    "    while (s==1):\n",
    "        \n",
    "        X = M.copy()\n",
    "        while(True):\n",
    "            cur_num_nodes = X.shape[0]\n",
    "            s = np.sum(X, 0)\n",
    "            nodes_to_delete = np.where(s < k)[0]\n",
    "            if (len(nodes_to_delete) == cur_num_nodes):\n",
    "            # nothing has at least k connections\n",
    "            \n",
    "                X = np.delete(X, nodes_to_delete, axis=0)\n",
    "                X = np.delete(X, nodes_to_delete, axis=1)\n",
    "            \n",
    "                s=0\n",
    "                break\n",
    "            elif (len(nodes_to_delete) == 0):\n",
    "            # They all have at least k connections, we've found a kcore\n",
    "                s=1\n",
    "                break\n",
    "            else:\n",
    "                X = np.delete(X, nodes_to_delete, axis=0)\n",
    "                X = np.delete(X, nodes_to_delete, axis=1)\n",
    "        k = k+1\n",
    "        \n",
    "    return k - 1\n",
    "\n",
    "#TODO: Instead of deleting nodes, put 0's on all the connections for the rows and columns that are disconnected\n",
    "    #Keeps number of all neurons the same so that neuron 3 doesnt become neuron 2 etc. \n",
    "    #Look for neurons not in Kcore which are firing and neurons that are in kcore and not firing. \n",
    "def kcoreitself(M, k):\n",
    "    # we'll be destroying the array so make a copy to work with\n",
    "    X = M.copy()\n",
    "    \n",
    "    while(True):\n",
    "        cur_num_nodes = X.shape[0]\n",
    "        s = np.sum(X, 0)\n",
    "        nodes_to_delete = np.where(s < k)[0]\n",
    "        if (len(nodes_to_delete) == cur_num_nodes):\n",
    "            \n",
    "            X = np.delete(X, nodes_to_delete, axis=0)\n",
    "            X = np.delete(X, nodes_to_delete, axis=1)\n",
    "            # nothing has at least k connections\n",
    "            return X\n",
    "            break\n",
    "        elif (len(nodes_to_delete) == 0):\n",
    "            # They all have at least k connections, we've found a kcore\n",
    "            return X\n",
    "            break\n",
    "        else:\n",
    "            X = np.delete(X, nodes_to_delete, axis=0)\n",
    "            X = np.delete(X, nodes_to_delete, axis=1)\n",
    "\n",
    "\n",
    "\n",
    "#here we get the largest connected component of  the graph\n",
    "\n",
    "def largestcomponent(l,N):\n",
    "    n=np.random.randint(0,N)\n",
    "    \n",
    "    boundary=[n]\n",
    "    b=1\n",
    "    comp=[n]\n",
    "    c=1\n",
    "   \n",
    "    while(b>0):\n",
    "        a=boundary.pop()\n",
    "        \n",
    "        oldvertex=int(a)\n",
    "        \n",
    "        deg=l[oldvertex,0]\n",
    "        degree=int(deg)\n",
    "        #print(degree)\n",
    "        for j in range(degree):\n",
    "            newvertex=l[oldvertex,j+1]\n",
    "            q=comp.count(newvertex)\n",
    "            #print(newvertex)\n",
    "            q=int(q)\n",
    "            #print(q)\n",
    "            if (q==0):\n",
    "                comp.append(newvertex)\n",
    "                boundary.append(newvertex)\n",
    "                #print(newvertex)\n",
    "                #print(boundary)\n",
    "            \n",
    "        b=len(boundary)\n",
    "            \n",
    "    #sizeofcomp=len(comp)\n",
    "    return(comp)\n",
    "\n",
    "def matrixOfEdges(M,N):\n",
    "    N = int(N)\n",
    "    E=np.zeros(N**2).reshape(N,N)  #prepare array with zeros\n",
    "    k=np.sum(M,0) #array with degree of each vertex\n",
    "    for i in range(N):\n",
    "        a=int(k[i]) #degree of the current vertex\n",
    "        E[i,0]=a  #we put it to the zero row of matrix of edges\n",
    "    for i in range(N):\n",
    "        a=int(k[i])\n",
    "        q=1\n",
    "        for j in range(N):\n",
    "            if (M[j,i]==1):\n",
    "                E[i,q]=j #all the next elements in current column are number of vertices current vertex is connected to\n",
    "                q=q+1\n",
    "    return(E)"
   ]
  },
  {
   "cell_type": "code",
   "execution_count": 147,
   "metadata": {},
   "outputs": [],
   "source": [
    "def mean_field_dynamics(p, params):\n",
    "    return simDynamicsMF(p, params)\n",
    "\n",
    "@jit(nopython=True)\n",
    "def simDynamicsMF(p, params):\n",
    "    N=int(params[0])\n",
    "    n=int(params[1])\n",
    "    dt=params[2]\n",
    "    tauv=params[3]\n",
    "    tauc=params[4]\n",
    "    Vstar=params[5]\n",
    "    Cstar=params[6]\n",
    "    delV=params[7]\n",
    "    delC=params[8]\n",
    "    r=params[9]\n",
    "    V0=params[10]\n",
    "    C0=params[11]\n",
    "    r_0 = params[12]\n",
    "    g_c = params[13]\n",
    "    g_v = params[14]\n",
    "    \n",
    "    V=zeros(N)  #now we have potencial and calcium concentration for each neuron\n",
    "    C=zeros(N)\n",
    "    \n",
    "    #avV=zeros(N) #average potencial\n",
    "    #avC=zeros(N)  #average calcium\n",
    "    \n",
    "    for i in range(n):\n",
    "        V[0]=V0 #initial conditions\n",
    "        C[0]=C0 \n",
    "        #avV[0]=n*V0\n",
    "        #avC[0]=n*C0\n",
    "\n",
    "    for i in range(N-1):\n",
    "        V[i+1] = (-V[i]/tauv + (1/(1+exp((C[i]-Cstar)/g_c))) * p * (n-1) * (r/(1+exp((Vstar-V[i])/g_v)) + r_0)) * dt + V[i]\n",
    "        C[i+1] = (-C[i]/tauc + delC * p * (n-1) * (r/(1+exp((Vstar-V[i])/g_v)) + r_0)) * dt + C[i]\n",
    "        #avC[i+1]=avC[i+1]+C[i+1]\n",
    "        #avV[i+1]=avV[i+1]+V[i+1]\n",
    "            \n",
    "    #avC /= n\n",
    "    #avV /= n\n",
    "            \n",
    "    return(C, V)\n",
    "    "
   ]
  },
  {
   "cell_type": "code",
   "execution_count": 4,
   "metadata": {},
   "outputs": [],
   "source": [
    "def simdyn(M,l,params):\n",
    "    return simDynamics(M,l,params)\n",
    "\n",
    "@jit(nopython=True)\n",
    "def simDynamics(M,l,params):\n",
    "    N=int(params[0])\n",
    "    n=int(params[1])\n",
    "    dt=params[2]\n",
    "    tauv=params[3]\n",
    "    tauc=params[4]\n",
    "    Vstar=params[5]\n",
    "    Cstar=params[6]\n",
    "    delV=params[7]\n",
    "    delC=params[8]\n",
    "    r=params[9]\n",
    "    V0=params[10]\n",
    "    C0=params[11]\n",
    "    V=zeros(N*n).reshape(N,n)  #now we have potencial and calcium concentration for each neuron\n",
    "    C=zeros(N*n).reshape(N,n)\n",
    "    P=zeros(n)  # function P(V), sigmoid\n",
    "    sump=zeros(n)  #sum of P over the vertices\n",
    "    avV=zeros(N) #average potencial\n",
    "    avC=zeros(N)  #average calcium\n",
    "    #res = int(params[12]) #resulting classification \n",
    "    \n",
    "    for i in range(n):\n",
    "        V[0,i]=V0 #initial conditions\n",
    "        C[0,i]=C0 \n",
    "        avV[0]=n*V0  #we will divide to n later\n",
    "        avC[0]=n*C0\n",
    "    for i in range (N-1):\n",
    "        for j in range(n):\n",
    "            P[j] = (rmax - rb)/(1+exp((Vstar-V[i,j])*0.2)) + rb\n",
    "        for j in range(n):\n",
    "            a=int(l[j,0])\n",
    "            for k in range(a):\n",
    "                b=int(l[j,k])\n",
    "                sump[j]=sump[j]+P[b]  #if neuron connected to j-th neuron it participates in sum\n",
    "        for j in range(n):\n",
    "            V[i+1,j]=(-V[i,j]/tauv + delV*r*sump[j]*(1/(1+exp((C[i,j]-Cstar)/3))) )*dt + V[i,j]\n",
    "            C[i+1,j]=(-C[i,j]/tauc + delC*r*sump[j])*dt + C[i,j]\n",
    "            avC[i+1]=avC[i+1]+C[i+1,j]\n",
    "            avV[i+1]=avV[i+1]+V[i+1,j]\n",
    "        for j in range(n):\n",
    "            sump[j]=0\n",
    "    for i in range (N):\n",
    "        avC[i]=avC[i]/n\n",
    "        avV[i]=avV[i]/n\n",
    "        \n",
    "   \n",
    "    return(avC,avV,C,V)"
   ]
  },
  {
   "cell_type": "code",
   "execution_count": 5,
   "metadata": {},
   "outputs": [],
   "source": [
    "def simdyn(M,l,params):\n",
    "    return simDynamics(M,l,params)\n",
    "\n",
    "@jit(nopython=True)\n",
    "def simDynamics(M,l,params):\n",
    "    N=int(params[0])\n",
    "    n=int(params[1])\n",
    "    dt=params[2]\n",
    "    tauv=params[3]\n",
    "    tauc=params[4]\n",
    "    Vstar=params[5]\n",
    "    Cstar=params[6]\n",
    "    delV=params[7]\n",
    "    delC=params[8]\n",
    "    rmax=params[9]\n",
    "    V0=params[10]\n",
    "    C0=params[11]\n",
    "    rb = params[12]\n",
    "    gc = params[13]\n",
    "    gv = params[14]\n",
    "    \n",
    "    V=zeros(N*n).reshape(N,n)  #now we have potencial and calcium concentration for each neuron\n",
    "    C=zeros(N*n).reshape(N,n)\n",
    "    P=zeros(n)  # function P(V), sigmoid\n",
    "    sump=zeros(n)  #sum of P over the vertices\n",
    "    avV=zeros(N) #average potencial\n",
    "    avC=zeros(N)  #average calcium\n",
    "    #res = int(params[12]) #resulting classification \n",
    "    \n",
    "    for i in range(n):\n",
    "        V[0,i]=V0 #initial conditions\n",
    "        C[0,i]=C0 \n",
    "        avV[0]=n*V0  #we will divide to n later\n",
    "        avC[0]=n*C0\n",
    "    for i in range (N-1):\n",
    "        for j in range(n):\n",
    "            sump[j]=0\n",
    "        for j in range(n):\n",
    "            P[j] = (rmax - rb)/(1+exp((Vstar-V[i,j])/gv)) + rb\n",
    "        for j in range(n):\n",
    "            a=int(l[j,0])\n",
    "            for k in range(a):\n",
    "                b=int(l[j,k])\n",
    "                sump[j]=sump[j]+P[b]  #if neuron connected to j-th neuron it participates in sum\n",
    "        for j in range(n):\n",
    "            V[i+1,j]=(-V[i,j]/tauv + delV*sump[j]*(1/(1+exp((C[i,j]-Cstar)/gc))) )*dt + V[i,j]\n",
    "            C[i+1,j]=(-C[i,j]/tauc + delC*sump[j])*dt + C[i,j]\n",
    "            avC[i+1]=avC[i+1]+C[i+1,j]\n",
    "            avV[i+1]=avV[i+1]+V[i+1,j]\n",
    "        #for j in range(n):\n",
    "        #    sump[j]=0\n",
    "    for i in range (N):\n",
    "        avC[i]=avC[i]/n\n",
    "        avV[i]=avV[i]/n\n",
    "        \n",
    "   \n",
    "    #return(avC,avV,C,V)\n",
    "    return(avC,avV,C,V,sump)"
   ]
  },
  {
   "cell_type": "markdown",
   "metadata": {},
   "source": [
    "### Phase Diagram"
   ]
  },
  {
   "cell_type": "code",
   "execution_count": 185,
   "metadata": {},
   "outputs": [],
   "source": [
    "p = 1/6.\n",
    "n=100 #100\n",
    "M=getRandomConnectivity(n,p) #args(n,p)\n",
    "l=matrixOfEdges(M,n)"
   ]
  },
  {
   "cell_type": "code",
   "execution_count": 323,
   "metadata": {
    "scrolled": true
   },
   "outputs": [
    {
     "name": "stdout",
     "output_type": "stream",
     "text": [
      "delV:  12.499999999999991\n",
      "transition from 3 to 1\n",
      "delV:  12.59999999999999\n",
      "transition from 3 to 1\n",
      "delV:  12.69999999999999\n",
      "transition from 3 to 1\n",
      "delV:  12.79999999999999\n",
      "transition from 3 to 1\n",
      "delV:  12.89999999999999\n",
      "transition from 3 to 1\n",
      "delV:  12.99999999999999\n",
      "transition from 3 to 1\n"
     ]
    },
    {
     "ename": "KeyboardInterrupt",
     "evalue": "",
     "output_type": "error",
     "traceback": [
      "\u001b[0;31m---------------------------------------------------------------------------\u001b[0m",
      "\u001b[0;31mKeyboardInterrupt\u001b[0m                         Traceback (most recent call last)",
      "\u001b[0;32m<ipython-input-323-ea6c861bf484>\u001b[0m in \u001b[0;36m<module>\u001b[0;34m\u001b[0m\n\u001b[1;32m     68\u001b[0m             \u001b[0;31m#curr_n = n\u001b[0m\u001b[0;34m\u001b[0m\u001b[0;34m\u001b[0m\u001b[0m\n\u001b[1;32m     69\u001b[0m             \u001b[0;32mbreak\u001b[0m\u001b[0;34m\u001b[0m\u001b[0m\n\u001b[0;32m---> 70\u001b[0;31m         \u001b[0mC\u001b[0m\u001b[0;34m,\u001b[0m\u001b[0mV\u001b[0m\u001b[0;34m,\u001b[0m\u001b[0mc_arr\u001b[0m\u001b[0;34m,\u001b[0m\u001b[0mv_arr\u001b[0m\u001b[0;34m,\u001b[0m\u001b[0msump\u001b[0m \u001b[0;34m=\u001b[0m \u001b[0msimdyn\u001b[0m\u001b[0;34m(\u001b[0m\u001b[0mM_prime\u001b[0m\u001b[0;34m,\u001b[0m\u001b[0ml_prime\u001b[0m\u001b[0;34m,\u001b[0m\u001b[0mparams\u001b[0m\u001b[0;34m)\u001b[0m\u001b[0;34m\u001b[0m\u001b[0m\n\u001b[0m\u001b[1;32m     71\u001b[0m         \u001b[0mcheck2\u001b[0m \u001b[0;34m=\u001b[0m \u001b[0mclassify\u001b[0m\u001b[0;34m(\u001b[0m\u001b[0mV\u001b[0m\u001b[0;34m,\u001b[0m\u001b[0mparams\u001b[0m\u001b[0;34m)\u001b[0m\u001b[0;34m\u001b[0m\u001b[0m\n\u001b[1;32m     72\u001b[0m         \u001b[0;32mif\u001b[0m \u001b[0mcheck2\u001b[0m \u001b[0;34m!=\u001b[0m \u001b[0mcheck\u001b[0m\u001b[0;34m:\u001b[0m\u001b[0;34m\u001b[0m\u001b[0m\n",
      "\u001b[0;32m<ipython-input-213-601b6a8e0ba0>\u001b[0m in \u001b[0;36msimdyn\u001b[0;34m(M, l, params)\u001b[0m\n\u001b[1;32m      1\u001b[0m \u001b[0;32mdef\u001b[0m \u001b[0msimdyn\u001b[0m\u001b[0;34m(\u001b[0m\u001b[0mM\u001b[0m\u001b[0;34m,\u001b[0m\u001b[0ml\u001b[0m\u001b[0;34m,\u001b[0m\u001b[0mparams\u001b[0m\u001b[0;34m)\u001b[0m\u001b[0;34m:\u001b[0m\u001b[0;34m\u001b[0m\u001b[0m\n\u001b[0;32m----> 2\u001b[0;31m     \u001b[0;32mreturn\u001b[0m \u001b[0msimDynamics\u001b[0m\u001b[0;34m(\u001b[0m\u001b[0mM\u001b[0m\u001b[0;34m,\u001b[0m\u001b[0ml\u001b[0m\u001b[0;34m,\u001b[0m\u001b[0mparams\u001b[0m\u001b[0;34m)\u001b[0m\u001b[0;34m\u001b[0m\u001b[0m\n\u001b[0m\u001b[1;32m      3\u001b[0m \u001b[0;34m\u001b[0m\u001b[0m\n\u001b[1;32m      4\u001b[0m \u001b[0;34m@\u001b[0m\u001b[0mjit\u001b[0m\u001b[0;34m(\u001b[0m\u001b[0mnopython\u001b[0m\u001b[0;34m=\u001b[0m\u001b[0;32mTrue\u001b[0m\u001b[0;34m)\u001b[0m\u001b[0;34m\u001b[0m\u001b[0m\n\u001b[1;32m      5\u001b[0m \u001b[0;32mdef\u001b[0m \u001b[0msimDynamics\u001b[0m\u001b[0;34m(\u001b[0m\u001b[0mM\u001b[0m\u001b[0;34m,\u001b[0m\u001b[0ml\u001b[0m\u001b[0;34m,\u001b[0m\u001b[0mparams\u001b[0m\u001b[0;34m)\u001b[0m\u001b[0;34m:\u001b[0m\u001b[0;34m\u001b[0m\u001b[0m\n",
      "\u001b[0;31mKeyboardInterrupt\u001b[0m: "
     ]
    }
   ],
   "source": [
    "N=10000\n",
    "dt=0.001\n",
    "T=zeros(N)\n",
    "for i in range(N):\n",
    "    T[i]=i*dt\n",
    "\n",
    "\n",
    "M_prime = copy.deepcopy(M)\n",
    "l_prime = copy.deepcopy(l)\n",
    "#curr_n = n #Current number of neurons in network \n",
    "to_cull = 0\n",
    "\n",
    "tauv=0.01 #0.01\n",
    "tauc=0.5 #0.5\n",
    "Vstar=15 #Constant (according to experiments) 15\n",
    "Cstar=5 #15\n",
    "V0=18 #18\n",
    "C0=3 #18\n",
    "\n",
    "delV= 10. #1.2\n",
    "delC= 0.025 #0.015\n",
    "r= 75 #70\n",
    "rb = 5\n",
    "gc = 3\n",
    "gv = 5\n",
    "\n",
    "params=zeros(15)\n",
    "params[0]=N\n",
    "params[1]=n\n",
    "params[2]=dt\n",
    "params[3]=tauv\n",
    "params[4]=tauc\n",
    "params[5]=Vstar\n",
    "params[6]=Cstar\n",
    "params[7]=delV\n",
    "params[8]=delC\n",
    "params[9]=r\n",
    "params[10]=V0\n",
    "params[11]=C0\n",
    "params[12] = rb\n",
    "params[13] = gc\n",
    "params[14] = gv\n",
    "\n",
    "phasen31 = []\n",
    "phaseV31 = []\n",
    "\n",
    "kCore = []\n",
    "\n",
    "dV = 0.1\n",
    "delVmax = 15.\n",
    "\n",
    "while True:\n",
    "    C,V,c_arr,v_arr,sump = simdyn(M_prime,l_prime,params)\n",
    "    check = classify(V,params)\n",
    "    while True:\n",
    "        #import pdb; pdb.set_trace()\n",
    "        params[1] -= 1\n",
    "        #curr_n = curr_n-1\n",
    "        to_cull += 1\n",
    "        M_prime = killNeuron2(to_cull, M)\n",
    "        l_prime = matrixOfEdges(M_prime, params[1])\n",
    "        if params[1] <= 1:\n",
    "            params[7] += dV\n",
    "            params[1] = n\n",
    "            to_cull = 0\n",
    "            M_prime = copy.deepcopy(M)\n",
    "            l_prime = copy.deepcopy(l)\n",
    "            #curr_n = n\n",
    "            break\n",
    "        C,V,c_arr,v_arr,sump = simdyn(M_prime,l_prime,params)\n",
    "        check2 = classify(V,params)\n",
    "        if check2 != check:\n",
    "            if check2 == 1 and check == 3:\n",
    "                phasen31.append(params[1])\n",
    "                phaseV31.append(params[7])\n",
    "                params[7] += dV\n",
    "                print(\"delV: \", params[7])\n",
    "                print(\"transition from\", check, \"to\", check2)\n",
    "                to_cull = 0\n",
    "                params[1] = n \n",
    "                M_prime = copy.deepcopy(M)\n",
    "                l_prime = copy.deepcopy(l)\n",
    "\n",
    "                break\n",
    "            #phasen.append(params[1])\n",
    "            #phaseV.append(params[7])\n",
    "            #params[7] += dV\n",
    "            '''\n",
    "            if params[1] < n-3:\n",
    "                to_cull -= 3\n",
    "                params[1] += 3 #Changed from params[1] = n to track boundary \n",
    "                M_prime = killNeuron2(to_cull, M)\n",
    "                l_prime = matrixOfEdges(M_prime, params[1])\n",
    "            '''\n",
    "            #else:\n",
    "            #to_cull = 0\n",
    "            #params[1] = n \n",
    "            #M_prime = copy.deepcopy(M)\n",
    "            #l_prime = copy.deepcopy(l)\n",
    "                \n",
    "            #break\n",
    "\n",
    "    if params[7] > delVmax:\n",
    "        break\n",
    "print('loop complete')"
   ]
  },
  {
   "cell_type": "code",
   "execution_count": 319,
   "metadata": {},
   "outputs": [
    {
     "data": {
      "text/plain": [
       "[<matplotlib.lines.Line2D at 0xa81c63400>]"
      ]
     },
     "execution_count": 319,
     "metadata": {},
     "output_type": "execute_result"
    },
    {
     "data": {
      "image/png": "[encoded data removed]",
      "text/plain": [
       "<Figure size 432x288 with 1 Axes>"
      ]
     },
     "metadata": {
      "needs_background": "light"
     },
     "output_type": "display_data"
    }
   ],
   "source": [
    "plot(phaseV,phasen)\n",
    "plot(phaseV31,phasen31)"
   ]
  },
  {
   "cell_type": "markdown",
   "metadata": {},
   "source": [
    "### Dynamics for specific parameters"
   ]
  },
  {
   "cell_type": "code",
   "execution_count": 315,
   "metadata": {},
   "outputs": [],
   "source": [
    "N=1000000\n",
    "n=100 #100\n",
    "dt=0.001\n",
    "T=zeros(N)\n",
    "for i in range(N):\n",
    "    T[i]=i*dt\n",
    "#p = 0.9\n",
    "p = 1/6.\n",
    "\n",
    "M_prime = copy.deepcopy(M)\n",
    "l_prime = copy.deepcopy(l)\n",
    "#curr_n = n #Current number of neurons in network \n",
    "\n",
    "target_n = 30\n",
    "to_cull = n-target_n\n",
    "\n",
    "tauv=0.01 #0.01\n",
    "tauc=0.5 #0.5\n",
    "Vstar=15 #Constant (according to experiments) 15\n",
    "Cstar=5 #20\n",
    "V0=18 #18\n",
    "C0=3 #18\n",
    "\n",
    "delV= 11.25 #1.2\n",
    "delC= 0.025 #0.015\n",
    "r= 75 #70\n",
    "rb = 5\n",
    "gc = 3\n",
    "gv = 5\n",
    "\n",
    "params=zeros(15)\n",
    "params[0]=N\n",
    "params[1]=target_n\n",
    "params[2]=dt\n",
    "params[3]=tauv\n",
    "params[4]=tauc\n",
    "params[5]=Vstar\n",
    "params[6]=Cstar\n",
    "params[7]=delV\n",
    "params[8]=delC\n",
    "params[9]=r\n",
    "params[10]=V0\n",
    "params[11]=C0\n",
    "params[12] = rb\n",
    "params[13] = gc\n",
    "params[14] = gv\n",
    "\n",
    "M_prime = killNeuron2(to_cull, M)\n",
    "l_prime = matrixOfEdges(M_prime, params[1])\n",
    "\n",
    "C,V,c_arr,v_arr,sump=simdyn(M_prime, l_prime, params)"
   ]
  },
  {
   "cell_type": "code",
   "execution_count": 316,
   "metadata": {},
   "outputs": [
    {
     "data": {
      "text/plain": [
       "Text(0.5, 1.0, '1')"
      ]
     },
     "execution_count": 316,
     "metadata": {},
     "output_type": "execute_result"
    },
    {
     "data": {
      "image/png": "[encoded data removed]",
      "text/plain": [
       "<Figure size 432x288 with 1 Axes>"
      ]
     },
     "metadata": {
      "needs_background": "light"
     },
     "output_type": "display_data"
    }
   ],
   "source": [
    "plot(C,V)\n",
    "title(classify(V,params))"
   ]
  },
  {
   "cell_type": "code",
   "execution_count": 293,
   "metadata": {},
   "outputs": [
    {
     "data": {
      "image/png": "[encoded data removed]",
      "text/plain": [
       "<Figure size 432x288 with 1 Axes>"
      ]
     },
     "metadata": {
      "needs_background": "light"
     },
     "output_type": "display_data"
    }
   ],
   "source": [
    "a = (r - rb)/(1+exp((Vstar-v_arr)/gv)) + rb\n",
    "\n",
    "for i in range(len(a[0])):\n",
    "    plot(T, a[:,i])"
   ]
  },
  {
   "cell_type": "code",
   "execution_count": 218,
   "metadata": {},
   "outputs": [
    {
     "data": {
      "text/plain": [
       "array([ 557.02484434,  629.37521973,  611.93230714,  708.71802423,\n",
       "        398.96030011,  685.38181853,  356.19808265,  467.64825869,\n",
       "        487.36707569,  563.05967562,  516.69748284,  681.02089602,\n",
       "        612.3574637 ,  571.29035614,  911.52682803,  535.41619552,\n",
       "        421.02063868,  578.10428463,  777.77320029,  446.73481447,\n",
       "        594.89122488,  746.78460754,  508.19114308,  404.76763169,\n",
       "        610.82751701,  509.29040166,  493.35401848,  765.39787999,\n",
       "        902.12962732,  723.30248619,  807.93256844,  853.10666288,\n",
       "        330.99745048,  583.4301439 ,  570.83386721,  539.29024603,\n",
       "        508.69423436,  465.1611816 ,  843.67697767,  665.66606902,\n",
       "        467.28029096,  380.43420991,  412.70078116,  931.22310899,\n",
       "        659.81508035,  769.28890006,  392.29150276,  850.75001481,\n",
       "        357.95572273,  524.65330822,  395.36840134,  592.73405181,\n",
       "        671.85985689,  543.98542276,  595.89788125,  515.4360315 ,\n",
       "        502.1356594 ,  560.65941887,  615.95983712,  722.84538916,\n",
       "        393.63759308, 1087.55194227,  550.77058057,  665.66320243,\n",
       "        487.55374587,  607.74255255,  571.77579566,  541.72169097,\n",
       "        575.10051499,  542.2714717 ])"
      ]
     },
     "execution_count": 218,
     "metadata": {},
     "output_type": "execute_result"
    }
   ],
   "source": [
    "sump"
   ]
  },
  {
   "cell_type": "code",
   "execution_count": 226,
   "metadata": {},
   "outputs": [
    {
     "name": "stdout",
     "output_type": "stream",
     "text": [
      "8\n"
     ]
    }
   ],
   "source": [
    "F = []\n",
    "for i in range(len(sump)):\n",
    "    F.append(sump[i]*tauc*delC)\n",
    "x = 0\n",
    "for i in F:\n",
    "    if i < Cstar: \n",
    "        x += 1\n",
    "        \n",
    "print(x)"
   ]
  },
  {
   "cell_type": "code",
   "execution_count": 230,
   "metadata": {
    "scrolled": false
   },
   "outputs": [
    {
     "name": "stdout",
     "output_type": "stream",
     "text": [
      "F: 6.962810554277798 , C: 6.962810554277585\n",
      "F: 7.867190246577099 , C: 7.867190246577159\n",
      "F: 7.649153839231957 , C: 7.649153839232168\n",
      "F: 8.858975302904168 , C: 8.858975302904604\n",
      "F: 4.98700375136334 , C: 4.987003751363151\n",
      "F: 8.567272731667066 , C: 8.567272731667508\n",
      "F: 4.452476033096028 , C: 4.452476033095808\n",
      "F: 5.84560323364175 , C: 5.845603233641528\n",
      "F: 6.0920884461159 , C: 6.092088446115678\n",
      "F: 7.038245945210462 , C: 7.038245945210683\n",
      "F: 6.45871853552083 , C: 6.45871853552085\n",
      "F: 8.512761200281945 , C: 8.512761200282387\n",
      "F: 7.654468296304791 , C: 7.65446829630457\n",
      "F: 7.141129451770557 , C: 7.141129451770336\n",
      "F: 11.394085350313421 , C: 11.394085350313858\n",
      "F: 6.692702443964359 , C: 6.69270244396434\n",
      "F: 5.262757983508311 , C: 5.262757983508119\n",
      "F: 7.22630355785498 , C: 7.226303557855198\n",
      "F: 9.722165003563788 , C: 9.722165003564232\n",
      "F: 5.5841851809010725 , C: 5.584185180901294\n",
      "F: 7.436140310972387 , C: 7.4361403109725845\n",
      "F: 9.334807594236178 , C: 9.334807594235734\n",
      "F: 6.352389288445862 , C: 6.352389288445641\n",
      "F: 5.059595396090554 , C: 5.059595396090536\n",
      "F: 7.635343962608942 , C: 7.635343962609161\n",
      "F: 6.366130020784771 , C: 6.366130020784992\n",
      "F: 6.166925230973393 , C: 6.1669252309736144\n",
      "F: 9.567473499847708 , C: 9.567473499847267\n",
      "F: 11.276620341475846 , C: 11.276620341475404\n",
      "F: 9.041281077431714 , C: 9.041281077432156\n",
      "F: 10.099157105544592 , C: 10.099157105545011\n",
      "F: 10.663833285948042 , C: 10.6638332859476\n",
      "F: 4.137468130940408 , C: 4.137468130940629\n",
      "F: 7.292876798735643 , C: 7.292876798735863\n",
      "F: 7.135423340170665 , C: 7.135423340170444\n",
      "F: 6.741128075353778 , C: 6.741128075353766\n",
      "F: 6.3586779294422815 , C: 6.3586779294420595\n",
      "F: 5.814514770061927 , C: 5.814514770062148\n",
      "F: 10.545962220849878 , C: 10.545962220849436\n",
      "F: 8.320825862798404 , C: 8.320825862798845\n",
      "F: 5.841003637058299 , C: 5.841003637058089\n",
      "F: 4.755427623930683 , C: 4.755427623930462\n",
      "F: 5.158759764507354 , C: 5.158759764507451\n",
      "F: 11.640288862372522 , C: 11.640288862372078\n",
      "F: 8.247688504380449 , C: 8.247688504380712\n",
      "F: 9.616111250759637 , C: 9.616111250759197\n",
      "F: 4.9036437844456024 , C: 4.903643784445821\n",
      "F: 10.634375185062941 , C: 10.634375185062499\n",
      "F: 4.47444653406538 , C: 4.474446534065601\n",
      "F: 6.5581663527582865 , C: 6.55816635275807\n",
      "F: 4.942105016746625 , C: 4.942105016746419\n",
      "F: 7.4091756476146 , C: 7.409175647614445\n",
      "F: 8.398248211179778 , C: 8.39824821117934\n",
      "F: 6.799817784554439 , C: 6.79981778455466\n",
      "F: 7.448723515593025 , C: 7.448723515593003\n",
      "F: 6.4429503937933905 , C: 6.442950393793611\n",
      "F: 6.276695742482132 , C: 6.276695742481911\n",
      "F: 7.008242735875374 , C: 7.008242735875152\n",
      "F: 7.699497963986869 , C: 7.69949796398665\n",
      "F: 9.03556736455557 , C: 9.035567364555959\n",
      "F: 4.9204699135268015 , C: 4.920469913526583\n",
      "F: 13.59439927842536 , C: 13.594399278425804\n",
      "F: 6.884632257104522 , C: 6.884632257104306\n",
      "F: 8.32079003039603 , C: 8.320790030395585\n",
      "F: 6.094421823353235 , C: 6.094421823353441\n",
      "F: 7.596781906857436 , C: 7.596781906857456\n",
      "F: 7.14719744577846 , C: 7.147197445778238\n",
      "F: 6.771521137070977 , C: 6.771521137070755\n",
      "F: 7.188756437390286 , C: 7.188756437390065\n",
      "F: 6.778393396280068 , C: 6.778393396280234\n"
     ]
    }
   ],
   "source": [
    "for i in range(len(F)):\n",
    "    print(\"F: {} , C: {}\".format(F[i],c_arr[-1,i]))"
   ]
  },
  {
   "cell_type": "code",
   "execution_count": 262,
   "metadata": {},
   "outputs": [
    {
     "name": "stdout",
     "output_type": "stream",
     "text": [
      "15\n",
      "total neurons: 80 \n",
      "total firing neurons: 3 \n",
      "firing list:\n"
     ]
    }
   ],
   "source": [
    "print(Vstar)\n",
    "firing = 0\n",
    "firing_list = []\n",
    "for i in range(len(v_arr[-1])):\n",
    "    #if v_arr[-1,i] > Vstar:# and c_arr[-1,i] < Cstar:\n",
    "    if c_arr[-1,i] < Cstar:\n",
    "        firing += 1\n",
    "        firing_list.append(i+1)\n",
    "        \n",
    "print(\"total neurons: {} \\ntotal firing neurons: {} \\nfiring list:\".format(target_n, firing, firing_list))"
   ]
  },
  {
   "cell_type": "code",
   "execution_count": 195,
   "metadata": {},
   "outputs": [
    {
     "data": {
      "text/plain": [
       "8"
      ]
     },
     "execution_count": 195,
     "metadata": {},
     "output_type": "execute_result"
    }
   ],
   "source": [
    "c_count = 0\n",
    "for i in c_arr[-1]:\n",
    "    if i < Cstar:\n",
    "        c_count += 1\n",
    "        \n",
    "c_count"
   ]
  },
  {
   "cell_type": "code",
   "execution_count": 272,
   "metadata": {},
   "outputs": [
    {
     "data": {
      "image/png": "[encoded data removed]",
      "text/plain": [
       "<Figure size 432x288 with 1 Axes>"
      ]
     },
     "metadata": {
      "needs_background": "light"
     },
     "output_type": "display_data"
    }
   ],
   "source": [
    "idx_list = np.random.randint(0,len(v_arr[0]),size=5)\n",
    "#for i in idx_list:\n",
    "for i in range(len(v_arr[0])):\n",
    "    plot(T[-5000:], v_arr[-5000:,i])"
   ]
  },
  {
   "cell_type": "code",
   "execution_count": 204,
   "metadata": {},
   "outputs": [
    {
     "data": {
      "text/plain": [
       "array([20.95698459, 19.22787299, 19.69201015, 16.87620781, 21.99034548,\n",
       "       17.59811865, 21.37369604, 22.11955343, 21.97942378, 20.83495302,\n",
       "       21.64227844, 17.73089141, 19.68100473, 20.6611492 , 10.63700403,\n",
       "       21.35374495, 22.14270634, 20.51110114, 14.68459105, 22.18566697,\n",
       "       20.1192191 , 15.67205027, 21.75508182, 22.04110605, 19.7205326 ,\n",
       "       21.74117407, 21.92270185, 15.07868059, 10.90153746, 16.41755716,\n",
       "       13.73098857, 12.33821927, 20.80402525, 20.390102  , 20.67100523,\n",
       "       21.28744068, 21.74874169, 22.13197101, 12.62428468, 18.19169421,\n",
       "       22.12146652, 21.77631005, 22.09808054, 10.09502352, 18.36420184,\n",
       "       14.95468153, 21.92250034, 12.40944973, 21.40764593, 21.52624634,\n",
       "       21.95507916, 20.17126202, 18.00715239, 21.20418997, 20.09477006,\n",
       "       21.65975154, 21.82805734, 20.88404838, 19.58711487, 16.43199643,\n",
       "       21.93702277,  6.45064618, 21.0784302 , 18.19177917, 21.97775257,\n",
       "       19.79959144, 20.65064069, 21.24471988, 20.57791695, 21.23494325])"
      ]
     },
     "execution_count": 204,
     "metadata": {},
     "output_type": "execute_result"
    }
   ],
   "source": [
    "v_arr[-1]"
   ]
  },
  {
   "cell_type": "code",
   "execution_count": 202,
   "metadata": {},
   "outputs": [
    {
     "data": {
      "text/plain": [
       "array([[ 5., 12., 13., ...,  0.,  0.,  0.],\n",
       "       [13., 15., 16., ...,  0.,  0.,  0.],\n",
       "       [ 5., 11., 13., ...,  0.,  0.,  0.],\n",
       "       ...,\n",
       "       [14., 16., 27., ...,  0.,  0.,  0.],\n",
       "       [18., 35., 39., ...,  0.,  0.,  0.],\n",
       "       [ 2., 10., 25., ...,  0.,  0.,  0.]])"
      ]
     },
     "execution_count": 202,
     "metadata": {},
     "output_type": "execute_result"
    }
   ],
   "source": [
    "l_prime[:,1:]"
   ]
  },
  {
   "cell_type": "code",
   "execution_count": 126,
   "metadata": {},
   "outputs": [
    {
     "data": {
      "text/plain": [
       "47.0"
      ]
     },
     "execution_count": 126,
     "metadata": {},
     "output_type": "execute_result"
    }
   ],
   "source": [
    "largestkcore(M_prime)"
   ]
  },
  {
   "cell_type": "code",
   "execution_count": 136,
   "metadata": {},
   "outputs": [],
   "source": [
    "x=kcoreitself(M_prime,46)"
   ]
  },
  {
   "cell_type": "code",
   "execution_count": 138,
   "metadata": {},
   "outputs": [
    {
     "data": {
      "text/plain": [
       "(53, 53)"
      ]
     },
     "execution_count": 138,
     "metadata": {},
     "output_type": "execute_result"
    }
   ],
   "source": [
    "x.shape"
   ]
  },
  {
   "cell_type": "code",
   "execution_count": 9,
   "metadata": {},
   "outputs": [],
   "source": [
    "def simdyn2(M,l,params):\n",
    "    return simDynamics2(M,l,params)\n",
    "\n",
    "@jit(nopython=True)\n",
    "def simDynamics2(M,l,params):\n",
    "    N=int(params[0])\n",
    "    n=int(params[1])\n",
    "    dt=params[2]\n",
    "    tauv=params[3]\n",
    "    tauc=params[4]\n",
    "    Vstar=params[5]\n",
    "    Cstar=params[6]\n",
    "    delV=params[7]\n",
    "    delC=params[8]\n",
    "    r=params[9]\n",
    "    V0=params[10]\n",
    "    C0=params[11]\n",
    "    V=zeros(N*n).reshape(N,n)  #now we have potencial and calcium concentration for each neuron\n",
    "    C=zeros(N*n).reshape(N,n)\n",
    "    P=zeros(n)  # function P(V), sigmoid\n",
    "    sump=zeros(n)  #sum of P over the vertices\n",
    "    avV=zeros(N) #average potencial\n",
    "    avC=zeros(N)  #average calcium\n",
    "    #res = int(params[12]) #resulting classification \n",
    "    \n",
    "    for i in range(n):\n",
    "        V[0,i]=V0 #initial conditions\n",
    "        C[0,i]=C0 \n",
    "        avV[0]=n*V0  #we will divide to n later\n",
    "        avC[0]=n*C0\n",
    "    for i in range (N-1):\n",
    "        for j in range(n):\n",
    "            if V[i,j] < Vstar:\n",
    "                P[j] = 0 #5\n",
    "            else: \n",
    "                P[j] = 70 #70\n",
    "        for j in range(n):\n",
    "            a=int(l[j,0])\n",
    "            for k in range(a):\n",
    "                b=int(l[j,k])\n",
    "                sump[j]=sump[j]+P[b]  #if neuron connected to j-th neuron it participates in sum\n",
    "            \n",
    "        #pull conditionals to next loop\n",
    "        for j in range(n):\n",
    "            if V[i,j] < Vstar:\n",
    "                r = 0 #5\n",
    "            else:\n",
    "                r = 70 #250\n",
    "            if C[i,j] < Cstar: \n",
    "                delV = params[7]\n",
    "                #delC = params[8]\n",
    "            else:\n",
    "                delV = .1*params[7] #0\n",
    "                #delC = 0.0005\n",
    "                \n",
    "            V[i+1,j]=(-V[i,j]/tauv + sump[j]*delV*r)*dt + V[i,j] \n",
    "            C[i+1,j]=(-C[i,j]/tauc + sump[j]*delC*r)*dt + C[i,j]\n",
    "            avC[i+1]=avC[i+1]+C[i+1,j]\n",
    "            avV[i+1]=avV[i+1]+V[i+1,j]\n",
    "        for j in range(n):\n",
    "            sump[j]=0\n",
    "    for i in range (N):\n",
    "        avC[i]=avC[i]/n\n",
    "        avV[i]=avV[i]/n\n",
    "        \n",
    "   \n",
    "    return(avC,avV)"
   ]
  },
  {
   "cell_type": "code",
   "execution_count": 10,
   "metadata": {},
   "outputs": [],
   "source": [
    "#4\n",
    "#here we define the simulation process for random matrix. It is longer for numerical point of view so we use @jit compiler which significantly accelerates it \n",
    "import pdb\n",
    "#for some reason we need this funky embedding\n",
    "def simdyn3(M, l, params):\n",
    "    return simDynamics3(M, l, params)\n",
    "\n",
    "\n",
    "\n",
    "#@jit(nopython=True)\n",
    "def simDynamics3(M, l, params):  #params is a vector of parameters\n",
    "    N=int(params[0])\n",
    "    n=int(params[1])\n",
    "    dt=params[2]\n",
    "    tauv=params[3]\n",
    "    tauc=params[4]\n",
    "    Vstar=params[5]\n",
    "    Cstar=params[6]\n",
    "    delV=params[7]\n",
    "    delC=params[8]\n",
    "    r=params[9]\n",
    "    V0=params[10]\n",
    "    C0=params[11]\n",
    "    delVmin = params[12]\n",
    "    V=zeros(N*n).reshape(N,n)  #now we have potencial and calcium concentration for each neuron\n",
    "    C=zeros(N*n).reshape(N,n)\n",
    "    #P=zeros(n)  # function P(V), sigmoid\n",
    "    P = zeros(N*n).reshape(N,n)\n",
    "    deltaV=zeros(n)\n",
    "    sump=zeros(n)  #sum of P over the vertices\n",
    "    avV=zeros(N) #average potencial\n",
    "    avC=zeros(N)  #average calcium\n",
    "    firing_neurons_count = zeros(N*n).reshape(N,n) #Individually count how may neurons are actually firing in this model at a given step N.\n",
    "    \n",
    "    for i in range(n):\n",
    "        V[0,i]=V0 #initial conditions\n",
    "        C[0,i]=C0 \n",
    "        if V[0,i] > Vstar: #keep track of and return how many neurons in the network are actually firing  \n",
    "            firing_neurons_count[0,i] = 1\n",
    "        avV[0]=n*V0  #we will divide to n later\n",
    "        avC[0]=n*C0\n",
    "    for i in range (N-1):\n",
    "        for j in range(n):\n",
    "            if (V[i,j]>Vstar): #V[i,j] stores voltage of each neuron instead of returning the average voltage \n",
    "                P[i,j]=70\n",
    "            else:\n",
    "                P[i,j]=0\n",
    "            if (C[i,j]<Cstar):\n",
    "                deltaV[j]=delV #change from 1.2 \n",
    "            else:\n",
    "                deltaV[j]=delVmin #changed from .4\n",
    "        for j in range(n):\n",
    "            a=int(l[j,0]) #a should give number of firing neighbors \n",
    "            for k in range(a):\n",
    "                #b=int(l[j,k])\n",
    "                b = int(l[j,k+1])\n",
    "                sump[j]=sump[j]+P[i,b]  #if neuron connected to j-th neuron it participates in sum\n",
    "        for j in range(n):\n",
    "            V[i+1,j]=(-V[i,j]/tauv + deltaV[j]*sump[j])*dt + V[i,j]\n",
    "            if V[i+1,j] > Vstar: \n",
    "                firing_neurons_count[i+1,j] = 1 #used to return count of firing neurons later\n",
    "            if ((firing_neurons_count[i,j] == 1) and (firing_neurons_count[i+1,j] == 0)):\n",
    "                print(sump[j])\n",
    "            C[i+1,j]=(-C[i,j]/tauc + delC*r*sump[j])*dt + C[i,j]\n",
    "            avC[i+1]=avC[i+1]+C[i+1,j]\n",
    "            avV[i+1]=avV[i+1]+V[i+1,j]\n",
    "        for j in range(n):\n",
    "            sump[j]=0\n",
    "    for i in range (N):\n",
    "        avC[i]=avC[i]/n\n",
    "        avV[i]=avV[i]/n\n",
    "        \n",
    "        #plot([avC[i],avC[i+1]],[avV[i],avV[i+1]])    \n",
    "    return(avC,avV, firing_neurons_count, P, V)"
   ]
  },
  {
   "cell_type": "code",
   "execution_count": 6,
   "metadata": {},
   "outputs": [],
   "source": [
    "#5\n",
    "#TODO: Implement Fourier Analysis for classification\n",
    "    #Compare activity of one neuron with the results of classification graph \n",
    "###Classification 1 : Simple###\n",
    "def classify(V, params):\n",
    "    #Set up some globals \n",
    "    \n",
    "    N = int(params[0])\n",
    "    n = int(params[1])\n",
    "    \n",
    "    #Network uniformly connected but vectorized lets us scale later \n",
    "    #for i in range (N/2, N):\n",
    "    max_V = max(V[int(N/2):N])\n",
    "    min_V = min(V[int(N/2):N])\n",
    "   \n",
    "            \n",
    "    V_delta = max_V - min_V\n",
    "    \n",
    "    if V_delta < 0.1: #changed from 1\n",
    "        if V[N-1] < 15:\n",
    "            #params[12] = 2\n",
    "            return 2\n",
    "        else:\n",
    "            #params[12] = 3\n",
    "            return 3\n",
    "    else:\n",
    "        #params[12] = 1\n",
    "        return 1\n",
    "    \n",
    "def classify2(V, params):\n",
    "    #Set up some globals \n",
    "    \n",
    "    N = int(params[0])\n",
    "    n = int(params[1])\n",
    "    \n",
    "    #Network uniformly connected but vectorized lets us scale later \n",
    "    #for i in range (N/2, N):\n",
    "    max_V = max(V[int(N/2):N])\n",
    "    min_V = min(V[int(N/2):N])\n",
    "   \n",
    "            \n",
    "    V_delta = max_V - min_V\n",
    "    \n",
    "    if V_delta < 0.1: #changed from 1\n",
    "        if V[N-1] < params[5]:\n",
    "            #params[12] = 2\n",
    "            return 2\n",
    "        else:\n",
    "            #params[12] = 3\n",
    "            return 3\n",
    "    else:\n",
    "        if max_V > params[5] and min_V < params[5]:\n",
    "            return 1\n",
    "        if max_V > params[5] and min_V > params[5]:\n",
    "            return 4\n",
    "        if max_V < params[5] and min_V < params[5]:\n",
    "            return 5"
   ]
  },
  {
   "cell_type": "code",
   "execution_count": 7,
   "metadata": {},
   "outputs": [],
   "source": [
    "#6\n",
    "#Removes one neuron from the network (cull an x,y axis). \n",
    "def killNeuron(N,M_prime):\n",
    "    M = copy.deepcopy(M_prime)\n",
    "    #Randomly pick a neuron to remove\n",
    "    #x = np.random.randint(N)\n",
    "    x = 1\n",
    "    M = np.delete(M,x,axis=0)\n",
    "    M = np.delete(M,x,axis=1)\n",
    "    return M\n",
    "\n",
    "#TODO: Kill N neurons from the network systematically instead of one at a time. \n",
    "def killNeuron2(to_cull, M_prime):\n",
    "    M = copy.deepcopy(M_prime) \n",
    "    #Systemically cull certain neuron from the matrix\n",
    "    x = 0    \n",
    "    for i in range (int(to_cull)):\n",
    "        M = np.delete(M,x,axis=0)\n",
    "        M = np.delete(M,x,axis=1)\n",
    "    return M"
   ]
  },
  {
   "cell_type": "markdown",
   "metadata": {},
   "source": [
    "Iterate from the right with classification algorithm \n",
    "        1. ONLY decrement neuron count.\n",
    "        2. Append to right array \n",
    "        3. When hit 0 break\n",
    "    5. Start algorithm from the left (steps 1-3), appending to left array\n",
    "    6. Reverse right array and append to left array for end result. "
   ]
  },
  {
   "cell_type": "code",
   "execution_count": 9,
   "metadata": {},
   "outputs": [
    {
     "name": "stdout",
     "output_type": "stream",
     "text": [
      "1050.0\n",
      "1120.0\n",
      "1120.0\n",
      "1120.0\n",
      "1120.0\n",
      "1120.0\n",
      "1120.0\n",
      "1120.0\n",
      "1120.0\n",
      "1120.0\n",
      "1120.0\n",
      "1120.0\n",
      "1050.0\n",
      "1120.0\n"
     ]
    },
    {
     "ename": "ValueError",
     "evalue": "too many values to unpack (expected 3)",
     "output_type": "error",
     "traceback": [
      "\u001b[1;31m---------------------------------------------------------------------------\u001b[0m",
      "\u001b[1;31mValueError\u001b[0m                                Traceback (most recent call last)",
      "\u001b[1;32m<ipython-input-9-d4d1d823a92f>\u001b[0m in \u001b[0;36m<module>\u001b[1;34m()\u001b[0m\n\u001b[0;32m     52\u001b[0m \u001b[1;33m\u001b[0m\u001b[0m\n\u001b[0;32m     53\u001b[0m \u001b[1;32mwhile\u001b[0m \u001b[1;32mTrue\u001b[0m\u001b[1;33m:\u001b[0m\u001b[1;33m\u001b[0m\u001b[0m\n\u001b[1;32m---> 54\u001b[1;33m     \u001b[0mC\u001b[0m\u001b[1;33m,\u001b[0m\u001b[0mV\u001b[0m\u001b[1;33m,\u001b[0m\u001b[0mf\u001b[0m \u001b[1;33m=\u001b[0m \u001b[0msimdyn3\u001b[0m\u001b[1;33m(\u001b[0m\u001b[0mM_prime\u001b[0m\u001b[1;33m,\u001b[0m\u001b[0ml_prime\u001b[0m\u001b[1;33m,\u001b[0m\u001b[0mparams\u001b[0m\u001b[1;33m)\u001b[0m\u001b[1;33m\u001b[0m\u001b[0m\n\u001b[0m\u001b[0;32m     55\u001b[0m     \u001b[0mcheck\u001b[0m \u001b[1;33m=\u001b[0m \u001b[0mclassify\u001b[0m\u001b[1;33m(\u001b[0m\u001b[0mV\u001b[0m\u001b[1;33m,\u001b[0m\u001b[0mparams\u001b[0m\u001b[1;33m)\u001b[0m\u001b[1;33m\u001b[0m\u001b[0m\n\u001b[0;32m     56\u001b[0m     \u001b[1;32mwhile\u001b[0m \u001b[1;32mTrue\u001b[0m\u001b[1;33m:\u001b[0m\u001b[1;33m\u001b[0m\u001b[0m\n",
      "\u001b[1;31mValueError\u001b[0m: too many values to unpack (expected 3)"
     ]
    }
   ],
   "source": [
    "#7\n",
    "### Run this one after running matrix cells and the cell for simdyn3 \n",
    "N=10000\n",
    "n=100 #100\n",
    "dt=0.001\n",
    "T=zeros(N)\n",
    "for i in range(N):\n",
    "    T[i]=i*dt\n",
    "p = 1/6 #Connectivity rate High connectivity is just mean field so it looks a lot smoother... want to maybe not make it so high\n",
    "\n",
    "M=getRandomConnectivity(n,p) #args(n,p)\n",
    "l=matrixOfEdges(M,n)\n",
    "M_prime = copy.deepcopy(M)\n",
    "l_prime = copy.deepcopy(l)\n",
    "#curr_n = n #Current number of neurons in network \n",
    "to_cull = 0\n",
    "\n",
    "tauv=0.01 #0.01\n",
    "tauc=0.5 #0.5\n",
    "Vstar=15 #Constant (according to experiments) 15\n",
    "Cstar=20 #15\n",
    "V0=18 #18\n",
    "C0=18 #18\n",
    "\n",
    "delV= 4. #1.2\n",
    "delVmin = delV/3\n",
    "delC= 0.015 #0.015\n",
    "r= 70 #70\n",
    "\n",
    "params=zeros(13)\n",
    "params[0]=N\n",
    "params[1]=n\n",
    "params[2]=dt\n",
    "params[3]=tauv\n",
    "params[4]=tauc\n",
    "params[5]=Vstar\n",
    "params[6]=Cstar\n",
    "params[7]=delV\n",
    "params[8]=delC\n",
    "params[9]=r\n",
    "params[10]=V0\n",
    "params[11]=C0\n",
    "params[12]=delVmin #connenctivity rate from above.\n",
    "\n",
    "\n",
    "phasen = []\n",
    "phaseV = []\n",
    "kCore = []\n",
    "\n",
    "dV = 0.1\n",
    "delVmax = 20.\n",
    "\n",
    "while True:\n",
    "    C,V,f = simdyn3(M_prime,l_prime,params)\n",
    "    check = classify(V,params)\n",
    "    while True:\n",
    "        #import pdb; pdb.set_trace()\n",
    "        params[1] -= 1\n",
    "        #curr_n = curr_n-1\n",
    "        to_cull += 1\n",
    "        M_prime = killNeuron2(to_cull, M)\n",
    "        l_prime = matrixOfEdges(M_prime, params[1])\n",
    "        if params[1] <= 1:\n",
    "            params[7] += dV\n",
    "            params[12] = params[7]/3\n",
    "            params[1] = n\n",
    "            to_cull = 0\n",
    "            M_prime = copy.deepcopy(M)\n",
    "            l_prime = copy.deepcopy(l)\n",
    "            #curr_n = n\n",
    "            break\n",
    "        C,V,f = simdyn3(M_prime,l_prime,params)\n",
    "        check2 = classify(V,params)\n",
    "        if check2 != check:\n",
    "            print(\"delV: \", params[7])\n",
    "            print(\"transition from\", check, \"to\", check2)\n",
    "            #print(\"Kcore: \", largestKcore(M_prime), \"Predicted:\",floor(Vstar/(tauv*70*params[12])))\n",
    "            print(\"Kcore: \", largestKcore(M_prime), \"Predicted:\",Vstar/(tauv*70*params[12]))\n",
    "            phasen.append(params[1])\n",
    "            phaseV.append(params[7])\n",
    "            kCore.append(largestKcore(M_prime))\n",
    "            params[7] += dV\n",
    "            params[12] = params[7]/3\n",
    "            if params[1] < n-3:\n",
    "                to_cull -= 3\n",
    "                params[1] += 3 #Changed from params[1] = n to track boundary \n",
    "                M_prime = killNeuron2(to_cull, M)\n",
    "                l_prime = matrixOfEdges(M_prime, params[1])\n",
    "            else:\n",
    "                to_cull = 0\n",
    "                params[1] = n \n",
    "                M_prime = copy.deepcopy(M)\n",
    "                l_prime = copy.deepcopy(l)\n",
    "                \n",
    "            break\n",
    "\n",
    "    if params[7] > delVmax:\n",
    "        break\n",
    "print('loop complete')\n"
   ]
  },
  {
   "cell_type": "code",
   "execution_count": 12,
   "metadata": {
    "collapsed": true
   },
   "outputs": [],
   "source": [
    "#8\n",
    "#TODO: HA to SO phase.... find the k that it needs to bump up\n",
    "#Plots everything \n",
    "\n",
    "if len(phasen) > 0 and len(phaseV) > 0:\n",
    "\n",
    "    figure(1)\n",
    "    ylabel('n, number of neurons')\n",
    "    xlabel('delV')\n",
    "    yticks(np.arange(0, 150, 5.0))\n",
    "    grid(color='black', linestyle='dotted', linewidth=1)\n",
    "    plot(phaseV,phasen, '-o')\n",
    "    #savefig('kcore_correct2.png')\n",
    "\n",
    "    figure(2)\n",
    "    ylabel('largest k core') \n",
    "    xlabel('delV') \n",
    "    plot(phaseV, kCore, '-0') \n",
    "    #savefig('kcore_kcores_correct2.png')\n",
    "    \n",
    "else:\n",
    "    print('no transition')\n"
   ]
  },
  {
   "cell_type": "code",
   "execution_count": 10,
   "metadata": {},
   "outputs": [
    {
     "name": "stdout",
     "output_type": "stream",
     "text": [
      "280.0\n",
      "490.0\n"
     ]
    }
   ],
   "source": [
    "#Looking at k-core size versus the actual number of firing neurons in the network \n",
    "N=1000\n",
    "n=80 #150\n",
    "dt=0.001\n",
    "T=zeros(N)\n",
    "for i in range(N):\n",
    "    T[i]=i*dt\n",
    "p = 1/6 #Connectivity rate High connectivity is just mean field so it looks a lot smoother... want to maybe not make it so high\n",
    "\n",
    "M=getRandomConnectivity(n,p) #args(n,p)\n",
    "M_T = transpose(M)\n",
    "l1=matrixOfEdges(M,n)\n",
    "l2=matrixOfEdges(M_T,n)\n",
    "#M_prime = copy.deepcopy(M_T)\n",
    "#l_prime = copy.deepcopy(l)\n",
    "\n",
    "tauv=0.01 #0.01\n",
    "tauc=0.5 #0.5\n",
    "Vstar=15 #Constant (according to experiments) 15\n",
    "Cstar=20 #15\n",
    "V0=30 #18\n",
    "C0=30 #18\n",
    "\n",
    "delV= 8.4 #1.2\n",
    "delVmin = delV/3\n",
    "delC= 0.015 #0.015\n",
    "r= 70 #70\n",
    "\n",
    "cull_to = 10 #How many neurons we want to cut down to from original matrix 50 worked well\n",
    "#M_prime = killNeuron2(n-cull_to, M_T)\n",
    "#l_prime = matrixOfEdges(M_prime, cull_to)\n",
    "\n",
    "params=zeros(13)\n",
    "params[0]=N\n",
    "params[1]=n #instead of actual n, cull neurons til desired value\n",
    "params[2]=dt\n",
    "params[3]=tauv\n",
    "params[4]=tauc\n",
    "params[5]=Vstar\n",
    "params[6]=Cstar\n",
    "params[7]=delV\n",
    "params[8]=delC\n",
    "params[9]=r\n",
    "params[10]=V0\n",
    "params[11]=C0\n",
    "params[12]=delVmin #connenctivity rate from above.\n",
    "\n",
    "\n",
    "#C,V,neuron_counts = simdyn3(M_prime,l_prime,params)\n",
    "C,V,neuron_counts, P, Voltages = simdyn3(M,l1,params)\n",
    "itself = kcoreitself(M,ceil(Vstar/(tauv*delVmin*r)))"
   ]
  },
  {
   "cell_type": "code",
   "execution_count": 11,
   "metadata": {},
   "outputs": [
    {
     "name": "stdout",
     "output_type": "stream",
     "text": [
      "Classification: 3\n",
      "Largest kcore: 8.0\n",
      "Predicted k:  7.653061224489795\n",
      "Shape of kcore (gives kcore size): (78, 78)\n",
      "Number of neurons total in network: 80.0\n",
      "Number of firing neurons: 78.0\n"
     ]
    }
   ],
   "source": [
    "out = Vstar/(tauv*delVmin*r)\n",
    "\n",
    "print(\"Classification:\",classify(V,params))\n",
    "print(\"Largest kcore:\", largestKcore(M))\n",
    "print(\"Predicted k: \",out)\n",
    "print(\"Shape of kcore (gives kcore size):\",itself.shape)\n",
    "print(\"Number of neurons total in network:\",params[1])\n",
    "print(\"Number of firing neurons:\",sum(neuron_counts[N-1]))"
   ]
  },
  {
   "cell_type": "code",
   "execution_count": 15,
   "metadata": {},
   "outputs": [],
   "source": [
    "plt.xlim(0,50)\n",
    "for i in range(10):\n",
    "    plt.plot(Voltages[:,i],label=i)\n",
    "plt.legend()\n",
    "plt.show()\n",
    "#plt.savefig(\"Voltages.png\")"
   ]
  },
  {
   "cell_type": "code",
   "execution_count": 13,
   "metadata": {},
   "outputs": [
    {
     "data": {
      "text/plain": [
       "<matplotlib.legend.Legend at 0x21d3880e9b0>"
      ]
     },
     "execution_count": 13,
     "metadata": {},
     "output_type": "execute_result"
    }
   ],
   "source": [
    "plt.xlim(0,50)\n",
    "for i in range(10):\n",
    "    plt.plot(P[:,i],label=i)\n",
    "plt.legend()\n",
    "#plt.savefig(\"P.png\")"
   ]
  },
  {
   "cell_type": "code",
   "execution_count": 278,
   "metadata": {},
   "outputs": [
    {
     "name": "stdout",
     "output_type": "stream",
     "text": [
      "(10, 10)\n"
     ]
    }
   ],
   "source": [
    "print(shape(kcoreitself(M_T,ceil(Vstar/(tauv*delVmin*r)))))"
   ]
  },
  {
   "cell_type": "code",
   "execution_count": 111,
   "metadata": {},
   "outputs": [
    {
     "name": "stdout",
     "output_type": "stream",
     "text": [
      "[[1. 1. 1. ... 1. 1. 1.]\n",
      " [1. 1. 1. ... 1. 1. 1.]\n",
      " [1. 1. 1. ... 1. 1. 1.]\n",
      " ...\n",
      " [0. 0. 0. ... 0. 0. 0.]\n",
      " [0. 0. 0. ... 0. 0. 0.]\n",
      " [0. 0. 0. ... 0. 0. 0.]]\n"
     ]
    }
   ],
   "source": [
    "print(neuron_counts)"
   ]
  },
  {
   "cell_type": "code",
   "execution_count": 673,
   "metadata": {
    "collapsed": true
   },
   "outputs": [],
   "source": [
    "#Plots where each neuron stops firing \n",
    "plt.xlim(0,100)\n",
    "for i in range(10):\n",
    "    plt.plot(neuron_counts[:,i],label=\"%d\"%i)\n",
    "plt.legend()\n",
    "plt.savefig(\"stop_firing.png\")"
   ]
  },
  {
   "cell_type": "code",
   "execution_count": 674,
   "metadata": {
    "scrolled": false
   },
   "outputs": [
    {
     "name": "stdout",
     "output_type": "stream",
     "text": [
      "[1. 1. 1. 1. 1. 1. 1. 1. 1. 1.]\n"
     ]
    }
   ],
   "source": [
    "print(neuron_counts[9])"
   ]
  },
  {
   "cell_type": "code",
   "execution_count": 675,
   "metadata": {
    "collapsed": true
   },
   "outputs": [],
   "source": [
    "#Attempt to visualize network connectivity\n",
    "#TODO: Check with smaller numbers of neurons and check connectivities. \n",
    "\n",
    "#TODO: make red edges point FROM firing neuron. \n",
    "G = nx.DiGraph()\n",
    "H = nx.DiGraph()\n",
    "G.add_nodes_from(range(0,n))\n",
    "H.add_nodes_from(range(0,n))\n",
    "for i in range(n):\n",
    "    for j in range(n):\n",
    "        if M[i,j] == 1: #and neuron_counts[N-1,j] == 1:\n",
    "            #if neuron_counts[N-1,j] == 1:\n",
    "            if neuron_counts[N-1,i] == 1:\n",
    "                H.add_edge(i,j,firing=True)\n",
    "            else:\n",
    "                G.add_edge(i,j,firing=False)\n",
    "        \n"
   ]
  },
  {
   "cell_type": "code",
   "execution_count": 676,
   "metadata": {},
   "outputs": [
    {
     "name": "stdout",
     "output_type": "stream",
     "text": [
      "[[4. 1. 2. 7. 8. 0. 0. 0. 0. 0.]\n",
      " [5. 3. 4. 6. 8. 9. 0. 0. 0. 0.]\n",
      " [5. 0. 3. 5. 6. 9. 0. 0. 0. 0.]\n",
      " [5. 0. 4. 7. 8. 9. 0. 0. 0. 0.]\n",
      " [5. 1. 2. 6. 7. 9. 0. 0. 0. 0.]\n",
      " [6. 1. 2. 4. 6. 8. 9. 0. 0. 0.]\n",
      " [3. 7. 8. 9. 0. 0. 0. 0. 0. 0.]\n",
      " [5. 0. 2. 3. 4. 8. 0. 0. 0. 0.]\n",
      " [2. 0. 9. 0. 0. 0. 0. 0. 0. 0.]\n",
      " [5. 0. 2. 4. 5. 7. 0. 0. 0. 0.]]\n",
      "7\n"
     ]
    }
   ],
   "source": [
    "print(l1)\n",
    "print(int(l1[9,5]))"
   ]
  },
  {
   "cell_type": "code",
   "execution_count": 583,
   "metadata": {},
   "outputs": [
    {
     "name": "stdout",
     "output_type": "stream",
     "text": [
      "[[70. 70. 70. ... 70. 70. 70.]\n",
      " [70. 70. 70. ... 70. 70. 70.]\n",
      " [70. 70. 70. ... 70. 70. 70.]\n",
      " ...\n",
      " [70. 70. 70. ... 70. 70.  0.]\n",
      " [70. 70. 70. ... 70. 70.  0.]\n",
      " [ 0.  0.  0. ...  0.  0.  0.]]\n"
     ]
    }
   ],
   "source": []
  },
  {
   "cell_type": "code",
   "execution_count": 677,
   "metadata": {},
   "outputs": [
    {
     "name": "stdout",
     "output_type": "stream",
     "text": [
      "[1. 1. 1. 1. 1. 1. 0. 1. 0. 1.]\n"
     ]
    }
   ],
   "source": [
    "print(neuron_counts[N-1])"
   ]
  },
  {
   "cell_type": "code",
   "execution_count": 678,
   "metadata": {
    "collapsed": true
   },
   "outputs": [],
   "source": [
    "plt.title(\"%d Neurons in network\"%G.order())\n",
    "nx.draw_circular(H,node_size=20,width=0.3,node_color='black', edge_color='red',with_labels=True)\n",
    "nx.draw_circular(G,node_size=20,width=0.3,edge_color='black',node_color='black')\n",
    "plt.savefig('neuron_connectivity.png')"
   ]
  },
  {
   "cell_type": "code",
   "execution_count": 679,
   "metadata": {},
   "outputs": [
    {
     "data": {
      "text/plain": [
       "OutEdgeView([(0, 2), (0, 3), (0, 7), (0, 8), (0, 9), (1, 0), (1, 4), (1, 5), (2, 0), (2, 4), (2, 5), (2, 7), (2, 9), (3, 1), (3, 2), (3, 7), (4, 1), (4, 3), (4, 5), (4, 7), (4, 9), (5, 2), (5, 9), (7, 0), (7, 3), (7, 4), (7, 6), (7, 9), (9, 1), (9, 2), (9, 3), (9, 4), (9, 5), (9, 6), (9, 8)])"
      ]
     },
     "execution_count": 679,
     "metadata": {},
     "output_type": "execute_result"
    }
   ],
   "source": [
    "H.edges"
   ]
  },
  {
   "cell_type": "code",
   "execution_count": 680,
   "metadata": {},
   "outputs": [
    {
     "data": {
      "text/plain": [
       "OutEdgeView([(6, 1), (6, 2), (6, 4), (6, 5), (8, 0), (8, 1), (8, 3), (8, 5), (8, 6), (8, 7)])"
      ]
     },
     "execution_count": 680,
     "metadata": {},
     "output_type": "execute_result"
    }
   ],
   "source": [
    "G.edges"
   ]
  },
  {
   "cell_type": "markdown",
   "metadata": {
    "collapsed": true
   },
   "source": [
    "### Scatter plot comparing phase to Schwab et al. phase diagram with fixed parameters"
   ]
  },
  {
   "cell_type": "code",
   "execution_count": 70,
   "metadata": {},
   "outputs": [],
   "source": [
    "p = 1#1/6\n",
    "n=100 #100\n",
    "M=getRandomConnectivity(n,p) #args(n,p)\n",
    "l=matrixOfEdges(M,n)"
   ]
  },
  {
   "cell_type": "code",
   "execution_count": 71,
   "metadata": {
    "scrolled": true
   },
   "outputs": [
    {
     "name": "stdout",
     "output_type": "stream",
     "text": [
      "Visited n = 98\n",
      "Visited n = 97\n",
      "Visited n = 96\n",
      "Visited n = 95\n",
      "Visited n = 94\n",
      "Visited n = 93\n",
      "Visited n = 92\n",
      "Visited n = 91\n",
      "Visited n = 90\n",
      "Visited n = 89\n",
      "Visited n = 88\n",
      "Visited n = 87\n",
      "Visited n = 86\n",
      "Visited n = 85\n",
      "Visited n = 84\n",
      "Visited n = 83\n",
      "Visited n = 82\n",
      "Visited n = 81\n",
      "Visited n = 80\n",
      "Visited n = 79\n",
      "Visited n = 78\n",
      "Visited n = 77\n",
      "Visited n = 76\n",
      "Visited n = 75\n",
      "Visited n = 74\n",
      "Visited n = 73\n",
      "Visited n = 72\n",
      "Visited n = 71\n",
      "Visited n = 70\n",
      "Visited n = 69\n",
      "Visited n = 68\n",
      "Visited n = 67\n",
      "Visited n = 66\n",
      "Visited n = 65\n",
      "Visited n = 64\n",
      "Visited n = 63\n",
      "Visited n = 62\n",
      "Visited n = 61\n",
      "Visited n = 60\n",
      "Visited n = 59\n",
      "Visited n = 58\n",
      "Visited n = 57\n",
      "Visited n = 56\n",
      "Visited n = 55\n",
      "Visited n = 54\n",
      "Visited n = 53\n",
      "Visited n = 52\n",
      "Visited n = 51\n",
      "Visited n = 50\n",
      "Visited n = 49\n",
      "Visited n = 48\n",
      "Visited n = 47\n",
      "Visited n = 46\n",
      "Visited n = 45\n",
      "Visited n = 44\n",
      "Visited n = 43\n",
      "Visited n = 42\n",
      "Visited n = 41\n",
      "Visited n = 40\n",
      "Visited n = 39\n",
      "Visited n = 38\n",
      "Visited n = 37\n",
      "Visited n = 36\n",
      "Visited n = 35\n",
      "Visited n = 34\n",
      "Visited n = 33\n",
      "Visited n = 32\n",
      "Visited n = 31\n",
      "Visited n = 30\n",
      "Visited n = 29\n",
      "Visited n = 28\n",
      "Visited n = 27\n",
      "Visited n = 26\n",
      "Visited n = 25\n",
      "Visited n = 24\n",
      "Visited n = 23\n",
      "Visited n = 22\n",
      "Visited n = 21\n",
      "Visited n = 20\n",
      "Visited n = 19\n",
      "Visited n = 18\n",
      "Visited n = 17\n",
      "Visited n = 16\n",
      "Visited n = 15\n",
      "Visited n = 14\n",
      "Visited n = 13\n",
      "Visited n = 12\n",
      "Visited n = 11\n",
      "Visited n = 10\n",
      "Visited n = 9\n",
      "Visited n = 8\n",
      "Visited n = 7\n",
      "Visited n = 6\n",
      "Visited n = 5\n",
      "Visited n = 4\n",
      "Visited n = 3\n",
      "Visited n = 2\n",
      "Visited n = 1\n",
      "Visited n = 0\n",
      "loop complete\n"
     ]
    }
   ],
   "source": [
    "N=10000\n",
    "dt=0.001\n",
    "T=zeros(N)\n",
    "for i in range(N):\n",
    "    T[i]=i*dt\n",
    "\n",
    "\n",
    "M_prime = copy.deepcopy(M)\n",
    "l_prime = copy.deepcopy(l)\n",
    "#curr_n = n #Current number of neurons in network \n",
    "to_cull = 0\n",
    "\n",
    "tauv=0.01 #0.01\n",
    "tauc=0.5 #0.5\n",
    "Vstar=15 #Constant (according to experiments) 15\n",
    "Cstar=5 #15\n",
    "V0=18 #18\n",
    "C0=3 #18\n",
    "\n",
    "delV= 1. #1.2\n",
    "delC= 0.025 #0.015\n",
    "r= 75 #70\n",
    "rb = 5\n",
    "gc = 3\n",
    "gv = 5\n",
    "\n",
    "params=zeros(15)\n",
    "params[0]=N\n",
    "params[1]=n\n",
    "params[2]=dt\n",
    "params[3]=tauv\n",
    "params[4]=tauc\n",
    "params[5]=Vstar\n",
    "params[6]=Cstar\n",
    "params[7]=delV\n",
    "params[8]=delC\n",
    "params[9]=r\n",
    "params[10]=V0\n",
    "params[11]=C0\n",
    "params[12] = rb\n",
    "params[13] = gc\n",
    "params[14] = gv\n",
    "\n",
    "dV = 0.1\n",
    "delVmax = 15.\n",
    "\n",
    "V_space = np.arange(delV, delVmax, dV)\n",
    "n_space = np.arange(2,n+1)\n",
    "\n",
    "phase = np.zeros((len(n_space), len(V_space)))\n",
    "\n",
    "for i in reversed(range(len(n_space))):\n",
    "    M_prime = copy.deepcopy(M)\n",
    "    l_prime = copy.deepcopy(l)\n",
    "    params[1] = n\n",
    "    if (n - n_space[i]) > 0:\n",
    "        params[1] = n_space[i]\n",
    "        M_prime = killNeuron2(n-n_space[i],M_prime)\n",
    "        l_prime = matrixOfEdges(M_prime, params[1])\n",
    "    for j in range(len(V_space)):\n",
    "        #import pdb; pdb.set_trace()\n",
    "        params[7] = V_space[j]\n",
    "        C,V,c_arr,v_arr,sump = simdyn(M_prime, l_prime, params)\n",
    "        check = classify2(V,params)\n",
    "        phase[i,j] = check\n",
    "    print(\"Visited n = {}\".format(i))\n",
    "\n",
    "print('loop complete')"
   ]
  },
  {
   "cell_type": "code",
   "execution_count": 81,
   "metadata": {},
   "outputs": [],
   "source": [
    "#imshow(np.flip(phase, axis=0))\n",
    "#imshow(np.flip(phase, axis=0),aspect='auto')\n",
    "img = np.flip(phase, axis=0)\n",
    "imsave('meeting_figs/mean_field.png', img)\n",
    "\n"
   ]
  },
  {
   "cell_type": "code",
   "execution_count": 110,
   "metadata": {},
   "outputs": [
    {
     "data": {
      "text/plain": [
       "<matplotlib.image.AxesImage at 0xa19b9f3c8>"
      ]
     },
     "execution_count": 110,
     "metadata": {},
     "output_type": "execute_result"
    },
    {
     "data": {
      "image/png": "[encoded data removed]",
      "text/plain": [
       "<Figure size 432x288 with 1 Axes>"
      ]
     },
     "metadata": {
      "needs_background": "light"
     },
     "output_type": "display_data"
    }
   ],
   "source": [
    "imshow(np.flip(phase, axis=0),aspect='auto')\n",
    "#imshow(phase)"
   ]
  },
  {
   "cell_type": "code",
   "execution_count": 98,
   "metadata": {},
   "outputs": [
    {
     "data": {
      "text/plain": [
       "array([100,  99,  98,  97,  96,  95,  94,  93,  92,  91,  90,  89,  88,\n",
       "        87,  86,  85,  84,  83,  82,  81,  80,  79,  78,  77,  76,  75,\n",
       "        74,  73,  72,  71,  70,  69,  68,  67,  66,  65,  64,  63,  62,\n",
       "        61,  60,  59,  58,  57,  56,  55,  54,  53,  52,  51,  50,  49,\n",
       "        48,  47,  46,  45,  44,  43,  42,  41,  40,  39,  38,  37,  36,\n",
       "        35,  34,  33,  32,  31,  30,  29,  28,  27,  26,  25,  24,  23,\n",
       "        22,  21,  20,  19,  18,  17,  16,  15,  14,  13,  12,  11,  10,\n",
       "         9,   8,   7,   6,   5,   4,   3,   2])"
      ]
     },
     "execution_count": 98,
     "metadata": {},
     "output_type": "execute_result"
    }
   ],
   "source": [
    "np.flip(n_space, axis=0)"
   ]
  },
  {
   "cell_type": "code",
   "execution_count": 89,
   "metadata": {},
   "outputs": [
    {
     "data": {
      "text/plain": [
       "array([ 1. ,  1.1,  1.2,  1.3,  1.4,  1.5,  1.6,  1.7,  1.8,  1.9,  2. ,\n",
       "        2.1,  2.2,  2.3,  2.4,  2.5,  2.6,  2.7,  2.8,  2.9,  3. ,  3.1,\n",
       "        3.2,  3.3,  3.4,  3.5,  3.6,  3.7,  3.8,  3.9,  4. ,  4.1,  4.2,\n",
       "        4.3,  4.4,  4.5,  4.6,  4.7,  4.8,  4.9,  5. ,  5.1,  5.2,  5.3,\n",
       "        5.4,  5.5,  5.6,  5.7,  5.8,  5.9,  6. ,  6.1,  6.2,  6.3,  6.4,\n",
       "        6.5,  6.6,  6.7,  6.8,  6.9,  7. ,  7.1,  7.2,  7.3,  7.4,  7.5,\n",
       "        7.6,  7.7,  7.8,  7.9,  8. ,  8.1,  8.2,  8.3,  8.4,  8.5,  8.6,\n",
       "        8.7,  8.8,  8.9,  9. ,  9.1,  9.2,  9.3,  9.4,  9.5,  9.6,  9.7,\n",
       "        9.8,  9.9, 10. , 10.1, 10.2, 10.3, 10.4, 10.5, 10.6, 10.7, 10.8,\n",
       "       10.9, 11. , 11.1, 11.2, 11.3, 11.4, 11.5, 11.6, 11.7, 11.8, 11.9,\n",
       "       12. , 12.1, 12.2, 12.3, 12.4, 12.5, 12.6, 12.7, 12.8, 12.9, 13. ,\n",
       "       13.1, 13.2, 13.3, 13.4, 13.5, 13.6, 13.7, 13.8, 13.9, 14. , 14.1,\n",
       "       14.2, 14.3, 14.4, 14.5, 14.6, 14.7, 14.8, 14.9])"
      ]
     },
     "execution_count": 89,
     "metadata": {},
     "output_type": "execute_result"
    }
   ],
   "source": [
    "V_space"
   ]
  },
  {
   "cell_type": "code",
   "execution_count": 85,
   "metadata": {},
   "outputs": [
    {
     "data": {
      "text/plain": [
       "1.0"
      ]
     },
     "execution_count": 85,
     "metadata": {},
     "output_type": "execute_result"
    }
   ],
   "source": [
    "np.flip(phase, axis=0)[80,100]"
   ]
  },
  {
   "cell_type": "code",
   "execution_count": 40,
   "metadata": {},
   "outputs": [],
   "source": [
    "x=np.flip(phase, axis=0)"
   ]
  },
  {
   "cell_type": "code",
   "execution_count": 41,
   "metadata": {},
   "outputs": [
    {
     "data": {
      "text/plain": [
       "1.0"
      ]
     },
     "execution_count": 41,
     "metadata": {},
     "output_type": "execute_result"
    }
   ],
   "source": [
    "x[20,80]"
   ]
  },
  {
   "cell_type": "code",
   "execution_count": 51,
   "metadata": {},
   "outputs": [
    {
     "data": {
      "text/plain": [
       "1.0"
      ]
     },
     "execution_count": 51,
     "metadata": {},
     "output_type": "execute_result"
    }
   ],
   "source": [
    "phase[145,125]"
   ]
  },
  {
   "cell_type": "markdown",
   "metadata": {},
   "source": [
    "Check Individual Point in phase diagram"
   ]
  },
  {
   "cell_type": "code",
   "execution_count": 148,
   "metadata": {},
   "outputs": [],
   "source": [
    "N=10000\n",
    "n=100 #100\n",
    "dt=0.001\n",
    "T=zeros(N)\n",
    "for i in range(N):\n",
    "    T[i]=i*dt\n",
    "#p = 0.9\n",
    "p = 1/6.\n",
    "\n",
    "M_prime = copy.deepcopy(M)\n",
    "l_prime = copy.deepcopy(l)\n",
    "#curr_n = n #Current number of neurons in network \n",
    "\n",
    "target_n = 100\n",
    "to_cull = n-target_n\n",
    "\n",
    "tauv=0.01 #0.01\n",
    "tauc=0.5 #0.5\n",
    "Vstar=15 #Constant (according to experiments) 15\n",
    "Cstar=5 #20\n",
    "V0=18 #18\n",
    "C0=3 #18\n",
    "\n",
    "delV= 5. #12.5\n",
    "delC= 0.025 #0.015\n",
    "r= 75 #70\n",
    "rb = 5\n",
    "gc = 3\n",
    "gv = 5\n",
    "\n",
    "params=zeros(15)\n",
    "params[0]=N\n",
    "params[1]=target_n\n",
    "params[2]=dt\n",
    "params[3]=tauv\n",
    "params[4]=tauc\n",
    "params[5]=Vstar\n",
    "params[6]=Cstar\n",
    "params[7]=delV\n",
    "params[8]=delC\n",
    "params[9]=r\n",
    "params[10]=V0\n",
    "params[11]=C0\n",
    "params[12] = rb\n",
    "params[13] = gc\n",
    "params[14] = gv\n",
    "\n",
    "#M_prime = killNeuron2(to_cull, M)\n",
    "#l_prime = matrixOfEdges(M_prime, params[1])\n",
    "\n",
    "#C,V,c_arr,v_arr,sump=simdyn(M_prime, l_prime, params)\n",
    "C,V = mean_field_dynamics(p, params)"
   ]
  },
  {
   "cell_type": "code",
   "execution_count": 149,
   "metadata": {},
   "outputs": [
    {
     "data": {
      "text/plain": [
       "[<matplotlib.lines.Line2D at 0xa1d9dd668>]"
      ]
     },
     "execution_count": 149,
     "metadata": {},
     "output_type": "execute_result"
    },
    {
     "data": {
      "image/png": "[encoded data removed]",
      "text/plain": [
       "<Figure size 432x288 with 1 Axes>"
      ]
     },
     "metadata": {
      "needs_background": "light"
     },
     "output_type": "display_data"
    }
   ],
   "source": [
    "plot(C, V)"
   ]
  },
  {
   "cell_type": "code",
   "execution_count": null,
   "metadata": {},
   "outputs": [],
   "source": []
  }
 ],
 "metadata": {
  "kernelspec": {
   "display_name": "Python 3",
   "language": "python",
   "name": "python3"
  },
  "language_info": {
   "codemirror_mode": {
    "name": "ipython",
    "version": 3
   },
   "file_extension": ".py",
   "mimetype": "text/x-python",
   "name": "python",
   "nbconvert_exporter": "python",
   "pygments_lexer": "ipython3",
   "version": "3.6.6"
  }
 },
 "nbformat": 4,
 "nbformat_minor": 2
}
