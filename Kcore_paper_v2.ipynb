{
 "cells": [
  {
   "cell_type": "code",
   "execution_count": 1,
   "metadata": {},
   "outputs": [
    {
     "name": "stdout",
     "output_type": "stream",
     "text": [
      "Using matplotlib backend: Qt5Agg\n",
      "Populating the interactive namespace from numpy and matplotlib\n"
     ]
    }
   ],
   "source": [
    "import numpy as np\n",
    "%pylab \n",
    "rcParams['figure.figsize'] = 12,8\n",
    "from numba import jit\n",
    "\n",
    "import copy\n",
    "import networkx as nx"
   ]
  },
  {
   "cell_type": "markdown",
   "metadata": {},
   "source": [
    "### Random Matrix Generation "
   ]
  },
  {
   "cell_type": "code",
   "execution_count": 2,
   "metadata": {},
   "outputs": [],
   "source": [
    "def getRandomConnectivity(N, pct_connected):\n",
    "    #Directed mapping\n",
    "    M = np.random.rand(N**2).reshape(N,N)\n",
    "    for i in range(N):\n",
    "        for j in range(N):\n",
    "            if (i == j):\n",
    "                M[i,j] = 0\n",
    "            else:\n",
    "                if (M[i,j] < pct_connected):\n",
    "                    M[i,j] = 1 #i connects to j\n",
    "                else:\n",
    "                    M[i,j] = 0\n",
    "    return M"
   ]
  },
  {
   "cell_type": "markdown",
   "metadata": {},
   "source": [
    "### k-core functions "
   ]
  },
  {
   "cell_type": "code",
   "execution_count": 3,
   "metadata": {},
   "outputs": [],
   "source": [
    "def hasKcore(M, k):\n",
    "    # we'll be destroying the array so make a copy to work with\n",
    "    X = M.copy()\n",
    "    while(True):\n",
    "        cur_num_nodes = X.shape[0]\n",
    "        s = np.sum(X, 0)\n",
    "        nodes_to_delete = np.where(s < k)[0]\n",
    "        if (len(nodes_to_delete) == cur_num_nodes):\n",
    "            # nothing has at least k connections\n",
    "            \n",
    "            X = np.delete(X, nodes_to_delete, axis=0)\n",
    "            X = np.delete(X, nodes_to_delete, axis=1)\n",
    "            \n",
    "            return False\n",
    "            break\n",
    "        elif (len(nodes_to_delete) == 0):\n",
    "            # They all have at least k connections, we've found a kcore\n",
    "            return True\n",
    "            break\n",
    "        else:\n",
    "            X = np.delete(X, nodes_to_delete, axis=0)\n",
    "            X = np.delete(X, nodes_to_delete, axis=1)\n",
    "\n",
    "            \n",
    "# TODO get Kcore indices \n",
    "\n",
    "def largestKcore(M):\n",
    "    # we can begin the search at the least connected node\n",
    "    connectivity = np.sum(M,0)\n",
    "    min_kcore = np.min(connectivity)\n",
    "    max_kcore = np.max(connectivity)\n",
    "    if max_kcore == 0:\n",
    "        return 0\n",
    "    k = min_kcore\n",
    "    while (hasKcore(M,k)):\n",
    "        k = k+1\n",
    "        \n",
    "    return k - 1\n",
    "        \n",
    "    \n",
    "    \n",
    "def largestkcore(M):\n",
    "    # we can begin the search at the least connected node\n",
    "    connectivity = np.sum(M,0)\n",
    "    min_kcore = np.min(connectivity)\n",
    "    max_kcore = np.max(connectivity)\n",
    "    if max_kcore == 0:\n",
    "        return 0\n",
    "    k = min_kcore\n",
    "    s=1\n",
    "    while (s==1):\n",
    "        \n",
    "        X = M.copy()\n",
    "        while(True):\n",
    "            cur_num_nodes = X.shape[0]\n",
    "            s = np.sum(X, 0)\n",
    "            nodes_to_delete = np.where(s < k)[0]\n",
    "            if (len(nodes_to_delete) == cur_num_nodes):\n",
    "            # nothing has at least k connections\n",
    "            \n",
    "                X = np.delete(X, nodes_to_delete, axis=0)\n",
    "                X = np.delete(X, nodes_to_delete, axis=1)\n",
    "            \n",
    "                s=0\n",
    "                break\n",
    "            elif (len(nodes_to_delete) == 0):\n",
    "            # They all have at least k connections, we've found a kcore\n",
    "                s=1\n",
    "                break\n",
    "            else:\n",
    "                X = np.delete(X, nodes_to_delete, axis=0)\n",
    "                X = np.delete(X, nodes_to_delete, axis=1)\n",
    "        k = k+1\n",
    "        \n",
    "    return k - 1\n",
    "\n",
    "#TODO: Instead of deleting nodes, put 0's on all the connections for the rows and columns that are disconnected\n",
    "    #Keeps number of all neurons the same so that neuron 3 doesnt become neuron 2 etc. \n",
    "    #Look for neurons not in Kcore which are firing and neurons that are in kcore and not firing. \n",
    "def kcoreitself(M, k):\n",
    "    # we'll be destroying the array so make a copy to work with\n",
    "    X = M.copy()\n",
    "    \n",
    "    while(True):\n",
    "        cur_num_nodes = X.shape[0]\n",
    "        s = np.sum(X, 0)\n",
    "        nodes_to_delete = np.where(s < k)[0]\n",
    "        if (len(nodes_to_delete) == cur_num_nodes):\n",
    "            \n",
    "            X = np.delete(X, nodes_to_delete, axis=0)\n",
    "            X = np.delete(X, nodes_to_delete, axis=1)\n",
    "            # nothing has at least k connections\n",
    "            return X\n",
    "            break\n",
    "        elif (len(nodes_to_delete) == 0):\n",
    "            # They all have at least k connections, we've found a kcore\n",
    "            return X\n",
    "            break\n",
    "        else:\n",
    "            X = np.delete(X, nodes_to_delete, axis=0)\n",
    "            X = np.delete(X, nodes_to_delete, axis=1)\n",
    "\n",
    "\n",
    "\n",
    "#here we get the largest connected component of  the graph\n",
    "\n",
    "def largestcomponent(l,N):\n",
    "    n=np.random.randint(0,N)\n",
    "    \n",
    "    boundary=[n]\n",
    "    b=1\n",
    "    comp=[n]\n",
    "    c=1\n",
    "   \n",
    "    while(b>0):\n",
    "        a=boundary.pop()\n",
    "        \n",
    "        oldvertex=int(a)\n",
    "        \n",
    "        deg=l[oldvertex,0]\n",
    "        degree=int(deg)\n",
    "        #print(degree)\n",
    "        for j in range(degree):\n",
    "            newvertex=l[oldvertex,j+1]\n",
    "            q=comp.count(newvertex)\n",
    "            #print(newvertex)\n",
    "            q=int(q)\n",
    "            #print(q)\n",
    "            if (q==0):\n",
    "                comp.append(newvertex)\n",
    "                boundary.append(newvertex)\n",
    "                #print(newvertex)\n",
    "                #print(boundary)\n",
    "            \n",
    "        b=len(boundary)\n",
    "            \n",
    "    #sizeofcomp=len(comp)\n",
    "    return(comp)\n",
    "\n",
    "def matrixOfEdges(M,N):\n",
    "    N = int(N)\n",
    "    E=np.zeros(N**2).reshape(N,N)  #prepare array with zeros\n",
    "    k=np.sum(M,0) #array with degree of each vertex\n",
    "    for i in range(N):\n",
    "        a=int(k[i]) #degree of the current vertex\n",
    "        E[i,0]=a  #we put it to the zero row of matrix of edges\n",
    "    for i in range(N):\n",
    "        a=int(k[i])\n",
    "        q=1\n",
    "        for j in range(N):\n",
    "            if (M[j,i]==1):\n",
    "                E[i,q]=j #all the next elements in current column are number of vertices current vertex is connected to\n",
    "                q=q+1\n",
    "    return(E)"
   ]
  },
  {
   "cell_type": "markdown",
   "metadata": {},
   "source": [
    "### Classification Functions"
   ]
  },
  {
   "cell_type": "code",
   "execution_count": 4,
   "metadata": {},
   "outputs": [],
   "source": [
    "def cut(C): # Mihai ~ Removed unnecessary for loop \n",
    "    return C[int(0.9*len(C)):] #we take the second half of the time, when trajectory is close to SO, H,Q or chaos\n",
    "\n",
    "def deriv(X):  #just a derivative\n",
    "    N=len(X)\n",
    "    if N == 0: \n",
    "        return []\n",
    "    d=zeros(N-1)\n",
    "    for i in range(N-1):\n",
    "        d[i]=X[i+1]-X[i]\n",
    "    return d\n",
    "\n",
    "def muldev(X): #it is like a derivative but multiplication instead of difference\n",
    "    N=len(X)\n",
    "    md = zeros(N-1)\n",
    "    for i in range(N-1):\n",
    "        md[i]=X[i+1]*X[i]\n",
    "    return md\n",
    "\n",
    "def classifier(C1, timetolerance, Ctolerance):\n",
    "    C=cut(C1) #we look at the second half when it closer to the cycle or whatever it is\n",
    "    N=len(C)\n",
    "    countermax=0\n",
    "    countermin=0\n",
    "    Cprime=deriv(C)\n",
    "    Cmd=muldev(Cprime)\n",
    "    Cpp = deriv(Cprime)\n",
    "    for i in range(N-2):\n",
    "        if (Cmd[i]<0): #if sign of derivative changes it means that it max or min\n",
    "            if (Cpp[i]>0): #if second derivative > 0 it is min\n",
    "                countermin=countermin+1\n",
    "            else:\n",
    "                countermax=countermax+1 # else it is max\n",
    "    \n",
    "    max_C = max(C[int(.75*N):N])\n",
    "    min_C = min(C[int(.75*N):N])\n",
    "    \n",
    "    #print(max_C, \",\", min_C)\n",
    "    \n",
    "    if ((max_C - min_C) < Ctolerance):\n",
    "        return 2\n",
    "    \n",
    "    if ((countermin == 0) and (countermax == 0)):\n",
    "        return 2\n",
    "    \n",
    "    maximums=np.zeros(countermax)\n",
    "    minimums=np.zeros(countermin)\n",
    "    maxtimes=np.zeros(countermax)\n",
    "    mintimes=np.zeros(countermin)\n",
    "    qmax=0 #counter of max\n",
    "    qmin=0 #counter of min\n",
    "    for i in range(N-2):\n",
    "        if (Cmd[i]<0):\n",
    "            if (Cpp[i]>0):\n",
    "                mintimes[qmin]=i #the time when min occurs\n",
    "                minimums[qmin]=C[i] #the value\n",
    "                qmin=qmin+1 \n",
    "            else:\n",
    "                maxtimes[qmax]=i #the same story for max\n",
    "                maximums[qmax]=C[i]\n",
    "                qmax=qmax+1\n",
    "    \n",
    "    ### Mihai ~ ADDED TEMPORARY MAGIC NUMBERS TO FIX OFF BY 1 ### \n",
    "    min_dim = min(len(maxtimes),len(mintimes))\n",
    "    maxtimes = maxtimes[:min_dim]\n",
    "    mintimes = mintimes[:min_dim]\n",
    "    \n",
    "    minperiods=deriv(mintimes)\n",
    "    maxperiods=deriv(maxtimes)\n",
    "    #print(minperiods)\n",
    "    #print(maxperiods)\n",
    "\n",
    "    if(len(maxtimes)+len(mintimes)-2 < 2):  #if the period is too long #Mihai ~ Changed to .any(), but formulation is ambiguous\n",
    "        print('Increase observation time N*dt')\n",
    "        return(-1) #-1 is error \n",
    "    \n",
    "    \n",
    "    checker=1    #we will check conditions for this stuff to be cycle, not chaos. If at lest one of them fails, we put checker to 0\n",
    "    avper=(sum(minperiods)+sum(maxperiods))*1.0/(countermin+countermax-2) #average period\n",
    "    #print(avper)\n",
    "    #print(minimums)\n",
    "    #print(maximums)\n",
    "    avmin=sum(minimums)*1.0/countermin #average value of minimum\n",
    "    avmax=sum(maximums)*1.0/countermax #average value of maximum\n",
    "    if (avmax-avmin<Ctolerance):\n",
    "        return(2) #if the difference between min and max smaller than tolerance it is fixed point\n",
    "    #for i in range(countermin-1):\n",
    "    for i in range(countermin-2):\n",
    "        if (abs(minperiods[i]-avper)>timetolerance): #if the deviation from the average larger than the tolerance\n",
    "            checker=0 #than it is not SO\n",
    "    #for i in range(countermax-1):\n",
    "    for i in range(countermax-2):\n",
    "        if (abs(maxperiods[i]-avper)>timetolerance):\n",
    "            checker=0\n",
    "    for i in range(countermin):\n",
    "        if (abs(minimums[i]-avmin)>Ctolerance):\n",
    "            checker=0\n",
    "    for i in range(countermax):\n",
    "        if (abs(maximums[i]-avmax)>Ctolerance):\n",
    "            checker=0\n",
    "    return(checker) #1 is SO, 0 is chaos. 2 is fixed point. -1 is error. \n",
    "\n",
    "def classifier2(C1, timetolerance, Ctolerance):\n",
    "    C=cut(C1) #we look at the second half when it closer to the cycle or whatever it is\n",
    "    N=len(C)\n",
    "    countermax=0\n",
    "    countermin=0\n",
    "    Cprime=deriv(C)\n",
    "    Cmd=muldev(Cprime)\n",
    "    Cpp = deriv(Cprime)\n",
    "    for i in range(N-2):\n",
    "        if (Cmd[i]<0): #if sign of derivative changes it means that it max or min\n",
    "            if (Cpp[i]>0): #if second derivative > 0 it is min\n",
    "                countermin=countermin+1\n",
    "            else:\n",
    "                countermax=countermax+1 # else it is max\n",
    "    maximums=np.zeros(countermax)\n",
    "    minimums=np.zeros(countermin)\n",
    "    maxtimes=np.zeros(countermax)\n",
    "    mintimes=np.zeros(countermin)\n",
    "    qmax=0 #counter of max\n",
    "    qmin=0 #counter of min\n",
    "    for i in range(N-2):\n",
    "        if (Cmd[i]<0):\n",
    "            if (Cpp[i]>0):\n",
    "                mintimes[qmin]=i #the time when min occurs\n",
    "                minimums[qmin]=C[i] #the value\n",
    "                qmin=qmin+1 \n",
    "            else:\n",
    "                maxtimes[qmax]=i #the same story for max\n",
    "                maximums[qmax]=C[i]\n",
    "                qmax=qmax+1\n",
    "    \n",
    "    ### Mihai ~ ADDED TEMPORARY MAGIC NUMBERS TO FIX OFF BY 1 ### \n",
    "    min_dim = min(len(maxtimes),len(mintimes))\n",
    "    maxtimes = maxtimes[:min_dim]\n",
    "    mintimes = mintimes[:min_dim]\n",
    "    \n",
    "    minperiods=deriv(mintimes)\n",
    "    maxperiods=deriv(maxtimes)\n",
    "    \n",
    "    '''\n",
    "    if(len(maxtimes)+len(mintimes)-2 < 2):  #if the period is too long #Mihai ~ Changed to .any(), but formulation is ambiguous\n",
    "        print('Increase observation time N*dt')\n",
    "        return(-1) #-1 is error \n",
    "    '''\n",
    "    \n",
    "    checker=1    #we will check conditions for this stuff to be cycle, not chaos. If at lest one of them fails, we put checker to 0\n",
    "    avper=(sum(minperiods)+sum(maxperiods))*1.0/(countermin+countermax-2) #average period\n",
    "    if avper == 0:\n",
    "        return 2\n",
    "    avmin=sum(minimums)*1.0/countermin #average value of minimum\n",
    "    avmax=sum(maximums)*1.0/countermax #average value of maximum\n",
    "    \n",
    "    if (avmax-avmin<Ctolerance):\n",
    "        return(2) #if the difference between min and max smaller than tolerance it is fixed point\n",
    "    #for i in range(countermin-1):\n",
    "    for i in range(countermin-2):\n",
    "        if (abs(minperiods[i]-avper)>timetolerance): #if the deviation from the average larger than the tolerance\n",
    "            checker=0 #than it is not SO\n",
    "    #for i in range(countermax-1):\n",
    "    for i in range(countermax-2):\n",
    "        if (abs(maxperiods[i]-avper)>timetolerance):\n",
    "            checker=0\n",
    "    for i in range(countermin):\n",
    "        if (abs(minimums[i]-avmin)>Ctolerance):\n",
    "            checker=0\n",
    "    for i in range(countermax):\n",
    "        if (abs(maximums[i]-avmax)>Ctolerance):\n",
    "            checker=0\n",
    "    return(checker) #1 is SO, 0 is chaos. 2 is fixed point. -1 is error. \n",
    "\n",
    "##########DEPRECATED##########\n",
    "def classify(V, params):\n",
    "    #Set up some globals \n",
    "    \n",
    "    N = int(params[0])\n",
    "    n = int(params[1])\n",
    "    \n",
    "    #Network uniformly connected but vectorized lets us scale later \n",
    "    #for i in range (N/2, N):\n",
    "    #max_V = max(V[int(N/2):N])\n",
    "    #min_V = min(V[int(N/2):N])\n",
    "    max_V = max(V[int(.9*N):N])\n",
    "    min_V = min(V[int(.9*N):N])\n",
    "   \n",
    "            \n",
    "    V_delta = max_V - min_V\n",
    "    #print(V_delta)\n",
    "    \n",
    "    if V_delta < 0.001: #changed from 1\n",
    "        if V[N-1] < 15:\n",
    "            #params[12] = 2\n",
    "            return 2\n",
    "        else:\n",
    "            #params[12] = 3\n",
    "            return 3\n",
    "    else:\n",
    "        #params[12] = 1\n",
    "        return 1"
   ]
  },
  {
   "cell_type": "markdown",
   "metadata": {},
   "source": [
    "### RK-4 Solver "
   ]
  },
  {
   "cell_type": "code",
   "execution_count": 5,
   "metadata": {},
   "outputs": [],
   "source": [
    "@jit(nopython=True)\n",
    "def kernel(n,l,P,sump):\n",
    "    for j in range(n):\n",
    "        a=int(l[j,0])\n",
    "        for k in range(a):\n",
    "            b=int(l[j,k])\n",
    "            sump[j]=sump[j]+P[b]  #if neuron connected to j-th neuron it participates in sum\n",
    "\n",
    "class ODETwoCompartment:\n",
    "    def __init__(self, l, params):\n",
    "        self.N=int(params[0])\n",
    "        self.n=int(params[1])\n",
    "        self.dt=params[2]\n",
    "        self.tauv=params[3]\n",
    "        self.tauc=params[4]\n",
    "        self.Vstar=params[5]\n",
    "        self.Cstar=params[6]\n",
    "        self.delV=params[7]\n",
    "        self.delC=params[8]\n",
    "        self.r=params[9]\n",
    "        self.V0=params[10]\n",
    "        self.C0=params[11]\n",
    "        self.g_v=params[12]\n",
    "        self.g_c=params[13]\n",
    "        self.r_0=params[14]\n",
    "        self.l=l\n",
    "        \n",
    "\n",
    "    def derivative(self,V,C):\n",
    "        P=zeros(self.n)\n",
    "        sump=zeros(self.n)\n",
    "        derV=zeros(self.n)\n",
    "        derC=zeros(self.n)\n",
    "        \n",
    "        P = self.r/(1+np.exp((self.Vstar-V)/self.g_v)) + self.r_0\n",
    "        '''\n",
    "        for j in range(self.n):\n",
    "            P[j] = self.r/(1+exp((self.Vstar-V[j])/self.g_v)) + self.r_0 #Added r_0\n",
    "            #print(P[j]) #Debug statement to see range of P[j]\n",
    "            \n",
    "        '''\n",
    "        \n",
    "        \n",
    "        kernel(n,l,P,sump)\n",
    "        '''\n",
    "        for j in range(self.n):\n",
    "            a=int(self.l[j,0])\n",
    "            for k in range(a):\n",
    "                b=int(self.l[j,k])\n",
    "                sump[j]=sump[j]+P[b]  #if neuron connected to j-th neuron it participates in sum\n",
    "\n",
    "            #derV[j] = (-V[j]/self.tauv + self.delV*sump[j]*(1/(1+exp((C[j]-self.Cstar)/self.g_c))) )*self.dt \n",
    "            #derC[j] = (-C[j]/self.tauc + self.delC*sump[j])*self.dt \n",
    "        '''\n",
    "        derV = (-V/self.tauv + self.delV*sump*(1/(1+np.exp((C-self.Cstar)/self.g_c))) )*self.dt \n",
    "        derC = (-C/self.tauc + self.delC*sump)*self.dt \n",
    "            \n",
    "        return (derV, derC)\n",
    "    \n",
    "#RK4 Implementation \n",
    "def simdynrk4(M,l,params):\n",
    "    return simdynamicsrk4(M,l,params) \n",
    "    \n",
    "#@jit(nopython=True)\n",
    "def simdynamicsrk4(M,l,params): \n",
    "    N=int(params[0])\n",
    "    n=int(params[1])\n",
    "    dt=params[2]\n",
    "    tauv=params[3]\n",
    "    tauc=params[4]\n",
    "    Vstar=params[5]\n",
    "    Cstar=params[6]\n",
    "    delV=params[7]\n",
    "    delC=params[8]\n",
    "    r=params[9]\n",
    "    V0=params[10]\n",
    "    C0=params[11]\n",
    "    V=zeros(N*n).reshape(N,n)  #now we have potencial and calcium concentration for each neuron\n",
    "    C=zeros(N*n).reshape(N,n)\n",
    "    P=zeros(n)  # function P(V), sigmoid\n",
    "    sump=zeros(n)  #sum of P over the vertices\n",
    "    avV=zeros(N) #average potencial\n",
    "    avC=zeros(N)  #average calcium\n",
    "    g_v=params[12]\n",
    "    g_c=params[13]\n",
    "    r_0=params[14]\n",
    "    \n",
    "    ode = ODETwoCompartment(l,params)\n",
    "    \n",
    "    #firing_neurons_count = zeros(N*n).reshape(N,n) #Keep dimensions of C and V\n",
    "    firing_neurons_count = zeros(N)\n",
    "    \n",
    "    for i in range(n):\n",
    "        V[0,i]=V0 #initial conditions\n",
    "        C[0,i]=C0 \n",
    "        \n",
    "        '''\n",
    "        if V[0,i] < 10: \n",
    "            firing_neurons_count[0,i] = 1 #Firing count based on I.C's \n",
    "        elif V[0,i] < 25:\n",
    "            firing_neurons_count[0,i] = 2\n",
    "        elif V[0,i] < 40:\n",
    "            firing_neurons_count[0,i] = 3\n",
    "        elif V[0,i] >= 40:\n",
    "            firing_neurons_count[0,i] = 4\n",
    "        '''\n",
    "            \n",
    "        avV[0]=n*V0  #we will divide to n later\n",
    "        avC[0]=n*C0\n",
    "        \n",
    "    for i in range (N-1):\n",
    "        \n",
    "        ''' Euler Method \n",
    "        V[i+1,j]=(-V[i,j]/tauv + delV*sump[j]*(1/(1+exp((C[i,j]-Cstar)/g_c))) )*dt + V[i,j]\n",
    "        C[i+1,j]=(-C[i,j]/tauc + delC*sump[j])*dt + C[i,j]\n",
    "        '''\n",
    "\n",
    "        V0, C0 = V[i,:], C[i,:]\n",
    "        v1,c1 = ode.derivative(V0,C0)\n",
    "        v2,c2 = ode.derivative(V0+v1/2, C0+c1/2)\n",
    "        v3,c3 = ode.derivative(V0+v2/2, C0+c2/2)\n",
    "        v4,c4 = ode.derivative(V0+v3, C0+c3)\n",
    "\n",
    "        V[i+1,:] = V0 + v1/6 + v2/3 + v3/3 + v4/6\n",
    "        C[i+1,:] = C0 + c1/6 + c2/3 + c3/3 + c4/6\n",
    "        \n",
    "        #firing_neurons_count[i+1] = sum([V[i+1,j])\n",
    "        \n",
    "        avC[i+1]=np.sum(C[i+1,:])\n",
    "        avV[i+1]=np.sum(V[i+1,:])\n",
    "        \n",
    "    del ode #<--- ADDED FOR DEBUGGING\n",
    "    \n",
    "    avC /= n\n",
    "    avV /= n\n",
    "    '''\n",
    "    for i in range (N):\n",
    "        avC[i]=avC[i]/n\n",
    "        avV[i]=avV[i]/n\n",
    "    '''\n",
    "        #plot([avC[i],avC[i+1]],[avV[i],avV[i+1]])    \n",
    "    return(avC,avV) #Now also return count of firing neurons "
   ]
  },
  {
   "cell_type": "markdown",
   "metadata": {},
   "source": [
    "### Euler method solver"
   ]
  },
  {
   "cell_type": "code",
   "execution_count": 6,
   "metadata": {},
   "outputs": [],
   "source": [
    "def simdyn(M, l, params):\n",
    "    return simDynamics(M, l, params)\n",
    "\n",
    "@jit(nopython=True)\n",
    "def simDynamics(M, l, params):  #params is a vector of parameters\n",
    "    N=int(params[0])\n",
    "    n=int(params[1])\n",
    "    dt=params[2]\n",
    "    tauv=params[3]\n",
    "    tauc=params[4]\n",
    "    Vstar=params[5]\n",
    "    Cstar=params[6]\n",
    "    delV=params[7]\n",
    "    delC=params[8]\n",
    "    r=params[9]\n",
    "    V0=params[10]\n",
    "    C0=params[11]\n",
    "    V=zeros(N*n).reshape(N,n)  #now we have potencial and calcium concentration for each neuron\n",
    "    C=zeros(N*n).reshape(N,n)\n",
    "    P=zeros(n)  # function P(V), sigmoid\n",
    "    sump=zeros(n)  #sum of P over the vertices\n",
    "    avV=zeros(N) #average potencial\n",
    "    avC=zeros(N)  #average calcium\n",
    "    g_v=params[12]\n",
    "    g_c=params[13]\n",
    "    r_0=params[14]\n",
    "    \n",
    "    firing_neurons_count = zeros(N*n).reshape(N,n) #Keep dimensions of C and V\n",
    "    \n",
    "    for i in range(n):\n",
    "        V[0,i]=V0 #initial conditions\n",
    "        C[0,i]=C0 \n",
    "        \n",
    "        if V[0,i] < 10: \n",
    "            firing_neurons_count[0,i] = 1 #Firing count based on I.C's \n",
    "        elif V[0,i] < 25:\n",
    "            firing_neurons_count[0,i] = 2\n",
    "        elif V[0,i] < 40:\n",
    "            firing_neurons_count[0,i] = 3\n",
    "        elif V[0,i] >= 40:\n",
    "            firing_neurons_count[0,i] = 4\n",
    "            \n",
    "        avV[0]=n*V0  #we will divide to n later\n",
    "        avC[0]=n*C0\n",
    "    for i in range (N-1):\n",
    "        for j in range(n):\n",
    "            P[j] = r/(1+exp((Vstar-V[i,j])/g_v)) + r_0 #Added r_0\n",
    "            #print(P[j]) #Debug statement to see range of P[j]\n",
    "        for j in range(n):\n",
    "            a=int(l[j,0])\n",
    "            for k in range(a):\n",
    "                b=int(l[j,k])\n",
    "                sump[j]=sump[j]+P[b]  #if neuron connected to j-th neuron it participates in sum\n",
    "        for j in range(n):\n",
    "            V[i+1,j]=(-V[i,j]/tauv + delV*sump[j]*(1/(1+exp((C[i,j]-Cstar)/g_c))) )*dt + V[i,j]\n",
    "            C[i+1,j]=(-C[i,j]/tauc + delC*sump[j])*dt + C[i,j]\n",
    "            '''\n",
    "            if V[i+1,j] < Vstar/2: \n",
    "                firing_neurons_count[i+1,j] = 1 #Firing count based on I.C's \n",
    "            elif V[i+1,j] < Vstar:\n",
    "                firing_neurons_count[i+1,j] = 2\n",
    "            elif V[i+1,j] > Vstar and V[i+1,j] < 2*Vstar:\n",
    "                firing_neurons_count[i+1,j] = 3\n",
    "            elif V[i+1,j] >= 2*Vstar:\n",
    "                firing_neurons_count[i+1,j] = 4\n",
    "            '''    \n",
    "            avC[i+1]=avC[i+1]+C[i+1,j]\n",
    "            avV[i+1]=avV[i+1]+V[i+1,j]\n",
    "        for j in range(n):\n",
    "            sump[j]=0\n",
    "    for i in range (N):\n",
    "        avC[i]=avC[i]/n\n",
    "        avV[i]=avV[i]/n\n",
    "        \n",
    "        #plot([avC[i],avC[i+1]],[avV[i],avV[i+1]])    \n",
    "    return(avC,avV)#,firing_neurons_count) #Now also return count of firing neurons "
   ]
  },
  {
   "cell_type": "markdown",
   "metadata": {},
   "source": [
    "### Neuron removal functions "
   ]
  },
  {
   "cell_type": "code",
   "execution_count": 7,
   "metadata": {},
   "outputs": [],
   "source": [
    "def killNeuron(N,M_prime):\n",
    "    M = copy.deepcopy(M_prime)\n",
    "    #Randomly pick a neuron to remove\n",
    "    #x = np.random.randint(N)\n",
    "    x = 1\n",
    "    M = np.delete(M,x,axis=0)\n",
    "    M = np.delete(M,x,axis=1)\n",
    "    return M\n",
    "\n",
    "#TODO: Kill N neurons from the network systematically instead of one at a time. \n",
    "def killNeuron2(to_cull, M_prime):\n",
    "    M = copy.deepcopy(M_prime) \n",
    "    #Systemically cull certain neuron from the matrix\n",
    "    x = 0    \n",
    "    for i in range (int(to_cull)):\n",
    "        M = np.delete(M,x,axis=0)\n",
    "        M = np.delete(M,x,axis=1)\n",
    "    return M"
   ]
  },
  {
   "cell_type": "markdown",
   "metadata": {},
   "source": [
    "### Edge removal functions "
   ]
  },
  {
   "cell_type": "code",
   "execution_count": 9,
   "metadata": {},
   "outputs": [],
   "source": [
    "'''\n",
    "n is number of edges, l is matrix of edges. \n",
    "First element in each row is number of incident edges for a particular neuron\n",
    "'''\n",
    "def killEdge(l,n):\n",
    "    l_prime = copy.deepcopy(l)\n",
    "    x = 1\n",
    "    for i in range(int(n)):\n",
    "        l_prime = np.delete(l_prime,x)\n",
    "    pass"
   ]
  },
  {
   "cell_type": "markdown",
   "metadata": {},
   "source": [
    "### Simple Example "
   ]
  },
  {
   "cell_type": "code",
   "execution_count": 8,
   "metadata": {},
   "outputs": [
    {
     "data": {
      "text/plain": [
       "[<matplotlib.lines.Line2D at 0xa20fe2c50>]"
      ]
     },
     "execution_count": 8,
     "metadata": {},
     "output_type": "execute_result"
    },
    {
     "data": {
      "image/png": "[encoded data removed]",
      "text/plain": [
       "<Figure size 432x288 with 1 Axes>"
      ]
     },
     "metadata": {
      "needs_background": "light"
     },
     "output_type": "display_data"
    }
   ],
   "source": [
    "N=10000   #number of steps\n",
    "dt=0.001 #time step in milliseconds\n",
    "#prepare arrays. First we need to set an array of zeros with necessary size and then change its elements\n",
    "\n",
    "T=zeros(N)  #array of times\n",
    "V=zeros(N)  #array of potentials as function of time\n",
    "C=zeros(N)  #array of calcium concentration\n",
    "\n",
    "#initial potential and calcium concentration\n",
    "V[0]=18\n",
    "C[0]=18\n",
    "#time constants in milliseconds\n",
    "tauv=0.01\n",
    "tauc=0.5\n",
    "\n",
    "#threshold values for potential and calcium concentration\n",
    "Vstar=15\n",
    "Cstar=20\n",
    "\n",
    "#number of neurons\n",
    "n=50\n",
    "\n",
    "g_v = 5\n",
    "g_c = 5\n",
    "\n",
    "off_set = 1\n",
    "\n",
    "delV=10 #constant defining how strong neurons firing affect potential\n",
    "delC=0.015 #constant defining how strong neurons firing affect calcium concentration\n",
    "r=70  #rate of firing in Hz. Does not present in the equation in the paper because can be hidden in the redefinition of delV and delC\n",
    "\n",
    "for i in range(N-1):  #numerical solution of the differential equation. This numerical method, called Newton's, is the most trivial and known for not working \n",
    "    #in some cases. We will start with it and later can compare with other, more sophisticated methods. You can google and try it yourself. \n",
    "    V[i+1]=(-V[i]/tauv + n*delV*r*(1/(1+exp((Vstar-V[i])/g_v)))*(1/(1+exp(C[i]-Cstar))) )*dt + V[i]  #step function is defined as sigmoid 1/(1+exp)\n",
    "    C[i+1]=(-C[i]/tauc + delC*n*r*(1/(1+exp((Vstar-V[i])/g_c))))*dt + C[i]\n",
    "\n",
    "plot(C,V) #we plot phase diagram concentration vs potential. "
   ]
  },
  {
   "cell_type": "markdown",
   "metadata": {},
   "source": [
    "### Chaos Example "
   ]
  },
  {
   "cell_type": "code",
   "execution_count": 22,
   "metadata": {},
   "outputs": [],
   "source": [
    "n=10\n",
    "p = 0.5 #Probability of Connection \n",
    "M=getRandomConnectivity(n,p)\n",
    "l=matrixOfEdges(M,n)"
   ]
  },
  {
   "cell_type": "code",
   "execution_count": 23,
   "metadata": {},
   "outputs": [
    {
     "data": {
      "text/plain": [
       "array([[2., 4., 6., 0., 0., 0., 0., 0., 0., 0.],\n",
       "       [3., 7., 8., 9., 0., 0., 0., 0., 0., 0.],\n",
       "       [8., 0., 1., 4., 5., 6., 7., 8., 9., 0.],\n",
       "       [5., 0., 1., 7., 8., 9., 0., 0., 0., 0.],\n",
       "       [4., 5., 6., 8., 9., 0., 0., 0., 0., 0.],\n",
       "       [4., 1., 4., 7., 9., 0., 0., 0., 0., 0.],\n",
       "       [7., 1., 2., 3., 4., 5., 8., 9., 0., 0.],\n",
       "       [7., 0., 2., 4., 5., 6., 8., 9., 0., 0.],\n",
       "       [6., 0., 1., 4., 6., 7., 9., 0., 0., 0.],\n",
       "       [6., 1., 2., 3., 5., 6., 8., 0., 0., 0.]])"
      ]
     },
     "execution_count": 23,
     "metadata": {},
     "output_type": "execute_result"
    }
   ],
   "source": [
    "l"
   ]
  },
  {
   "cell_type": "code",
   "execution_count": 11,
   "metadata": {},
   "outputs": [
    {
     "data": {
      "text/plain": [
       "<function matplotlib.pyplot.show(*args, **kw)>"
      ]
     },
     "execution_count": 11,
     "metadata": {},
     "output_type": "execute_result"
    },
    {
     "data": {
      "image/png": "[encoded data removed]",
      "text/plain": [
       "<Figure size 432x288 with 1 Axes>"
      ]
     },
     "metadata": {
      "needs_background": "light"
     },
     "output_type": "display_data"
    }
   ],
   "source": [
    "N=10000 #15000\n",
    "dt=0.001\n",
    "T=zeros(N)\n",
    "for i in range(N):\n",
    "    T[i]=i*dt\n",
    "\n",
    "tauv=0.01 \n",
    "tauc=0.5\n",
    "Vstar=15\n",
    "Cstar=20 \n",
    "V0=10 #20\n",
    "C0=24 #24\n",
    "\n",
    "delV=12 #12\n",
    "delC=0.015\n",
    "r=70\n",
    "r_0=5\n",
    "\n",
    "g=1.\n",
    "g_v = g #.95\n",
    "g_c = g #.95\n",
    "\n",
    "params=zeros(15)\n",
    "params[0]=N\n",
    "params[1]=n\n",
    "params[2]=dt\n",
    "params[3]=tauv\n",
    "params[4]=tauc\n",
    "params[5]=Vstar\n",
    "params[6]=Cstar\n",
    "params[7]=delV\n",
    "params[8]=delC\n",
    "params[9]=r\n",
    "params[10]=V0\n",
    "params[11]=C0\n",
    "params[12]=g_v\n",
    "params[13]=g_c\n",
    "params[14]=r_0\n",
    "\n",
    "C2rk4,V2rk4 = simdynrk4(M, l, params)\n",
    "C2,V2 = simdyn(M,l,params)\n",
    "figure(1)\n",
    "ylabel('V')\n",
    "xlabel('C')\n",
    "plot(C2,V2,label=\"Euler\")\n",
    "plot(C2rk4,V2rk4,label=\"RK4\")\n",
    "plot([C0],[V0],marker='o', markersize=3, color=\"red\")\n",
    "legend()\n",
    "show"
   ]
  },
  {
   "cell_type": "code",
   "execution_count": 40,
   "metadata": {},
   "outputs": [
    {
     "data": {
      "text/plain": [
       "<matplotlib.legend.Legend at 0xa20b1cdd8>"
      ]
     },
     "execution_count": 40,
     "metadata": {},
     "output_type": "execute_result"
    }
   ],
   "source": [
    "plot(T,V2rk4,label=\"RK4\")\n",
    "plot(T,V2,label=\"Euler\")\n",
    "legend()"
   ]
  },
  {
   "cell_type": "code",
   "execution_count": 99,
   "metadata": {},
   "outputs": [
    {
     "name": "stdout",
     "output_type": "stream",
     "text": [
      "[27.4778184  27.45595818 27.43149591 ... 27.55569395 27.55142731\n",
      " 27.54449727]\n",
      "[12.23347732 11.70725155 11.18642294 ... 15.87915748 15.31069241\n",
      " 14.74884667]\n"
     ]
    }
   ],
   "source": [
    "print(C2rk4[N//2:])\n",
    "print(V2rk4[N//2:])"
   ]
  },
  {
   "cell_type": "code",
   "execution_count": 100,
   "metadata": {},
   "outputs": [
    {
     "data": {
      "text/plain": [
       "<function matplotlib.pyplot.show(*args, **kw)>"
      ]
     },
     "execution_count": 100,
     "metadata": {},
     "output_type": "execute_result"
    },
    {
     "data": {
      "image/png": "[encoded data removed]",
      "text/plain": [
       "<Figure size 432x288 with 1 Axes>"
      ]
     },
     "metadata": {
      "needs_background": "light"
     },
     "output_type": "display_data"
    }
   ],
   "source": [
    "figure(1)\n",
    "ylabel('V')\n",
    "xlabel('C')\n",
    "plot(C2[3*N//4:],V2[3*N//4:],'o',label=\"Runge Kutta\")\n",
    "show"
   ]
  },
  {
   "cell_type": "code",
   "execution_count": 116,
   "metadata": {},
   "outputs": [
    {
     "data": {
      "text/plain": [
       "2"
      ]
     },
     "execution_count": 116,
     "metadata": {},
     "output_type": "execute_result"
    }
   ],
   "source": [
    "classifier(C2, 1/dt, .01)"
   ]
  },
  {
   "cell_type": "markdown",
   "metadata": {},
   "source": [
    "### Phase Diagrams"
   ]
  },
  {
   "cell_type": "code",
   "execution_count": 26,
   "metadata": {},
   "outputs": [],
   "source": [
    "n=150 #100\n",
    "n_min = 75 #1\n",
    "p = .9 #Probability of Connection \n",
    "\n",
    "M=getRandomConnectivity(n,p)\n",
    "l=matrixOfEdges(M,n)\n",
    "M_prime = copy.deepcopy(M)\n",
    "l_prime = copy.deepcopy(l)"
   ]
  },
  {
   "cell_type": "code",
   "execution_count": 30,
   "metadata": {
    "scrolled": true
   },
   "outputs": [
    {
     "name": "stdout",
     "output_type": "stream",
     "text": [
      "g: 0.1, n: 127.0 \n",
      "transition from 2 to 1\n",
      "g: 0.2, n: 123.0 \n",
      "transition from 2 to 1\n",
      "g: 0.4, n: 132.0 \n",
      "transition from 2 to 1\n",
      "g: 0.5, n: 128.0 \n",
      "transition from 2 to 0\n",
      "g: 0.8999999999999999, n: 139.0 \n",
      "transition from 1 to 2\n",
      "g: 0.9999999999999999, n: 119.0 \n",
      "transition from 1 to 2\n",
      "g: 1.0999999999999999, n: 105.0 \n",
      "transition from 1 to 2\n",
      "g: 1.2, n: 101.0 \n",
      "transition from 1 to 2\n",
      "g: 1.3, n: 94.0 \n",
      "transition from 1 to 2\n",
      "g: 1.4000000000000001, n: 88.0 \n",
      "transition from 1 to 2\n",
      "g: 1.5000000000000002, n: 87.0 \n",
      "transition from 1 to 2\n",
      "g: 1.6000000000000003, n: 86.0 \n",
      "transition from 1 to 2\n",
      "g: 1.7000000000000004, n: 84.0 \n",
      "transition from 1 to 2\n",
      "g: 1.8000000000000005, n: 84.0 \n",
      "transition from 1 to 2\n",
      "g: 1.9000000000000006, n: 83.0 \n",
      "transition from 1 to 2\n",
      "g: 2.0000000000000004, n: 83.0 \n",
      "transition from 1 to 2\n",
      "g: 2.1000000000000005, n: 82.0 \n",
      "transition from 1 to 2\n",
      "g: 2.2000000000000006, n: 82.0 \n",
      "transition from 1 to 2\n",
      "g: 2.3000000000000007, n: 82.0 \n",
      "transition from 1 to 2\n",
      "g: 2.400000000000001, n: 82.0 \n",
      "transition from 1 to 2\n",
      "g: 2.500000000000001, n: 83.0 \n",
      "transition from 1 to 2\n",
      "g: 2.600000000000001, n: 83.0 \n",
      "transition from 1 to 2\n",
      "g: 2.700000000000001, n: 83.0 \n",
      "transition from 1 to 2\n",
      "g: 2.800000000000001, n: 84.0 \n",
      "transition from 1 to 2\n",
      "g: 2.9000000000000012, n: 84.0 \n",
      "transition from 1 to 2\n",
      "g: 3.0000000000000013, n: 85.0 \n",
      "transition from 1 to 2\n",
      "g: 3.1000000000000014, n: 86.0 \n",
      "transition from 1 to 2\n",
      "g: 3.2000000000000015, n: 87.0 \n",
      "transition from 1 to 2\n",
      "g: 3.3000000000000016, n: 87.0 \n",
      "transition from 1 to 2\n",
      "g: 3.4000000000000017, n: 88.0 \n",
      "transition from 1 to 2\n",
      "g: 3.5000000000000018, n: 89.0 \n",
      "transition from 1 to 2\n",
      "g: 3.600000000000002, n: 89.0 \n",
      "transition from 1 to 2\n",
      "g: 3.700000000000002, n: 90.0 \n",
      "transition from 1 to 2\n",
      "g: 3.800000000000002, n: 91.0 \n",
      "transition from 1 to 2\n",
      "g: 3.900000000000002, n: 92.0 \n",
      "transition from 1 to 2\n",
      "g: 4.000000000000002, n: 94.0 \n",
      "transition from 1 to 2\n",
      "g: 4.100000000000001, n: 95.0 \n",
      "transition from 1 to 2\n",
      "g: 4.200000000000001, n: 96.0 \n",
      "transition from 1 to 2\n",
      "g: 4.300000000000001, n: 98.0 \n",
      "transition from 1 to 2\n",
      "g: 4.5, n: 102.0 \n",
      "transition from 1 to 2\n",
      "loop complete\n"
     ]
    }
   ],
   "source": [
    "### Set up network parameters \n",
    "N=1000000 #15000\n",
    "dt=0.0005\n",
    "T=zeros(N)\n",
    "for i in range(N):\n",
    "    T[i]=i*dt\n",
    "\n",
    "to_cull = 0\n",
    "\n",
    "tauv=0.01 \n",
    "tauc=0.5\n",
    "Vstar=15\n",
    "Cstar=20 \n",
    "V0=10 #20\n",
    "C0=24 #24\n",
    "\n",
    "delV=12. #12\n",
    "delC=0.015\n",
    "r=70\n",
    "r_0=5\n",
    "\n",
    "g_v = 0.5 #.95\n",
    "g_c = 0.5 #.95\n",
    "g = 0.1\n",
    "\n",
    "params=zeros(15)\n",
    "params[0]=N\n",
    "params[1]=n\n",
    "params[2]=dt\n",
    "params[3]=tauv\n",
    "params[4]=tauc\n",
    "params[5]=Vstar\n",
    "params[6]=Cstar\n",
    "params[7]=delV\n",
    "params[8]=delC\n",
    "params[9]=r\n",
    "params[10]=V0\n",
    "params[11]=C0\n",
    "params[12]=g\n",
    "params[13]=g\n",
    "params[14]=r_0\n",
    "\n",
    "### Set up phase space search \n",
    "phasen, phaseV, phaseC = [],[],[] #for plotting general, uninformative phase diagram\n",
    "#phasen_SO_Q, phasen_Q_HA, phasen_SO_HA, phase_SO_Q, phase_Q_HA, phase_SO_HA = [],[],[],[],[],[]\n",
    "dV = 0.1\n",
    "delVmax = 4.5\n",
    "to_cull = 0\n",
    "\n",
    "phasen_SO_F,phasen_SO_C,phasen_F_C,phasen_F_SO,phasen_C_F,phasen_C_SO = [],[],[],[],[],[]\n",
    "phase_SO_F,phase_SO_C,phase_F_C,phase_F_SO,phase_C_F,phase_C_SO = [],[],[],[],[],[]\n",
    "\n",
    "\n",
    "while True:\n",
    "    C,V = simdyn(M_prime,l_prime,params)\n",
    "    #Crk4,Vrk4 = simdynrk4(M_prime,l_prime,params)\n",
    "    check = classifier(C,1/dt,0.1)\n",
    "    while True:\n",
    "        params[1] -= 1\n",
    "        to_cull += 1\n",
    "        M_prime = killNeuron2(to_cull, M)\n",
    "        l_prime = matrixOfEdges(M_prime, params[1])\n",
    "        if params[1] <= n_min:\n",
    "            params[12] += dV\n",
    "            params[13] += dV\n",
    "            params[1] = n\n",
    "            to_cull = 0\n",
    "            M_prime = copy.deepcopy(M)\n",
    "            l_prime = copy.deepcopy(l)\n",
    "            break\n",
    "        C,V = simdyn(M_prime,l_prime,params)\n",
    "        #Crk4,Vrk4 = simdynrk4(M_prime,l_prime,params)\n",
    "        check2 = classifier(C,1/dt,0.1)\n",
    "        if check2 != check:\n",
    "            print(\"g: {}, n: {} \".format(params[12], params[1]))\n",
    "            print(\"transition from\", check, \"to\", check2)\n",
    "            phasen.append(params[1])\n",
    "            phaseV.append(params[12])\n",
    "            \n",
    "            if check == 0 and check2 == 1: \n",
    "                phasen_C_SO.append(params[1])\n",
    "                phase_C_SO.append(params[12])\n",
    "            elif check == 0 and check2 == 2:\n",
    "                phasen_C_F.append(params[1])\n",
    "                phase_C_F.append(params[12])\n",
    "            elif check == 1 and check2 == 0: \n",
    "                phasen_SO_C.append(params[1])\n",
    "                phase_SO_C.append(params[12])\n",
    "            elif check == 1 and check2 == 2: \n",
    "                phasen_SO_F.append(params[1])\n",
    "                phase_SO_F.append(params[12])\n",
    "            elif check == 2 and check2 == 0: \n",
    "                phasen_F_C.append(params[1])\n",
    "                phase_F_C.append(params[12])\n",
    "            elif check == 2 and check2 == 1: \n",
    "                phasen_F_SO.append(params[1])\n",
    "                phase_F_SO.append(params[12])\n",
    "                \n",
    "            params[12] += dV\n",
    "            params[13] += dV\n",
    "            \n",
    "            if params[1] < n-3:\n",
    "                to_cull -= 3\n",
    "                params[1] += 3 #Changed from params[1] = n to track boundary \n",
    "                M_prime = killNeuron2(to_cull, M)\n",
    "                l_prime = matrixOfEdges(M_prime, params[1])\n",
    "            else:\n",
    "                to_cull = 0\n",
    "                params[1] = n \n",
    "                M_prime = copy.deepcopy(M)\n",
    "                l_prime = copy.deepcopy(l)\n",
    "            \n",
    "            break\n",
    "    \n",
    "    if params[12] > delVmax:\n",
    "        break\n",
    "print('loop complete')\n"
   ]
  },
  {
   "cell_type": "code",
   "execution_count": 39,
   "metadata": {},
   "outputs": [
    {
     "data": {
      "image/png": "[encoded data removed]",
      "text/plain": [
       "<Figure size 432x288 with 1 Axes>"
      ]
     },
     "metadata": {
      "needs_background": "light"
     },
     "output_type": "display_data"
    }
   ],
   "source": [
    "plot(phaseV,phasen,'k')\n",
    "plot(phase_SO_F,phasen_SO_F,'ro',label='SO-F')\n",
    "plot(phase_SO_C,phasen_SO_C,'go',label='SO-C')\n",
    "plot(phase_F_C,phasen_F_C,'bo',label='F-C')\n",
    "plot(phase_F_SO,phasen_F_SO,'ro')\n",
    "plot(phase_C_F,phasen_C_F,'bo')\n",
    "plot(phase_C_SO,phasen_C_SO,'go')\n",
    "legend()\n",
    "xlabel(\"g value\")\n",
    "ylabel(\"neuron count, n\")\n",
    "#ylim(70,110)\n",
    "#text(0.5,75,\"C\",fontsize=20)\n",
    "text(2.5,100,\"SO\",fontsize=20)\n",
    "#text(0.5,105,\"F\",fontsize=20)\n",
    "text(4.,85,\"F\",fontsize=20)\n",
    "plt.savefig('figures/g_phase4.png',dpi=400)"
   ]
  },
  {
   "cell_type": "code",
   "execution_count": 46,
   "metadata": {},
   "outputs": [
    {
     "data": {
      "text/plain": [
       "Text(0.5, 1.0, '2')"
      ]
     },
     "execution_count": 46,
     "metadata": {},
     "output_type": "execute_result"
    },
    {
     "data": {
      "image/png": "[encoded data removed]",
      "text/plain": [
       "<Figure size 432x288 with 1 Axes>"
      ]
     },
     "metadata": {
      "needs_background": "light"
     },
     "output_type": "display_data"
    }
   ],
   "source": [
    "### Set up network parameters \n",
    "N=500000 #15000\n",
    "dt=0.0001\n",
    "T=zeros(N)\n",
    "for i in range(N):\n",
    "    T[i]=i*dt\n",
    "    \n",
    "target_n = 100#<--- Change to n value in phase diagram \n",
    "\n",
    "to_cull = n - target_n\n",
    "\n",
    "tauv=0.01 \n",
    "tauc=0.5\n",
    "Vstar=15\n",
    "Cstar=20 \n",
    "V0=10 #20\n",
    "C0=24 #24\n",
    "\n",
    "delV=5. #12\n",
    "delC=0.015\n",
    "r=70\n",
    "r_0=5\n",
    "\n",
    "g_v = 0.5 #.95\n",
    "g_c = 0.5 #.95\n",
    "g = 0.01 #<--- Change to g value in phase diagram \n",
    "\n",
    "params=zeros(15)\n",
    "params[0]=N\n",
    "params[1]=target_n\n",
    "params[2]=dt\n",
    "params[3]=tauv\n",
    "params[4]=tauc\n",
    "params[5]=Vstar\n",
    "params[6]=Cstar\n",
    "params[7]=delV\n",
    "params[8]=delC\n",
    "params[9]=r\n",
    "params[10]=V0\n",
    "params[11]=C0\n",
    "params[12]=g\n",
    "params[13]=g\n",
    "params[14]=r_0\n",
    "\n",
    "M_prime = killNeuron2(to_cull, M)\n",
    "l_prime = matrixOfEdges(M_prime, params[1])\n",
    "    \n",
    "\n",
    "C,V = simdyn(M_prime, l_prime, params)\n",
    "xlabel(\"C\")\n",
    "ylabel(\"V\")\n",
    "\n"
   ]
  },
  {
   "cell_type": "code",
   "execution_count": 47,
   "metadata": {},
   "outputs": [
    {
     "data": {
      "text/plain": [
       "Text(0.5, 1.0, '2')"
      ]
     },
     "execution_count": 47,
     "metadata": {},
     "output_type": "execute_result"
    },
    {
     "data": {
      "image/png": "[encoded data removed]",
      "text/plain": [
       "<Figure size 432x288 with 1 Axes>"
      ]
     },
     "metadata": {
      "needs_background": "light"
     },
     "output_type": "display_data"
    }
   ],
   "source": [
    "plot(C[-10000:],V[-10000:],'o')\n",
    "#plot(C,V)\n",
    "title(classifier(C,1/dt,0.1))"
   ]
  },
  {
   "cell_type": "markdown",
   "metadata": {},
   "source": [
    "### Phase Diagram functions"
   ]
  },
  {
   "cell_type": "code",
   "execution_count": 17,
   "metadata": {},
   "outputs": [],
   "source": [
    "def phase_diagram():\n",
    "    pass"
   ]
  },
  {
   "cell_type": "code",
   "execution_count": 8,
   "metadata": {
    "scrolled": true
   },
   "outputs": [
    {
     "ename": "NameError",
     "evalue": "name 'M' is not defined",
     "output_type": "error",
     "traceback": [
      "\u001b[0;31m---------------------------------------------------------------------------\u001b[0m",
      "\u001b[0;31mNameError\u001b[0m                                 Traceback (most recent call last)",
      "\u001b[0;32m<ipython-input-8-6fb92b384ae7>\u001b[0m in \u001b[0;36m<module>\u001b[0;34m\u001b[0m\n\u001b[1;32m     42\u001b[0m \u001b[0mparams\u001b[0m\u001b[0;34m[\u001b[0m\u001b[0;36m14\u001b[0m\u001b[0;34m]\u001b[0m\u001b[0;34m=\u001b[0m\u001b[0mr_0\u001b[0m\u001b[0;34m\u001b[0m\u001b[0m\n\u001b[1;32m     43\u001b[0m \u001b[0;34m\u001b[0m\u001b[0m\n\u001b[0;32m---> 44\u001b[0;31m \u001b[0mC\u001b[0m\u001b[0;34m,\u001b[0m\u001b[0mV\u001b[0m \u001b[0;34m=\u001b[0m \u001b[0msimdyn\u001b[0m\u001b[0;34m(\u001b[0m\u001b[0mM\u001b[0m\u001b[0;34m,\u001b[0m\u001b[0ml\u001b[0m\u001b[0;34m,\u001b[0m\u001b[0mparams\u001b[0m\u001b[0;34m)\u001b[0m\u001b[0;34m\u001b[0m\u001b[0m\n\u001b[0m\u001b[1;32m     45\u001b[0m \u001b[0mplot\u001b[0m\u001b[0;34m(\u001b[0m\u001b[0mC\u001b[0m\u001b[0;34m[\u001b[0m\u001b[0;34m-\u001b[0m\u001b[0;36m1000\u001b[0m\u001b[0;34m:\u001b[0m\u001b[0;34m]\u001b[0m\u001b[0;34m,\u001b[0m\u001b[0mV\u001b[0m\u001b[0;34m[\u001b[0m\u001b[0;34m-\u001b[0m\u001b[0;36m1000\u001b[0m\u001b[0;34m:\u001b[0m\u001b[0;34m]\u001b[0m\u001b[0;34m)\u001b[0m\u001b[0;34m\u001b[0m\u001b[0m\n\u001b[1;32m     46\u001b[0m \u001b[0mclassifier\u001b[0m\u001b[0;34m(\u001b[0m\u001b[0mV\u001b[0m\u001b[0;34m,\u001b[0m\u001b[0;36m1\u001b[0m\u001b[0;34m/\u001b[0m\u001b[0mdt\u001b[0m\u001b[0;34m,\u001b[0m\u001b[0;36m1\u001b[0m\u001b[0;34m)\u001b[0m\u001b[0;34m\u001b[0m\u001b[0m\n",
      "\u001b[0;31mNameError\u001b[0m: name 'M' is not defined"
     ]
    }
   ],
   "source": [
    "N=1000000 #15000\n",
    "n=100\n",
    "dt=0.0005\n",
    "T=zeros(N)\n",
    "for i in range(N):\n",
    "    T[i]=i*dt\n",
    "\n",
    "    \n",
    "p = .9 #Probability of Connection \n",
    "\n",
    "tauv=0.01 \n",
    "tauc=0.5\n",
    "Vstar=15\n",
    "Cstar=20 \n",
    "V0=10 #20\n",
    "C0=24 #24\n",
    "\n",
    "delV=12. #12\n",
    "delC=0.015\n",
    "r=70\n",
    "r_0=5\n",
    "\n",
    "g_v = 0.5 #.95\n",
    "g_c = 0.5 #.95\n",
    "g = 1.5\n",
    "\n",
    "params=zeros(15)\n",
    "params[0]=N\n",
    "params[1]=n\n",
    "params[2]=dt\n",
    "params[3]=tauv\n",
    "params[4]=tauc\n",
    "params[5]=Vstar\n",
    "params[6]=Cstar\n",
    "params[7]=delV\n",
    "params[8]=delC\n",
    "params[9]=r\n",
    "params[10]=V0\n",
    "params[11]=C0\n",
    "params[12]=g\n",
    "params[13]=g\n",
    "params[14]=r_0\n",
    "\n",
    "C,V = simdyn(M,l,params)\n",
    "plot(C[-1000:],V[-1000:])\n",
    "classifier(V,1/dt,1)"
   ]
  },
  {
   "cell_type": "code",
   "execution_count": 39,
   "metadata": {},
   "outputs": [
    {
     "data": {
      "text/plain": [
       "[<matplotlib.lines.Line2D at 0xa28f4d588>]"
      ]
     },
     "execution_count": 39,
     "metadata": {},
     "output_type": "execute_result"
    },
    {
     "data": {
      "image/png": "[encoded data removed]",
      "text/plain": [
       "<Figure size 432x288 with 1 Axes>"
      ]
     },
     "metadata": {
      "needs_background": "light"
     },
     "output_type": "display_data"
    }
   ],
   "source": [
    "plot(C[-1000:],V[-1000:])"
   ]
  },
  {
   "cell_type": "markdown",
   "metadata": {},
   "source": [
    "### Debugging"
   ]
  },
  {
   "cell_type": "code",
   "execution_count": 19,
   "metadata": {},
   "outputs": [
    {
     "data": {
      "text/plain": [
       "[<matplotlib.lines.Line2D at 0xa2b9f8f60>]"
      ]
     },
     "execution_count": 19,
     "metadata": {},
     "output_type": "execute_result"
    },
    {
     "data": {
      "image/png": "[encoded data removed]",
      "text/plain": [
       "<Figure size 432x288 with 1 Axes>"
      ]
     },
     "metadata": {
      "needs_background": "light"
     },
     "output_type": "display_data"
    },
    {
     "data": {
      "image/png": "[encoded data removed]",
      "text/plain": [
       "<Figure size 432x288 with 1 Axes>"
      ]
     },
     "metadata": {
      "needs_background": "light"
     },
     "output_type": "display_data"
    }
   ],
   "source": [
    "N=10000 #15000\n",
    "n=100\n",
    "dt=0.001\n",
    "T=zeros(N)\n",
    "for i in range(N):\n",
    "    T[i]=i*dt\n",
    "\n",
    "    \n",
    "p = .9 #Probability of Connection \n",
    "\n",
    "#M=getRandomConnectivity(n,p)\n",
    "#l=matrixOfEdges(M,n)\n",
    "M_prime = copy.deepcopy(M)\n",
    "l_prime = copy.deepcopy(l)\n",
    "to_cull = 0\n",
    "\n",
    "tauv=0.01 \n",
    "tauc=0.5\n",
    "Vstar=15\n",
    "Cstar=20 \n",
    "V0=10 #20\n",
    "C0=24 #24\n",
    "\n",
    "delV=12. #12\n",
    "delC=0.015\n",
    "r=70\n",
    "r_0=5\n",
    "\n",
    "g_v = 0.5 #.95\n",
    "g_c = 0.5 #.95\n",
    "g = 1.15\n",
    "\n",
    "params=zeros(15)\n",
    "params[0]=N\n",
    "params[1]=n\n",
    "params[2]=dt\n",
    "params[3]=tauv\n",
    "params[4]=tauc\n",
    "params[5]=Vstar\n",
    "params[6]=Cstar\n",
    "params[7]=delV\n",
    "params[8]=delC\n",
    "params[9]=r\n",
    "params[10]=V0\n",
    "params[11]=C0\n",
    "params[12]=g\n",
    "params[13]=g\n",
    "params[14]=r_0\n",
    "\n",
    "C,V=simdyn(M,l,params)\n",
    "Crk4,Vrk4=simdynrk4(M,l,params)\n",
    "figure(1)\n",
    "plot(C,V)\n",
    "figure(2)\n",
    "plot(Crk4,Vrk4)"
   ]
  },
  {
   "cell_type": "code",
   "execution_count": null,
   "metadata": {},
   "outputs": [],
   "source": []
  }
 ],
 "metadata": {
  "kernelspec": {
   "display_name": "Python 3",
   "language": "python",
   "name": "python3"
  },
  "language_info": {
   "codemirror_mode": {
    "name": "ipython",
    "version": 3
   },
   "file_extension": ".py",
   "mimetype": "text/x-python",
   "name": "python",
   "nbconvert_exporter": "python",
   "pygments_lexer": "ipython3",
   "version": "3.6.6"
  }
 },
 "nbformat": 4,
 "nbformat_minor": 2
}
