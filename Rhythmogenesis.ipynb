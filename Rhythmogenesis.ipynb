{
 "cells": [
  {
   "cell_type": "markdown",
   "metadata": {},
   "source": [
    "### Function Imports"
   ]
  },
  {
   "cell_type": "code",
   "execution_count": 5,
   "metadata": {},
   "outputs": [
    {
     "name": "stdout",
     "output_type": "stream",
     "text": [
      "Using matplotlib backend: Qt5Agg\n",
      "Populating the interactive namespace from numpy and matplotlib\n"
     ]
    }
   ],
   "source": [
    "import numpy as np\n",
    "%pylab \n",
    "rcParams['figure.figsize'] = 12,8\n",
    "from numba import jit\n",
    "import random\n",
    "\n",
    "import copy\n",
    "import networkx as nx"
   ]
  },
  {
   "cell_type": "markdown",
   "metadata": {},
   "source": [
    "### Random Matrix Generation Functions"
   ]
  },
  {
   "cell_type": "code",
   "execution_count": 6,
   "metadata": {},
   "outputs": [],
   "source": [
    "def getRandomConnectivity(N, pct_connected):\n",
    "    ''' \n",
    "    Function that generates an adjacency matrix for an N neuron network.\n",
    "    \n",
    "    Inputs: \n",
    "        (int) N: Number of neurons in network\n",
    "        (float) pct_connected: percent chance for two neurons to connect to one another\n",
    "        \n",
    "    Outputs: \n",
    "        (2dArray(int)) M: Adjacency Matrix\n",
    "    '''\n",
    "    M = np.random.rand(N**2).reshape(N,N)\n",
    "    for i in range(N):\n",
    "        for j in range(N):\n",
    "            if (i == j):\n",
    "                M[i,j] = 0\n",
    "            else:\n",
    "                if (M[i,j] < pct_connected):\n",
    "                    M[i,j] = 1 #i connects to j\n",
    "                else:\n",
    "                    M[i,j] = 0\n",
    "    return M"
   ]
  },
  {
   "cell_type": "markdown",
   "metadata": {},
   "source": [
    "### Graph theoretic functions to explore role of $k$-cores in network dynamics"
   ]
  },
  {
   "cell_type": "code",
   "execution_count": 7,
   "metadata": {},
   "outputs": [],
   "source": [
    "def hasKcore(M, k):\n",
    "    # we'll be destroying the array so make a copy to work with\n",
    "    X = M.copy()\n",
    "    while(True):\n",
    "        cur_num_nodes = X.shape[0]\n",
    "        s = np.sum(X, 0)\n",
    "        nodes_to_delete = np.where(s < k)[0]\n",
    "        if (len(nodes_to_delete) == cur_num_nodes):\n",
    "            # nothing has at least k connections\n",
    "            \n",
    "            X = np.delete(X, nodes_to_delete, axis=0)\n",
    "            X = np.delete(X, nodes_to_delete, axis=1)\n",
    "            \n",
    "            return False\n",
    "            break\n",
    "        elif (len(nodes_to_delete) == 0):\n",
    "            # They all have at least k connections, we've found a kcore\n",
    "            return True\n",
    "            break\n",
    "        else:\n",
    "            X = np.delete(X, nodes_to_delete, axis=0)\n",
    "            X = np.delete(X, nodes_to_delete, axis=1)\n",
    "\n",
    "            \n",
    "# TODO get Kcore indices \n",
    "\n",
    "def largestKcore(M):\n",
    "    '''\n",
    "    Function largestKcore: Returns largest k-value kcore in network M\n",
    "    \n",
    "    Inputs:\n",
    "        (2dArray(int)) M: Adjacency Matrix \n",
    "        \n",
    "    Outputs: \n",
    "        (int) k-1: largest k-value kcore in the network\n",
    "    '''\n",
    "    # we can begin the search at the least connected node\n",
    "    connectivity = np.sum(M,0)\n",
    "    min_kcore = np.min(connectivity)\n",
    "    max_kcore = np.max(connectivity)\n",
    "    if max_kcore == 0:\n",
    "        return 0\n",
    "    k = min_kcore\n",
    "    while (hasKcore(M,k)):\n",
    "        k = k+1\n",
    "        \n",
    "    return k - 1\n",
    "        \n",
    "    \n",
    "    \n",
    "def largestkcore(M):\n",
    "    # we can begin the search at the least connected node\n",
    "    connectivity = np.sum(M,0)\n",
    "    min_kcore = np.min(connectivity)\n",
    "    max_kcore = np.max(connectivity)\n",
    "    if max_kcore == 0:\n",
    "        return 0\n",
    "    k = min_kcore\n",
    "    s=1\n",
    "    while (s==1):\n",
    "        \n",
    "        X = M.copy()\n",
    "        while(True):\n",
    "            cur_num_nodes = X.shape[0]\n",
    "            s = np.sum(X, 0)\n",
    "            nodes_to_delete = np.where(s < k)[0]\n",
    "            if (len(nodes_to_delete) == cur_num_nodes):\n",
    "            # nothing has at least k connections\n",
    "            \n",
    "                X = np.delete(X, nodes_to_delete, axis=0)\n",
    "                X = np.delete(X, nodes_to_delete, axis=1)\n",
    "            \n",
    "                s=0\n",
    "                break\n",
    "            elif (len(nodes_to_delete) == 0):\n",
    "            # They all have at least k connections, we've found a kcore\n",
    "                s=1\n",
    "                break\n",
    "            else:\n",
    "                X = np.delete(X, nodes_to_delete, axis=0)\n",
    "                X = np.delete(X, nodes_to_delete, axis=1)\n",
    "        k = k+1\n",
    "        \n",
    "    return k - 1\n",
    "\n",
    "#TODO: Instead of deleting nodes, put 0's on all the connections for the rows and columns that are disconnected\n",
    "    #Keeps number of all neurons the same so that neuron 3 doesnt become neuron 2 etc. \n",
    "    #Look for neurons not in Kcore which are firing and neurons that are in kcore and not firing. \n",
    "def kcoreitself(M, k):\n",
    "    # we'll be destroying the array so make a copy to work with\n",
    "    X = M.copy()\n",
    "    \n",
    "    while(True):\n",
    "        cur_num_nodes = X.shape[0]\n",
    "        s = np.sum(X, 0)\n",
    "        nodes_to_delete = np.where(s < k)[0]\n",
    "        if (len(nodes_to_delete) == cur_num_nodes):\n",
    "            \n",
    "            X = np.delete(X, nodes_to_delete, axis=0)\n",
    "            X = np.delete(X, nodes_to_delete, axis=1)\n",
    "            # nothing has at least k connections\n",
    "            return X\n",
    "            break\n",
    "        elif (len(nodes_to_delete) == 0):\n",
    "            # They all have at least k connections, we've found a kcore\n",
    "            return X\n",
    "            break\n",
    "        else:\n",
    "            X = np.delete(X, nodes_to_delete, axis=0)\n",
    "            X = np.delete(X, nodes_to_delete, axis=1)\n",
    "\n",
    "\n",
    "\n",
    "#here we get the largest connected component of  the graph\n",
    "\n",
    "def largestcomponent(l,N):\n",
    "    n=np.random.randint(0,N)\n",
    "    \n",
    "    boundary=[n]\n",
    "    b=1\n",
    "    comp=[n]\n",
    "    c=1\n",
    "   \n",
    "    while(b>0):\n",
    "        a=boundary.pop()\n",
    "        \n",
    "        oldvertex=int(a)\n",
    "        \n",
    "        deg=l[oldvertex,0]\n",
    "        degree=int(deg)\n",
    "        #print(degree)\n",
    "        for j in range(degree):\n",
    "            newvertex=l[oldvertex,j+1]\n",
    "            q=comp.count(newvertex)\n",
    "            #print(newvertex)\n",
    "            q=int(q)\n",
    "            #print(q)\n",
    "            if (q==0):\n",
    "                comp.append(newvertex)\n",
    "                boundary.append(newvertex)\n",
    "                #print(newvertex)\n",
    "                #print(boundary)\n",
    "            \n",
    "        b=len(boundary)\n",
    "            \n",
    "    #sizeofcomp=len(comp)\n",
    "    return(comp)\n",
    "\n",
    "def matrixOfEdges(M,N):\n",
    "    '''\n",
    "    Function matrixOfEdges: Returns edgelist from adjacency matrix as 2d numpy array \n",
    "    \n",
    "    Inputs: \n",
    "        (2dArray(int)) M: Adjacency Matrix\n",
    "        (int) N: number of neurons in network, or length of one axis of M\n",
    "        \n",
    "    Outputs: \n",
    "        (2dArray(int)) E: Edge list of neuronal network. \n",
    "    '''\n",
    "    N = int(N)\n",
    "    E=np.zeros(N**2).reshape(N,N)  #prepare array with zeros\n",
    "    k=np.sum(M,0) #array with degree of each vertex\n",
    "    for i in range(N):\n",
    "        a=int(k[i]) #degree of the current vertex\n",
    "        E[i,0]=a  #we put it to the zero row of matrix of edges\n",
    "    for i in range(N):\n",
    "        a=int(k[i])\n",
    "        q=1\n",
    "        for j in range(N):\n",
    "            if (M[j,i]==1):\n",
    "                E[i,q]=j #all the next elements in current column are number of vertices current vertex is connected to\n",
    "                q=q+1\n",
    "    return(E)"
   ]
  },
  {
   "cell_type": "markdown",
   "metadata": {},
   "source": [
    "### Chaos Classifier"
   ]
  },
  {
   "cell_type": "code",
   "execution_count": 8,
   "metadata": {},
   "outputs": [],
   "source": [
    "def cut(C): \n",
    "    return C[int(0.9*len(C)):] #we take the second half of the time, when trajectory is close to SO, H,Q or chaos\n",
    "\n",
    "def deriv(X):  #just a derivative\n",
    "    N=len(X)\n",
    "    if N == 0: \n",
    "        return []\n",
    "    d=zeros(N-1)\n",
    "    for i in range(N-1):\n",
    "        d[i]=X[i+1]-X[i]\n",
    "    return d\n",
    "\n",
    "def muldev(X): #it is like a derivative but multiplication instead of difference\n",
    "    N=len(X)\n",
    "    md = zeros(N-1)\n",
    "    for i in range(N-1):\n",
    "        md[i]=X[i+1]*X[i]\n",
    "    return md\n",
    "\n",
    "def classifier(C1, timetolerance, Ctolerance):\n",
    "    '''\n",
    "    Function classifier: Returns classification of network dynamics. 1 is SO, 0 is chaos, 2 is Fixed point, -1 is error\n",
    "    \n",
    "    Inputs: \n",
    "        (1dArray(float)) C1: Input array of data\n",
    "        (float) timetolerance: time scale for oscillation classification\n",
    "        (float) Ctolerance: variance in input data for oscillation classification\n",
    "        \n",
    "    Outputs: \n",
    "        (int) checker: Classification of network behavior as defined above. \n",
    "    '''\n",
    "    C=cut(C1) #we look at the second half when it closer to the cycle or whatever it is\n",
    "    N=len(C)\n",
    "    countermax=0\n",
    "    countermin=0\n",
    "    Cprime=deriv(C)\n",
    "    Cmd=muldev(Cprime)\n",
    "    Cpp = deriv(Cprime)\n",
    "    for i in range(N-2):\n",
    "        if (Cmd[i]<0): #if sign of derivative changes it means that it max or min\n",
    "            if (Cpp[i]>0): #if second derivative > 0 it is min\n",
    "                countermin=countermin+1\n",
    "            else:\n",
    "                countermax=countermax+1 # else it is max\n",
    "    \n",
    "    max_C = max(C[int(.75*N):N])\n",
    "    min_C = min(C[int(.75*N):N])\n",
    "    \n",
    "    #print(max_C, \",\", min_C)\n",
    "    \n",
    "    if ((max_C - min_C) < Ctolerance):\n",
    "        return 2\n",
    "    \n",
    "    if ((countermin == 0) and (countermax == 0)):\n",
    "        return 2\n",
    "    \n",
    "    maximums=np.zeros(countermax)\n",
    "    minimums=np.zeros(countermin)\n",
    "    maxtimes=np.zeros(countermax)\n",
    "    mintimes=np.zeros(countermin)\n",
    "    qmax=0 #counter of max\n",
    "    qmin=0 #counter of min\n",
    "    for i in range(N-2):\n",
    "        if (Cmd[i]<0):\n",
    "            if (Cpp[i]>0):\n",
    "                mintimes[qmin]=i #the time when min occurs\n",
    "                minimums[qmin]=C[i] #the value\n",
    "                qmin=qmin+1 \n",
    "            else:\n",
    "                maxtimes[qmax]=i #the same story for max\n",
    "                maximums[qmax]=C[i]\n",
    "                qmax=qmax+1\n",
    "    \n",
    "    ### Mihai ~ ADDED TEMPORARY MAGIC NUMBERS TO FIX OFF BY 1 ### \n",
    "    min_dim = min(len(maxtimes),len(mintimes))\n",
    "    maxtimes = maxtimes[:min_dim]\n",
    "    mintimes = mintimes[:min_dim]\n",
    "    \n",
    "    minperiods=deriv(mintimes)\n",
    "    maxperiods=deriv(maxtimes)\n",
    "    #print(minperiods)\n",
    "    #print(maxperiods)\n",
    "\n",
    "    if(len(maxtimes)+len(mintimes)-2 < 2):  #if the period is too long #Mihai ~ Changed to .any(), but formulation is ambiguous\n",
    "        print('Increase observation time N*dt')\n",
    "        return(-1) #-1 is error \n",
    "    \n",
    "    \n",
    "    checker=1    #we will check conditions for this stuff to be cycle, not chaos. If at lest one of them fails, we put checker to 0\n",
    "    avper=(sum(minperiods)+sum(maxperiods))*1.0/(countermin+countermax-2) #average period\n",
    "    #print(avper)\n",
    "    #print(minimums)\n",
    "    #print(maximums)\n",
    "    avmin=sum(minimums)*1.0/countermin #average value of minimum\n",
    "    avmax=sum(maximums)*1.0/countermax #average value of maximum\n",
    "    if (avmax-avmin<Ctolerance):\n",
    "        return(2) #if the difference between min and max smaller than tolerance it is fixed point\n",
    "    #for i in range(countermin-1):\n",
    "    for i in range(countermin-2):\n",
    "        if (abs(minperiods[i]-avper)>timetolerance): #if the deviation from the average larger than the tolerance\n",
    "            checker=0 #than it is not SO\n",
    "    #for i in range(countermax-1):\n",
    "    for i in range(countermax-2):\n",
    "        if (abs(maxperiods[i]-avper)>timetolerance):\n",
    "            checker=0\n",
    "    for i in range(countermin):\n",
    "        if (abs(minimums[i]-avmin)>Ctolerance):\n",
    "            checker=0\n",
    "    for i in range(countermax):\n",
    "        if (abs(maximums[i]-avmax)>Ctolerance):\n",
    "            checker=0\n",
    "    return(checker) #1 is SO, 0 is chaos. 2 is fixed point. -1 is error. "
   ]
  },
  {
   "cell_type": "markdown",
   "metadata": {},
   "source": [
    "### Non-chaos Classifier (faster classification but cannot distinguish chaos phase) "
   ]
  },
  {
   "cell_type": "code",
   "execution_count": 9,
   "metadata": {},
   "outputs": [],
   "source": [
    "def classify(V, params):\n",
    "    '''\n",
    "    Function classify: Returns classification of network dynamics. 1 is stable oscillation, 2 is quiescent fixed point, 3 is high activity fixed point\n",
    "    \n",
    "    Inputs: \n",
    "        (1dArray(float)) V: Array of voltages or calcium concentrations representing network dynamics for one parameter set\n",
    "        (1dArray(float)) params: Array of network parameters \n",
    "        \n",
    "    Outputs: \n",
    "        (int) classification: Returns classification of network dynamics as defined above. \n",
    "    '''\n",
    "    #Set up some globals \n",
    "    \n",
    "    N = int(params[0])\n",
    "    n = int(params[1])\n",
    "    \n",
    "    #Network uniformly connected but vectorized lets us scale later \n",
    "    #for i in range (N/2, N):\n",
    "    #max_V = max(V[int(N/2):N])\n",
    "    #min_V = min(V[int(N/2):N])\n",
    "    max_V = max(V[int(.9*N):N])\n",
    "    min_V = min(V[int(.9*N):N])\n",
    "   \n",
    "            \n",
    "    V_delta = max_V - min_V\n",
    "    #print(V_delta)\n",
    "    \n",
    "    if V_delta < 0.001: #changed from 1\n",
    "        if V[N-1] < 15:\n",
    "            #params[12] = 2\n",
    "            return 2\n",
    "        else:\n",
    "            #params[12] = 3\n",
    "            return 3\n",
    "    else:\n",
    "        #params[12] = 1\n",
    "        return 1\n",
    "        \n",
    "def classify2(V, params):\n",
    "    '''\n",
    "    Function classify2: Returns classification of network dynamics. 1 is stable oscillation across V* boundary, \n",
    "                        2 is quiescent fixed point, 3 is high activity fixed point, 4 is stable oscillation where\n",
    "                        network oscillates above V* boundary, 5 is stable oscillation where network oscillates \n",
    "                        below V* boundary.\n",
    "    \n",
    "    Inputs: \n",
    "        (1dArray(float)) V: Array of voltages or calcium concentrations representing network dynamics for one parameter set\n",
    "        (1dArray(float)) params: Array of network parameters \n",
    "        \n",
    "    Outputs: \n",
    "        (int) classification: Returns classification of network dynamics as defined above. \n",
    "    '''\n",
    "    \n",
    "    N = int(params[0])\n",
    "    n = int(params[1])\n",
    "    \n",
    "    max_V = max(V[int(N/2):N])\n",
    "    min_V = min(V[int(N/2):N])\n",
    "           \n",
    "    V_delta = max_V - min_V\n",
    "   \n",
    "    Vstar = params[5]\n",
    "    Cstar = params[6]\n",
    "\n",
    "    if V_delta < 0.1: #changed from 1\n",
    "        if V[N-1] < Vstar:\n",
    "            #params[12] = 2\n",
    "            return 2\n",
    "        else:\n",
    "            #params[12] = 3\n",
    "            return 3\n",
    "    else:\n",
    "        if max_V > params[5] and min_V < params[5]:\n",
    "            return 1\n",
    "        if max_V > params[5] and min_V > params[5]:\n",
    "            return 4\n",
    "        if max_V < params[5] and min_V < params[5]:\n",
    "            return 5"
   ]
  },
  {
   "cell_type": "markdown",
   "metadata": {},
   "source": [
    "### Dynamics Simulation Functions"
   ]
  },
  {
   "cell_type": "code",
   "execution_count": 10,
   "metadata": {},
   "outputs": [],
   "source": [
    "'''\n",
    "    All dynamics functions take the same arguments\n",
    "    \n",
    "    Inputs: \n",
    "        (2d int array) M: Adjacency matrix\n",
    "        (2d int array) l: Adjacency/edge list\n",
    "        (1d int array) params: parameter list\n",
    "        \n",
    "    Specific outputs vary on a case by cases basis, but in general:\n",
    "    \n",
    "    Outputs:\n",
    "        (2d float array) avV: Average voltage of network at each time step\n",
    "        (2d float array) avC: Average calcium concentration of network at each time step\n",
    "        (2d float array) V: Voltage of each neuron at each time step\n",
    "        (2d float array) C: Calcium concentration of each neuron at each time step \n",
    "        \n",
    "    Any other outputs are not well defined and are used for debugging purposes only\n",
    "'''\n",
    "\n",
    "@jit(nopython=True)\n",
    "def step_mf_dyn(M,l,params):\n",
    "    N = int(params[0])\n",
    "    n = int(params[1])\n",
    "    dt = params[2]\n",
    "    tauv = params[3]\n",
    "    tauc = params[4]\n",
    "    Vstar = params[5]\n",
    "    Cstar = params[6]\n",
    "    delV = params[7]\n",
    "    delC = params[8]\n",
    "    r_1 = params[9]\n",
    "    V0 = params[10]\n",
    "    C0 = params[11]\n",
    "    g_v = params[12]\n",
    "    g_c = params[13]\n",
    "    r_0 = params[14]\n",
    "    \n",
    "    V=zeros(N*n).reshape(N,n)  #now we have potencial and calcium concentration for each neuron\n",
    "    C=zeros(N*n).reshape(N,n)\n",
    "    \n",
    "    firing_neurons_count = zeros(N*n).reshape(N,n) #Individually count how may neurons are actually firing in this model at a given step N.\n",
    "    \n",
    "    avV=zeros(N) #average potential\n",
    "    avC=zeros(N)  #average calcium\n",
    "    \n",
    "    for i in range(n):\n",
    "        #initial conditions\n",
    "        #V[0,i]=V0 \n",
    "        #C[0,i]=C0\n",
    "        V[0,i]=np.random.uniform(Vstar-3, Vstar+3)\n",
    "        C[0,i]=np.random.uniform(Cstar-3, Cstar+3)\n",
    "        if V[0,i] > Vstar: #keep track of and return how many neurons in the network are actually firing  \n",
    "            firing_neurons_count[0,i] = 1\n",
    "        avV[0]=n*V0  #we will divide to n later\n",
    "        avC[0]=n*C0\n",
    "    \n",
    "    for i in range(N - 1): \n",
    "        for j in range(n):\n",
    "            if V[i,j] > Vstar: \n",
    "                r = r_1\n",
    "            else:\n",
    "                # Set r = r_0 if offset is used\n",
    "                r = r_0\n",
    "\n",
    "            if C[i,j] < Cstar: \n",
    "                dV = delV \n",
    "            else: \n",
    "                dV = 0\n",
    "\n",
    "            V[i+1,j] = (-V[i,j]/tauv + (n-1)*dV*(r + r_0)) * dt + V[i,j]\n",
    "            if V[i+1,j] > Vstar: \n",
    "                firing_neurons_count[i+1,j] = 1\n",
    "            C[i+1,j] = (-C[i,j]/tauc + (n-1)*delC*(r + r_0)) * dt + C[i,j]\n",
    "            avC[i+1]=avC[i+1]+C[i+1,j]\n",
    "            avV[i+1]=avV[i+1]+V[i+1,j]\n",
    "            \n",
    "    for i in range (N):\n",
    "        avC[i]=avC[i]/n\n",
    "        avV[i]=avV[i]/n    \n",
    "    \n",
    "    return avC, avV, C, V, firing_neurons_count\n",
    "\n",
    "'''@jit(nopython=True)\n",
    "def sigmoid_mf_dyn(M,l,params):\n",
    "    N = int(params[0])\n",
    "    n = int(params[1])\n",
    "    dt = params[2]\n",
    "    tauv = params[3]\n",
    "    tauc = params[4]\n",
    "    Vstar = params[5]\n",
    "    Cstar = params[6]\n",
    "    delV = params[7]\n",
    "    delC = params[8]\n",
    "    r = params[9]\n",
    "    V0 = params[10]\n",
    "    C0 = params[11]\n",
    "    g_v = params[12]\n",
    "    g_c = params[13]\n",
    "    r_0 = params[14]\n",
    "    \n",
    "    V=zeros(N)  #now we have potencial and calcium concentration for each neuron\n",
    "    C=zeros(N)\n",
    "    \n",
    "    #avV=zeros(N) #average potencial\n",
    "    #avC=zeros(N)  #average calcium\n",
    "    \n",
    "    for i in range(n):\n",
    "        #V[0]=V0 #initial conditions\n",
    "        #C[0]=C0 \n",
    "        V[0]=np.random.uniform(Vstar-1, Vstar+1)\n",
    "        C[0]=np.random.uniform(Cstar-1, Cstar+1)\n",
    "        #avV[0]=n*V0\n",
    "        #avC[0]=n*C0\n",
    "\n",
    "    for i in range(N-1):\n",
    "        V[i+1] = (-V[i]/tauv + (1/(1+exp((C[i]-Cstar)/g_c))) * p * (n-1) * (r/(1+exp((Vstar-V[i])/g_v)) + r_0)) * dt + V[i]\n",
    "        C[i+1] = (-C[i]/tauc + delC * p * (n-1) * (r/(1+exp((Vstar-V[i])/g_v)) + r_0)) * dt + C[i]\n",
    "        #avC[i+1]=avC[i+1]+C[i+1]\n",
    "        #avV[i+1]=avV[i+1]+V[i+1]\n",
    "            \n",
    "    #avC /= n\n",
    "    #avV /= n\n",
    "            \n",
    "    return(C, V)'''\n",
    "\n",
    "@jit(nopython=True)\n",
    "def sigmoid_mf_dyn(M,l,params):\n",
    "    N = int(params[0])\n",
    "    n = int(params[1])\n",
    "    dt = params[2]\n",
    "    tauv = params[3]\n",
    "    tauc = params[4]\n",
    "    Vstar = params[5]\n",
    "    Cstar = params[6]\n",
    "    delV = params[7]\n",
    "    delC = params[8]\n",
    "    r = params[9]\n",
    "    V0 = params[10]\n",
    "    C0 = params[11]\n",
    "    g_v = params[12]\n",
    "    g_c = params[13]\n",
    "    r_0 = params[14]\n",
    "    \n",
    "    V=zeros(N*n).reshape(N,n)  #now we have potencial and calcium concentration for each neuron\n",
    "    C=zeros(N*n).reshape(N,n)\n",
    "    sump=zeros(n)\n",
    "    avV=zeros(N) #average potential\n",
    "    avC=zeros(N)  #average calcium\n",
    "    P=zeros(n)\n",
    "    \n",
    "    for i in range(n):\n",
    "        #initial conditions\n",
    "        #V[0,i]=V0 \n",
    "        #C[0,i]=C0\n",
    "        V[0,i]=np.random.uniform(Vstar-5, Vstar+5)\n",
    "        C[0,i]=np.random.uniform(Cstar-5, Cstar+5)\n",
    "        avV[0]=n*V0  #we will divide to n later\n",
    "        avC[0]=n*C0\n",
    "        \n",
    "    for i in range(N-1):\n",
    "        for j in range(n):\n",
    "            sump[j]=0\n",
    "        for j in range(n):\n",
    "            P[j] = (r - r_0)/(1+exp((Vstar-V[i,j])/g_v)) + r_0\n",
    "        for j in range(n):\n",
    "            a=int(l[j,0])\n",
    "            for k in range(a):\n",
    "                b=int(l[j,k])\n",
    "                sump[j]=sump[j]+P[b]  #if neuron connected to j-th neuron it participates in sum\n",
    "        for j in range(n):\n",
    "            V[i+1,j]=(-V[i,j]/tauv + delV*sump[j]*(1/(1+exp((C[i,j]-Cstar)/g_c))) )*dt + V[i,j]\n",
    "            C[i+1,j]=(-C[i,j]/tauc + delC*sump[j])*dt + C[i,j]\n",
    "            avC[i+1]=avC[i+1]+C[i+1,j]\n",
    "            avV[i+1]=avV[i+1]+V[i+1,j]\n",
    "    for i in range (N):\n",
    "        avC[i]=avC[i]/n\n",
    "        avV[i]=avV[i]/n\n",
    "        \n",
    "    return(avC,avV,C,V)\n",
    "\n",
    "@jit(nopython=True)\n",
    "def step_hetero_dyn(M,l,params):\n",
    "    N = int(params[0])\n",
    "    n = int(params[1])\n",
    "    dt = params[2]\n",
    "    tauv = params[3]\n",
    "    tauc = params[4]\n",
    "    Vstar = params[5]\n",
    "    Cstar = params[6]\n",
    "    delV = params[7]\n",
    "    delC = params[8]\n",
    "    r_1 = params[9]\n",
    "    V0 = params[10]\n",
    "    C0 = params[11]\n",
    "    g_v = params[12]\n",
    "    g_c = params[13]\n",
    "    r_0 = params[14]\n",
    "    \n",
    "    V=zeros(N*n).reshape(N,n)  #now we have potencial and calcium concentration for each neuron\n",
    "    C=zeros(N*n).reshape(N,n)\n",
    "    #P=zeros(n)  # function P(V), sigmoid\n",
    "    P = zeros(N*n).reshape(N,n)\n",
    "    deltaV=zeros(n)\n",
    "    sump=zeros(n)  #sum of P over the vertices\n",
    "    avV=zeros(N) #average potencial\n",
    "    avC=zeros(N)  #average calcium\n",
    "    firing_neurons_count = zeros(N*n).reshape(N,n) #Individually count how may neurons are actually firing in this model at a given step N.\n",
    "    \n",
    "    for i in range(n):\n",
    "        V[0,i]= np.random.uniform(Vstar - 3, Vstar + 3)#V0 #initial conditions\n",
    "        C[0,i]= np.random.uniform(Cstar - 3, Cstar + 3)#C0 \n",
    "        if V[0,i] > Vstar: #keep track of and return how many neurons in the network are actually firing  \n",
    "            firing_neurons_count[0,i] = 1\n",
    "        avV[0]=n*V0  #we will divide to n later\n",
    "        avC[0]=n*C0\n",
    "    for i in range (N-1):\n",
    "        for j in range(n):\n",
    "            if (V[i,j]>Vstar): #V[i,j] stores voltage of each neuron instead of returning the average voltage \n",
    "                P[i,j]=r_1+r_0\n",
    "            else:\n",
    "                P[i,j]=r_0\n",
    "                \n",
    "            if (C[i,j]<Cstar):\n",
    "                deltaV[j]=delV #change from 1.2 \n",
    "            else:\n",
    "                deltaV[j]=0#delVmin #changed from .4\n",
    "        for j in range(n):\n",
    "            a=int(l[j,0]) #a should give number of firing neighbors \n",
    "            for k in range(a):\n",
    "                b = int(l[j,k+1])\n",
    "                sump[j]=sump[j]+P[i,b]  #if neuron connected to j-th neuron it participates in sum\n",
    "        for j in range(n):\n",
    "            V[i+1,j]=(-V[i,j]/tauv + deltaV[j]*sump[j])*dt + V[i,j]\n",
    "            if V[i+1,j] > Vstar: \n",
    "                firing_neurons_count[i+1,j] = 1 #used to return count of firing neurons later\n",
    "            C[i+1,j]=(-C[i,j]/tauc + delC*sump[j])*dt + C[i,j]\n",
    "            avC[i+1]=avC[i+1]+C[i+1,j]\n",
    "            avV[i+1]=avV[i+1]+V[i+1,j]\n",
    "        for j in range(n):\n",
    "            sump[j]=0\n",
    "    for i in range (N):\n",
    "        avC[i]=avC[i]/n\n",
    "        avV[i]=avV[i]/n\n",
    "        \n",
    "    return(avC,avV, C, V)\n",
    "\n",
    "@jit(nopython=True)\n",
    "def sigmoid_hetero_dyn(M,l,params):\n",
    "    N = int(params[0])\n",
    "    n = int(params[1])\n",
    "    dt = params[2]\n",
    "    tauv = params[3]\n",
    "    tauc = params[4]\n",
    "    Vstar = params[5]\n",
    "    Cstar = params[6]\n",
    "    delV = params[7]\n",
    "    delC = params[8]\n",
    "    r = params[9]\n",
    "    V0 = params[10]\n",
    "    C0 = params[11]\n",
    "    g_v = params[12]\n",
    "    g_c = params[13]\n",
    "    r_0 = params[14]\n",
    "    \n",
    "    V=zeros(N*n).reshape(N,n)  #now we have potencial and calcium concentration for each neuron\n",
    "    C=zeros(N*n).reshape(N,n)\n",
    "    P=zeros(n)  # function P(V), sigmoid\n",
    "    sump=zeros(n)  #sum of P over the vertices\n",
    "    avV=zeros(N) #average potencial\n",
    "    avC=zeros(N)  #average calcium\n",
    "    #res = int(params[12]) #resulting classification \n",
    "    \n",
    "    for i in range(n):\n",
    "        V[0,i]=V0 #initial conditions\n",
    "        C[0,i]=C0 \n",
    "        #V[0,i] = np.random.uniform(Vstar-1, Vstar+1)\n",
    "        #C[0,i] = np.random.uniform(Cstar-1, Cstar+1)\n",
    "        avV[0]=n*V0  #we will divide to n later\n",
    "        avC[0]=n*C0\n",
    "    for i in range (N-1):\n",
    "        for j in range(n):\n",
    "            sump[j]=0\n",
    "        for j in range(n):\n",
    "            P[j] = (r - r_0)/(1+exp((Vstar-V[i,j])/g_v)) + r_0\n",
    "        for j in range(n):\n",
    "            a=int(l[j,0])\n",
    "            for k in range(a):\n",
    "                b=int(l[j,k])\n",
    "                sump[j]=sump[j]+P[b]  #if neuron connected to j-th neuron it participates in sum\n",
    "        for j in range(n):\n",
    "            V[i+1,j]=(-V[i,j]/tauv + delV*sump[j]*(1/(1+exp((C[i,j]-Cstar)/g_c))) )*dt + V[i,j]\n",
    "            C[i+1,j]=(-C[i,j]/tauc + delC*sump[j])*dt + C[i,j]\n",
    "            avC[i+1]=avC[i+1]+C[i+1,j]\n",
    "            avV[i+1]=avV[i+1]+V[i+1,j]\n",
    "        #for j in range(n):\n",
    "        #    sump[j]=0\n",
    "    for i in range (N):\n",
    "        avC[i]=avC[i]/n\n",
    "        avV[i]=avV[i]/n\n",
    "        \n",
    "   \n",
    "    #return(avC,avV,C,V)\n",
    "    return(avC,avV,C,V,sump)"
   ]
  },
  {
   "cell_type": "markdown",
   "metadata": {},
   "source": [
    "### Network Definition"
   ]
  },
  {
   "cell_type": "code",
   "execution_count": 38,
   "metadata": {},
   "outputs": [],
   "source": [
    "'''\n",
    "    Each neuronal network defined by M and l are saved as their own object, along with \n",
    "    its specific parameters in the params array. Not all features of params are used for\n",
    "    each network. For instance, the params array for a step function contains g_v and g_c\n",
    "    parameters though in reality it is a step function\n",
    "'''\n",
    "class Network: \n",
    "    def __init__(self, M, l, params):\n",
    "        '''\n",
    "            Constructor for network object. MUST include M, l, and params to function. \n",
    "        '''\n",
    "        self.M_init = M\n",
    "        self.l_init = l \n",
    "        self.M = M\n",
    "        self.l = l\n",
    "        self.params = params\n",
    "        self.N = int(params[0])\n",
    "        self.n_init = int(params[1])\n",
    "        self.n = int(params[1])\n",
    "        self.dt = params[2]\n",
    "        self.tauv = params[3]\n",
    "        self.tauc = params[4]\n",
    "        self.Vstar = params[5]\n",
    "        self.Cstar = params[6]\n",
    "        self.delV = params[7]\n",
    "        self.delC = params[8]\n",
    "        self.r = params[9]\n",
    "        self.V0 = params[10]\n",
    "        self.C0 = params[11]\n",
    "        self.g_v = params[12]\n",
    "        self.g_c = params[13]\n",
    "        self.r_0 = params[14]\n",
    "        self.n_edges = np.sum(self.l[:,0])\n",
    "        self.kill_order = []\n",
    "        \n",
    "    def kill_neuron(self):\n",
    "        '''\n",
    "            Kills a single neuron at index 1 and changes M, l, and params accordingly for network\n",
    "        '''\n",
    "        x = 1\n",
    "        self.n -= 1\n",
    "        self.params[1] = self.n\n",
    "        self.M = np.delete(self.M,x,axis=0)\n",
    "        self.M = np.delete(self.M,x,axis=1)\n",
    "        #self.M[x] = np.zeros(self.n_init)\n",
    "        #self.M[:,x] = np.zeros(self.n_init)\n",
    "        self.l = matrixOfEdges(self.M, self.n)\n",
    "        \n",
    "    def kill_neuron2(self, n):\n",
    "        '''\n",
    "            Kills n neurons from the network always from index -1 and changes M, l, and params accordingly.\n",
    "        '''\n",
    "        x = -1 #0\n",
    "        for i in range(int(n)):\n",
    "            self.M = np.delete(self.M, x, axis=0)\n",
    "            self.M = np.delete(self.M, x, axis=1)\n",
    "        self.n -= n\n",
    "        self.params[1] = self.n\n",
    "        self.l = matrixOfEdges(self.M, self.n)\n",
    "\n",
    "    def killEdge(self):\n",
    "        '''\n",
    "            Kills a single edge from the network at random \n",
    "        '''\n",
    "        l_copy = copy.deepcopy(self.l)\n",
    "        \n",
    "        non_zero_rows = []\n",
    "        \n",
    "        for i in range(self.n):\n",
    "            if l_copy[i,0] != 0:\n",
    "                non_zero_rows.append(i)\n",
    "            # Experimental removal of neurons as all incoming edges are killed \n",
    "            #else:\n",
    "            #    self.n -= 1\n",
    "            \n",
    "        \n",
    "        #randomly pick a row that has some connections\n",
    "        if len(non_zero_rows) == 0:\n",
    "            return False\n",
    "        \n",
    "        row_idx = random.randint(0,len(non_zero_rows) - 1)\n",
    "        row = non_zero_rows[row_idx]\n",
    "        \n",
    "        if l_copy[row,0] == 0:\n",
    "            self.l = l_copy\n",
    "            return False\n",
    "        \n",
    "        else: \n",
    "            #randomly pick edge\n",
    "            edge_idx = random.randint(1,l_copy[row,0])\n",
    "            row_reinsert = l_copy[row]#np.zeros(self.n)\n",
    "            row_reinsert[0] = l_copy[row,0] - 1\n",
    "            row_reinsert[1:edge_idx] = l_copy[row,1:edge_idx]\n",
    "            \n",
    "            #remove entry and roll array \n",
    "            row_reinsert[edge_idx] = 0\n",
    "            \n",
    "            rolled = np.roll(row_reinsert[edge_idx:],-1)\n",
    "            row_reinsert[edge_idx:] = rolled\n",
    "            l_copy[row] = row_reinsert\n",
    "            \n",
    "            self.l = l_copy\n",
    "            self.M = connectivityMap(self.l, self.n)\n",
    "            self.n_edges -= 1\n",
    "            \n",
    "            return True\n",
    "        \n",
    "    def killEdge2(self, n):\n",
    "        '''\n",
    "            Kills n edges from the network at random if first iteration, or in order determined by kill_order\n",
    "        '''\n",
    "        for i in range(n): \n",
    "            l_copy = copy.deepcopy(self.l)\n",
    "        \n",
    "            non_zero_rows = []\n",
    "\n",
    "            for j in range(self.n):\n",
    "                if l_copy[j,0] != 0:\n",
    "                    non_zero_rows.append(j)\n",
    "                    \n",
    "            row = non_zero_rows[self.kill_order[i][0]]\n",
    "            \n",
    "        \n",
    "            #randomly pick edge\n",
    "            edge_idx = self.kill_order[i][1]\n",
    "            row_reinsert = l_copy[row]#np.zeros(self.n)\n",
    "            row_reinsert[0] = l_copy[row,0] - 1\n",
    "            row_reinsert[1:edge_idx] = l_copy[row,1:edge_idx]\n",
    "\n",
    "            #remove entry and roll array \n",
    "            row_reinsert[edge_idx] = 0\n",
    "\n",
    "            rolled = np.roll(row_reinsert[edge_idx:],-1)\n",
    "            row_reinsert[edge_idx:] = rolled\n",
    "            l_copy[row] = row_reinsert\n",
    "\n",
    "            self.l = l_copy\n",
    "            self.M = connectivityMap(self.l, self.n)\n",
    "            self.n_edges -= 1\n",
    "        \n",
    "    def init_kill_order(self):\n",
    "        '''\n",
    "            Initializes the order in which edges are to be killed for all phase diagram runs. \n",
    "        '''\n",
    "        while True:\n",
    "            l_copy = copy.deepcopy(self.l)\n",
    "\n",
    "            non_zero_rows = []\n",
    "\n",
    "            for i in range(self.n):\n",
    "                if l_copy[i,0] != 0:\n",
    "                    non_zero_rows.append(i)\n",
    "                # Experimental removal of neurons as all incoming edges are killed \n",
    "                #else:\n",
    "                #    self.n -= 1\n",
    "\n",
    "\n",
    "            #randomly pick a row that has some connections\n",
    "            if len(non_zero_rows) == 0:\n",
    "                #reset initial values \n",
    "                self.M = self.M_init\n",
    "                self.l = self.l_init\n",
    "                self.n_edges = np.sum(self.l_init[:,0])\n",
    "                break\n",
    "\n",
    "            row_idx = random.randint(0,len(non_zero_rows) - 1)\n",
    "            row = non_zero_rows[row_idx]\n",
    "\n",
    "            #randomly pick edge\n",
    "            edge_idx = random.randint(1,l_copy[row,0])\n",
    "            row_reinsert = l_copy[row]#np.zeros(self.n)\n",
    "            row_reinsert[0] = l_copy[row,0] - 1\n",
    "            row_reinsert[1:edge_idx] = l_copy[row,1:edge_idx]\n",
    "\n",
    "            #remove entry and roll array \n",
    "            row_reinsert[edge_idx] = 0\n",
    "\n",
    "            rolled = np.roll(row_reinsert[edge_idx:],-1)\n",
    "            row_reinsert[edge_idx:] = rolled\n",
    "            l_copy[row] = row_reinsert\n",
    "\n",
    "            self.l = l_copy\n",
    "            self.M = connectivityMap(self.l, self.n)\n",
    "            self.n_edges -= 1\n",
    "            \n",
    "            self.kill_order.append((row_idx, edge_idx))\n",
    "     \n",
    "    # TODO: FINISH\n",
    "    def simdyn(self, M, l, params, connectivity=\"heterogeneous\", activation=\"sigmoid\"):\n",
    "        '''\n",
    "        Function simdyn: Simulates dynamics of network for given parameter set and adjacency matrix\n",
    "        \n",
    "        Inputs:\n",
    "            M: Network adjacency matrix\n",
    "            l: Network edge-list as matrix\n",
    "            params: List of parameters (see constructor function for specifics)\n",
    "            connectivity: Definition of whether network is heterogeneously connected or homogeneously \n",
    "                connected. Either input 'heterogeneous' or 'mean field'.\n",
    "            activation: Definition of activation function of neurons in network. Either 'sigmoid' or 'step'.\n",
    "            \n",
    "        Outputs: \n",
    "            Data regarding network dynamics, C and V at different neurons at different time steps. \n",
    "            See called dynamics functions for specific information about outputs. Prints message if \n",
    "            error in inputs. \n",
    "        '''\n",
    "        if connectivity ==  \"mean field\" and activation == \"step\":\n",
    "            return step_mf_dyn(self.M, self.l, self.params)\n",
    "        elif connectivity ==  \"mean field\" and activation == \"sigmoid\":\n",
    "            return sigmoid_mf_dyn(self.M, self.l, self.params)\n",
    "        elif connectivity == \"heterogeneous\" and activation == \"step\":\n",
    "            return step_hetero_dyn(self.M, self.l, self.params)\n",
    "        elif connectivity == \"heterogeneous\" and activation == \"sigmoid\":\n",
    "            return sigmoid_hetero_dyn(self.M, self.l, self.params)\n",
    "        else:\n",
    "            print(\"!!! Check network type and activation function !!!\")\n",
    "            \n",
    "    def phase_diagram(self, x_param=\"delV\", y_param=\"n\", x_min=0.1, x_max=25., x_step=0.1, \n",
    "                      y_min=2, y_max=100, y_step=1, tracing=\"full\",\n",
    "                      connectivity=\"heterogeneous\", activation=\"sigmoid\"):\n",
    "        '''\n",
    "        Inputs:\n",
    "            x_param (str): x parameter for phase space, either \"delV\", \"delV\", \"g_v\", or \"g_c\"\n",
    "            y_param (str): y parameter for phase space, \"n\"\n",
    "            tracing (str): Type of tracing for phase boundary. \n",
    "                        \"full\": complete phase space is plotted \n",
    "                        \"boundary\": only select boundaries get traced\n",
    "        Outputs: \n",
    "            Data that can be used to plot phase diagram of network dynamics for select parameters \n",
    "        '''\n",
    "        #dictionary mapping inputs to index in params array\n",
    "        param_idx = {}\n",
    "        param_idx[\"n\"]    = 1\n",
    "        param_idx[\"delV\"] = 7\n",
    "        param_idx[\"delC\"] = 8\n",
    "        param_idx[\"g_v\"]  = 12\n",
    "        param_idx[\"g_c\"]  = 13\n",
    "        \n",
    "        #indices of chosen parameters in params array. idx1 refers to x axis parameter, idx2 to y axis\n",
    "        param_idx1 = param_idx[x_param]\n",
    "        param_idx2 = param_idx[y_param]\n",
    "        \n",
    "        x_space = np.arange(x_min, x_max, x_step)\n",
    "        y_space = np.arange(y_min, y_max, y_step)\n",
    "        \n",
    "        #import pdb; pdb.set_trace()\n",
    "        \n",
    "        if tracing == \"full\":\n",
    "            return self.full_space_phase(param_idx1, param_idx2, x_space, y_space, connectivity, activation)\n",
    "        elif tracing == \"boundary\":\n",
    "            return self.boundary_trace_phase(param_idx1, param_idx2, x_space, y_space, connectivity, activation)\n",
    "        \n",
    "    def full_space_phase(self, param_idx1, param_idx2, x_space, y_space, connectivity, activation):\n",
    "        x_len = len(x_space)\n",
    "        y_len = len(y_space)\n",
    "        phase = np.zeros((y_len, x_len))\n",
    "        \n",
    "        for i in reversed(range(y_len)):\n",
    "            self.M = self.M_init\n",
    "            self.l = self.l_init\n",
    "            \n",
    "            #assumed that y index will refer to neurons\n",
    "            self.params[param_idx2] = self.n_init\n",
    "            self.n = self.n_init\n",
    "            \n",
    "            if (self.n - y_space[i]) > 0:\n",
    "                self.kill_neuron2(self.n - y_space[i])\n",
    "                \n",
    "            for j in range(x_len):\n",
    "                #import pdb; pdb.set_trace()\n",
    "                self.params[param_idx1] = x_space[j]\n",
    "                C,V,c_arr,v_arr,sump = self.simdyn(self.M, self.l, self.params, connectivity, activation)\n",
    "                check = classify2(V, self.params)\n",
    "                phase[i,j] = check\n",
    "                \n",
    "            print(\"Visited n = {}\".format(i))\n",
    "            \n",
    "        print(\"loop complete\")\n",
    "        \n",
    "        return phase\n",
    "    \n",
    "    def boundary_trace_phase(self, param_idx1, param_idx2, x_space, y_space, connectivity, activation):\n",
    "        x_len = len(x_space)\n",
    "        y_len = len(y_space)\n",
    "        phase = {}\n",
    "        \n",
    "        for i in range(x_len):\n",
    "            self.M = self.M_init\n",
    "            self.l = self.l_init\n",
    "            self.params[param_idx2] = self.n_init\n",
    "            self.params[param_idx1] = x_space[i]\n",
    "            \n",
    "            C,V,c_arr,v_arr,sump = self.simdyn(self.M, self.l, self.params, connectivity, activation)\n",
    "            check = classify(V, self.params)\n",
    "            \n",
    "            for j in reversed(range(y_len)):\n",
    "                self.kill_neuron2(self.n - y_space[j])\n",
    "                C,V,c_arr,v_arr,sump = self.simdyn(self.M, self.l, self.params, connectivity, activation)\n",
    "                check2 = classify(V, self.params)\n",
    "                \n",
    "                if check2 != check: \n",
    "                    if \"{}_{}\".format(check,check2) not in phase:\n",
    "                        phase[\"{}_{}\".format(check,check2)] = [[network.params[param_idx2]],\n",
    "                                                               [network.params[param_idx2]]]\n",
    "                    else:\n",
    "                        phase[\"{}_{}\".format(check,check2)][0].append(network.params[param_idx2])\n",
    "                        phase[\"{}_{}\".format(check,check2)][1].append(network.params[param_idx1])\n",
    "                    break\n",
    "                    \n",
    "            print(\"Visited n = {}, delV = {}\".format(params[param_idx2], params[param_idx1]))\n",
    "            \n",
    "        print(\"loop complete\")\n",
    "        \n",
    "        return phase"
   ]
  },
  {
   "cell_type": "code",
   "execution_count": 12,
   "metadata": {},
   "outputs": [
    {
     "ename": "NameError",
     "evalue": "name 'self' is not defined",
     "output_type": "error",
     "traceback": [
      "\u001b[0;31m---------------------------------------------------------------------------\u001b[0m",
      "\u001b[0;31mNameError\u001b[0m                                 Traceback (most recent call last)",
      "\u001b[0;32m<ipython-input-12-330f35bc151c>\u001b[0m in \u001b[0;36m<module>\u001b[0;34m\u001b[0m\n\u001b[1;32m      1\u001b[0m \u001b[0;31m# Incomplete functions that would be nice to have in the class.\u001b[0m\u001b[0;34m\u001b[0m\u001b[0;34m\u001b[0m\u001b[0m\n\u001b[0;32m----> 2\u001b[0;31m \u001b[0;32mdef\u001b[0m \u001b[0mreset\u001b[0m\u001b[0;34m(\u001b[0m\u001b[0mself\u001b[0m\u001b[0;34m,\u001b[0m \u001b[0mdelV\u001b[0m\u001b[0;34m=\u001b[0m\u001b[0mself\u001b[0m\u001b[0;34m.\u001b[0m\u001b[0mparams\u001b[0m\u001b[0;34m[\u001b[0m\u001b[0;36m7\u001b[0m\u001b[0;34m]\u001b[0m\u001b[0;34m,\u001b[0m \u001b[0mdelC\u001b[0m\u001b[0;34m=\u001b[0m\u001b[0mself\u001b[0m\u001b[0;34m.\u001b[0m\u001b[0mparams\u001b[0m\u001b[0;34m[\u001b[0m\u001b[0;36m8\u001b[0m\u001b[0;34m]\u001b[0m\u001b[0;34m)\u001b[0m\u001b[0;34m:\u001b[0m\u001b[0;34m\u001b[0m\u001b[0m\n\u001b[0m\u001b[1;32m      3\u001b[0m     '''\n\u001b[1;32m      4\u001b[0m     \u001b[0mFunction\u001b[0m \u001b[0mreset\u001b[0m\u001b[0;34m:\u001b[0m \u001b[0mresets\u001b[0m \u001b[0mnetwork\u001b[0m \u001b[0;32mand\u001b[0m \u001b[0mparameters\u001b[0m \u001b[0mto\u001b[0m \u001b[0moriginal\u001b[0m \u001b[0msize\u001b[0m\u001b[0;34m\u001b[0m\u001b[0m\n\u001b[1;32m      5\u001b[0m \u001b[0;34m\u001b[0m\u001b[0m\n",
      "\u001b[0;31mNameError\u001b[0m: name 'self' is not defined"
     ]
    }
   ],
   "source": [
    "# Incomplete functions that would be nice to have in the class. \n",
    "def reset(self, delV=self.params[7], delC=self.params[8]):\n",
    "    '''\n",
    "    Function reset: resets network and parameters to original size\n",
    "\n",
    "    Optional Inputs:\n",
    "        delV: New delV value to be set for network\n",
    "        delC: New delC value to be set for network\n",
    "\n",
    "    '''\n",
    "    self.delV = delV\n",
    "    self.params[7] = delV\n",
    "    self.delC = delC\n",
    "    self.params[8] = delC\n",
    "\n",
    "    self.M = self.M_init\n",
    "    self.l = self.l_init\n",
    "    self.n = len(self.M_init)\n",
    "    self.params[1] = self.n"
   ]
  },
  {
   "cell_type": "markdown",
   "metadata": {},
   "source": [
    "### Simulation of network dynamics for select parameters"
   ]
  },
  {
   "cell_type": "code",
   "execution_count": 465,
   "metadata": {},
   "outputs": [],
   "source": [
    "# Setup simulation parameters \n",
    "n = 100\n",
    "p = 1\n",
    "M = getRandomConnectivity(n, p)\n",
    "l = matrixOfEdges(M, n)"
   ]
  },
  {
   "cell_type": "code",
   "execution_count": 11,
   "metadata": {},
   "outputs": [],
   "source": [
    "#mean field step function limit\n",
    "N = 10000 #15000\n",
    "dt = 0.001\n",
    "T = zeros(N)\n",
    "for i in range(N):\n",
    "    T[i] = i*dt\n",
    "\n",
    "tauv=0.01 #0.01\n",
    "tauc=0.5 #0.5\n",
    "Vstar=15 #Constant (according to experiments) 15\n",
    "Cstar=20 #20\n",
    "V0=18 #18\n",
    "C0=18 #18\n",
    "\n",
    "delV= 8. #1.\n",
    "delVmin = delV/3 #delV/3\n",
    "delC= 0.035 #0.01\n",
    "r_1= 70*99/(n-1)#Max Firing rate is r_1 + r_0 70\n",
    "r_0 = 5*99/(n-1) #Min firing rate 5\n",
    "\n",
    "g_v = 5\n",
    "g_c = 5\n",
    "\n",
    "params = np.zeros(15)\n",
    "\n",
    "params[0] = int(N)\n",
    "params[1] = int(n)\n",
    "params[2] = dt\n",
    "params[3] = tauv\n",
    "params[4] = tauc\n",
    "params[5] = Vstar\n",
    "params[6] = Cstar\n",
    "params[7] = delV\n",
    "params[8] = delC\n",
    "params[9] = r_1\n",
    "params[10] = V0\n",
    "params[11] = C0\n",
    "params[12] = g_v\n",
    "params[13] = g_c\n",
    "params[14] = r_0\n",
    "\n",
    "network = Network(M, l, params)\n",
    "\n",
    "\n",
    "C,V,f = network.simdyn(network.M, network.l, network.params, connectivity=\"mean field\", activation=\"step\")"
   ]
  },
  {
   "cell_type": "code",
   "execution_count": 469,
   "metadata": {},
   "outputs": [],
   "source": [
    "# Setup simulation parameters \n",
    "n = 100\n",
    "p = 1\n",
    "M = getRandomConnectivity(n, p)\n",
    "l = matrixOfEdges(M, n)"
   ]
  },
  {
   "cell_type": "code",
   "execution_count": 476,
   "metadata": {},
   "outputs": [],
   "source": [
    "#Heterogeneous sigmoid \n",
    "N = 10000 #15000\n",
    "dt = 0.001\n",
    "T = zeros(N)\n",
    "for i in range(N):\n",
    "    T[i] = i*dt\n",
    "\n",
    "tauv=0.01 #0.01\n",
    "tauc=0.5 #0.5\n",
    "Vstar=15 #Constant (according to experiments) 15\n",
    "Cstar=20 #20\n",
    "V0=18 #18\n",
    "C0=18 #18\n",
    "\n",
    "delV= 7. #1.\n",
    "delVmin = delV/3 #delV/3\n",
    "delC= 0.025 #0.01\n",
    "r_1= 70#*99/(n-1)#Max Firing rate is r_1 + r_0 70\n",
    "r_0 = 5#*99/(n-1) #Min firing rate 5\n",
    "\n",
    "g_v = 5\n",
    "g_c = 5\n",
    "\n",
    "params = np.zeros(15)\n",
    "\n",
    "params[0] = int(N)\n",
    "params[1] = int(n)\n",
    "params[2] = dt\n",
    "params[3] = tauv\n",
    "params[4] = tauc\n",
    "params[5] = Vstar\n",
    "params[6] = Cstar\n",
    "params[7] = delV\n",
    "params[8] = delC\n",
    "params[9] = r_1\n",
    "params[10] = V0\n",
    "params[11] = C0\n",
    "params[12] = g_v\n",
    "params[13] = g_c\n",
    "params[14] = r_0\n",
    "\n",
    "network = Network(M, l, params)\n",
    "\n",
    "avC,avV,C,V,sump = network.simdyn(network.M, network.l, network.params, connectivity=\"heterogeneous\", activation=\"sigmoid\")"
   ]
  },
  {
   "cell_type": "code",
   "execution_count": 37,
   "metadata": {},
   "outputs": [
    {
     "data": {
      "text/plain": [
       "array([ 2.4715868 , 30.29399066, 35.68310282, 38.65606584,  2.92852859,\n",
       "       39.93949627, 31.81629863, 15.21494473,  6.93634071, 12.29306525,\n",
       "        9.92702531, 13.38448508,  2.25647126, 23.36626678,  2.47562946])"
      ]
     },
     "execution_count": 37,
     "metadata": {},
     "output_type": "execute_result"
    }
   ],
   "source": [
    "V[-1]"
   ]
  },
  {
   "cell_type": "code",
   "execution_count": 477,
   "metadata": {},
   "outputs": [
    {
     "name": "stdout",
     "output_type": "stream",
     "text": [
      "2\n"
     ]
    },
    {
     "data": {
      "text/plain": [
       "Text(0, 0.5, 'V')"
      ]
     },
     "execution_count": 477,
     "metadata": {},
     "output_type": "execute_result"
    },
    {
     "data": {
      "image/png": "[encoded data removed]",
      "text/plain": [
       "<Figure size 432x288 with 1 Axes>"
      ]
     },
     "metadata": {
      "needs_background": "light"
     },
     "output_type": "display_data"
    }
   ],
   "source": [
    "print(classifier(avV, 1/dt, 0.1)) #0 is chaos, 1 is SO, 2 is FP, -1 is error\n",
    "plot(avC[:],avV[:])\n",
    "title(classify(avV,params))\n",
    "xlabel(\"C\")\n",
    "ylabel(\"V\")"
   ]
  },
  {
   "cell_type": "markdown",
   "metadata": {},
   "source": [
    "# Phase Diagrams\n",
    "\n",
    "Phase Diagrams for network dynamics exist in two flavors: \n",
    "1. Boundary Tracing\n",
    "    - Optimal for getting a rough sketch of phase boundary. \n",
    "    - Sensitive to unexpected behavior of heterogeneously connected network.\n",
    "2. Color mapping \n",
    "    - Optimal for completely mapping out phase space of possible dynamics.\n",
    "    - Slower. Not all of the phase space is interesting. "
   ]
  },
  {
   "cell_type": "markdown",
   "metadata": {},
   "source": [
    "### Phase Dagram Functions test"
   ]
  },
  {
   "cell_type": "code",
   "execution_count": 45,
   "metadata": {},
   "outputs": [],
   "source": [
    "n = 100\n",
    "p = 3/4 #1/6\n",
    "M = getRandomConnectivity(n, p)\n",
    "l = matrixOfEdges(M, n)"
   ]
  },
  {
   "cell_type": "code",
   "execution_count": null,
   "metadata": {
    "scrolled": true
   },
   "outputs": [
    {
     "name": "stdout",
     "output_type": "stream",
     "text": [
      "Visited n = 2.0, delV = 0.1\n",
      "Visited n = 2.0, delV = 0.2\n",
      "Visited n = 2.0, delV = 0.30000000000000004\n",
      "Visited n = 2.0, delV = 0.4\n",
      "Visited n = 2.0, delV = 0.5\n",
      "Visited n = 2.0, delV = 0.6\n",
      "Visited n = 2.0, delV = 0.7000000000000001\n",
      "Visited n = 2.0, delV = 0.8\n",
      "Visited n = 2.0, delV = 0.9\n",
      "Visited n = 2.0, delV = 1.0\n",
      "Visited n = 2.0, delV = 1.1\n",
      "Visited n = 2.0, delV = 1.2000000000000002\n",
      "Visited n = 2.0, delV = 1.3000000000000003\n",
      "Visited n = 71.0, delV = 1.4000000000000001\n",
      "Visited n = 81.0, delV = 1.5000000000000002\n",
      "Visited n = 87.0, delV = 1.6\n",
      "Visited n = 91.0, delV = 1.7000000000000002\n",
      "Visited n = 95.0, delV = 1.8000000000000003\n",
      "Visited n = 98.0, delV = 1.9000000000000001\n",
      "Visited n = 33.0, delV = 2.0\n",
      "Visited n = 31.0, delV = 2.1\n",
      "Visited n = 30.0, delV = 2.2\n",
      "Visited n = 28.0, delV = 2.3000000000000003\n",
      "Visited n = 27.0, delV = 2.4000000000000004\n",
      "Visited n = 26.0, delV = 2.5000000000000004\n",
      "Visited n = 25.0, delV = 2.6\n",
      "Visited n = 24.0, delV = 2.7\n",
      "Visited n = 23.0, delV = 2.8000000000000003\n",
      "Visited n = 22.0, delV = 2.9000000000000004\n",
      "Visited n = 21.0, delV = 3.0000000000000004\n",
      "Visited n = 20.0, delV = 3.1\n",
      "Visited n = 20.0, delV = 3.2\n",
      "Visited n = 27.0, delV = 3.3000000000000003\n",
      "Visited n = 28.0, delV = 3.4000000000000004\n",
      "Visited n = 30.0, delV = 3.5000000000000004\n",
      "Visited n = 31.0, delV = 3.6\n",
      "Visited n = 32.0, delV = 3.7\n",
      "Visited n = 33.0, delV = 3.8000000000000003\n",
      "Visited n = 34.0, delV = 3.9000000000000004\n",
      "Visited n = 36.0, delV = 4.0\n",
      "Visited n = 37.0, delV = 4.1\n",
      "Visited n = 37.0, delV = 4.2\n",
      "Visited n = 38.0, delV = 4.3\n",
      "Visited n = 39.0, delV = 4.3999999999999995\n",
      "Visited n = 39.0, delV = 4.5\n",
      "Visited n = 41.0, delV = 4.6\n",
      "Visited n = 41.0, delV = 4.7\n",
      "Visited n = 41.0, delV = 4.8\n",
      "Visited n = 42.0, delV = 4.9\n",
      "Visited n = 42.0, delV = 5.0\n",
      "Visited n = 44.0, delV = 5.1\n",
      "Visited n = 44.0, delV = 5.2\n",
      "Visited n = 45.0, delV = 5.3\n",
      "Visited n = 45.0, delV = 5.4\n",
      "Visited n = 45.0, delV = 5.5\n",
      "Visited n = 45.0, delV = 5.6\n",
      "Visited n = 46.0, delV = 5.7\n",
      "Visited n = 47.0, delV = 5.8\n"
     ]
    }
   ],
   "source": [
    "N=10000\n",
    "dt=0.01 #0.001\n",
    "T=zeros(N)\n",
    "for i in range(N):\n",
    "    T[i]=i*dt\n",
    "\n",
    "\n",
    "M_prime = copy.deepcopy(M)\n",
    "l_prime = copy.deepcopy(l)\n",
    "#curr_n = n #Current number of neurons in network \n",
    "to_cull = 0\n",
    "\n",
    "tauv=0.01 #0.01\n",
    "tauc=0.5 #0.5\n",
    "Vstar=15 #Constant (according to experiments) 15\n",
    "Cstar=20 #20\n",
    "V0=18 #18\n",
    "C0=18 #18\n",
    "\n",
    "delV= 1. #1.\n",
    "delVmin = delV/3 #delV/3\n",
    "delC= 0.035 #0.115\n",
    "r_1= 70*99/(n-1)#Max Firing rate is r_1 + r_0 70\n",
    "r_0 = 5*99/(n-1) #Min firing rate 5\n",
    "\n",
    "g_v = 5 #3\n",
    "g_c = 5 #3\n",
    "\n",
    "params = np.zeros(15)\n",
    "\n",
    "params[0] = int(N)\n",
    "params[1] = int(n)\n",
    "params[2] = dt\n",
    "params[3] = tauv\n",
    "params[4] = tauc\n",
    "params[5] = Vstar\n",
    "params[6] = Cstar\n",
    "params[7] = delV\n",
    "params[8] = delC\n",
    "params[9] = r_1\n",
    "params[10] = V0\n",
    "params[11] = C0\n",
    "params[12] = g_v\n",
    "params[13] = g_c\n",
    "params[14] = r_0\n",
    "\n",
    "delVmin = 0.1\n",
    "delVmax = 25.\n",
    "dV = 0.1\n",
    "nmin = 2\n",
    "nmax = 101\n",
    "dn = 1\n",
    "\n",
    "network = Network(M, l, params)\n",
    "\n",
    "phase = network.phase_diagram(\"delV\", \"n\", delVmin, delVmax, dV, nmin, nmax, dn, \n",
    "                              \"boundary\", \"heterogeneous\", \"sigmoid\")"
   ]
  },
  {
   "cell_type": "code",
   "execution_count": 44,
   "metadata": {},
   "outputs": [
    {
     "data": {
      "text/plain": [
       "Text(0, 0.5, 'Number of Neurons, $n$')"
      ]
     },
     "execution_count": 44,
     "metadata": {},
     "output_type": "execute_result"
    },
    {
     "data": {
      "image/png": "[encoded data removed]",
      "text/plain": [
       "<Figure size 432x288 with 1 Axes>"
      ]
     },
     "metadata": {
      "needs_background": "light"
     },
     "output_type": "display_data"
    }
   ],
   "source": [
    "for i in phase:\n",
    "    plt.plot(phase[i][1], phase[i][0])\n",
    "xlabel(r\"$\\Delta V$\")\n",
    "ylabel(\"Number of Neurons, $n$\")"
   ]
  },
  {
   "cell_type": "code",
   "execution_count": 31,
   "metadata": {},
   "outputs": [
    {
     "data": {
      "text/plain": [
       "Text(0, 0.5, 'Neuron Count, $N$')"
      ]
     },
     "execution_count": 31,
     "metadata": {},
     "output_type": "execute_result"
    },
    {
     "data": {
      "image/png": "[encoded data removed]",
      "text/plain": [
       "<Figure size 432x288 with 1 Axes>"
      ]
     },
     "metadata": {
      "needs_background": "light"
     },
     "output_type": "display_data"
    }
   ],
   "source": [
    "cmap = plt.cm.viridis\n",
    "data = np.flip(phase, axis=0)\n",
    "norm = plt.Normalize(vmin = data.min(), vmax = data.max())\n",
    "img = cmap(norm(data))\n",
    "#imshow(img, aspect='auto', extent=[V_space[0],V_space[-1],n_space[0],n_space[-1]])\n",
    "imshow(img, aspect='auto', extent=[0.1,24.9,2,100])\n",
    "plt.title(\"delC = {:.3f}, p = {:.3f}\".format(delC, p))\n",
    "#plt.hlines(np.array(kcore_transition), 1, 24, linestyles='solid', linewidths=0.75, colors='k')\n",
    "xlabel(r\"$\\Delta V$\")\n",
    "ylabel(r\"Neuron Count, $N$\")"
   ]
  },
  {
   "cell_type": "markdown",
   "metadata": {},
   "source": [
    "### Heterogeneous connectivity, Sigmoid activation, Color Mapping"
   ]
  },
  {
   "cell_type": "code",
   "execution_count": 8,
   "metadata": {},
   "outputs": [],
   "source": [
    "n = 100\n",
    "p = 1/6\n",
    "M = getRandomConnectivity(n, p)\n",
    "l = matrixOfEdges(M, n)"
   ]
  },
  {
   "cell_type": "code",
   "execution_count": 38,
   "metadata": {
    "scrolled": true
   },
   "outputs": [
    {
     "name": "stdout",
     "output_type": "stream",
     "text": [
      "Visited n = 98\n",
      "Visited n = 97\n",
      "Visited n = 96\n",
      "Visited n = 95\n",
      "Visited n = 94\n",
      "Visited n = 93\n",
      "Visited n = 92\n",
      "Visited n = 91\n",
      "Visited n = 90\n",
      "Visited n = 89\n",
      "Visited n = 88\n",
      "Visited n = 87\n",
      "Visited n = 86\n",
      "Visited n = 85\n",
      "Visited n = 84\n",
      "Visited n = 83\n",
      "Visited n = 82\n",
      "Visited n = 81\n",
      "Visited n = 80\n",
      "Visited n = 79\n",
      "Visited n = 78\n",
      "Visited n = 77\n",
      "Visited n = 76\n",
      "Visited n = 75\n",
      "Visited n = 74\n",
      "Visited n = 73\n",
      "Visited n = 72\n",
      "Visited n = 71\n",
      "Visited n = 70\n",
      "Visited n = 69\n",
      "Visited n = 68\n",
      "Visited n = 67\n",
      "Visited n = 66\n",
      "Visited n = 65\n",
      "Visited n = 64\n",
      "Visited n = 63\n",
      "Visited n = 62\n",
      "Visited n = 61\n",
      "Visited n = 60\n",
      "Visited n = 59\n",
      "Visited n = 58\n",
      "Visited n = 57\n",
      "Visited n = 56\n",
      "Visited n = 55\n",
      "Visited n = 54\n",
      "Visited n = 53\n",
      "Visited n = 52\n",
      "Visited n = 51\n",
      "Visited n = 50\n",
      "Visited n = 49\n",
      "Visited n = 48\n",
      "Visited n = 47\n",
      "Visited n = 46\n",
      "Visited n = 45\n",
      "Visited n = 44\n",
      "Visited n = 43\n",
      "Visited n = 42\n",
      "Visited n = 41\n",
      "Visited n = 40\n",
      "Visited n = 39\n",
      "Visited n = 38\n",
      "Visited n = 37\n",
      "Visited n = 36\n",
      "Visited n = 35\n",
      "Visited n = 34\n",
      "Visited n = 33\n",
      "Visited n = 32\n",
      "Visited n = 31\n",
      "Visited n = 30\n",
      "Visited n = 29\n",
      "Visited n = 28\n",
      "Visited n = 27\n",
      "Visited n = 26\n",
      "Visited n = 25\n",
      "Visited n = 24\n",
      "Visited n = 23\n",
      "Visited n = 22\n",
      "Visited n = 21\n",
      "Visited n = 20\n",
      "Visited n = 19\n",
      "Visited n = 18\n",
      "Visited n = 17\n",
      "Visited n = 16\n",
      "Visited n = 15\n",
      "Visited n = 14\n",
      "Visited n = 13\n",
      "Visited n = 12\n",
      "Visited n = 11\n",
      "Visited n = 10\n",
      "Visited n = 9\n",
      "Visited n = 8\n",
      "Visited n = 7\n",
      "Visited n = 6\n",
      "Visited n = 5\n",
      "Visited n = 4\n",
      "Visited n = 3\n",
      "Visited n = 2\n",
      "Visited n = 1\n",
      "Visited n = 0\n",
      "loop complete\n"
     ]
    }
   ],
   "source": [
    "N=10000\n",
    "dt=0.01 #0.001\n",
    "T=zeros(N)\n",
    "for i in range(N):\n",
    "    T[i]=i*dt\n",
    "\n",
    "\n",
    "M_prime = copy.deepcopy(M)\n",
    "l_prime = copy.deepcopy(l)\n",
    "#curr_n = n #Current number of neurons in network \n",
    "to_cull = 0\n",
    "\n",
    "tauv=0.01 #0.01\n",
    "tauc=0.5 #0.5\n",
    "Vstar=15 #Constant (according to experiments) 15\n",
    "Cstar=20 #20\n",
    "V0=18 #18\n",
    "C0=18 #18\n",
    "\n",
    "delV= 1. #1.\n",
    "delVmin = delV/3 #delV/3\n",
    "delC= 0.115 #0.035\n",
    "r_1= 70*99/(n-1)#Max Firing rate is r_1 + r_0 70\n",
    "r_0 = 5*99/(n-1) #Min firing rate 5\n",
    "\n",
    "g_v = 3 #5\n",
    "g_c = 3 #5\n",
    "\n",
    "params = np.zeros(15)\n",
    "\n",
    "params[0] = int(N)\n",
    "params[1] = int(n)\n",
    "params[2] = dt\n",
    "params[3] = tauv\n",
    "params[4] = tauc\n",
    "params[5] = Vstar\n",
    "params[6] = Cstar\n",
    "params[7] = delV\n",
    "params[8] = delC\n",
    "params[9] = r_1\n",
    "params[10] = V0\n",
    "params[11] = C0\n",
    "params[12] = g_v\n",
    "params[13] = g_c\n",
    "params[14] = r_0\n",
    "\n",
    "dV = 0.1\n",
    "delVmax = 25.\n",
    "\n",
    "V_space = np.arange(delV, delVmax, dV)\n",
    "n_space = np.arange(2,n+1)\n",
    "\n",
    "phase = np.zeros((len(n_space), len(V_space)))\n",
    "\n",
    "network = Network(M, l, params)\n",
    "\n",
    "for i in reversed(range(len(n_space))):\n",
    "    network.M = network.M_init\n",
    "    network.l = network.l_init\n",
    "    network.params[1] = n\n",
    "    network.n = n\n",
    "    \n",
    "    if (network.n - n_space[i]) > 0:\n",
    "        #import pdb; pdb.set_trace()\n",
    "        network.kill_neuron2(network.n-n_space[i])\n",
    "    for j in range(len(V_space)):\n",
    "        #import pdb; pdb.set_trace()\n",
    "        network.params[7] = V_space[j]\n",
    "        C,V,c_arr,v_arr,sump = network.simdyn(network.M, network.l, network.params, connectivity=\"heterogeneous\",\n",
    "                                             activation=\"sigmoid\")\n",
    "        check = classify2(V,params)\n",
    "        phase[i,j] = check\n",
    "    print(\"Visited n = {}\".format(i))\n",
    "\n",
    "print('loop complete')\n"
   ]
  },
  {
   "cell_type": "raw",
   "metadata": {},
   "source": [
    "network.M = M\n",
    "network.l = l\n",
    "network.n = n\n",
    "k = largestkcore(network.M)\n",
    "kcore_transition = []\n",
    "for i in range(n-1):\n",
    "    network.kill_neuron2(1)\n",
    "    new_k = largestkcore(network.M)\n",
    "    if new_k != k:\n",
    "        kcore_transition.append(network.n + 1)\n",
    "        k = new_k"
   ]
  },
  {
   "cell_type": "code",
   "execution_count": 36,
   "metadata": {},
   "outputs": [
    {
     "data": {
      "text/plain": [
       "[99, 92, 83, 75, 63, 52, 48, 41, 36, 19, 4, 2]"
      ]
     },
     "execution_count": 36,
     "metadata": {},
     "output_type": "execute_result"
    }
   ],
   "source": [
    "kcore_transition"
   ]
  },
  {
   "cell_type": "code",
   "execution_count": 39,
   "metadata": {},
   "outputs": [
    {
     "data": {
      "text/plain": [
       "Text(0, 0.5, 'Neuron Count, $N$')"
      ]
     },
     "execution_count": 39,
     "metadata": {},
     "output_type": "execute_result"
    },
    {
     "data": {
      "image/png": "[encoded data removed]",
      "text/plain": [
       "<Figure size 432x288 with 1 Axes>"
      ]
     },
     "metadata": {
      "needs_background": "light"
     },
     "output_type": "display_data"
    }
   ],
   "source": [
    "cmap = plt.cm.viridis\n",
    "data = np.flip(phase, axis=0)\n",
    "norm = plt.Normalize(vmin = data.min(), vmax = data.max())\n",
    "img = cmap(norm(data))\n",
    "#imshow(img, aspect='auto', extent=[V_space[0],V_space[-1],n_space[0],n_space[-1]])\n",
    "imshow(img, aspect='auto', extent=[V_space[0],V_space[-1],n_space[0],n_space[-1]])\n",
    "plt.title(\"delC = {:.3f}, p = {:.3f}\".format(delC, p))\n",
    "#plt.hlines(np.array(kcore_transition), 1, 24, linestyles='solid', linewidths=0.75, colors='k')\n",
    "xlabel(r\"$\\Delta V$\")\n",
    "ylabel(r\"Neuron Count, $N$\")\n",
    "#plt.savefig(\"paper_figures/full_space_p_0167.png\",dpi=400)\n"
   ]
  },
  {
   "cell_type": "code",
   "execution_count": 12,
   "metadata": {},
   "outputs": [
    {
     "data": {
      "text/plain": [
       "array([[2., 2., 2., ..., 3., 3., 3.],\n",
       "       [2., 2., 2., ..., 3., 3., 3.],\n",
       "       [2., 2., 2., ..., 3., 3., 3.],\n",
       "       ...,\n",
       "       [2., 2., 2., ..., 2., 2., 2.],\n",
       "       [2., 2., 2., ..., 2., 2., 2.],\n",
       "       [2., 2., 2., ..., 2., 2., 2.]])"
      ]
     },
     "execution_count": 12,
     "metadata": {},
     "output_type": "execute_result"
    }
   ],
   "source": [
    "data"
   ]
  },
  {
   "cell_type": "markdown",
   "metadata": {},
   "source": [
    "### Heterogeneous connectivity, Sigmoid activation, Boundary Trace"
   ]
  },
  {
   "cell_type": "code",
   "execution_count": 1052,
   "metadata": {},
   "outputs": [],
   "source": [
    "n = 100\n",
    "p = 3/4\n",
    "M = getRandomConnectivity(n, p)\n",
    "l = matrixOfEdges(M, n)"
   ]
  },
  {
   "cell_type": "code",
   "execution_count": 1089,
   "metadata": {
    "scrolled": true
   },
   "outputs": [
    {
     "name": "stdout",
     "output_type": "stream",
     "text": [
      "Visited n = 2.0, delV = 1.0\n",
      "Visited n = 2.0, delV = 1.1\n",
      "Visited n = 2.0, delV = 1.2000000000000002\n",
      "Visited n = 2.0, delV = 1.3000000000000003\n",
      "Visited n = 73.0, delV = 1.4000000000000004\n",
      "Visited n = 82.0, delV = 1.5000000000000004\n",
      "Visited n = 88.0, delV = 1.6000000000000005\n",
      "Visited n = 92.0, delV = 1.7000000000000006\n",
      "Visited n = 96.0, delV = 1.8000000000000007\n",
      "Visited n = 99.0, delV = 1.9000000000000008\n",
      "Visited n = 33.0, delV = 2.000000000000001\n",
      "Visited n = 32.0, delV = 2.100000000000001\n",
      "Visited n = 30.0, delV = 2.200000000000001\n",
      "Visited n = 29.0, delV = 2.300000000000001\n",
      "Visited n = 27.0, delV = 2.4000000000000012\n",
      "Visited n = 26.0, delV = 2.5000000000000013\n",
      "Visited n = 25.0, delV = 2.6000000000000014\n",
      "Visited n = 24.0, delV = 2.7000000000000015\n",
      "Visited n = 23.0, delV = 2.8000000000000016\n",
      "Visited n = 23.0, delV = 2.9000000000000017\n",
      "Visited n = 22.0, delV = 3.0000000000000018\n",
      "Visited n = 21.0, delV = 3.100000000000002\n",
      "Visited n = 24.0, delV = 3.200000000000002\n",
      "Visited n = 27.0, delV = 3.300000000000002\n",
      "Visited n = 29.0, delV = 3.400000000000002\n",
      "Visited n = 30.0, delV = 3.500000000000002\n",
      "Visited n = 31.0, delV = 3.6000000000000023\n",
      "Visited n = 32.0, delV = 3.7000000000000024\n",
      "Visited n = 33.0, delV = 3.8000000000000025\n",
      "Visited n = 34.0, delV = 3.9000000000000026\n",
      "Visited n = 35.0, delV = 4.000000000000003\n",
      "Visited n = 35.0, delV = 4.100000000000003\n",
      "Visited n = 36.0, delV = 4.200000000000003\n",
      "Visited n = 37.0, delV = 4.3000000000000025\n",
      "Visited n = 37.0, delV = 4.400000000000003\n",
      "Visited n = 38.0, delV = 4.5000000000000036\n",
      "Visited n = 39.0, delV = 4.600000000000003\n",
      "Visited n = 39.0, delV = 4.700000000000003\n",
      "Visited n = 40.0, delV = 4.800000000000003\n",
      "Visited n = 40.0, delV = 4.900000000000004\n",
      "Visited n = 40.0, delV = 5.0000000000000036\n",
      "Visited n = 41.0, delV = 5.100000000000003\n",
      "Visited n = 41.0, delV = 5.200000000000004\n",
      "Visited n = 42.0, delV = 5.300000000000004\n",
      "Visited n = 42.0, delV = 5.400000000000004\n",
      "Visited n = 43.0, delV = 5.5000000000000036\n",
      "Visited n = 43.0, delV = 5.600000000000004\n",
      "Visited n = 43.0, delV = 5.700000000000005\n",
      "Visited n = 43.0, delV = 5.800000000000004\n",
      "Visited n = 44.0, delV = 5.900000000000004\n",
      "Visited n = 44.0, delV = 6.000000000000004\n",
      "Visited n = 44.0, delV = 6.100000000000005\n",
      "Visited n = 44.0, delV = 6.200000000000005\n",
      "Visited n = 44.0, delV = 6.300000000000004\n",
      "Visited n = 44.0, delV = 6.400000000000005\n",
      "Visited n = 44.0, delV = 6.500000000000005\n",
      "Visited n = 45.0, delV = 6.600000000000005\n",
      "Visited n = 46.0, delV = 6.700000000000005\n",
      "Visited n = 47.0, delV = 6.800000000000005\n",
      "Visited n = 47.0, delV = 6.900000000000006\n",
      "Visited n = 47.0, delV = 7.000000000000005\n",
      "Visited n = 47.0, delV = 7.100000000000005\n",
      "Visited n = 47.0, delV = 7.2000000000000055\n",
      "Visited n = 48.0, delV = 7.300000000000006\n",
      "Visited n = 48.0, delV = 7.400000000000006\n",
      "Visited n = 49.0, delV = 7.500000000000005\n",
      "Visited n = 49.0, delV = 7.600000000000006\n",
      "Visited n = 49.0, delV = 7.700000000000006\n",
      "Visited n = 49.0, delV = 7.800000000000006\n",
      "Visited n = 49.0, delV = 7.900000000000006\n",
      "Visited n = 49.0, delV = 8.000000000000007\n",
      "Visited n = 50.0, delV = 8.100000000000007\n",
      "Visited n = 50.0, delV = 8.200000000000006\n",
      "Visited n = 50.0, delV = 8.300000000000006\n",
      "Visited n = 50.0, delV = 8.400000000000006\n",
      "Visited n = 50.0, delV = 8.500000000000007\n",
      "Visited n = 50.0, delV = 8.600000000000007\n",
      "Visited n = 50.0, delV = 8.700000000000006\n",
      "Visited n = 50.0, delV = 8.800000000000008\n",
      "Visited n = 50.0, delV = 8.900000000000007\n",
      "Visited n = 50.0, delV = 9.000000000000007\n",
      "Visited n = 50.0, delV = 9.100000000000007\n",
      "Visited n = 50.0, delV = 9.200000000000006\n",
      "Visited n = 51.0, delV = 9.300000000000008\n",
      "Visited n = 51.0, delV = 9.400000000000007\n",
      "Visited n = 51.0, delV = 9.500000000000007\n",
      "Visited n = 51.0, delV = 9.600000000000009\n",
      "Visited n = 54.0, delV = 9.700000000000008\n",
      "Visited n = 54.0, delV = 9.800000000000008\n",
      "Visited n = 54.0, delV = 9.900000000000007\n",
      "Visited n = 54.0, delV = 10.000000000000007\n",
      "Visited n = 54.0, delV = 10.100000000000009\n",
      "Visited n = 55.0, delV = 10.200000000000008\n",
      "Visited n = 55.0, delV = 10.300000000000008\n",
      "Visited n = 55.0, delV = 10.40000000000001\n",
      "Visited n = 55.0, delV = 10.500000000000009\n",
      "Visited n = 56.0, delV = 10.600000000000009\n",
      "Visited n = 56.0, delV = 10.700000000000008\n",
      "Visited n = 56.0, delV = 10.800000000000008\n",
      "Visited n = 56.0, delV = 10.90000000000001\n",
      "Visited n = 57.0, delV = 11.000000000000009\n",
      "Visited n = 57.0, delV = 11.100000000000009\n",
      "Visited n = 57.0, delV = 11.20000000000001\n",
      "Visited n = 57.0, delV = 11.30000000000001\n",
      "Visited n = 64.0, delV = 11.40000000000001\n",
      "Visited n = 64.0, delV = 11.500000000000009\n",
      "Visited n = 64.0, delV = 11.600000000000009\n",
      "Visited n = 64.0, delV = 11.70000000000001\n",
      "Visited n = 64.0, delV = 11.80000000000001\n",
      "Visited n = 64.0, delV = 11.90000000000001\n",
      "Visited n = 64.0, delV = 12.00000000000001\n",
      "Visited n = 64.0, delV = 12.10000000000001\n",
      "Visited n = 64.0, delV = 12.20000000000001\n",
      "Visited n = 64.0, delV = 12.30000000000001\n",
      "Visited n = 64.0, delV = 12.40000000000001\n",
      "Visited n = 64.0, delV = 12.50000000000001\n",
      "Visited n = 64.0, delV = 12.60000000000001\n",
      "Visited n = 64.0, delV = 12.70000000000001\n",
      "Visited n = 64.0, delV = 12.800000000000011\n",
      "Visited n = 64.0, delV = 12.900000000000011\n",
      "Visited n = 64.0, delV = 13.00000000000001\n",
      "Visited n = 64.0, delV = 13.10000000000001\n",
      "Visited n = 64.0, delV = 13.20000000000001\n",
      "Visited n = 65.0, delV = 13.300000000000011\n",
      "Visited n = 65.0, delV = 13.400000000000011\n",
      "Visited n = 65.0, delV = 13.50000000000001\n",
      "Visited n = 65.0, delV = 13.600000000000012\n",
      "Visited n = 65.0, delV = 13.700000000000012\n",
      "Visited n = 65.0, delV = 13.800000000000011\n",
      "Visited n = 65.0, delV = 13.900000000000011\n",
      "Visited n = 65.0, delV = 14.00000000000001\n",
      "Visited n = 65.0, delV = 14.100000000000012\n",
      "Visited n = 65.0, delV = 14.200000000000012\n",
      "Visited n = 65.0, delV = 14.300000000000011\n",
      "Visited n = 65.0, delV = 14.400000000000013\n",
      "Visited n = 65.0, delV = 14.500000000000012\n",
      "Visited n = 65.0, delV = 14.600000000000012\n",
      "Visited n = 65.0, delV = 14.700000000000012\n",
      "Visited n = 66.0, delV = 14.800000000000011\n",
      "Visited n = 66.0, delV = 14.900000000000013\n",
      "Visited n = 66.0, delV = 15.000000000000012\n",
      "Visited n = 66.0, delV = 15.100000000000012\n",
      "Visited n = 66.0, delV = 15.200000000000014\n",
      "Visited n = 66.0, delV = 15.300000000000013\n",
      "Visited n = 66.0, delV = 15.400000000000013\n",
      "Visited n = 66.0, delV = 15.500000000000012\n",
      "Visited n = 66.0, delV = 15.600000000000012\n",
      "Visited n = 66.0, delV = 15.700000000000014\n",
      "Visited n = 66.0, delV = 15.800000000000013\n",
      "Visited n = 66.0, delV = 15.900000000000013\n",
      "Visited n = 66.0, delV = 16.000000000000014\n",
      "Visited n = 66.0, delV = 16.100000000000016\n",
      "Visited n = 66.0, delV = 16.200000000000014\n",
      "Visited n = 66.0, delV = 16.30000000000001\n",
      "Visited n = 66.0, delV = 16.400000000000013\n",
      "Visited n = 70.0, delV = 16.500000000000014\n",
      "Visited n = 70.0, delV = 16.600000000000016\n",
      "Visited n = 70.0, delV = 16.700000000000014\n",
      "Visited n = 71.0, delV = 16.800000000000015\n",
      "Visited n = 71.0, delV = 16.900000000000013\n",
      "Visited n = 71.0, delV = 17.000000000000014\n",
      "Visited n = 71.0, delV = 17.100000000000016\n",
      "Visited n = 71.0, delV = 17.200000000000014\n",
      "Visited n = 71.0, delV = 17.300000000000015\n",
      "Visited n = 76.0, delV = 17.400000000000013\n",
      "Visited n = 76.0, delV = 17.500000000000014\n",
      "Visited n = 76.0, delV = 17.600000000000016\n",
      "Visited n = 76.0, delV = 17.700000000000014\n",
      "Visited n = 76.0, delV = 17.800000000000015\n",
      "Visited n = 76.0, delV = 17.900000000000016\n",
      "Visited n = 77.0, delV = 18.000000000000014\n",
      "Visited n = 77.0, delV = 18.100000000000016\n",
      "Visited n = 77.0, delV = 18.200000000000017\n",
      "Visited n = 77.0, delV = 18.300000000000015\n",
      "Visited n = 77.0, delV = 18.400000000000016\n",
      "Visited n = 77.0, delV = 18.500000000000014\n",
      "Visited n = 77.0, delV = 18.600000000000016\n",
      "Visited n = 77.0, delV = 18.700000000000017\n",
      "Visited n = 77.0, delV = 18.800000000000015\n",
      "Visited n = 77.0, delV = 18.900000000000016\n",
      "Visited n = 77.0, delV = 19.000000000000014\n",
      "Visited n = 77.0, delV = 19.100000000000016\n",
      "Visited n = 77.0, delV = 19.200000000000017\n",
      "Visited n = 77.0, delV = 19.300000000000015\n",
      "Visited n = 77.0, delV = 19.400000000000016\n",
      "Visited n = 77.0, delV = 19.500000000000018\n",
      "Visited n = 77.0, delV = 19.600000000000016\n",
      "Visited n = 77.0, delV = 19.700000000000017\n",
      "Visited n = 77.0, delV = 19.80000000000002\n"
     ]
    },
    {
     "name": "stdout",
     "output_type": "stream",
     "text": [
      "Visited n = 77.0, delV = 19.900000000000016\n",
      "Visited n = 77.0, delV = 20.000000000000018\n",
      "Visited n = 77.0, delV = 20.100000000000016\n",
      "Visited n = 77.0, delV = 20.200000000000017\n",
      "Visited n = 77.0, delV = 20.30000000000002\n",
      "Visited n = 79.0, delV = 20.400000000000016\n",
      "Visited n = 79.0, delV = 20.500000000000018\n",
      "Visited n = 79.0, delV = 20.600000000000016\n",
      "Visited n = 79.0, delV = 20.700000000000017\n",
      "Visited n = 79.0, delV = 20.80000000000002\n",
      "Visited n = 79.0, delV = 20.900000000000016\n",
      "Visited n = 79.0, delV = 21.000000000000018\n",
      "Visited n = 79.0, delV = 21.10000000000002\n",
      "Visited n = 79.0, delV = 21.200000000000017\n",
      "Visited n = 79.0, delV = 21.30000000000002\n",
      "Visited n = 79.0, delV = 21.40000000000002\n",
      "Visited n = 79.0, delV = 21.500000000000018\n",
      "Visited n = 79.0, delV = 21.60000000000002\n",
      "Visited n = 79.0, delV = 21.700000000000017\n",
      "Visited n = 79.0, delV = 21.80000000000002\n",
      "Visited n = 79.0, delV = 21.90000000000002\n",
      "Visited n = 79.0, delV = 22.000000000000018\n",
      "Visited n = 79.0, delV = 22.10000000000002\n",
      "Visited n = 79.0, delV = 22.200000000000017\n",
      "Visited n = 79.0, delV = 22.30000000000002\n",
      "Visited n = 79.0, delV = 22.40000000000002\n",
      "Visited n = 79.0, delV = 22.500000000000018\n",
      "Visited n = 79.0, delV = 22.60000000000002\n",
      "Visited n = 79.0, delV = 22.70000000000002\n",
      "Visited n = 79.0, delV = 22.80000000000002\n",
      "Visited n = 79.0, delV = 22.90000000000002\n",
      "Visited n = 79.0, delV = 23.00000000000002\n",
      "Visited n = 79.0, delV = 23.10000000000002\n",
      "Visited n = 79.0, delV = 23.20000000000002\n",
      "Visited n = 79.0, delV = 23.30000000000002\n",
      "Visited n = 79.0, delV = 23.40000000000002\n",
      "Visited n = 79.0, delV = 23.50000000000002\n",
      "Visited n = 79.0, delV = 23.60000000000002\n",
      "Visited n = 79.0, delV = 23.70000000000002\n",
      "Visited n = 79.0, delV = 23.80000000000002\n",
      "Visited n = 81.0, delV = 23.90000000000002\n",
      "Visited n = 81.0, delV = 24.00000000000002\n",
      "Visited n = 81.0, delV = 24.10000000000002\n",
      "Visited n = 81.0, delV = 24.20000000000002\n",
      "Visited n = 82.0, delV = 24.300000000000022\n",
      "Visited n = 82.0, delV = 24.40000000000002\n",
      "Visited n = 82.0, delV = 24.50000000000002\n",
      "Visited n = 82.0, delV = 24.600000000000023\n",
      "Visited n = 82.0, delV = 24.70000000000002\n",
      "Visited n = 82.0, delV = 24.800000000000022\n",
      "Visited n = 82.0, delV = 24.90000000000002\n",
      "loop complete\n"
     ]
    }
   ],
   "source": [
    "N=10000\n",
    "dt=0.01 #0.001\n",
    "T=zeros(N)\n",
    "for i in range(N):\n",
    "    T[i]=i*dt\n",
    "\n",
    "\n",
    "M_prime = copy.deepcopy(M)\n",
    "l_prime = copy.deepcopy(l)\n",
    "#curr_n = n #Current number of neurons in network \n",
    "to_cull = 0\n",
    "\n",
    "tauv=0.01 #0.01\n",
    "tauc=0.5 #0.5\n",
    "Vstar=15 #Constant (according to experiments) 15\n",
    "Cstar=20 #20\n",
    "V0=18 #18\n",
    "C0=18 #18\n",
    "\n",
    "delV= 1. #1.\n",
    "delVmin = delV/3 #delV/3\n",
    "delC= 0.035 #0.03\n",
    "r_1= 70*99/(n-1)#Max Firing rate is r_1 + r_0 70\n",
    "r_0 = 5*99/(n-1) #Min firing rate 5\n",
    "\n",
    "g_v = 5\n",
    "g_c = 5\n",
    "\n",
    "params = np.zeros(15)\n",
    "\n",
    "params[0] = int(N)\n",
    "params[1] = int(n)\n",
    "params[2] = dt\n",
    "params[3] = tauv\n",
    "params[4] = tauc\n",
    "params[5] = Vstar\n",
    "params[6] = Cstar\n",
    "params[7] = delV\n",
    "params[8] = delC\n",
    "params[9] = r_1\n",
    "params[10] = V0\n",
    "params[11] = C0\n",
    "params[12] = g_v\n",
    "params[13] = g_c\n",
    "params[14] = r_0\n",
    "\n",
    "dV = 0.1\n",
    "delVmax = 25.\n",
    "\n",
    "V_space = np.arange(delV, delVmax, dV)\n",
    "n_space = np.arange(2,n+1)\n",
    "\n",
    "phase = {}\n",
    "\n",
    "network = Network(M, l, params)\n",
    "\n",
    "for i in range(len(V_space)):\n",
    "    network.M = network.M_init\n",
    "    network.l = network.l_init\n",
    "    network.params[1] = n\n",
    "    network.params[7] = V_space[i]\n",
    "    network.n = n\n",
    "    \n",
    "    C,V,c_arr,v_arr,sump = network.simdyn(network.M, network.l, network.params, connectivity=\"heterogeneous\", \n",
    "                                          activation=\"sigmoid\")\n",
    "    check = classify(V,network.params)\n",
    "    \n",
    "    for j in reversed(range(len(n_space))):\n",
    "        network.kill_neuron2(network.n - n_space[j])\n",
    "        C,V,c_arr,v_arr,sump = network.simdyn(network.M, network.l, network.params, connectivity=\"heterogeneous\", \n",
    "                                              activation=\"sigmoid\")\n",
    "        check2 = classify(V,network.params)\n",
    "        if check2 != check:\n",
    "            if \"{}_{}\".format(check,check2) not in phase:\n",
    "                phase[\"{}_{}\".format(check,check2)] = [[network.params[1]],[network.params[7]]]\n",
    "            else:\n",
    "                phase[\"{}_{}\".format(check,check2)][0].append(network.params[1])\n",
    "                phase[\"{}_{}\".format(check,check2)][1].append(network.params[7])\n",
    "            break\n",
    "    print(\"Visited n = {}, delV = {}\".format(params[1], params[7]))\n",
    "        \n",
    "'''\n",
    "for i in reversed(range(len(n_space))):\n",
    "    network.M = network.M_init\n",
    "    network.l = network.l_init\n",
    "    network.params[1] = n\n",
    "    network.n = n\n",
    "    \n",
    "    if (network.n - n_space[i]) > 0:\n",
    "        #import pdb; pdb.set_trace()\n",
    "        network.kill_neuron2(network.n-n_space[i])\n",
    "    for j in range(len(V_space)):\n",
    "        #import pdb; pdb.set_trace()\n",
    "        network.params[7] = V_space[j]\n",
    "        C,V,c_arr,v_arr,sump = network.simdyn(network.M, network.l, network.params, connectivity=\"heterogeneous\",\n",
    "                                             activation=\"sigmoid\")\n",
    "        check = classify2(V,network.params)\n",
    "        phase[i,j] = check\n",
    "    print(\"Visited n = {}\".format(i))\n",
    "'''\n",
    "\n",
    "print('loop complete')"
   ]
  },
  {
   "cell_type": "code",
   "execution_count": 1090,
   "metadata": {},
   "outputs": [],
   "source": [
    "network.M = M\n",
    "network.l = l\n",
    "network.n = n\n",
    "k = largestkcore(network.M)\n",
    "kcore_transition = []\n",
    "for i in range(n-1):\n",
    "    network.kill_neuron2(1)\n",
    "    new_k = largestkcore(network.M)\n",
    "    if new_k != k:\n",
    "        kcore_transition.append(network.n + 1)\n",
    "        k = new_k\n"
   ]
  },
  {
   "cell_type": "code",
   "execution_count": 1047,
   "metadata": {},
   "outputs": [
    {
     "name": "stdout",
     "output_type": "stream",
     "text": [
      "1_2\n",
      "3_1\n",
      "3_2\n"
     ]
    }
   ],
   "source": [
    "for key, value in phase.items() :\n",
    "    print (key)"
   ]
  },
  {
   "cell_type": "code",
   "execution_count": 1022,
   "metadata": {
    "scrolled": true
   },
   "outputs": [
    {
     "data": {
      "text/plain": [
       "[99,\n",
       " 98,\n",
       " 97,\n",
       " 94,\n",
       " 93,\n",
       " 92,\n",
       " 91,\n",
       " 89,\n",
       " 87,\n",
       " 86,\n",
       " 85,\n",
       " 84,\n",
       " 83,\n",
       " 81,\n",
       " 79,\n",
       " 78,\n",
       " 76,\n",
       " 75,\n",
       " 74,\n",
       " 72,\n",
       " 70,\n",
       " 69,\n",
       " 68,\n",
       " 66,\n",
       " 65,\n",
       " 64,\n",
       " 61,\n",
       " 60,\n",
       " 59,\n",
       " 57,\n",
       " 55,\n",
       " 54,\n",
       " 53,\n",
       " 52,\n",
       " 50,\n",
       " 49,\n",
       " 47,\n",
       " 45,\n",
       " 43,\n",
       " 42,\n",
       " 40,\n",
       " 38,\n",
       " 37,\n",
       " 36,\n",
       " 34,\n",
       " 32,\n",
       " 31,\n",
       " 30,\n",
       " 28,\n",
       " 26,\n",
       " 23,\n",
       " 21,\n",
       " 20,\n",
       " 19,\n",
       " 17,\n",
       " 16,\n",
       " 14,\n",
       " 12,\n",
       " 11,\n",
       " 10,\n",
       " 8,\n",
       " 6,\n",
       " 3,\n",
       " 2,\n",
       " 1]"
      ]
     },
     "execution_count": 1022,
     "metadata": {},
     "output_type": "execute_result"
    }
   ],
   "source": [
    "kcore_transition"
   ]
  },
  {
   "cell_type": "code",
   "execution_count": 1093,
   "metadata": {},
   "outputs": [
    {
     "data": {
      "image/png": "[encoded data removed]",
      "text/plain": [
       "<Figure size 432x288 with 1 Axes>"
      ]
     },
     "metadata": {
      "needs_background": "light"
     },
     "output_type": "display_data"
    }
   ],
   "source": [
    "#for i in phase:\n",
    "#    plt.plot(phase[i][1], phase[i][0])\n",
    "    \n",
    "plt.hlines(np.array(kcore_transition[12:40]), 0, 25, linestyles='solid', linewidths=0.5)\n",
    "plt.plot(phase['1_3'][1], phase['1_3'][0])\n",
    "#plt.plot(phase['1_2'][1], phase['1_2'][0])\n",
    "#plt.plot(phase['5_1'][1], phase['5_1'][0])\n",
    "#plt.plot(phase['2_5'][1], phase['2_5'][0])\n",
    "#plt.plot(phase['1_4'][1], phase['1_4'][0])\n",
    "xlabel(r\"$\\Delta V$\")\n",
    "ylabel(\"Number of Neurons, $n$\")\n",
    "#plt.show()\n",
    "plt.savefig(\"paper_figures/phase_with_k2.png\", dpi=400)"
   ]
  },
  {
   "cell_type": "markdown",
   "metadata": {},
   "source": [
    "### Mean field limit, step function, full space"
   ]
  },
  {
   "cell_type": "code",
   "execution_count": 92,
   "metadata": {},
   "outputs": [],
   "source": [
    "n = 100\n",
    "p = 1\n",
    "M = getRandomConnectivity(n, p)\n",
    "l = matrixOfEdges(M, n)"
   ]
  },
  {
   "cell_type": "code",
   "execution_count": 93,
   "metadata": {
    "scrolled": true
   },
   "outputs": [
    {
     "name": "stdout",
     "output_type": "stream",
     "text": [
      "Visited n = 98\n",
      "Visited n = 97\n",
      "Visited n = 96\n",
      "Visited n = 95\n",
      "Visited n = 94\n",
      "Visited n = 93\n",
      "Visited n = 92\n",
      "Visited n = 91\n",
      "Visited n = 90\n",
      "Visited n = 89\n",
      "Visited n = 88\n",
      "Visited n = 87\n",
      "Visited n = 86\n",
      "Visited n = 85\n",
      "Visited n = 84\n",
      "Visited n = 83\n",
      "Visited n = 82\n",
      "Visited n = 81\n",
      "Visited n = 80\n",
      "Visited n = 79\n",
      "Visited n = 78\n",
      "Visited n = 77\n",
      "Visited n = 76\n",
      "Visited n = 75\n",
      "Visited n = 74\n",
      "Visited n = 73\n",
      "Visited n = 72\n",
      "Visited n = 71\n",
      "Visited n = 70\n",
      "Visited n = 69\n",
      "Visited n = 68\n",
      "Visited n = 67\n",
      "Visited n = 66\n",
      "Visited n = 65\n",
      "Visited n = 64\n",
      "Visited n = 63\n",
      "Visited n = 62\n",
      "Visited n = 61\n",
      "Visited n = 60\n",
      "Visited n = 59\n",
      "Visited n = 58\n",
      "Visited n = 57\n",
      "Visited n = 56\n",
      "Visited n = 55\n",
      "Visited n = 54\n",
      "Visited n = 53\n",
      "Visited n = 52\n",
      "Visited n = 51\n",
      "Visited n = 50\n",
      "Visited n = 49\n",
      "Visited n = 48\n",
      "Visited n = 47\n",
      "Visited n = 46\n",
      "Visited n = 45\n",
      "Visited n = 44\n",
      "Visited n = 43\n",
      "Visited n = 42\n",
      "Visited n = 41\n",
      "Visited n = 40\n",
      "Visited n = 39\n",
      "Visited n = 38\n",
      "Visited n = 37\n",
      "Visited n = 36\n",
      "Visited n = 35\n",
      "Visited n = 34\n",
      "Visited n = 33\n",
      "Visited n = 32\n",
      "Visited n = 31\n",
      "Visited n = 30\n",
      "Visited n = 29\n",
      "Visited n = 28\n",
      "Visited n = 27\n",
      "Visited n = 26\n",
      "Visited n = 25\n",
      "Visited n = 24\n",
      "Visited n = 23\n",
      "Visited n = 22\n",
      "Visited n = 21\n",
      "Visited n = 20\n",
      "Visited n = 19\n",
      "Visited n = 18\n",
      "Visited n = 17\n",
      "Visited n = 16\n",
      "Visited n = 15\n",
      "Visited n = 14\n",
      "Visited n = 13\n",
      "Visited n = 12\n",
      "Visited n = 11\n",
      "Visited n = 10\n",
      "Visited n = 9\n",
      "Visited n = 8\n",
      "Visited n = 7\n",
      "Visited n = 6\n",
      "Visited n = 5\n",
      "Visited n = 4\n",
      "Visited n = 3\n",
      "Visited n = 2\n",
      "Visited n = 1\n",
      "Visited n = 0\n",
      "loop complete\n"
     ]
    }
   ],
   "source": [
    "N=10000\n",
    "dt=0.01 #0.001\n",
    "T=zeros(N)\n",
    "for i in range(N):\n",
    "    T[i]=i*dt\n",
    "\n",
    "\n",
    "M_prime = copy.deepcopy(M)\n",
    "l_prime = copy.deepcopy(l)\n",
    "#curr_n = n #Current number of neurons in network \n",
    "to_cull = 0\n",
    "\n",
    "tauv=0.01 #0.01\n",
    "tauc=0.5 #0.5\n",
    "Vstar=15 #Constant (according to experiments) 15\n",
    "Cstar=20 #20\n",
    "V0=18 #18\n",
    "C0=18 #18\n",
    "\n",
    "delV= 1. #1.\n",
    "delVmin = delV/3 #delV/3\n",
    "delC= 0.03 #0.03\n",
    "r_1= 70*99/(n-1)#Max Firing rate is r_1 + r_0 70\n",
    "r_0 = 0#5*99/(n-1) #Min firing rate 5\n",
    "\n",
    "g_v = 5\n",
    "g_c = 5\n",
    "\n",
    "params = np.zeros(15)\n",
    "\n",
    "params[0] = int(N)\n",
    "params[1] = int(n)\n",
    "params[2] = dt\n",
    "params[3] = tauv\n",
    "params[4] = tauc\n",
    "params[5] = Vstar\n",
    "params[6] = Cstar\n",
    "params[7] = delV\n",
    "params[8] = delC\n",
    "params[9] = r_1\n",
    "params[10] = V0\n",
    "params[11] = C0\n",
    "params[12] = g_v\n",
    "params[13] = g_c\n",
    "params[14] = r_0\n",
    "\n",
    "dV = 0.1\n",
    "delVmax = 25.\n",
    "\n",
    "V_space = np.arange(delV, delVmax, dV)\n",
    "n_space = np.arange(2,n+1)\n",
    "\n",
    "phase = np.zeros((len(n_space), len(V_space)))\n",
    "\n",
    "network = Network(M, l, params)\n",
    "\n",
    "for i in reversed(range(len(n_space))):\n",
    "    network.M = network.M_init\n",
    "    network.l = network.l_init\n",
    "    network.params[1] = n\n",
    "    network.n = n\n",
    "    \n",
    "    if (network.n - n_space[i]) > 0:\n",
    "        #import pdb; pdb.set_trace()\n",
    "        network.kill_neuron2(network.n-n_space[i])\n",
    "    for j in range(len(V_space)):\n",
    "        #import pdb; pdb.set_trace()\n",
    "        network.params[7] = V_space[j]\n",
    "        C,V,f = network.simdyn(network.M, network.l, network.params, connectivity=\"mean field\",\n",
    "                                             activation=\"step\")\n",
    "        check = classify(V,params)\n",
    "        phase[i,j] = check\n",
    "    print(\"Visited n = {}\".format(i))\n",
    "\n",
    "print('loop complete')"
   ]
  },
  {
   "cell_type": "code",
   "execution_count": 94,
   "metadata": {},
   "outputs": [
    {
     "data": {
      "text/plain": [
       "Text(0.5, 1.0, 'delC = 0.030, p = 1.000, r_0 = 0.000')"
      ]
     },
     "execution_count": 94,
     "metadata": {},
     "output_type": "execute_result"
    },
    {
     "data": {
      "image/png": "[encoded data removed]",
      "text/plain": [
       "<Figure size 432x288 with 1 Axes>"
      ]
     },
     "metadata": {
      "needs_background": "light"
     },
     "output_type": "display_data"
    }
   ],
   "source": [
    "cmap = plt.cm.viridis\n",
    "data = np.flip(phase, axis=0)\n",
    "norm = plt.Normalize(vmin = data.min(), vmax = data.max())\n",
    "img = cmap(norm(data))\n",
    "imshow(img, aspect='auto', extent=[V_space[0],V_space[-1],n_space[0],n_space[-1]])\n",
    "ylabel(\"Neurons, N\")\n",
    "xlabel(r\"$\\Delta$ V\")\n",
    "plt.title(\"delC = {:.3f}, p = {:.3f}, r_0 = {:.3f}\".format(delC, p, r_0))"
   ]
  },
  {
   "cell_type": "code",
   "execution_count": 95,
   "metadata": {},
   "outputs": [
    {
     "data": {
      "text/plain": [
       "array([[2., 2., 2., ..., 2., 2., 2.],\n",
       "       [2., 2., 2., ..., 2., 2., 2.],\n",
       "       [2., 2., 2., ..., 2., 2., 2.],\n",
       "       ...,\n",
       "       [2., 2., 2., ..., 3., 3., 3.],\n",
       "       [2., 2., 2., ..., 3., 3., 3.],\n",
       "       [2., 2., 2., ..., 3., 3., 3.]])"
      ]
     },
     "execution_count": 95,
     "metadata": {},
     "output_type": "execute_result"
    }
   ],
   "source": [
    "data"
   ]
  },
  {
   "cell_type": "markdown",
   "metadata": {},
   "source": [
    "### Mean field limit, step function, boundary trace"
   ]
  },
  {
   "cell_type": "code",
   "execution_count": 359,
   "metadata": {
    "scrolled": true
   },
   "outputs": [
    {
     "name": "stdout",
     "output_type": "stream",
     "text": [
      "Visited n = 58.0, delV = 1.0\n",
      "Visited n = 58.0, delV = 1.1\n",
      "Visited n = 58.0, delV = 1.2000000000000002\n",
      "Visited n = 58.0, delV = 1.3000000000000003\n",
      "Visited n = 58.0, delV = 1.4000000000000004\n",
      "Visited n = 58.0, delV = 1.5000000000000004\n",
      "Visited n = 58.0, delV = 1.6000000000000005\n",
      "Visited n = 58.0, delV = 1.7000000000000006\n",
      "Visited n = 58.0, delV = 1.8000000000000007\n",
      "Visited n = 58.0, delV = 1.9000000000000008\n",
      "Visited n = 58.0, delV = 2.000000000000001\n",
      "Visited n = 58.0, delV = 2.100000000000001\n",
      "Visited n = 58.0, delV = 2.200000000000001\n",
      "Visited n = 58.0, delV = 2.300000000000001\n",
      "Visited n = 58.0, delV = 2.4000000000000012\n",
      "Visited n = 58.0, delV = 2.5000000000000013\n",
      "Visited n = 58.0, delV = 2.6000000000000014\n",
      "Visited n = 58.0, delV = 2.7000000000000015\n",
      "Visited n = 58.0, delV = 2.8000000000000016\n",
      "Visited n = 58.0, delV = 2.9000000000000017\n",
      "Visited n = 58.0, delV = 3.0000000000000018\n",
      "Visited n = 58.0, delV = 3.100000000000002\n",
      "Visited n = 58.0, delV = 3.200000000000002\n",
      "Visited n = 58.0, delV = 3.300000000000002\n",
      "Visited n = 58.0, delV = 3.400000000000002\n",
      "Visited n = 58.0, delV = 3.500000000000002\n",
      "Visited n = 58.0, delV = 3.6000000000000023\n",
      "Visited n = 58.0, delV = 3.7000000000000024\n",
      "Visited n = 58.0, delV = 3.8000000000000025\n",
      "Visited n = 58.0, delV = 3.9000000000000026\n",
      "Visited n = 58.0, delV = 4.000000000000003\n",
      "Visited n = 58.0, delV = 4.100000000000003\n",
      "Visited n = 58.0, delV = 4.200000000000003\n",
      "Visited n = 58.0, delV = 4.3000000000000025\n",
      "Visited n = 58.0, delV = 4.400000000000003\n",
      "Visited n = 58.0, delV = 4.5000000000000036\n",
      "Visited n = 58.0, delV = 4.600000000000003\n",
      "Visited n = 58.0, delV = 4.700000000000003\n",
      "Visited n = 58.0, delV = 4.800000000000003\n",
      "Visited n = 58.0, delV = 4.900000000000004\n",
      "Visited n = 58.0, delV = 5.0000000000000036\n",
      "Visited n = 58.0, delV = 5.100000000000003\n",
      "Visited n = 58.0, delV = 5.200000000000004\n",
      "Visited n = 58.0, delV = 5.300000000000004\n",
      "Visited n = 58.0, delV = 5.400000000000004\n",
      "Visited n = 58.0, delV = 5.5000000000000036\n",
      "Visited n = 58.0, delV = 5.600000000000004\n",
      "Visited n = 58.0, delV = 5.700000000000005\n",
      "Visited n = 58.0, delV = 5.800000000000004\n",
      "Visited n = 58.0, delV = 5.900000000000004\n",
      "Visited n = 58.0, delV = 6.000000000000004\n",
      "Visited n = 58.0, delV = 6.100000000000005\n",
      "Visited n = 58.0, delV = 6.200000000000005\n",
      "Visited n = 58.0, delV = 6.300000000000004\n",
      "Visited n = 58.0, delV = 6.400000000000005\n",
      "Visited n = 58.0, delV = 6.500000000000005\n",
      "Visited n = 58.0, delV = 6.600000000000005\n",
      "Visited n = 58.0, delV = 6.700000000000005\n",
      "Visited n = 58.0, delV = 6.800000000000005\n",
      "Visited n = 58.0, delV = 6.900000000000006\n",
      "Visited n = 58.0, delV = 7.000000000000005\n",
      "Visited n = 58.0, delV = 7.100000000000005\n",
      "Visited n = 58.0, delV = 7.2000000000000055\n",
      "Visited n = 58.0, delV = 7.300000000000006\n",
      "Visited n = 58.0, delV = 7.400000000000006\n",
      "Visited n = 58.0, delV = 7.500000000000005\n",
      "Visited n = 58.0, delV = 7.600000000000006\n",
      "Visited n = 58.0, delV = 7.700000000000006\n",
      "Visited n = 58.0, delV = 7.800000000000006\n",
      "Visited n = 58.0, delV = 7.900000000000006\n",
      "Visited n = 58.0, delV = 8.000000000000007\n",
      "Visited n = 58.0, delV = 8.100000000000007\n",
      "Visited n = 58.0, delV = 8.200000000000006\n",
      "Visited n = 58.0, delV = 8.300000000000006\n",
      "Visited n = 58.0, delV = 8.400000000000006\n",
      "Visited n = 58.0, delV = 8.500000000000007\n",
      "Visited n = 58.0, delV = 8.600000000000007\n",
      "Visited n = 58.0, delV = 8.700000000000006\n",
      "Visited n = 58.0, delV = 8.800000000000008\n",
      "Visited n = 58.0, delV = 8.900000000000007\n",
      "Visited n = 58.0, delV = 9.000000000000007\n",
      "Visited n = 58.0, delV = 9.100000000000007\n",
      "Visited n = 58.0, delV = 9.200000000000006\n",
      "Visited n = 58.0, delV = 9.300000000000008\n",
      "Visited n = 58.0, delV = 9.400000000000007\n",
      "Visited n = 58.0, delV = 9.500000000000007\n",
      "Visited n = 58.0, delV = 9.600000000000009\n",
      "Visited n = 58.0, delV = 9.700000000000008\n",
      "Visited n = 58.0, delV = 9.800000000000008\n",
      "Visited n = 58.0, delV = 9.900000000000007\n",
      "Visited n = 58.0, delV = 10.000000000000007\n",
      "Visited n = 58.0, delV = 10.100000000000009\n",
      "Visited n = 58.0, delV = 10.200000000000008\n",
      "Visited n = 58.0, delV = 10.300000000000008\n",
      "Visited n = 58.0, delV = 10.40000000000001\n",
      "Visited n = 58.0, delV = 10.500000000000009\n",
      "Visited n = 58.0, delV = 10.600000000000009\n",
      "Visited n = 58.0, delV = 10.700000000000008\n",
      "Visited n = 58.0, delV = 10.800000000000008\n",
      "Visited n = 58.0, delV = 10.90000000000001\n",
      "Visited n = 58.0, delV = 11.000000000000009\n",
      "Visited n = 58.0, delV = 11.100000000000009\n",
      "Visited n = 58.0, delV = 11.20000000000001\n",
      "Visited n = 58.0, delV = 11.30000000000001\n",
      "Visited n = 58.0, delV = 11.40000000000001\n",
      "Visited n = 58.0, delV = 11.500000000000009\n",
      "Visited n = 58.0, delV = 11.600000000000009\n",
      "Visited n = 58.0, delV = 11.70000000000001\n",
      "Visited n = 58.0, delV = 11.80000000000001\n",
      "Visited n = 58.0, delV = 11.90000000000001\n",
      "Visited n = 58.0, delV = 12.00000000000001\n",
      "Visited n = 58.0, delV = 12.10000000000001\n",
      "Visited n = 58.0, delV = 12.20000000000001\n",
      "Visited n = 58.0, delV = 12.30000000000001\n",
      "Visited n = 58.0, delV = 12.40000000000001\n",
      "Visited n = 58.0, delV = 12.50000000000001\n",
      "Visited n = 58.0, delV = 12.60000000000001\n",
      "Visited n = 58.0, delV = 12.70000000000001\n",
      "Visited n = 58.0, delV = 12.800000000000011\n",
      "Visited n = 58.0, delV = 12.900000000000011\n",
      "Visited n = 58.0, delV = 13.00000000000001\n",
      "Visited n = 58.0, delV = 13.10000000000001\n",
      "Visited n = 58.0, delV = 13.20000000000001\n",
      "Visited n = 58.0, delV = 13.300000000000011\n",
      "Visited n = 58.0, delV = 13.400000000000011\n",
      "Visited n = 58.0, delV = 13.50000000000001\n",
      "Visited n = 58.0, delV = 13.600000000000012\n",
      "Visited n = 58.0, delV = 13.700000000000012\n",
      "Visited n = 58.0, delV = 13.800000000000011\n",
      "Visited n = 58.0, delV = 13.900000000000011\n",
      "Visited n = 58.0, delV = 14.00000000000001\n",
      "Visited n = 58.0, delV = 14.100000000000012\n",
      "Visited n = 58.0, delV = 14.200000000000012\n",
      "Visited n = 58.0, delV = 14.300000000000011\n",
      "Visited n = 58.0, delV = 14.400000000000013\n",
      "Visited n = 58.0, delV = 14.500000000000012\n",
      "Visited n = 58.0, delV = 14.600000000000012\n",
      "Visited n = 58.0, delV = 14.700000000000012\n",
      "Visited n = 58.0, delV = 14.800000000000011\n",
      "Visited n = 58.0, delV = 14.900000000000013\n",
      "Visited n = 58.0, delV = 15.000000000000012\n",
      "Visited n = 58.0, delV = 15.100000000000012\n",
      "Visited n = 58.0, delV = 15.200000000000014\n",
      "Visited n = 58.0, delV = 15.300000000000013\n",
      "Visited n = 58.0, delV = 15.400000000000013\n",
      "Visited n = 58.0, delV = 15.500000000000012\n",
      "Visited n = 58.0, delV = 15.600000000000012\n",
      "Visited n = 58.0, delV = 15.700000000000014\n",
      "Visited n = 58.0, delV = 15.800000000000013\n",
      "Visited n = 58.0, delV = 15.900000000000013\n",
      "Visited n = 58.0, delV = 16.000000000000014\n",
      "Visited n = 58.0, delV = 16.100000000000016\n",
      "Visited n = 58.0, delV = 16.200000000000014\n",
      "Visited n = 58.0, delV = 16.30000000000001\n",
      "Visited n = 58.0, delV = 16.400000000000013\n",
      "Visited n = 58.0, delV = 16.500000000000014\n",
      "Visited n = 58.0, delV = 16.600000000000016\n",
      "Visited n = 58.0, delV = 16.700000000000014\n",
      "Visited n = 58.0, delV = 16.800000000000015\n",
      "Visited n = 58.0, delV = 16.900000000000013\n",
      "Visited n = 58.0, delV = 17.000000000000014\n",
      "Visited n = 58.0, delV = 17.100000000000016\n",
      "Visited n = 58.0, delV = 17.200000000000014\n",
      "Visited n = 58.0, delV = 17.300000000000015\n",
      "Visited n = 58.0, delV = 17.400000000000013\n",
      "Visited n = 58.0, delV = 17.500000000000014\n",
      "Visited n = 58.0, delV = 17.600000000000016\n"
     ]
    },
    {
     "ename": "KeyboardInterrupt",
     "evalue": "",
     "output_type": "error",
     "traceback": [
      "\u001b[0;31m---------------------------------------------------------------------------\u001b[0m",
      "\u001b[0;31mKeyboardInterrupt\u001b[0m                         Traceback (most recent call last)",
      "\u001b[0;32m<ipython-input-359-dc3a6b2e91d2>\u001b[0m in \u001b[0;36m<module>\u001b[0;34m\u001b[0m\n\u001b[1;32m     69\u001b[0m         \u001b[0mnetwork\u001b[0m\u001b[0;34m.\u001b[0m\u001b[0mkill_neuron2\u001b[0m\u001b[0;34m(\u001b[0m\u001b[0mnetwork\u001b[0m\u001b[0;34m.\u001b[0m\u001b[0mn\u001b[0m \u001b[0;34m-\u001b[0m \u001b[0mn_space\u001b[0m\u001b[0;34m[\u001b[0m\u001b[0mj\u001b[0m\u001b[0;34m]\u001b[0m\u001b[0;34m)\u001b[0m\u001b[0;34m\u001b[0m\u001b[0m\n\u001b[1;32m     70\u001b[0m         C,V,f = network.simdyn(network.M, network.l, network.params, connectivity=\"mean field\", \n\u001b[0;32m---> 71\u001b[0;31m                                               activation=\"step\")\n\u001b[0m\u001b[1;32m     72\u001b[0m         \u001b[0mcheck2\u001b[0m \u001b[0;34m=\u001b[0m \u001b[0mclassify\u001b[0m\u001b[0;34m(\u001b[0m\u001b[0mV\u001b[0m\u001b[0;34m,\u001b[0m\u001b[0mnetwork\u001b[0m\u001b[0;34m.\u001b[0m\u001b[0mparams\u001b[0m\u001b[0;34m)\u001b[0m\u001b[0;34m\u001b[0m\u001b[0m\n\u001b[1;32m     73\u001b[0m         \u001b[0;32mif\u001b[0m \u001b[0mcheck2\u001b[0m \u001b[0;34m!=\u001b[0m \u001b[0mcheck\u001b[0m\u001b[0;34m:\u001b[0m\u001b[0;34m\u001b[0m\u001b[0m\n",
      "\u001b[0;32m<ipython-input-289-dd83de82c8dd>\u001b[0m in \u001b[0;36msimdyn\u001b[0;34m(self, M, l, params, connectivity, activation)\u001b[0m\n\u001b[1;32m    181\u001b[0m         '''\n\u001b[1;32m    182\u001b[0m         \u001b[0;32mif\u001b[0m \u001b[0mconnectivity\u001b[0m \u001b[0;34m==\u001b[0m  \u001b[0;34m\"mean field\"\u001b[0m \u001b[0;32mand\u001b[0m \u001b[0mactivation\u001b[0m \u001b[0;34m==\u001b[0m \u001b[0;34m\"step\"\u001b[0m\u001b[0;34m:\u001b[0m\u001b[0;34m\u001b[0m\u001b[0m\n\u001b[0;32m--> 183\u001b[0;31m             \u001b[0;32mreturn\u001b[0m \u001b[0mstep_mf_dyn\u001b[0m\u001b[0;34m(\u001b[0m\u001b[0mself\u001b[0m\u001b[0;34m.\u001b[0m\u001b[0mM\u001b[0m\u001b[0;34m,\u001b[0m \u001b[0mself\u001b[0m\u001b[0;34m.\u001b[0m\u001b[0ml\u001b[0m\u001b[0;34m,\u001b[0m \u001b[0mself\u001b[0m\u001b[0;34m.\u001b[0m\u001b[0mparams\u001b[0m\u001b[0;34m)\u001b[0m\u001b[0;34m\u001b[0m\u001b[0m\n\u001b[0m\u001b[1;32m    184\u001b[0m         \u001b[0;32melif\u001b[0m \u001b[0mconnectivity\u001b[0m \u001b[0;34m==\u001b[0m  \u001b[0;34m\"mean field\"\u001b[0m \u001b[0;32mand\u001b[0m \u001b[0mactivation\u001b[0m \u001b[0;34m==\u001b[0m \u001b[0;34m\"sigmoid\"\u001b[0m\u001b[0;34m:\u001b[0m\u001b[0;34m\u001b[0m\u001b[0m\n\u001b[1;32m    185\u001b[0m             \u001b[0;32mreturn\u001b[0m \u001b[0msigmoid_mf_dyn\u001b[0m\u001b[0;34m(\u001b[0m\u001b[0mself\u001b[0m\u001b[0;34m.\u001b[0m\u001b[0mM\u001b[0m\u001b[0;34m,\u001b[0m \u001b[0mself\u001b[0m\u001b[0;34m.\u001b[0m\u001b[0ml\u001b[0m\u001b[0;34m,\u001b[0m \u001b[0mself\u001b[0m\u001b[0;34m.\u001b[0m\u001b[0mparams\u001b[0m\u001b[0;34m)\u001b[0m\u001b[0;34m\u001b[0m\u001b[0m\n",
      "\u001b[0;31mKeyboardInterrupt\u001b[0m: "
     ]
    }
   ],
   "source": [
    "N=10000\n",
    "dt=0.01 #0.001\n",
    "T=zeros(N)\n",
    "for i in range(N):\n",
    "    T[i]=i*dt\n",
    "\n",
    "\n",
    "M_prime = copy.deepcopy(M)\n",
    "l_prime = copy.deepcopy(l)\n",
    "#curr_n = n #Current number of neurons in network \n",
    "to_cull = 0\n",
    "\n",
    "tauv=0.01 #0.01\n",
    "tauc=0.5 #0.5\n",
    "Vstar=15 #Constant (according to experiments) 15\n",
    "Cstar=20 #20\n",
    "V0=18 #18\n",
    "C0=18 #18\n",
    "\n",
    "delV= 1. #1.\n",
    "delVmin = delV/3 #delV/3\n",
    "delC= 0.01 #0.03\n",
    "r_1= 70*99/(n-1)#Max Firing rate is r_1 + r_0 70\n",
    "r_0 = 0#5*99/(n-1) #Min firing rate 5\n",
    "\n",
    "g_v = 5\n",
    "g_c = 5\n",
    "\n",
    "params = np.zeros(15)\n",
    "\n",
    "params[0] = int(N)\n",
    "params[1] = int(n)\n",
    "params[2] = dt\n",
    "params[3] = tauv\n",
    "params[4] = tauc\n",
    "params[5] = Vstar\n",
    "params[6] = Cstar\n",
    "params[7] = delV\n",
    "params[8] = delC\n",
    "params[9] = r_1\n",
    "params[10] = V0\n",
    "params[11] = C0\n",
    "params[12] = g_v\n",
    "params[13] = g_c\n",
    "params[14] = r_0\n",
    "\n",
    "dV = 0.1\n",
    "delVmax = 25.\n",
    "\n",
    "V_space = np.arange(delV, delVmax, dV)\n",
    "n_space = np.arange(2,n+1)\n",
    "\n",
    "phase = {}\n",
    "\n",
    "network = Network(M, l, params)\n",
    "\n",
    "for i in range(len(V_space)):\n",
    "    network.M = network.M_init\n",
    "    network.l = network.l_init\n",
    "    network.params[1] = n\n",
    "    network.params[7] = V_space[i]\n",
    "    network.n = n\n",
    "    \n",
    "    C,V,f = network.simdyn(network.M, network.l, network.params, connectivity=\"mean field\", \n",
    "                                          activation=\"step\")\n",
    "    check = classify(V,network.params)\n",
    "    \n",
    "    for j in reversed(range(len(n_space))):\n",
    "        network.kill_neuron2(network.n - n_space[j])\n",
    "        C,V,f = network.simdyn(network.M, network.l, network.params, connectivity=\"mean field\", \n",
    "                                              activation=\"step\")\n",
    "        check2 = classify(V,network.params)\n",
    "        if check2 != check:\n",
    "            if \"{}_{}\".format(check,check2) not in phase:\n",
    "                phase[\"{}_{}\".format(check,check2)] = [[network.params[1]],[network.params[7]]]\n",
    "            else:\n",
    "                phase[\"{}_{}\".format(check,check2)][0].append(network.params[1])\n",
    "                phase[\"{}_{}\".format(check,check2)][1].append(network.params[7])\n",
    "            break\n",
    "    print(\"Visited n = {}, delV = {}\".format(params[1], params[7]))\n",
    "        \n",
    "'''\n",
    "for i in reversed(range(len(n_space))):\n",
    "    network.M = network.M_init\n",
    "    network.l = network.l_init\n",
    "    network.params[1] = n\n",
    "    network.n = n\n",
    "    \n",
    "    if (network.n - n_space[i]) > 0:\n",
    "        #import pdb; pdb.set_trace()\n",
    "        network.kill_neuron2(network.n-n_space[i])\n",
    "    for j in range(len(V_space)):\n",
    "        #import pdb; pdb.set_trace()\n",
    "        network.params[7] = V_space[j]\n",
    "        C,V,c_arr,v_arr,sump = network.simdyn(network.M, network.l, network.params, connectivity=\"heterogeneous\",\n",
    "                                             activation=\"sigmoid\")\n",
    "        check = classify2(V,network.params)\n",
    "        phase[i,j] = check\n",
    "    print(\"Visited n = {}\".format(i))\n",
    "'''\n",
    "\n",
    "print('loop complete')"
   ]
  },
  {
   "cell_type": "code",
   "execution_count": 357,
   "metadata": {},
   "outputs": [
    {
     "data": {
      "image/png": "[encoded data removed]",
      "text/plain": [
       "<Figure size 432x288 with 1 Axes>"
      ]
     },
     "metadata": {
      "needs_background": "light"
     },
     "output_type": "display_data"
    }
   ],
   "source": [
    "plt.ylim(0,100)\n",
    "plt.xlabel(r'$\\Delta V$')\n",
    "plt.ylabel(r'Neuron Count, $N$')\n",
    "plt.text(15, 40, 'SO', fontsize=20)\n",
    "plt.text(15, 10, 'HA', fontsize=20)\n",
    "plt.text(2.5, 30, 'Q', fontsize=20)\n",
    "for i in phase:\n",
    "    plt.plot(phase[i][1], phase[i][0])\n",
    "    \n",
    "#plt.savefig('paper_figures/step_mf.png', dpi=300)"
   ]
  },
  {
   "cell_type": "code",
   "execution_count": 358,
   "metadata": {},
   "outputs": [
    {
     "name": "stdout",
     "output_type": "stream",
     "text": [
      "2_3\n"
     ]
    }
   ],
   "source": [
    "for key, value in phase.items() :\n",
    "    print (key)"
   ]
  },
  {
   "cell_type": "markdown",
   "metadata": {},
   "source": [
    "### Mean Field limit Sigmoid Activation"
   ]
  },
  {
   "cell_type": "code",
   "execution_count": 525,
   "metadata": {},
   "outputs": [],
   "source": [
    "n = 100\n",
    "p = 1\n",
    "M = getRandomConnectivity(n, p)\n",
    "l = matrixOfEdges(M, n)"
   ]
  },
  {
   "cell_type": "code",
   "execution_count": 527,
   "metadata": {
    "scrolled": true
   },
   "outputs": [
    {
     "name": "stdout",
     "output_type": "stream",
     "text": [
      "Visited n = 98\n",
      "Visited n = 97\n",
      "Visited n = 96\n",
      "Visited n = 95\n",
      "Visited n = 94\n",
      "Visited n = 93\n",
      "Visited n = 92\n",
      "Visited n = 91\n",
      "Visited n = 90\n",
      "Visited n = 89\n",
      "Visited n = 88\n",
      "Visited n = 87\n",
      "Visited n = 86\n",
      "Visited n = 85\n",
      "Visited n = 84\n",
      "Visited n = 83\n",
      "Visited n = 82\n",
      "Visited n = 81\n",
      "Visited n = 80\n",
      "Visited n = 79\n",
      "Visited n = 78\n",
      "Visited n = 77\n",
      "Visited n = 76\n",
      "Visited n = 75\n",
      "Visited n = 74\n",
      "Visited n = 73\n"
     ]
    },
    {
     "ename": "KeyboardInterrupt",
     "evalue": "",
     "output_type": "error",
     "traceback": [
      "\u001b[0;31m---------------------------------------------------------------------------\u001b[0m",
      "\u001b[0;31mKeyboardInterrupt\u001b[0m                         Traceback (most recent call last)",
      "\u001b[0;32m<ipython-input-527-4d5a77e5730a>\u001b[0m in \u001b[0;36m<module>\u001b[0;34m\u001b[0m\n\u001b[1;32m     68\u001b[0m         \u001b[0mnetwork\u001b[0m\u001b[0;34m.\u001b[0m\u001b[0mparams\u001b[0m\u001b[0;34m[\u001b[0m\u001b[0;36m7\u001b[0m\u001b[0;34m]\u001b[0m \u001b[0;34m=\u001b[0m \u001b[0mV_space\u001b[0m\u001b[0;34m[\u001b[0m\u001b[0mj\u001b[0m\u001b[0;34m]\u001b[0m\u001b[0;34m\u001b[0m\u001b[0m\n\u001b[1;32m     69\u001b[0m         avC,avV,C,V = network.simdyn(network.M, network.l, network.params, connectivity=\"mean field\",\n\u001b[0;32m---> 70\u001b[0;31m                                              activation=\"sigmoid\")\n\u001b[0m\u001b[1;32m     71\u001b[0m         \u001b[0mcheck\u001b[0m \u001b[0;34m=\u001b[0m \u001b[0mclassify2\u001b[0m\u001b[0;34m(\u001b[0m\u001b[0mavV\u001b[0m\u001b[0;34m,\u001b[0m\u001b[0mparams\u001b[0m\u001b[0;34m)\u001b[0m\u001b[0;34m\u001b[0m\u001b[0m\n\u001b[1;32m     72\u001b[0m         \u001b[0mphase\u001b[0m\u001b[0;34m[\u001b[0m\u001b[0mi\u001b[0m\u001b[0;34m,\u001b[0m\u001b[0mj\u001b[0m\u001b[0;34m]\u001b[0m \u001b[0;34m=\u001b[0m \u001b[0mcheck\u001b[0m\u001b[0;34m\u001b[0m\u001b[0m\n",
      "\u001b[0;32m<ipython-input-7-dd83de82c8dd>\u001b[0m in \u001b[0;36msimdyn\u001b[0;34m(self, M, l, params, connectivity, activation)\u001b[0m\n\u001b[1;32m    183\u001b[0m             \u001b[0;32mreturn\u001b[0m \u001b[0mstep_mf_dyn\u001b[0m\u001b[0;34m(\u001b[0m\u001b[0mself\u001b[0m\u001b[0;34m.\u001b[0m\u001b[0mM\u001b[0m\u001b[0;34m,\u001b[0m \u001b[0mself\u001b[0m\u001b[0;34m.\u001b[0m\u001b[0ml\u001b[0m\u001b[0;34m,\u001b[0m \u001b[0mself\u001b[0m\u001b[0;34m.\u001b[0m\u001b[0mparams\u001b[0m\u001b[0;34m)\u001b[0m\u001b[0;34m\u001b[0m\u001b[0m\n\u001b[1;32m    184\u001b[0m         \u001b[0;32melif\u001b[0m \u001b[0mconnectivity\u001b[0m \u001b[0;34m==\u001b[0m  \u001b[0;34m\"mean field\"\u001b[0m \u001b[0;32mand\u001b[0m \u001b[0mactivation\u001b[0m \u001b[0;34m==\u001b[0m \u001b[0;34m\"sigmoid\"\u001b[0m\u001b[0;34m:\u001b[0m\u001b[0;34m\u001b[0m\u001b[0m\n\u001b[0;32m--> 185\u001b[0;31m             \u001b[0;32mreturn\u001b[0m \u001b[0msigmoid_mf_dyn\u001b[0m\u001b[0;34m(\u001b[0m\u001b[0mself\u001b[0m\u001b[0;34m.\u001b[0m\u001b[0mM\u001b[0m\u001b[0;34m,\u001b[0m \u001b[0mself\u001b[0m\u001b[0;34m.\u001b[0m\u001b[0ml\u001b[0m\u001b[0;34m,\u001b[0m \u001b[0mself\u001b[0m\u001b[0;34m.\u001b[0m\u001b[0mparams\u001b[0m\u001b[0;34m)\u001b[0m\u001b[0;34m\u001b[0m\u001b[0m\n\u001b[0m\u001b[1;32m    186\u001b[0m         \u001b[0;32melif\u001b[0m \u001b[0mconnectivity\u001b[0m \u001b[0;34m==\u001b[0m \u001b[0;34m\"heterogeneous\"\u001b[0m \u001b[0;32mand\u001b[0m \u001b[0mactivation\u001b[0m \u001b[0;34m==\u001b[0m \u001b[0;34m\"step\"\u001b[0m\u001b[0;34m:\u001b[0m\u001b[0;34m\u001b[0m\u001b[0m\n\u001b[1;32m    187\u001b[0m             \u001b[0;32mreturn\u001b[0m \u001b[0mstep_hetero_dyn\u001b[0m\u001b[0;34m(\u001b[0m\u001b[0mself\u001b[0m\u001b[0;34m.\u001b[0m\u001b[0mM\u001b[0m\u001b[0;34m,\u001b[0m \u001b[0mself\u001b[0m\u001b[0;34m.\u001b[0m\u001b[0ml\u001b[0m\u001b[0;34m,\u001b[0m \u001b[0mself\u001b[0m\u001b[0;34m.\u001b[0m\u001b[0mparams\u001b[0m\u001b[0;34m)\u001b[0m\u001b[0;34m\u001b[0m\u001b[0m\n",
      "\u001b[0;31mKeyboardInterrupt\u001b[0m: "
     ]
    }
   ],
   "source": [
    "N=10000\n",
    "dt=0.01 #0.001\n",
    "T=zeros(N)\n",
    "for i in range(N):\n",
    "    T[i]=i*dt\n",
    "\n",
    "\n",
    "M_prime = copy.deepcopy(M)\n",
    "l_prime = copy.deepcopy(l)\n",
    "#curr_n = n #Current number of neurons in network \n",
    "to_cull = 0\n",
    "\n",
    "tauv=0.01 #0.01\n",
    "tauc=0.5 #0.5\n",
    "Vstar=15 #Constant (according to experiments) 15\n",
    "Cstar=20 #20\n",
    "V0=18 #18\n",
    "C0=18 #18\n",
    "\n",
    "delV= 1. #1.\n",
    "delVmin = delV/3 #delV/3\n",
    "delC= 0.03 #0.03\n",
    "r_1= 70*99/(n-1)#Max Firing rate is r_1 + r_0 70\n",
    "r_0 = 5*99/(n-1) #Min firing rate 5\n",
    "\n",
    "g_v = 5\n",
    "g_c = 5\n",
    "\n",
    "params = np.zeros(15)\n",
    "\n",
    "params[0] = int(N)\n",
    "params[1] = int(n)\n",
    "params[2] = dt\n",
    "params[3] = tauv\n",
    "params[4] = tauc\n",
    "params[5] = Vstar\n",
    "params[6] = Cstar\n",
    "params[7] = delV\n",
    "params[8] = delC\n",
    "params[9] = r_1\n",
    "params[10] = V0\n",
    "params[11] = C0\n",
    "params[12] = g_v\n",
    "params[13] = g_c\n",
    "params[14] = r_0\n",
    "\n",
    "dV = 0.1\n",
    "delVmax = 25.\n",
    "\n",
    "V_space = np.arange(delV, delVmax, dV)\n",
    "n_space = np.arange(2,n+1)\n",
    "\n",
    "phase = np.zeros((len(n_space), len(V_space)))\n",
    "\n",
    "network = Network(M, l, params)\n",
    "\n",
    "for i in reversed(range(len(n_space))):\n",
    "    network.M = network.M_init\n",
    "    network.l = network.l_init\n",
    "    network.params[1] = n\n",
    "    network.n = n\n",
    "    \n",
    "    if (network.n - n_space[i]) > 0:\n",
    "        #import pdb; pdb.set_trace()\n",
    "        network.kill_neuron2(network.n-n_space[i])\n",
    "    for j in range(len(V_space)):\n",
    "        #import pdb; pdb.set_trace()\n",
    "        network.params[7] = V_space[j]\n",
    "        avC,avV,C,V = network.simdyn(network.M, network.l, network.params, connectivity=\"mean field\",\n",
    "                                             activation=\"sigmoid\")\n",
    "        check = classify2(avV,params)\n",
    "        phase[i,j] = check\n",
    "    print(\"Visited n = {}\".format(i))\n",
    "\n",
    "print('loop complete')"
   ]
  },
  {
   "cell_type": "markdown",
   "metadata": {},
   "source": [
    "# Network Connectivity plots for small samples"
   ]
  },
  {
   "cell_type": "markdown",
   "metadata": {},
   "source": [
    "### Heterogeneously connected, sigmoid activation "
   ]
  },
  {
   "cell_type": "code",
   "execution_count": 270,
   "metadata": {},
   "outputs": [],
   "source": [
    "# Setup simulation parameters \n",
    "n = 40\n",
    "p = 1/4 #1/6\n",
    "M = getRandomConnectivity(n, p)\n",
    "l = matrixOfEdges(M, n)"
   ]
  },
  {
   "cell_type": "code",
   "execution_count": 271,
   "metadata": {},
   "outputs": [
    {
     "name": "stdout",
     "output_type": "stream",
     "text": [
      "Visited n = 38\n",
      "Visited n = 37\n",
      "Visited n = 36\n",
      "Visited n = 35\n",
      "Visited n = 34\n",
      "Visited n = 33\n",
      "Visited n = 32\n",
      "Visited n = 31\n",
      "Visited n = 30\n",
      "Visited n = 29\n",
      "Visited n = 28\n",
      "Visited n = 27\n",
      "Visited n = 26\n",
      "Visited n = 25\n",
      "Visited n = 24\n",
      "Visited n = 23\n",
      "Visited n = 22\n",
      "Visited n = 21\n",
      "Visited n = 20\n",
      "Visited n = 19\n",
      "Visited n = 18\n",
      "Visited n = 17\n",
      "Visited n = 16\n",
      "Visited n = 15\n",
      "Visited n = 14\n",
      "Visited n = 13\n",
      "Visited n = 12\n",
      "Visited n = 11\n",
      "Visited n = 10\n",
      "Visited n = 9\n",
      "Visited n = 8\n",
      "Visited n = 7\n",
      "Visited n = 6\n",
      "Visited n = 5\n",
      "Visited n = 4\n",
      "Visited n = 3\n",
      "Visited n = 2\n",
      "Visited n = 1\n",
      "Visited n = 0\n",
      "loop complete\n"
     ]
    }
   ],
   "source": [
    "#Phase diagram \n",
    "N=10000\n",
    "dt=0.01 #0.001\n",
    "T=zeros(N)\n",
    "for i in range(N):\n",
    "    T[i]=i*dt\n",
    "\n",
    "\n",
    "M_prime = copy.deepcopy(M)\n",
    "l_prime = copy.deepcopy(l)\n",
    "#curr_n = n #Current number of neurons in network \n",
    "to_cull = 0\n",
    "\n",
    "tauv=0.01 #0.01\n",
    "tauc=0.5 #0.5\n",
    "Vstar=15 #Constant (according to experiments) 15\n",
    "Cstar=20 #20\n",
    "V0=18 #18\n",
    "C0=18 #18\n",
    "\n",
    "delV= 0.1 #1.\n",
    "delVmin = delV/3 #delV/3\n",
    "delC= 0.035 #0.01\n",
    "r_1= 70*99/(n-1)#Max Firing rate is r_1 + r_0 70\n",
    "r_0 = 5*99/(n-1) #Min firing rate 5\n",
    "\n",
    "g_v = 5\n",
    "g_c = 5\n",
    "\n",
    "params = np.zeros(15)\n",
    "\n",
    "params[0] = int(N)\n",
    "params[1] = int(n)\n",
    "params[2] = dt\n",
    "params[3] = tauv\n",
    "params[4] = tauc\n",
    "params[5] = Vstar\n",
    "params[6] = Cstar\n",
    "params[7] = delV\n",
    "params[8] = delC\n",
    "params[9] = r_1\n",
    "params[10] = V0\n",
    "params[11] = C0\n",
    "params[12] = g_v\n",
    "params[13] = g_c\n",
    "params[14] = r_0\n",
    "\n",
    "network = Network(M, l, params)\n",
    "#network.kill_neuron2(20)\n",
    "\n",
    "dV = 0.1\n",
    "delVmax = 8.\n",
    "\n",
    "V_space = np.arange(delV, delVmax, dV)\n",
    "n_space = np.arange(2,network.n+1)\n",
    "\n",
    "phase = np.zeros((len(n_space), len(V_space)))\n",
    "\n",
    "\n",
    "\n",
    "for i in reversed(range(len(n_space))):\n",
    "    network.M = network.M_init\n",
    "    network.l = network.l_init\n",
    "    network.params[1] = n\n",
    "    network.n = n\n",
    "    \n",
    "    if (network.n - n_space[i]) > 0:\n",
    "        #import pdb; pdb.set_trace()\n",
    "        network.kill_neuron2(network.n-n_space[i])\n",
    "    for j in range(len(V_space)):\n",
    "        #import pdb; pdb.set_trace()\n",
    "        network.params[7] = V_space[j]\n",
    "        C,V,c_arr,v_arr,sump = network.simdyn(network.M, network.l, network.params, connectivity=\"heterogeneous\",\n",
    "                                             activation=\"sigmoid\")\n",
    "        check = classify2(V,params)\n",
    "        phase[i,j] = check\n",
    "    print(\"Visited n = {}\".format(i))\n",
    "\n",
    "print('loop complete')"
   ]
  },
  {
   "cell_type": "code",
   "execution_count": 272,
   "metadata": {},
   "outputs": [
    {
     "data": {
      "text/plain": [
       "Text(0.5, 1.0, 'delC = 0.035, p = 0.250')"
      ]
     },
     "execution_count": 272,
     "metadata": {},
     "output_type": "execute_result"
    },
    {
     "data": {
      "image/png": "[encoded data removed]",
      "text/plain": [
       "<Figure size 432x288 with 1 Axes>"
      ]
     },
     "metadata": {
      "needs_background": "light"
     },
     "output_type": "display_data"
    }
   ],
   "source": [
    "cmap = plt.cm.viridis\n",
    "data = np.flip(phase, axis=0)\n",
    "norm = plt.Normalize(vmin = data.min(), vmax = data.max())\n",
    "img = cmap(norm(data))\n",
    "imshow(img, aspect='auto')\n",
    "plt.title(\"delC = {:.3f}, p = {:.3f}\".format(delC, p))\n",
    "#plt.savefig(\"phase/sample3/phase_n_{}\".format(n))"
   ]
  },
  {
   "cell_type": "code",
   "execution_count": 77,
   "metadata": {},
   "outputs": [
    {
     "data": {
      "text/plain": [
       "Text(0.5, 1.0, 'delC = 0.035, p = 0.167')"
      ]
     },
     "execution_count": 77,
     "metadata": {},
     "output_type": "execute_result"
    }
   ],
   "source": [
    "#plotting \n",
    "cmap = plt.cm.viridis\n",
    "data = np.flip(phase, axis=0)\n",
    "norm = plt.Normalize(vmin = data.min(), vmax = data.max())\n",
    "img = cmap(norm(data))\n",
    "imshow(img, aspect='auto')\n",
    "plt.title(\"delC = {:.3f}, p = {:.3f}\".format(delC, p))"
   ]
  },
  {
   "cell_type": "code",
   "execution_count": 254,
   "metadata": {},
   "outputs": [],
   "source": [
    "#Heterogeneous sigmoid \n",
    "N = 1000000 #50000\n",
    "dt = 0.001\n",
    "T = zeros(N)\n",
    "for i in range(N):\n",
    "    T[i] = i*dt\n",
    "\n",
    "tauv=0.01 #0.01\n",
    "tauc=0.5 #0.5\n",
    "Vstar=15 #Constant (according to experiments) 15\n",
    "Cstar=20 #20\n",
    "V0=18 #18\n",
    "C0=18 #18\n",
    "\n",
    "delV= 5.1 #1.\n",
    "delVmin = delV/3 #delV/3\n",
    "delC= 0.035 #0.025\n",
    "r_1= 70*99/(n-1)#Max Firing rate is r_1 + r_0 70\n",
    "r_0 = 5*99/(n-1) #Min firing rate 5\n",
    "\n",
    "g_v = 5\n",
    "g_c = 5\n",
    "\n",
    "params = np.zeros(15)\n",
    "\n",
    "params[0] = int(N)\n",
    "params[1] = int(n)\n",
    "params[2] = dt\n",
    "params[3] = tauv\n",
    "params[4] = tauc\n",
    "params[5] = Vstar\n",
    "params[6] = Cstar\n",
    "params[7] = delV\n",
    "params[8] = delC\n",
    "params[9] = r_1\n",
    "params[10] = V0\n",
    "params[11] = C0\n",
    "params[12] = g_v\n",
    "params[13] = g_c\n",
    "params[14] = r_0\n",
    "\n",
    "network = Network(M, l, params)\n",
    "network.kill_neuron2(20)\n",
    "\n",
    "avC,avV,C,V,sump = network.simdyn(network.M, network.l, network.params, connectivity=\"heterogeneous\", activation=\"sigmoid\")"
   ]
  },
  {
   "cell_type": "code",
   "execution_count": 257,
   "metadata": {},
   "outputs": [
    {
     "data": {
      "image/png": "[encoded data removed]",
      "text/plain": [
       "<Figure size 432x288 with 1 Axes>"
      ]
     },
     "metadata": {
      "needs_background": "light"
     },
     "output_type": "display_data"
    }
   ],
   "source": [
    "#print(classifier(avV, 1/dt, 0.1)) #0 is chaos, 1 is SO, 2 is FP, -1 is error\n",
    "classification = classify(avV,params)\n",
    "plot(avC[:],avV[:])\n",
    "title(\"class = {}, n = {}\".format(classification, network.n))\n",
    "xlabel(\"C\")\n",
    "ylabel(\"V\")\n",
    "plt.savefig(\"phase/sample3/class_{}_n_{}\".format(classification, network.n))"
   ]
  },
  {
   "cell_type": "code",
   "execution_count": 397,
   "metadata": {},
   "outputs": [
    {
     "data": {
      "text/plain": [
       "[<matplotlib.lines.Line2D at 0x10535d0518>,\n",
       " <matplotlib.lines.Line2D at 0x10535d06a0>,\n",
       " <matplotlib.lines.Line2D at 0x10535d07f0>,\n",
       " <matplotlib.lines.Line2D at 0x10535d0940>,\n",
       " <matplotlib.lines.Line2D at 0x10535d0a90>,\n",
       " <matplotlib.lines.Line2D at 0x10535d0be0>,\n",
       " <matplotlib.lines.Line2D at 0x10535d0d30>,\n",
       " <matplotlib.lines.Line2D at 0x10535d0e80>,\n",
       " <matplotlib.lines.Line2D at 0x10535d0fd0>,\n",
       " <matplotlib.lines.Line2D at 0x1053c3a160>,\n",
       " <matplotlib.lines.Line2D at 0x10535b4be0>,\n",
       " <matplotlib.lines.Line2D at 0x1053c3a3c8>,\n",
       " <matplotlib.lines.Line2D at 0x1053c3a518>,\n",
       " <matplotlib.lines.Line2D at 0x1053c3a668>,\n",
       " <matplotlib.lines.Line2D at 0x1053c3a7b8>]"
      ]
     },
     "execution_count": 397,
     "metadata": {},
     "output_type": "execute_result"
    },
    {
     "data": {
      "image/png": "[encoded data removed]",
      "text/plain": [
       "<Figure size 432x288 with 1 Axes>"
      ]
     },
     "metadata": {
      "needs_background": "light"
     },
     "output_type": "display_data"
    }
   ],
   "source": [
    "plot(T[300:800], V[300:800])\n"
   ]
  },
  {
   "cell_type": "code",
   "execution_count": 258,
   "metadata": {},
   "outputs": [],
   "source": [
    "t = -1\n",
    "G = nx.DiGraph()\n",
    "for i in range(network.n): \n",
    "    if  V[t, i] > Vstar: # t = -1\n",
    "        G.add_node(i, color='r', firing=True)\n",
    "    else:\n",
    "        G.add_node(i, color='y', firing=False)\n",
    "        \n",
    "for i in range(network.n): \n",
    "    for j in range(network.n): \n",
    "        if network.M[i,j] == 1: \n",
    "            G.add_edge(i,j)\n",
    "            \n",
    "            "
   ]
  },
  {
   "cell_type": "code",
   "execution_count": 259,
   "metadata": {},
   "outputs": [],
   "source": [
    "clist = np.zeros(network.n, dtype=str)\n",
    "for i in range(network.n):\n",
    "    color = G.nodes.data()[i]['color']\n",
    "    clist[i] = color\n"
   ]
  },
  {
   "cell_type": "code",
   "execution_count": 151,
   "metadata": {},
   "outputs": [
    {
     "data": {
      "text/plain": [
       "array(['y', 'y', 'y', 'y', 'y', 'y', 'y', 'y', 'y', 'y'], dtype='<U1')"
      ]
     },
     "execution_count": 151,
     "metadata": {},
     "output_type": "execute_result"
    }
   ],
   "source": [
    "clist"
   ]
  },
  {
   "cell_type": "code",
   "execution_count": 345,
   "metadata": {},
   "outputs": [
    {
     "data": {
      "text/plain": [
       "DiDegreeView({0: 4, 1: 7, 2: 9, 3: 5, 4: 5, 5: 7, 6: 6, 7: 6, 8: 8, 9: 4, 10: 9, 11: 1, 12: 3, 13: 7, 14: 7})"
      ]
     },
     "execution_count": 345,
     "metadata": {},
     "output_type": "execute_result"
    }
   ],
   "source": [
    "G.degree"
   ]
  },
  {
   "cell_type": "code",
   "execution_count": 346,
   "metadata": {},
   "outputs": [
    {
     "data": {
      "text/plain": [
       "array([11.81546994, 12.55169464, 10.30996351, 10.79041983, 12.40434866,\n",
       "       11.28898866, 11.79226038,  8.63432582, 12.33334569,  8.57865779,\n",
       "        5.37362845,  5.37362845,  8.30311136, 11.14830639,  7.62180208])"
      ]
     },
     "execution_count": 346,
     "metadata": {},
     "output_type": "execute_result"
    }
   ],
   "source": [
    "V[-1,:]\n"
   ]
  },
  {
   "cell_type": "code",
   "execution_count": 260,
   "metadata": {},
   "outputs": [
    {
     "data": {
      "image/png": "[encoded data removed]",
      "text/plain": [
       "<Figure size 432x288 with 1 Axes>"
      ]
     },
     "metadata": {},
     "output_type": "display_data"
    }
   ],
   "source": [
    "plt.title(\"n = {}, class = {}, avV = {:.3f}\".format(network.n, classification, avV[t]))\n",
    "nx.draw_circular(G, node_size=240, width=0.7, with_labels=True, node_color=clist)\n",
    "#nx.draw_circular(G,node_size=20,width=0.5,edge_color='black',node_color='black',with_labels=True)\n",
    "#nx.draw_circular(H,node_size=20,width=0.3,node_color='black', edge_color='black')\n",
    "plt.savefig(\"phase/sample3/connectivity_class_{}_n_{}\".format(classification, network.n), dpi=300)\n"
   ]
  },
  {
   "cell_type": "markdown",
   "metadata": {},
   "source": [
    "### Heterogeneously connected, step function activation"
   ]
  },
  {
   "cell_type": "markdown",
   "metadata": {},
   "source": [
    "# Investigation of network splitting \n",
    "1. Run simulation with random IC's \n",
    "2. Plot Initial and final states (network connectivity plot) "
   ]
  },
  {
   "cell_type": "markdown",
   "metadata": {},
   "source": [
    "### Homogeneous step"
   ]
  },
  {
   "cell_type": "code",
   "execution_count": 111,
   "metadata": {},
   "outputs": [],
   "source": [
    "# Setup simulation parameters \n",
    "n = 20\n",
    "p = 1\n",
    "M = getRandomConnectivity(n, p)\n",
    "l = matrixOfEdges(M, n)"
   ]
  },
  {
   "cell_type": "code",
   "execution_count": 295,
   "metadata": {},
   "outputs": [],
   "source": [
    "#mean field step function limit\n",
    "N = 10000 #15000\n",
    "dt = 0.001\n",
    "T = zeros(N)\n",
    "for i in range(N):\n",
    "    T[i] = i*dt\n",
    "\n",
    "tauv=0.01 #0.01\n",
    "tauc=0.5 #0.5\n",
    "Vstar=15 #Constant (according to experiments) 15\n",
    "Cstar=20 #20\n",
    "V0=18 #18\n",
    "C0=18 #18\n",
    "\n",
    "delV= 5. #1.\n",
    "delVmin = delV/3 #delV/3\n",
    "delC= 0.015 #0.01\n",
    "r_1= 70#*99/(n-1)#Max Firing rate is r_1 + r_0 70\n",
    "r_0 = 5#*99/(n-1) #Min firing rate 5\n",
    "\n",
    "g_v = 5\n",
    "g_c = 5\n",
    "\n",
    "params = np.zeros(15)\n",
    "\n",
    "params[0] = int(N)\n",
    "params[1] = int(n)\n",
    "params[2] = dt\n",
    "params[3] = tauv\n",
    "params[4] = tauc\n",
    "params[5] = Vstar\n",
    "params[6] = Cstar\n",
    "params[7] = delV\n",
    "params[8] = delC\n",
    "params[9] = r_1\n",
    "params[10] = V0\n",
    "params[11] = C0\n",
    "params[12] = g_v\n",
    "params[13] = g_c\n",
    "params[14] = r_0\n",
    "\n",
    "network = Network(M, l, params)\n",
    "\n",
    "\n",
    "avC,avV,C,V,f = network.simdyn(network.M, network.l, network.params, connectivity=\"mean field\", activation=\"step\")"
   ]
  },
  {
   "cell_type": "code",
   "execution_count": 296,
   "metadata": {},
   "outputs": [
    {
     "name": "stdout",
     "output_type": "stream",
     "text": [
      "3\n"
     ]
    },
    {
     "data": {
      "image/png": "[encoded data removed]",
      "text/plain": [
       "<Figure size 432x288 with 1 Axes>"
      ]
     },
     "metadata": {
      "needs_background": "light"
     },
     "output_type": "display_data"
    }
   ],
   "source": [
    "plot(avC,avV)\n",
    "print(classify(avV,params))"
   ]
  },
  {
   "cell_type": "code",
   "execution_count": 300,
   "metadata": {},
   "outputs": [],
   "source": [
    "G,H = nx.DiGraph(), nx.DiGraph()\n",
    "# Add inital conditions to G\n",
    "t = 0\n",
    "for i in range(network.n): \n",
    "    if (V[t, i] > Vstar) and (C[t, i] < Cstar): #change condition\n",
    "    #if  V[t, i] > Vstar:\n",
    "        G.add_node(i, color='r', firing=True)\n",
    "    else:\n",
    "        G.add_node(i, color='y', firing=False)\n",
    "\n",
    "'''for i in range(network.n): \n",
    "    for j in range(network.n): \n",
    "        if network.M[i,j] == 1: \n",
    "            G.add_edge(i,j)\n",
    "'''            \n",
    "#Add final state to H\n",
    "t = -1\n",
    "for i in range(network.n): \n",
    "    if  (V[t, i] > Vstar) and (C[t, i] < Cstar): \n",
    "    #if  V[t, i] > Vstar:\n",
    "        H.add_node(i, color='r', firing=True)\n",
    "    else:\n",
    "        H.add_node(i, color='y', firing=False)\n",
    "        \n",
    "'''for i in range(network.n): \n",
    "    for j in range(network.n): \n",
    "        if network.M[i,j] == 1: \n",
    "            H.add_edge(i,j)'''\n",
    "            \n",
    "Gclist = np.zeros(network.n, dtype=str)\n",
    "for i in range(network.n):\n",
    "    color = G.nodes.data()[i]['color']\n",
    "    Gclist[i] = color\n",
    "    \n",
    "Hclist = np.zeros(network.n, dtype=str)\n",
    "for i in range(network.n):\n",
    "    color = H.nodes.data()[i]['color']\n",
    "    Hclist[i] = color\n",
    "            "
   ]
  },
  {
   "cell_type": "code",
   "execution_count": 301,
   "metadata": {},
   "outputs": [
    {
     "data": {
      "image/png": "[encoded data removed]",
      "text/plain": [
       "<Figure size 432x288 with 1 Axes>"
      ]
     },
     "metadata": {},
     "output_type": "display_data"
    },
    {
     "data": {
      "image/png": "[encoded data removed]",
      "text/plain": [
       "<Figure size 432x288 with 1 Axes>"
      ]
     },
     "metadata": {},
     "output_type": "display_data"
    }
   ],
   "source": [
    "figure()\n",
    "title(\"n = {}\".format(network.n))\n",
    "nx.draw_circular(G, node_size=240, width=0.7, with_labels=True, node_color=Gclist)\n",
    "figure()\n",
    "title(\"n = {}\".format(network.n))\n",
    "nx.draw_circular(H, node_size=240, width=0.7, with_labels=True, node_color=Hclist)"
   ]
  },
  {
   "cell_type": "code",
   "execution_count": 299,
   "metadata": {},
   "outputs": [
    {
     "name": "stdout",
     "output_type": "stream",
     "text": [
      "Vstar =  15\n",
      "[15.90068712 15.71532719 14.31740965 15.77953982 14.7128016  14.88221332\n",
      " 14.74695646 15.07713274 14.82576254 14.35006957 14.11367745 14.82704823\n",
      " 14.99375633 14.14449571 15.67451329 15.23231138 14.09635345 15.03231418\n",
      " 14.39127002 14.79201929]\n",
      "[ 9.5   9.5   9.5  71.25  9.5   9.5   9.5  71.25  9.5   9.5   9.5   9.5\n",
      "  9.5   9.5  71.25  9.5   9.5   9.5   9.5   9.5 ]\n"
     ]
    }
   ],
   "source": [
    "print(\"Vstar = \", Vstar)\n",
    "print(V[0, :])\n",
    "print(V[-1,:])"
   ]
  },
  {
   "cell_type": "code",
   "execution_count": 170,
   "metadata": {},
   "outputs": [
    {
     "name": "stdout",
     "output_type": "stream",
     "text": [
      "15.333742685983971\n",
      "9.500000000000007\n"
     ]
    }
   ],
   "source": [
    "idx=15\n",
    "print(V[0, idx])\n",
    "print(V[-1,idx])"
   ]
  },
  {
   "cell_type": "markdown",
   "metadata": {},
   "source": [
    "### Homogeneous Sigmoid"
   ]
  },
  {
   "cell_type": "code",
   "execution_count": 249,
   "metadata": {},
   "outputs": [],
   "source": [
    "# Setup simulation parameters \n",
    "n = 20\n",
    "p = 1\n",
    "M = getRandomConnectivity(n, p)\n",
    "l = matrixOfEdges(M, n)"
   ]
  },
  {
   "cell_type": "code",
   "execution_count": 306,
   "metadata": {},
   "outputs": [],
   "source": [
    "#mean field step function limit\n",
    "N = 10000 #15000\n",
    "dt = 0.001\n",
    "T = zeros(N)\n",
    "for i in range(N):\n",
    "    T[i] = i*dt\n",
    "\n",
    "tauv=0.01 #0.01\n",
    "tauc=0.5 #0.5\n",
    "Vstar=15 #Constant (according to experiments) 15\n",
    "Cstar=20 #20\n",
    "V0=18 #18\n",
    "C0=18 #18\n",
    "\n",
    "delV= 7. #1.\n",
    "delVmin = delV/3 #delV/3\n",
    "delC= 0.01 #0.01\n",
    "r_1= 100*99/(n-1)#Max Firing rate is r_1 + r_0 70\n",
    "r_0 = 5*99/(n-1) #Min firing rate 5\n",
    "\n",
    "g_v = 5\n",
    "g_c = 5\n",
    "\n",
    "params = np.zeros(15)\n",
    "\n",
    "params[0] = int(N)\n",
    "params[1] = int(n)\n",
    "params[2] = dt\n",
    "params[3] = tauv\n",
    "params[4] = tauc\n",
    "params[5] = Vstar\n",
    "params[6] = Cstar\n",
    "params[7] = delV\n",
    "params[8] = delC\n",
    "params[9] = r_1\n",
    "params[10] = V0\n",
    "params[11] = C0\n",
    "params[12] = g_v\n",
    "params[13] = g_c\n",
    "params[14] = r_0\n",
    "\n",
    "network = Network(M, l, params)\n",
    "\n",
    "avC,avV,C,V = network.simdyn(network.M, network.l, network.params, connectivity=\"mean field\", activation=\"sigmoid\")"
   ]
  },
  {
   "cell_type": "code",
   "execution_count": 285,
   "metadata": {},
   "outputs": [
    {
     "data": {
      "text/plain": [
       "array([[20.92216948, 20.65755348, 20.76888575, ..., 19.0874205 ,\n",
       "        20.16614199, 20.58228936],\n",
       "       [20.9063703 , 20.64235652, 20.75333338, ..., 19.07534528,\n",
       "        20.15178296, 20.56709804],\n",
       "       [20.89140174, 20.62797553, 20.73861422, ..., 19.06404712,\n",
       "        20.1382429 , 20.55272735],\n",
       "       ...,\n",
       "       [21.82224063, 21.82224063, 21.82224063, ..., 21.82224061,\n",
       "        21.82224062, 21.82224062],\n",
       "       [21.82224063, 21.82224063, 21.82224063, ..., 21.82224061,\n",
       "        21.82224062, 21.82224062],\n",
       "       [21.82224063, 21.82224063, 21.82224063, ..., 21.82224061,\n",
       "        21.82224062, 21.82224062]])"
      ]
     },
     "execution_count": 285,
     "metadata": {},
     "output_type": "execute_result"
    }
   ],
   "source": [
    "C"
   ]
  },
  {
   "cell_type": "code",
   "execution_count": 307,
   "metadata": {},
   "outputs": [
    {
     "name": "stdout",
     "output_type": "stream",
     "text": [
      "1\n"
     ]
    },
    {
     "data": {
      "image/png": "[encoded data removed]",
      "text/plain": [
       "<Figure size 432x288 with 1 Axes>"
      ]
     },
     "metadata": {
      "needs_background": "light"
     },
     "output_type": "display_data"
    }
   ],
   "source": [
    "plot(avC,avV)\n",
    "print(classify(avV,params))"
   ]
  },
  {
   "cell_type": "code",
   "execution_count": 304,
   "metadata": {},
   "outputs": [],
   "source": [
    "G,H = nx.DiGraph(), nx.DiGraph()\n",
    "# Add inital conditions to G\n",
    "t = 0\n",
    "for i in range(network.n): \n",
    "    #if (V[t, i] > Vstar) and (C[t, i] < Cstar): #change condition\n",
    "    if  V[t, i] > Vstar:\n",
    "        G.add_node(i, color='r', firing=True)\n",
    "    else:\n",
    "        G.add_node(i, color='y', firing=False)\n",
    "\n",
    "'''for i in range(network.n): \n",
    "    for j in range(network.n): \n",
    "        if network.M[i,j] == 1: \n",
    "            G.add_edge(i,j)\n",
    "'''            \n",
    "#Add final state to H\n",
    "t = -1\n",
    "for i in range(network.n): \n",
    "    #if  (V[t, i] > Vstar) and (C[t, i] < Cstar): \n",
    "    if  V[t, i] > Vstar:\n",
    "        H.add_node(i, color='r', firing=True)\n",
    "    else:\n",
    "        H.add_node(i, color='y', firing=False)\n",
    "        \n",
    "'''for i in range(network.n): \n",
    "    for j in range(network.n): \n",
    "        if network.M[i,j] == 1: \n",
    "            H.add_edge(i,j)'''\n",
    "            \n",
    "Gclist = np.zeros(network.n, dtype=str)\n",
    "for i in range(network.n):\n",
    "    color = G.nodes.data()[i]['color']\n",
    "    Gclist[i] = color\n",
    "    \n",
    "Hclist = np.zeros(network.n, dtype=str)\n",
    "for i in range(network.n):\n",
    "    color = H.nodes.data()[i]['color']\n",
    "    Hclist[i] = color"
   ]
  },
  {
   "cell_type": "code",
   "execution_count": 305,
   "metadata": {},
   "outputs": [
    {
     "data": {
      "image/png": "[encoded data removed]",
      "text/plain": [
       "<Figure size 432x288 with 1 Axes>"
      ]
     },
     "metadata": {},
     "output_type": "display_data"
    },
    {
     "data": {
      "image/png": "[encoded data removed]",
      "text/plain": [
       "<Figure size 432x288 with 1 Axes>"
      ]
     },
     "metadata": {},
     "output_type": "display_data"
    }
   ],
   "source": [
    "figure()\n",
    "title(\"n = {}\".format(network.n))\n",
    "nx.draw_circular(G, node_size=240, width=0.7, with_labels=True, node_color=Gclist)\n",
    "figure()\n",
    "title(\"n = {}\".format(network.n))\n",
    "nx.draw_circular(H, node_size=240, width=0.7, with_labels=True, node_color=Hclist)"
   ]
  },
  {
   "cell_type": "markdown",
   "metadata": {},
   "source": [
    "# How many fixed points exist for a heterogeneous network"
   ]
  },
  {
   "cell_type": "markdown",
   "metadata": {},
   "source": [
    "### Heterogeneous Step"
   ]
  },
  {
   "cell_type": "code",
   "execution_count": 897,
   "metadata": {},
   "outputs": [],
   "source": [
    "# Setup simulation parameters \n",
    "n = 100\n",
    "p = 1.\n",
    "M = getRandomConnectivity(n, p)\n",
    "l = matrixOfEdges(M, n)"
   ]
  },
  {
   "cell_type": "code",
   "execution_count": 960,
   "metadata": {},
   "outputs": [],
   "source": [
    "N = 10000 #15000\n",
    "dt = 0.001\n",
    "T = zeros(N)\n",
    "for i in range(N):\n",
    "    T[i] = i*dt\n",
    "\n",
    "tauv=0.01 #0.01\n",
    "tauc=0.5 #0.5\n",
    "Vstar=15 #Constant (according to experiments) 15\n",
    "Cstar=20 #20\n",
    "V0=18 #18\n",
    "C0=18 #18\n",
    "\n",
    "delV= 4.83 #15.\n",
    "delVmin = delV/3 #delV/3\n",
    "delC= 0.0092 #0.03\n",
    "r_1= 70#*99/(n-1)#Max Firing rate is r_1 + r_0 70\n",
    "r_0 = 5#*99/(n-1) #Min firing rate 5\n",
    "\n",
    "g_v = 5\n",
    "g_c = 5\n",
    "\n",
    "params = np.zeros(15)\n",
    "\n",
    "params[0] = int(N)\n",
    "params[1] = int(n)\n",
    "params[2] = dt\n",
    "params[3] = tauv\n",
    "params[4] = tauc\n",
    "params[5] = Vstar\n",
    "params[6] = Cstar\n",
    "params[7] = delV\n",
    "params[8] = delC\n",
    "params[9] = r_1\n",
    "params[10] = V0\n",
    "params[11] = C0\n",
    "params[12] = g_v\n",
    "params[13] = g_c\n",
    "params[14] = r_0\n",
    "\n",
    "network = Network(M, l, params)\n",
    "network.kill_neuron2(40) #80\n",
    "\n",
    "#variables for final state mapping \n",
    "#state_map = {final_state:list(init_states)}\n",
    "state_map = {}\n",
    "n_iters = 10000 #2000\n",
    "\n",
    "def binarize(arr, thresh):\n",
    "    '''\n",
    "        binarizes an array arr according to threshold thresh into 1's and 0's. Returns as tupled type to \n",
    "        be able to hash by data later. \n",
    "    '''\n",
    "    arr_len = len(arr)\n",
    "    return tuple([1 if (arr[i] > thresh) else 0 for i in range(arr_len)])\n",
    "\n",
    "for i in range(n_iters):\n",
    "    avC,avV,C,V = network.simdyn(network.M, network.l, \n",
    "                                      network.params, connectivity=\"heterogeneous\", activation=\"step\")\n",
    "    \n",
    "    if classify(avV, params) == 3 or classify(avV, params) == 2:\n",
    "        V_bin = [binarize(V[0], Vstar), binarize(V[-1], Vstar)]\n",
    "\n",
    "        if V_bin[-1] not in state_map: \n",
    "            state_map[V_bin[-1]] = [V_bin[0]]\n",
    "\n",
    "        elif V_bin[0] not in state_map[V_bin[-1]]:\n",
    "            state_map[V_bin[-1]].append(V_bin[0])\n",
    "    \n",
    "\n",
    "\n"
   ]
  },
  {
   "cell_type": "code",
   "execution_count": 961,
   "metadata": {},
   "outputs": [
    {
     "data": {
      "text/plain": [
       "1759"
      ]
     },
     "execution_count": 961,
     "metadata": {},
     "output_type": "execute_result"
    }
   ],
   "source": [
    "len(state_map)"
   ]
  },
  {
   "cell_type": "code",
   "execution_count": 500,
   "metadata": {
    "scrolled": true
   },
   "outputs": [
    {
     "data": {
      "text/plain": [
       "10"
      ]
     },
     "execution_count": 500,
     "metadata": {},
     "output_type": "execute_result"
    }
   ],
   "source": [
    "len(sorted(state_map[V_bin[-1]]))"
   ]
  },
  {
   "cell_type": "code",
   "execution_count": 852,
   "metadata": {},
   "outputs": [
    {
     "name": "stdout",
     "output_type": "stream",
     "text": [
      "2\n"
     ]
    },
    {
     "data": {
      "text/plain": [
       "[<matplotlib.lines.Line2D at 0xa4091ab38>]"
      ]
     },
     "execution_count": 852,
     "metadata": {},
     "output_type": "execute_result"
    },
    {
     "data": {
      "image/png": "[encoded data removed]",
      "text/plain": [
       "<Figure size 432x288 with 1 Axes>"
      ]
     },
     "metadata": {
      "needs_background": "light"
     },
     "output_type": "display_data"
    }
   ],
   "source": [
    "print(classify(avV,params))\n",
    "plot(avC,avV)"
   ]
  },
  {
   "cell_type": "code",
   "execution_count": 956,
   "metadata": {
    "scrolled": true
   },
   "outputs": [
    {
     "name": "stdout",
     "output_type": "stream",
     "text": [
      "(0, 1, 1, 1, 1, 1, 1, 1, 1, 1, 1, 1, 1, 1, 1, 1, 1, 1, 1, 1, 1, 1, 1, 1, 1, 1, 1, 1, 1, 1, 1, 1, 1, 1, 1, 1, 1, 1, 1, 1, 1, 1, 1, 1, 1, 1, 1, 1, 1, 0, 1, 1, 1, 1, 1, 1, 1, 1, 1, 1)\n"
     ]
    }
   ],
   "source": [
    "firing_counts_dict = {}\n",
    "for key, value in state_map.items() :\n",
    "    firing_count = sum(key)\n",
    "    if firing_count not in firing_counts_dict:\n",
    "        firing_counts_dict[firing_count] = 1\n",
    "    else:\n",
    "        firing_counts_dict[firing_count] += 1\n",
    "print(key)"
   ]
  },
  {
   "cell_type": "code",
   "execution_count": 957,
   "metadata": {},
   "outputs": [
    {
     "data": {
      "text/plain": [
       "{58: 1}"
      ]
     },
     "execution_count": 957,
     "metadata": {},
     "output_type": "execute_result"
    }
   ],
   "source": [
    "firing_counts_dict"
   ]
  },
  {
   "cell_type": "code",
   "execution_count": 553,
   "metadata": {},
   "outputs": [
    {
     "name": "stdout",
     "output_type": "stream",
     "text": [
      "Firing at end =  13\n"
     ]
    }
   ],
   "source": [
    "a = (1, 1, 1, 0, 1, 1, 0, 0, 1, 0, 1, 0, 1, 1, 1, 1, 0, 0, 1, 1)\n",
    "state_map[a]\n",
    "print(\"Firing at end = \", sum(a))\n"
   ]
  },
  {
   "cell_type": "code",
   "execution_count": 554,
   "metadata": {},
   "outputs": [
    {
     "data": {
      "text/plain": [
       "[(0, 1, 1, 1, 1, 1, 0, 1, 0, 0, 1, 1, 0, 1, 1, 0, 1, 0, 1, 0)]"
      ]
     },
     "execution_count": 554,
     "metadata": {},
     "output_type": "execute_result"
    }
   ],
   "source": [
    "state_map[a]"
   ]
  },
  {
   "cell_type": "code",
   "execution_count": 600,
   "metadata": {},
   "outputs": [
    {
     "data": {
      "text/plain": [
       "(100000, 20)"
      ]
     },
     "execution_count": 600,
     "metadata": {},
     "output_type": "execute_result"
    }
   ],
   "source": [
    "V.shape"
   ]
  },
  {
   "cell_type": "code",
   "execution_count": 602,
   "metadata": {},
   "outputs": [
    {
     "data": {
      "text/plain": [
       "array([[13.81643176, 12.97499736, 12.02367571, 14.50721528, 13.60308306,\n",
       "        14.3649963 , 14.83580488, 12.109899  , 14.41406253, 13.23259994,\n",
       "        13.55058283, 12.90923224, 13.22807418, 13.17222068, 12.93793798,\n",
       "        12.64944467, 12.35979946, 12.6992626 , 13.85310715, 14.15755631],\n",
       "       [13.96326744, 13.13024739, 12.18843896, 14.64714312, 13.75205223,\n",
       "        14.50634633, 14.97244683, 12.27380001, 14.55492191, 13.38527394,\n",
       "        13.700077  , 13.06513992, 13.38079344, 13.32549847, 13.0935586 ,\n",
       "        12.80795023, 12.52120147, 12.85726997, 13.99957608, 14.30098075],\n",
       "       [14.10863477, 13.28394491, 12.35155457, 14.78567169, 13.89953171,\n",
       "        14.64628287, 15.10772236, 12.43606201, 14.69437269, 13.5364212 ,\n",
       "        13.84807623, 13.21948852, 13.5319855 , 13.47724349, 13.24762301,\n",
       "        12.96487073, 12.68098945, 13.01369727, 14.14458032, 14.44297094],\n",
       "       [14.25254842, 13.43610546, 12.51303902, 14.92281497, 14.04553639,\n",
       "        14.78482004, 17.09414513, 12.59670139, 14.83242896, 13.68605699,\n",
       "        13.99459547, 13.37229363, 13.68166565, 13.62747105, 13.40014678,\n",
       "        13.12022202, 12.83917956, 13.1685603 , 14.28813451, 14.58354123],\n",
       "       [14.39502294, 13.58674441, 12.67290863, 15.05858682, 14.19008103,\n",
       "        14.92197184, 19.06070368, 12.75573438, 14.96910467, 13.83419642,\n",
       "        14.13964952, 13.52357069, 13.82984899, 13.77619634, 13.55114531,\n",
       "        13.2740198 , 12.99578776, 13.3218747 , 14.43025317, 14.72270582]])"
      ]
     },
     "execution_count": 602,
     "metadata": {},
     "output_type": "execute_result"
    }
   ],
   "source": [
    "V[:5,:]"
   ]
  },
  {
   "cell_type": "code",
   "execution_count": 601,
   "metadata": {},
   "outputs": [
    {
     "data": {
      "text/plain": [
       "array([17.27600321, 18.3069978 , 18.91382783, 19.86571154, 17.21833547,\n",
       "       18.6312376 , 19.30960371, 19.56008556, 17.43571932, 17.43085774,\n",
       "       18.59804315, 19.19952661, 19.78561809, 19.11117062, 19.40387123,\n",
       "       19.9024337 , 18.67870765, 17.78427658, 18.39524112, 18.64480439])"
      ]
     },
     "execution_count": 601,
     "metadata": {},
     "output_type": "execute_result"
    }
   ],
   "source": [
    "C[0,:]"
   ]
  },
  {
   "cell_type": "code",
   "execution_count": 665,
   "metadata": {},
   "outputs": [
    {
     "data": {
      "image/png": "[encoded data removed]",
      "text/plain": [
       "<Figure size 432x288 with 1 Axes>"
      ]
     },
     "metadata": {
      "needs_background": "light"
     },
     "output_type": "display_data"
    }
   ],
   "source": [
    "for i in range(len(V[0])): \n",
    "    plot(V[:5000,i])"
   ]
  },
  {
   "cell_type": "code",
   "execution_count": 666,
   "metadata": {},
   "outputs": [
    {
     "data": {
      "image/png": "[encoded data removed]",
      "text/plain": [
       "<Figure size 432x288 with 1 Axes>"
      ]
     },
     "metadata": {
      "needs_background": "light"
     },
     "output_type": "display_data"
    }
   ],
   "source": [
    "for i in range(len(C[0])): \n",
    "    plot(C[:5000,i])"
   ]
  },
  {
   "cell_type": "code",
   "execution_count": 570,
   "metadata": {},
   "outputs": [
    {
     "data": {
      "text/plain": [
       "20"
      ]
     },
     "execution_count": 570,
     "metadata": {},
     "output_type": "execute_result"
    }
   ],
   "source": [
    "len(V[0])"
   ]
  },
  {
   "cell_type": "code",
   "execution_count": 664,
   "metadata": {},
   "outputs": [
    {
     "data": {
      "text/plain": [
       "[<matplotlib.lines.Line2D at 0xa4b89e438>]"
      ]
     },
     "execution_count": 664,
     "metadata": {},
     "output_type": "execute_result"
    },
    {
     "data": {
      "image/png": "[encoded data removed]",
      "text/plain": [
       "<Figure size 432x288 with 1 Axes>"
      ]
     },
     "metadata": {
      "needs_background": "light"
     },
     "output_type": "display_data"
    }
   ],
   "source": [
    "plot(avC[9000:],avV[9000:])"
   ]
  },
  {
   "cell_type": "markdown",
   "metadata": {},
   "source": [
    "### mega loop checking number of fixed points for different p values"
   ]
  },
  {
   "cell_type": "code",
   "execution_count": 888,
   "metadata": {},
   "outputs": [],
   "source": [
    "n = 100\n",
    "N = 10000 #15000\n",
    "dt = 0.001\n",
    "T = zeros(N)\n",
    "for i in range(N):\n",
    "    T[i] = i*dt\n",
    "\n",
    "tauv=0.01 #0.01\n",
    "tauc=0.5 #0.5\n",
    "Vstar=15 #Constant (according to experiments) 15\n",
    "Cstar=20 #20\n",
    "V0=18 #18\n",
    "C0=18 #18\n",
    "\n",
    "delV= 7.3 #15.\n",
    "delVmin = delV/3 #delV/3\n",
    "delC= 0.015 #0.03\n",
    "r_1= 70#*99/(n-1)#Max Firing rate is r_1 + r_0 70\n",
    "r_0 = 5#*99/(n-1) #Min firing rate 5\n",
    "\n",
    "g_v = 5\n",
    "g_c = 5\n",
    "\n",
    "params = np.zeros(15)\n",
    "\n",
    "params[0] = int(N)\n",
    "params[1] = int(n)\n",
    "params[2] = dt\n",
    "params[3] = tauv\n",
    "params[4] = tauc\n",
    "params[5] = Vstar\n",
    "params[6] = Cstar\n",
    "params[7] = delV\n",
    "params[8] = delC\n",
    "params[9] = r_1\n",
    "params[10] = V0\n",
    "params[11] = C0\n",
    "params[12] = g_v\n",
    "params[13] = g_c\n",
    "params[14] = r_0"
   ]
  },
  {
   "cell_type": "code",
   "execution_count": 889,
   "metadata": {},
   "outputs": [
    {
     "name": "stdout",
     "output_type": "stream",
     "text": [
      "p visited:  0.5\n",
      "p visited:  0.6\n",
      "p visited:  0.7\n",
      "p visited:  0.7999999999999999\n",
      "p visited:  0.8\n",
      "p visited:  0.81\n",
      "p visited:  0.8200000000000001\n",
      "p visited:  0.8300000000000001\n",
      "p visited:  0.8400000000000001\n",
      "p visited:  0.8500000000000001\n",
      "p visited:  0.8600000000000001\n",
      "p visited:  0.8700000000000001\n",
      "p visited:  0.8800000000000001\n",
      "p visited:  0.8900000000000001\n",
      "p visited:  0.9000000000000001\n",
      "p visited:  0.9100000000000001\n",
      "p visited:  0.9200000000000002\n",
      "p visited:  0.9300000000000002\n",
      "p visited:  0.9400000000000002\n",
      "p visited:  0.9500000000000002\n",
      "p visited:  0.9600000000000002\n",
      "p visited:  0.9700000000000002\n",
      "p visited:  0.9800000000000002\n",
      "p visited:  0.9900000000000002\n",
      "p visited:  1.0000000000000002\n"
     ]
    }
   ],
   "source": [
    "#generate region of interest only\n",
    "a = np.arange(0.5,0.8,0.1)\n",
    "b = np.arange(0.8,1.01,0.01)\n",
    "p_vals = np.concatenate((a,b))\n",
    "n_iters = 2000\n",
    "results = []\n",
    "\n",
    "def binarize(arr, thresh):\n",
    "    arr_len = len(arr)\n",
    "    return tuple([1 if (arr[i] > thresh) else 0 for i in range(arr_len)])\n",
    "\n",
    "for p in p_vals:\n",
    "    print(\"p visited: \", p)\n",
    "    #import pdb; pdb.set_trace()\n",
    "    M = getRandomConnectivity(n, p)\n",
    "    l = matrixOfEdges(M, n)\n",
    "    \n",
    "    params[1] = n\n",
    "    network = Network(M, l, params)\n",
    "    network.kill_neuron2(60)\n",
    "    \n",
    "    state_map = {}\n",
    "    \n",
    "    for i in range(n_iters):\n",
    "        avC,avV,C,V = network.simdyn(network.M, network.l, \n",
    "                                      network.params, connectivity=\"heterogeneous\", activation=\"step\")\n",
    "    \n",
    "        if classify(avV, params) == 3 or classify(avV, params) == 2:\n",
    "            V_bin = [binarize(V[0], Vstar), binarize(V[-1], Vstar)]\n",
    "\n",
    "            if V_bin[-1] not in state_map: \n",
    "                state_map[V_bin[-1]] = [V_bin[0]]\n",
    "\n",
    "            elif V_bin[0] not in state_map[V_bin[-1]]:\n",
    "                state_map[V_bin[-1]].append(V_bin[0])\n",
    "    \n",
    "    del network\n",
    "                \n",
    "    results.append(len(state_map))"
   ]
  },
  {
   "cell_type": "code",
   "execution_count": 848,
   "metadata": {},
   "outputs": [
    {
     "data": {
      "text/plain": [
       "[0, 0, 0, 0, 0, 0, 0, 0, 0, 0, 0, 0, 0, 0, 0, 0, 0, 0, 0, 0, 0, 0, 0, 0, 0]"
      ]
     },
     "execution_count": 848,
     "metadata": {},
     "output_type": "execute_result"
    }
   ],
   "source": [
    "results"
   ]
  },
  {
   "cell_type": "code",
   "execution_count": 891,
   "metadata": {},
   "outputs": [
    {
     "data": {
      "image/png": "[encoded data removed]",
      "text/plain": [
       "<Figure size 432x288 with 1 Axes>"
      ]
     },
     "metadata": {
      "needs_background": "light"
     },
     "output_type": "display_data"
    }
   ],
   "source": [
    "plot(p_vals, results)\n",
    "xlabel(r\"connection probability, $p$\")\n",
    "ylabel(\"Number of Fixed Points\")\n",
    "#plt.savefig(\"paper_figures/fp_enumeration_n_60.png\")"
   ]
  },
  {
   "cell_type": "code",
   "execution_count": 683,
   "metadata": {},
   "outputs": [
    {
     "data": {
      "text/plain": [
       "[1, 2, 3, 4]"
      ]
     },
     "execution_count": 683,
     "metadata": {},
     "output_type": "execute_result"
    }
   ],
   "source": [
    "a = [1,2]\n",
    "b = [3,4]\n",
    "c = a+b\n",
    "c"
   ]
  },
  {
   "cell_type": "code",
   "execution_count": 693,
   "metadata": {},
   "outputs": [
    {
     "data": {
      "text/plain": [
       "array([0.5 , 0.6 , 0.7 , 0.8 , 0.9 , 0.91, 0.92, 0.93, 0.94, 0.95, 0.96,\n",
       "       0.97, 0.98, 0.99, 1.  ])"
      ]
     },
     "execution_count": 693,
     "metadata": {},
     "output_type": "execute_result"
    }
   ],
   "source": [
    "c"
   ]
  },
  {
   "cell_type": "markdown",
   "metadata": {},
   "source": [
    "# Vary $g_V$ and $g_C$ individually"
   ]
  },
  {
   "cell_type": "markdown",
   "metadata": {},
   "source": [
    "### Vary $g_V$ only"
   ]
  },
  {
   "cell_type": "code",
   "execution_count": 969,
   "metadata": {},
   "outputs": [],
   "source": [
    "n = 150\n",
    "p = 3/4\n",
    "M = getRandomConnectivity(n, p)\n",
    "l = matrixOfEdges(M, n)"
   ]
  },
  {
   "cell_type": "code",
   "execution_count": 970,
   "metadata": {},
   "outputs": [
    {
     "name": "stdout",
     "output_type": "stream",
     "text": [
      "Visited n = 148\n",
      "Visited n = 147\n",
      "Visited n = 146\n",
      "Visited n = 145\n",
      "Visited n = 144\n",
      "Visited n = 143\n",
      "Visited n = 142\n",
      "Visited n = 141\n",
      "Visited n = 140\n",
      "Visited n = 139\n",
      "Visited n = 138\n",
      "Visited n = 137\n",
      "Visited n = 136\n",
      "Visited n = 135\n",
      "Visited n = 134\n",
      "Visited n = 133\n",
      "Visited n = 132\n",
      "Visited n = 131\n",
      "Visited n = 130\n",
      "Visited n = 129\n",
      "Visited n = 128\n",
      "Visited n = 127\n",
      "Visited n = 126\n",
      "Visited n = 125\n",
      "Visited n = 124\n",
      "Visited n = 123\n",
      "Visited n = 122\n",
      "Visited n = 121\n",
      "Visited n = 120\n",
      "Visited n = 119\n",
      "Visited n = 118\n",
      "Visited n = 117\n",
      "Visited n = 116\n",
      "Visited n = 115\n",
      "Visited n = 114\n",
      "Visited n = 113\n",
      "Visited n = 112\n",
      "Visited n = 111\n",
      "Visited n = 110\n",
      "Visited n = 109\n",
      "Visited n = 108\n",
      "Visited n = 107\n",
      "Visited n = 106\n",
      "Visited n = 105\n",
      "Visited n = 104\n",
      "Visited n = 103\n",
      "Visited n = 102\n",
      "Visited n = 101\n",
      "Visited n = 100\n",
      "Visited n = 99\n",
      "Visited n = 98\n",
      "Visited n = 97\n",
      "Visited n = 96\n",
      "Visited n = 95\n",
      "Visited n = 94\n",
      "Visited n = 93\n",
      "Visited n = 92\n",
      "Visited n = 91\n",
      "Visited n = 90\n",
      "Visited n = 89\n",
      "Visited n = 88\n",
      "Visited n = 87\n",
      "Visited n = 86\n",
      "Visited n = 85\n",
      "Visited n = 84\n",
      "Visited n = 83\n",
      "Visited n = 82\n",
      "Visited n = 81\n",
      "Visited n = 80\n",
      "Visited n = 79\n",
      "Visited n = 78\n",
      "Visited n = 77\n",
      "Visited n = 76\n",
      "Visited n = 75\n",
      "Visited n = 74\n",
      "Visited n = 73\n",
      "Visited n = 72\n",
      "Visited n = 71\n",
      "Visited n = 70\n",
      "Visited n = 69\n",
      "Visited n = 68\n",
      "Visited n = 67\n",
      "Visited n = 66\n",
      "Visited n = 65\n",
      "Visited n = 64\n",
      "Visited n = 63\n",
      "Visited n = 62\n",
      "Visited n = 61\n",
      "Visited n = 60\n",
      "Visited n = 59\n",
      "Visited n = 58\n",
      "Visited n = 57\n",
      "Visited n = 56\n",
      "Visited n = 55\n",
      "Visited n = 54\n",
      "Visited n = 53\n",
      "Visited n = 52\n",
      "Visited n = 51\n",
      "Visited n = 50\n",
      "Visited n = 49\n",
      "Visited n = 48\n",
      "Visited n = 47\n",
      "Visited n = 46\n",
      "Visited n = 45\n",
      "Visited n = 44\n",
      "Visited n = 43\n",
      "Visited n = 42\n",
      "Visited n = 41\n",
      "Visited n = 40\n",
      "Visited n = 39\n",
      "Visited n = 38\n",
      "Visited n = 37\n",
      "Visited n = 36\n",
      "Visited n = 35\n",
      "Visited n = 34\n",
      "Visited n = 33\n",
      "Visited n = 32\n",
      "Visited n = 31\n",
      "Visited n = 30\n",
      "Visited n = 29\n",
      "Visited n = 28\n",
      "Visited n = 27\n",
      "Visited n = 26\n",
      "Visited n = 25\n",
      "Visited n = 24\n",
      "Visited n = 23\n",
      "Visited n = 22\n",
      "Visited n = 21\n",
      "Visited n = 20\n",
      "Visited n = 19\n",
      "Visited n = 18\n",
      "Visited n = 17\n",
      "Visited n = 16\n",
      "Visited n = 15\n",
      "Visited n = 14\n",
      "Visited n = 13\n",
      "Visited n = 12\n",
      "Visited n = 11\n",
      "Visited n = 10\n",
      "Visited n = 9\n",
      "Visited n = 8\n",
      "Visited n = 7\n",
      "Visited n = 6\n",
      "Visited n = 5\n",
      "Visited n = 4\n",
      "Visited n = 3\n",
      "Visited n = 2\n",
      "Visited n = 1\n",
      "Visited n = 0\n",
      "loop complete\n"
     ]
    }
   ],
   "source": [
    "N=10000\n",
    "dt=0.01 #0.001\n",
    "T=zeros(N)\n",
    "for i in range(N):\n",
    "    T[i]=i*dt\n",
    "\n",
    "\n",
    "M_prime = copy.deepcopy(M)\n",
    "l_prime = copy.deepcopy(l)\n",
    "#curr_n = n #Current number of neurons in network \n",
    "to_cull = 0\n",
    "\n",
    "tauv=0.01 #0.01\n",
    "tauc=0.5 #0.5\n",
    "Vstar=15 #Constant (according to experiments) 15\n",
    "Cstar=20 #20\n",
    "V0=18 #18\n",
    "C0=18 #18\n",
    "\n",
    "delV= 5. #1.\n",
    "delVmin = delV/3 #delV/3\n",
    "delC= 0.03 #0.03\n",
    "r_1= 70*99/(n-1)#Max Firing rate is r_1 + r_0 70\n",
    "r_0 = 5*99/(n-1) #Min firing rate 5\n",
    "\n",
    "g_v = 0.1\n",
    "g_c = 3\n",
    "\n",
    "params = np.zeros(15)\n",
    "\n",
    "params[0] = int(N)\n",
    "params[1] = int(n)\n",
    "params[2] = dt\n",
    "params[3] = tauv\n",
    "params[4] = tauc\n",
    "params[5] = Vstar\n",
    "params[6] = Cstar\n",
    "params[7] = delV\n",
    "params[8] = delC\n",
    "params[9] = r_1\n",
    "params[10] = V0\n",
    "params[11] = C0\n",
    "params[12] = g_v\n",
    "params[13] = g_c\n",
    "params[14] = r_0\n",
    "\n",
    "dg = 0.1\n",
    "g_max = 7.\n",
    "\n",
    "g_space = np.arange(g_v, g_max, dg)\n",
    "n_space = np.arange(2,n+1)\n",
    "\n",
    "phase = np.zeros((len(n_space), len(g_space)))\n",
    "\n",
    "network = Network(M, l, params)\n",
    "\n",
    "for i in reversed(range(len(n_space))):\n",
    "    network.M = network.M_init\n",
    "    network.l = network.l_init\n",
    "    network.params[1] = n\n",
    "    network.n = n\n",
    "    \n",
    "    if (network.n - n_space[i]) > 0:\n",
    "        #import pdb; pdb.set_trace()\n",
    "        network.kill_neuron2(network.n-n_space[i])\n",
    "    for j in range(len(g_space)):\n",
    "        #import pdb; pdb.set_trace()\n",
    "        network.params[12] = g_space[j]\n",
    "        C,V,c_arr,v_arr,sump = network.simdyn(network.M, network.l, network.params, connectivity=\"heterogeneous\",\n",
    "                                             activation=\"sigmoid\")\n",
    "        check = classify2(V,params)\n",
    "        phase[i,j] = check\n",
    "    print(\"Visited n = {}\".format(i))\n",
    "\n",
    "print('loop complete')\n"
   ]
  },
  {
   "cell_type": "code",
   "execution_count": 972,
   "metadata": {},
   "outputs": [
    {
     "data": {
      "image/png": "[encoded data removed]",
      "text/plain": [
       "<Figure size 432x288 with 1 Axes>"
      ]
     },
     "metadata": {
      "needs_background": "light"
     },
     "output_type": "display_data"
    }
   ],
   "source": [
    "cmap = plt.cm.viridis\n",
    "data = np.flip(phase, axis=0)\n",
    "norm = plt.Normalize(vmin = data.min(), vmax = data.max())\n",
    "img = cmap(norm(data))\n",
    "imshow(img, aspect='auto', extent=[g_space[0],g_space[-1],n_space[0],n_space[-1]])\n",
    "plt.title(\"delC = {:.3f}, p = {:.3f}\".format(delC, p))\n",
    "xlabel(r\"Sigmoid Steepness, $g$\")\n",
    "ylabel(r\"Neuron Count, $n$\")\n",
    "savefig(\"paper_figures/gv_variation\")"
   ]
  },
  {
   "cell_type": "code",
   "execution_count": 975,
   "metadata": {},
   "outputs": [
    {
     "data": {
      "text/plain": [
       "array([[1., 1., 1., ..., 2., 2., 2.],\n",
       "       [1., 1., 1., ..., 2., 2., 2.],\n",
       "       [1., 1., 1., ..., 2., 2., 2.],\n",
       "       ...,\n",
       "       [2., 2., 2., ..., 2., 2., 2.],\n",
       "       [2., 2., 2., ..., 2., 2., 2.],\n",
       "       [2., 2., 2., ..., 2., 2., 2.]])"
      ]
     },
     "execution_count": 975,
     "metadata": {},
     "output_type": "execute_result"
    }
   ],
   "source": [
    "data"
   ]
  },
  {
   "cell_type": "code",
   "execution_count": 974,
   "metadata": {},
   "outputs": [
    {
     "data": {
      "text/plain": [
       "(149, 69)"
      ]
     },
     "execution_count": 974,
     "metadata": {},
     "output_type": "execute_result"
    }
   ],
   "source": [
    "data.shape"
   ]
  },
  {
   "cell_type": "markdown",
   "metadata": {},
   "source": [
    "### Vary $g_C$ only"
   ]
  },
  {
   "cell_type": "code",
   "execution_count": null,
   "metadata": {},
   "outputs": [],
   "source": [
    "n = 150\n",
    "p = 3/4\n",
    "M = getRandomConnectivity(n, p)\n",
    "l = matrixOfEdges(M, n)"
   ]
  },
  {
   "cell_type": "code",
   "execution_count": 976,
   "metadata": {},
   "outputs": [
    {
     "name": "stdout",
     "output_type": "stream",
     "text": [
      "Visited n = 148\n",
      "Visited n = 147\n",
      "Visited n = 146\n",
      "Visited n = 145\n",
      "Visited n = 144\n",
      "Visited n = 143\n",
      "Visited n = 142\n",
      "Visited n = 141\n",
      "Visited n = 140\n",
      "Visited n = 139\n",
      "Visited n = 138\n",
      "Visited n = 137\n",
      "Visited n = 136\n",
      "Visited n = 135\n",
      "Visited n = 134\n",
      "Visited n = 133\n",
      "Visited n = 132\n",
      "Visited n = 131\n",
      "Visited n = 130\n",
      "Visited n = 129\n",
      "Visited n = 128\n",
      "Visited n = 127\n",
      "Visited n = 126\n",
      "Visited n = 125\n",
      "Visited n = 124\n",
      "Visited n = 123\n",
      "Visited n = 122\n",
      "Visited n = 121\n",
      "Visited n = 120\n",
      "Visited n = 119\n",
      "Visited n = 118\n",
      "Visited n = 117\n",
      "Visited n = 116\n",
      "Visited n = 115\n",
      "Visited n = 114\n",
      "Visited n = 113\n",
      "Visited n = 112\n",
      "Visited n = 111\n",
      "Visited n = 110\n",
      "Visited n = 109\n",
      "Visited n = 108\n",
      "Visited n = 107\n",
      "Visited n = 106\n",
      "Visited n = 105\n",
      "Visited n = 104\n",
      "Visited n = 103\n",
      "Visited n = 102\n",
      "Visited n = 101\n",
      "Visited n = 100\n",
      "Visited n = 99\n",
      "Visited n = 98\n",
      "Visited n = 97\n",
      "Visited n = 96\n",
      "Visited n = 95\n",
      "Visited n = 94\n",
      "Visited n = 93\n",
      "Visited n = 92\n",
      "Visited n = 91\n",
      "Visited n = 90\n",
      "Visited n = 89\n",
      "Visited n = 88\n",
      "Visited n = 87\n",
      "Visited n = 86\n",
      "Visited n = 85\n",
      "Visited n = 84\n",
      "Visited n = 83\n",
      "Visited n = 82\n",
      "Visited n = 81\n",
      "Visited n = 80\n",
      "Visited n = 79\n",
      "Visited n = 78\n",
      "Visited n = 77\n",
      "Visited n = 76\n",
      "Visited n = 75\n",
      "Visited n = 74\n",
      "Visited n = 73\n",
      "Visited n = 72\n",
      "Visited n = 71\n",
      "Visited n = 70\n",
      "Visited n = 69\n",
      "Visited n = 68\n",
      "Visited n = 67\n",
      "Visited n = 66\n",
      "Visited n = 65\n",
      "Visited n = 64\n",
      "Visited n = 63\n",
      "Visited n = 62\n",
      "Visited n = 61\n",
      "Visited n = 60\n",
      "Visited n = 59\n",
      "Visited n = 58\n",
      "Visited n = 57\n",
      "Visited n = 56\n",
      "Visited n = 55\n",
      "Visited n = 54\n",
      "Visited n = 53\n",
      "Visited n = 52\n",
      "Visited n = 51\n",
      "Visited n = 50\n",
      "Visited n = 49\n",
      "Visited n = 48\n",
      "Visited n = 47\n",
      "Visited n = 46\n",
      "Visited n = 45\n",
      "Visited n = 44\n",
      "Visited n = 43\n",
      "Visited n = 42\n",
      "Visited n = 41\n",
      "Visited n = 40\n",
      "Visited n = 39\n",
      "Visited n = 38\n",
      "Visited n = 37\n",
      "Visited n = 36\n",
      "Visited n = 35\n",
      "Visited n = 34\n",
      "Visited n = 33\n",
      "Visited n = 32\n",
      "Visited n = 31\n",
      "Visited n = 30\n",
      "Visited n = 29\n",
      "Visited n = 28\n",
      "Visited n = 27\n",
      "Visited n = 26\n",
      "Visited n = 25\n",
      "Visited n = 24\n",
      "Visited n = 23\n",
      "Visited n = 22\n",
      "Visited n = 21\n",
      "Visited n = 20\n",
      "Visited n = 19\n",
      "Visited n = 18\n",
      "Visited n = 17\n",
      "Visited n = 16\n",
      "Visited n = 15\n",
      "Visited n = 14\n",
      "Visited n = 13\n",
      "Visited n = 12\n",
      "Visited n = 11\n",
      "Visited n = 10\n",
      "Visited n = 9\n",
      "Visited n = 8\n",
      "Visited n = 7\n",
      "Visited n = 6\n",
      "Visited n = 5\n",
      "Visited n = 4\n",
      "Visited n = 3\n",
      "Visited n = 2\n",
      "Visited n = 1\n",
      "Visited n = 0\n",
      "loop complete\n"
     ]
    }
   ],
   "source": [
    "N=10000\n",
    "dt=0.01 #0.001\n",
    "T=zeros(N)\n",
    "for i in range(N):\n",
    "    T[i]=i*dt\n",
    "\n",
    "\n",
    "M_prime = copy.deepcopy(M)\n",
    "l_prime = copy.deepcopy(l)\n",
    "#curr_n = n #Current number of neurons in network \n",
    "to_cull = 0\n",
    "\n",
    "tauv=0.01 #0.01\n",
    "tauc=0.5 #0.5\n",
    "Vstar=15 #Constant (according to experiments) 15\n",
    "Cstar=20 #20\n",
    "V0=18 #18\n",
    "C0=18 #18\n",
    "\n",
    "delV= 5. #1.\n",
    "delVmin = delV/3 #delV/3\n",
    "delC= 0.03 #0.03\n",
    "r_1= 70*99/(n-1)#Max Firing rate is r_1 + r_0 70\n",
    "r_0 = 5*99/(n-1) #Min firing rate 5\n",
    "\n",
    "g_v = 3.\n",
    "g_c = 0.1\n",
    "\n",
    "params = np.zeros(15)\n",
    "\n",
    "params[0] = int(N)\n",
    "params[1] = int(n)\n",
    "params[2] = dt\n",
    "params[3] = tauv\n",
    "params[4] = tauc\n",
    "params[5] = Vstar\n",
    "params[6] = Cstar\n",
    "params[7] = delV\n",
    "params[8] = delC\n",
    "params[9] = r_1\n",
    "params[10] = V0\n",
    "params[11] = C0\n",
    "params[12] = g_v\n",
    "params[13] = g_c\n",
    "params[14] = r_0\n",
    "\n",
    "dg = 0.1\n",
    "g_max = 7.\n",
    "\n",
    "g_space = np.arange(g_v, g_max, dg)\n",
    "n_space = np.arange(2,n+1)\n",
    "\n",
    "phase = np.zeros((len(n_space), len(g_space)))\n",
    "\n",
    "network = Network(M, l, params)\n",
    "\n",
    "for i in reversed(range(len(n_space))):\n",
    "    network.M = network.M_init\n",
    "    network.l = network.l_init\n",
    "    network.params[1] = n\n",
    "    network.n = n\n",
    "    \n",
    "    if (network.n - n_space[i]) > 0:\n",
    "        #import pdb; pdb.set_trace()\n",
    "        network.kill_neuron2(network.n-n_space[i])\n",
    "    for j in range(len(g_space)):\n",
    "        #import pdb; pdb.set_trace()\n",
    "        network.params[13] = g_space[j]\n",
    "        C,V,c_arr,v_arr,sump = network.simdyn(network.M, network.l, network.params, connectivity=\"heterogeneous\",\n",
    "                                             activation=\"sigmoid\")\n",
    "        check = classify2(V,params)\n",
    "        phase[i,j] = check\n",
    "    print(\"Visited n = {}\".format(i))\n",
    "\n",
    "print('loop complete')\n"
   ]
  },
  {
   "cell_type": "code",
   "execution_count": 978,
   "metadata": {},
   "outputs": [
    {
     "data": {
      "image/png": "[encoded data removed]",
      "text/plain": [
       "<Figure size 432x288 with 1 Axes>"
      ]
     },
     "metadata": {
      "needs_background": "light"
     },
     "output_type": "display_data"
    }
   ],
   "source": [
    "cmap = plt.cm.viridis\n",
    "data = np.flip(phase, axis=0)\n",
    "norm = plt.Normalize(vmin = data.min(), vmax = data.max())\n",
    "img = cmap(norm(data))\n",
    "imshow(img, aspect='auto', extent=[g_space[0],g_space[-1],n_space[0],n_space[-1]])\n",
    "plt.title(\"delC = {:.3f}, p = {:.3f}\".format(delC, p))\n",
    "xlabel(r\"Sigmoid Steepness, $g$\")\n",
    "ylabel(r\"Neuron Count, $n$\")\n",
    "savefig(\"paper_figures/gc_variation\")"
   ]
  },
  {
   "cell_type": "markdown",
   "metadata": {},
   "source": [
    "# Phase Diagram with k-core plotted simultaneously "
   ]
  },
  {
   "cell_type": "code",
   "execution_count": 990,
   "metadata": {},
   "outputs": [],
   "source": [
    "n = 150\n",
    "p = 1/6\n",
    "M = getRandomConnectivity(n, p)\n",
    "l = matrixOfEdges(M, n)\n",
    "\n",
    "tauv=0.01 #0.01\n",
    "tauc=0.5 #0.5\n",
    "Vstar=15 #Constant (according to experiments) 15\n",
    "Cstar=20 #20\n",
    "V0=18 #18\n",
    "C0=18 #18\n",
    "\n",
    "delV= 5. #1.\n",
    "delVmin = delV/3 #delV/3\n",
    "delC= 0.03 #0.03\n",
    "r_1= 70*99/(n-1)#Max Firing rate is r_1 + r_0 70\n",
    "r_0 = 5*99/(n-1) #Min firing rate 5\n",
    "\n",
    "g_v = 3.\n",
    "g_c = 0.1\n",
    "\n",
    "params = np.zeros(15)\n",
    "\n",
    "params[0] = int(N)\n",
    "params[1] = int(n)\n",
    "params[2] = dt\n",
    "params[3] = tauv\n",
    "params[4] = tauc\n",
    "params[5] = Vstar\n",
    "params[6] = Cstar\n",
    "params[7] = delV\n",
    "params[8] = delC\n",
    "params[9] = r_1\n",
    "params[10] = V0\n",
    "params[11] = C0\n",
    "params[12] = g_v\n",
    "params[13] = g_c\n",
    "params[14] = r_0\n",
    "\n",
    "network = Network(M,l,params)\n",
    "network.kill_neuron2(120)"
   ]
  },
  {
   "cell_type": "code",
   "execution_count": 991,
   "metadata": {},
   "outputs": [
    {
     "data": {
      "text/plain": [
       "4.0"
      ]
     },
     "execution_count": 991,
     "metadata": {},
     "output_type": "execute_result"
    }
   ],
   "source": [
    "largestkcore(network.M)"
   ]
  },
  {
   "cell_type": "code",
   "execution_count": null,
   "metadata": {},
   "outputs": [],
   "source": []
  }
 ],
 "metadata": {
  "kernelspec": {
   "display_name": "Python 3",
   "language": "python",
   "name": "python3"
  },
  "language_info": {
   "codemirror_mode": {
    "name": "ipython",
    "version": 3
   },
   "file_extension": ".py",
   "mimetype": "text/x-python",
   "name": "python",
   "nbconvert_exporter": "python",
   "pygments_lexer": "ipython3",
   "version": "3.6.6"
  }
 },
 "nbformat": 4,
 "nbformat_minor": 2
}
