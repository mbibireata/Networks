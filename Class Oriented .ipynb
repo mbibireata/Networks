{
 "cells": [
  {
   "cell_type": "code",
   "execution_count": 1,
   "metadata": {},
   "outputs": [
    {
     "name": "stdout",
     "output_type": "stream",
     "text": [
      "Using matplotlib backend: Qt5Agg\n",
      "Populating the interactive namespace from numpy and matplotlib\n"
     ]
    }
   ],
   "source": [
    "import numpy as np\n",
    "%pylab \n",
    "rcParams['figure.figsize'] = 12,8\n",
    "from numba import jit\n",
    "import random\n",
    "\n",
    "import copy\n",
    "import networkx as nx"
   ]
  },
  {
   "cell_type": "markdown",
   "metadata": {},
   "source": [
    "### Random Network Generation"
   ]
  },
  {
   "cell_type": "code",
   "execution_count": 2,
   "metadata": {},
   "outputs": [],
   "source": [
    "def getRandomConnectivity(N, pct_connected):\n",
    "    #Directed mapping\n",
    "    M = np.random.rand(N**2).reshape(N,N)\n",
    "    for i in range(N):\n",
    "        for j in range(N):\n",
    "            if (i == j):\n",
    "                M[i,j] = 0\n",
    "            else:\n",
    "                if (M[i,j] < pct_connected):\n",
    "                    M[i,j] = 1 #i connects to j\n",
    "                else:\n",
    "                    M[i,j] = 0\n",
    "    return M"
   ]
  },
  {
   "cell_type": "markdown",
   "metadata": {},
   "source": [
    "### k-core functions "
   ]
  },
  {
   "cell_type": "code",
   "execution_count": 3,
   "metadata": {},
   "outputs": [],
   "source": [
    "def hasKcore(M, k):\n",
    "    # we'll be destroying the array so make a copy to work with\n",
    "    X = M.copy()\n",
    "    while(True):\n",
    "        cur_num_nodes = X.shape[0]\n",
    "        s = np.sum(X, 0)\n",
    "        nodes_to_delete = np.where(s < k)[0]\n",
    "        if (len(nodes_to_delete) == cur_num_nodes):\n",
    "            # nothing has at least k connections\n",
    "            \n",
    "            X = np.delete(X, nodes_to_delete, axis=0)\n",
    "            X = np.delete(X, nodes_to_delete, axis=1)\n",
    "            \n",
    "            return False\n",
    "            break\n",
    "        elif (len(nodes_to_delete) == 0):\n",
    "            # They all have at least k connections, we've found a kcore\n",
    "            return True\n",
    "            break\n",
    "        else:\n",
    "            X = np.delete(X, nodes_to_delete, axis=0)\n",
    "            X = np.delete(X, nodes_to_delete, axis=1)\n",
    "\n",
    "            \n",
    "# TODO get Kcore indices \n",
    "\n",
    "def largestKcore(M):\n",
    "    # we can begin the search at the least connected node\n",
    "    connectivity = np.sum(M,0)\n",
    "    min_kcore = np.min(connectivity)\n",
    "    max_kcore = np.max(connectivity)\n",
    "    if max_kcore == 0:\n",
    "        return 0\n",
    "    k = min_kcore\n",
    "    while (hasKcore(M,k)):\n",
    "        k = k+1\n",
    "        \n",
    "    return k - 1\n",
    "        \n",
    "    \n",
    "    \n",
    "def largestkcore(M):\n",
    "    # we can begin the search at the least connected node\n",
    "    connectivity = np.sum(M,0)\n",
    "    min_kcore = np.min(connectivity)\n",
    "    max_kcore = np.max(connectivity)\n",
    "    if max_kcore == 0:\n",
    "        return 0\n",
    "    k = min_kcore\n",
    "    s=1\n",
    "    while (s==1):\n",
    "        \n",
    "        X = M.copy()\n",
    "        while(True):\n",
    "            cur_num_nodes = X.shape[0]\n",
    "            s = np.sum(X, 0)\n",
    "            nodes_to_delete = np.where(s < k)[0]\n",
    "            if (len(nodes_to_delete) == cur_num_nodes):\n",
    "            # nothing has at least k connections\n",
    "            \n",
    "                X = np.delete(X, nodes_to_delete, axis=0)\n",
    "                X = np.delete(X, nodes_to_delete, axis=1)\n",
    "            \n",
    "                s=0\n",
    "                break\n",
    "            elif (len(nodes_to_delete) == 0):\n",
    "            # They all have at least k connections, we've found a kcore\n",
    "                s=1\n",
    "                break\n",
    "            else:\n",
    "                X = np.delete(X, nodes_to_delete, axis=0)\n",
    "                X = np.delete(X, nodes_to_delete, axis=1)\n",
    "        k = k+1\n",
    "        \n",
    "    return k - 1\n",
    "\n",
    "#TODO: Instead of deleting nodes, put 0's on all the connections for the rows and columns that are disconnected\n",
    "    #Keeps number of all neurons the same so that neuron 3 doesnt become neuron 2 etc. \n",
    "    #Look for neurons not in Kcore which are firing and neurons that are in kcore and not firing. \n",
    "def kcoreitself(M, k):\n",
    "    # we'll be destroying the array so make a copy to work with\n",
    "    X = M.copy()\n",
    "    \n",
    "    while(True):\n",
    "        cur_num_nodes = X.shape[0]\n",
    "        s = np.sum(X, 0)\n",
    "        nodes_to_delete = np.where(s < k)[0]\n",
    "        if (len(nodes_to_delete) == cur_num_nodes):\n",
    "            \n",
    "            X = np.delete(X, nodes_to_delete, axis=0)\n",
    "            X = np.delete(X, nodes_to_delete, axis=1)\n",
    "            # nothing has at least k connections\n",
    "            return X\n",
    "            break\n",
    "        elif (len(nodes_to_delete) == 0):\n",
    "            # They all have at least k connections, we've found a kcore\n",
    "            return X\n",
    "            break\n",
    "        else:\n",
    "            X = np.delete(X, nodes_to_delete, axis=0)\n",
    "            X = np.delete(X, nodes_to_delete, axis=1)\n",
    "\n",
    "\n",
    "\n",
    "#here we get the largest connected component of  the graph\n",
    "\n",
    "def largestcomponent(l,N):\n",
    "    n=np.random.randint(0,N)\n",
    "    \n",
    "    boundary=[n]\n",
    "    b=1\n",
    "    comp=[n]\n",
    "    c=1\n",
    "   \n",
    "    while(b>0):\n",
    "        a=boundary.pop()\n",
    "        \n",
    "        oldvertex=int(a)\n",
    "        \n",
    "        deg=l[oldvertex,0]\n",
    "        degree=int(deg)\n",
    "        #print(degree)\n",
    "        for j in range(degree):\n",
    "            newvertex=l[oldvertex,j+1]\n",
    "            q=comp.count(newvertex)\n",
    "            #print(newvertex)\n",
    "            q=int(q)\n",
    "            #print(q)\n",
    "            if (q==0):\n",
    "                comp.append(newvertex)\n",
    "                boundary.append(newvertex)\n",
    "                #print(newvertex)\n",
    "                #print(boundary)\n",
    "            \n",
    "        b=len(boundary)\n",
    "            \n",
    "    #sizeofcomp=len(comp)\n",
    "    return(comp)\n",
    "\n",
    "def matrixOfEdges(M,N):\n",
    "    N = int(N)\n",
    "    E=np.zeros(N**2).reshape(N,N)  #prepare array with zeros\n",
    "    k=np.sum(M,0) #array with degree of each vertex\n",
    "    for i in range(N):\n",
    "        a=int(k[i]) #degree of the current vertex\n",
    "        E[i,0]=a  #we put it to the zero row of matrix of edges\n",
    "    for i in range(N):\n",
    "        a=int(k[i])\n",
    "        q=1\n",
    "        for j in range(N):\n",
    "            if (M[j,i]==1):\n",
    "                E[i,q]=j #all the next elements in current column are number of vertices current vertex is connected to\n",
    "                q=q+1\n",
    "    return(E)\n",
    "\n",
    "def connectivityMap(l,N):\n",
    "    N = int(N)\n",
    "    M = np.zeros((N,N))\n",
    "    \n",
    "    for i in range(len(l)): \n",
    "        if l[i,0] == 0:\n",
    "            M[i] = np.zeros(N)\n",
    "        else:\n",
    "            for j in range(1,int(l[i,0])+1):\n",
    "                M[i,int(l[i,j])] = 1    \n",
    "    return M.T\n",
    "            "
   ]
  },
  {
   "cell_type": "markdown",
   "metadata": {},
   "source": [
    "### Classifier"
   ]
  },
  {
   "cell_type": "code",
   "execution_count": 4,
   "metadata": {},
   "outputs": [],
   "source": [
    "def cut(C): # Mihai ~ Removed unnecessary for loop \n",
    "    return C[int(0.9*len(C)):] #we take the second half of the time, when trajectory is close to SO, H,Q or chaos\n",
    "\n",
    "def deriv(X):  #just a derivative\n",
    "    N=len(X)\n",
    "    if N == 0: \n",
    "        return []\n",
    "    d=zeros(N-1)\n",
    "    for i in range(N-1):\n",
    "        d[i]=X[i+1]-X[i]\n",
    "    return d\n",
    "\n",
    "def muldev(X): #it is like a derivative but multiplication instead of difference\n",
    "    N=len(X)\n",
    "    md = zeros(N-1)\n",
    "    for i in range(N-1):\n",
    "        md[i]=X[i+1]*X[i]\n",
    "    return md\n",
    "\n",
    "def classifier(C1, timetolerance, Ctolerance):\n",
    "    C=cut(C1) #we look at the second half when it closer to the cycle or whatever it is\n",
    "    N=len(C)\n",
    "    countermax=0\n",
    "    countermin=0\n",
    "    Cprime=deriv(C)\n",
    "    Cmd=muldev(Cprime)\n",
    "    Cpp = deriv(Cprime)\n",
    "    for i in range(N-2):\n",
    "        if (Cmd[i]<0): #if sign of derivative changes it means that it max or min\n",
    "            if (Cpp[i]>0): #if second derivative > 0 it is min\n",
    "                countermin=countermin+1\n",
    "            else:\n",
    "                countermax=countermax+1 # else it is max\n",
    "    \n",
    "    max_C = max(C[int(.75*N):N])\n",
    "    min_C = min(C[int(.75*N):N])\n",
    "    \n",
    "    #print(max_C, \",\", min_C)\n",
    "    \n",
    "    if ((max_C - min_C) < Ctolerance):\n",
    "        return 2\n",
    "    \n",
    "    if ((countermin == 0) and (countermax == 0)):\n",
    "        return 2\n",
    "    \n",
    "    maximums=np.zeros(countermax)\n",
    "    minimums=np.zeros(countermin)\n",
    "    maxtimes=np.zeros(countermax)\n",
    "    mintimes=np.zeros(countermin)\n",
    "    qmax=0 #counter of max\n",
    "    qmin=0 #counter of min\n",
    "    for i in range(N-2):\n",
    "        if (Cmd[i]<0):\n",
    "            if (Cpp[i]>0):\n",
    "                mintimes[qmin]=i #the time when min occurs\n",
    "                minimums[qmin]=C[i] #the value\n",
    "                qmin=qmin+1 \n",
    "            else:\n",
    "                maxtimes[qmax]=i #the same story for max\n",
    "                maximums[qmax]=C[i]\n",
    "                qmax=qmax+1\n",
    "    \n",
    "    ### Mihai ~ ADDED TEMPORARY MAGIC NUMBERS TO FIX OFF BY 1 ### \n",
    "    min_dim = min(len(maxtimes),len(mintimes))\n",
    "    maxtimes = maxtimes[:min_dim]\n",
    "    mintimes = mintimes[:min_dim]\n",
    "    \n",
    "    minperiods=deriv(mintimes)\n",
    "    maxperiods=deriv(maxtimes)\n",
    "    #print(minperiods)\n",
    "    #print(maxperiods)\n",
    "\n",
    "    if(len(maxtimes)+len(mintimes)-2 < 2):  #if the period is too long #Mihai ~ Changed to .any(), but formulation is ambiguous\n",
    "        print('Increase observation time N*dt')\n",
    "        return(-1) #-1 is error \n",
    "    \n",
    "    \n",
    "    checker=1    #we will check conditions for this stuff to be cycle, not chaos. If at lest one of them fails, we put checker to 0\n",
    "    avper=(sum(minperiods)+sum(maxperiods))*1.0/(countermin+countermax-2) #average period\n",
    "    #print(avper)\n",
    "    #print(minimums)\n",
    "    #print(maximums)\n",
    "    avmin=sum(minimums)*1.0/countermin #average value of minimum\n",
    "    avmax=sum(maximums)*1.0/countermax #average value of maximum\n",
    "    if (avmax-avmin<Ctolerance):\n",
    "        return(2) #if the difference between min and max smaller than tolerance it is fixed point\n",
    "    #for i in range(countermin-1):\n",
    "    for i in range(countermin-2):\n",
    "        if (abs(minperiods[i]-avper)>timetolerance): #if the deviation from the average larger than the tolerance\n",
    "            checker=0 #than it is not SO\n",
    "    #for i in range(countermax-1):\n",
    "    for i in range(countermax-2):\n",
    "        if (abs(maxperiods[i]-avper)>timetolerance):\n",
    "            checker=0\n",
    "    for i in range(countermin):\n",
    "        if (abs(minimums[i]-avmin)>Ctolerance):\n",
    "            checker=0\n",
    "    for i in range(countermax):\n",
    "        if (abs(maximums[i]-avmax)>Ctolerance):\n",
    "            checker=0\n",
    "    return(checker) #1 is SO, 0 is chaos. 2 is fixed point. -1 is error. "
   ]
  },
  {
   "cell_type": "code",
   "execution_count": 162,
   "metadata": {},
   "outputs": [],
   "source": [
    "#TODO: Sloppy, clean up. \n",
    "@jit(nopython=True)\n",
    "def simDynamics(M, l, params):  #params is a vector of parameters\n",
    "    N=int(params[0])\n",
    "    n=int(params[1])\n",
    "    dt=params[2]\n",
    "    tauv=params[3]\n",
    "    tauc=params[4]\n",
    "    Vstar=params[5]\n",
    "    Cstar=params[6]\n",
    "    delV=params[7]\n",
    "    delC=params[8]\n",
    "    r=params[9]\n",
    "    V0=params[10]\n",
    "    C0=params[11]\n",
    "    V=zeros(N*n).reshape(N,n)  #now we have potencial and calcium concentration for each neuron\n",
    "    C=zeros(N*n).reshape(N,n)\n",
    "    P=zeros(n)  # function P(V), sigmoid\n",
    "    sump=zeros(n)  #sum of P over the vertices\n",
    "    avV=zeros(N) #average potencial\n",
    "    avC=zeros(N)  #average calcium\n",
    "    g_v=params[12]\n",
    "    g_c=params[13]\n",
    "    r_0=params[14]\n",
    "\n",
    "    firing_neurons_count = zeros(N*n).reshape(N,n) #Keep dimensions of C and V\n",
    "\n",
    "    for i in range(n):\n",
    "        \n",
    "        V[0,i] = V0 #initial conditions\n",
    "        C[0,i] = C0 \n",
    "\n",
    "        #V[0,i] = np.random.uniform(Vstar-1,Vstar+1)\n",
    "        #C[0,i] = np.random.uniform(Cstar-1,Cstar+1)\n",
    "        \n",
    "        if V[0,i] < 10: \n",
    "            firing_neurons_count[0,i] = 1 #Firing count based on I.C's \n",
    "        elif V[0,i] < 25:\n",
    "            firing_neurons_count[0,i] = 2\n",
    "        elif V[0,i] < 40:\n",
    "            firing_neurons_count[0,i] = 3\n",
    "        elif V[0,i] >= 40:\n",
    "            firing_neurons_count[0,i] = 4\n",
    "\n",
    "        avV[0]=n*V0  #we will divide to n later\n",
    "        avC[0]=n*C0\n",
    "    for i in range (N-1):\n",
    "        for j in range(n):\n",
    "            P[j] = r/(1+exp((Vstar-V[i,j])/g_v)) + r_0 #Added r_0\n",
    "            #print(P[j]) #Debug statement to see range of P[j]\n",
    "        for j in range(n):\n",
    "            a=int(l[j,0])\n",
    "            for k in range(a):\n",
    "                b=int(l[j,k])\n",
    "                sump[j]=sump[j]+P[b]  #if neuron connected to j-th neuron it participates in sum\n",
    "        for j in range(n):\n",
    "            V[i+1,j]=(-V[i,j]/tauv + delV*sump[j]*(1/(1+exp((C[i,j]-Cstar)/g_c))) )*dt + V[i,j]\n",
    "            C[i+1,j]=(-C[i,j]/tauc + delC*sump[j])*dt + C[i,j]\n",
    "\n",
    "            avC[i+1]=avC[i+1]+C[i+1,j]\n",
    "            avV[i+1]=avV[i+1]+V[i+1,j]\n",
    "        for j in range(n):\n",
    "            sump[j]=0\n",
    "    for i in range (N):\n",
    "        avC[i]=avC[i]/n\n",
    "        avV[i]=avV[i]/n\n",
    "\n",
    "        #plot([avC[i],avC[i+1]],[avV[i],avV[i+1]])    \n",
    "    return(avC,avV,C,V)#,firing_neurons_count) #Now also return count of firing neurons\n",
    "\n",
    "@jit(nopython=True)\n",
    "def simDynamics2(M, l, params):  #params is a vector of parameters\n",
    "    N=int(params[0])\n",
    "    n=int(params[1])\n",
    "    dt=params[2]\n",
    "    tauv=params[3]\n",
    "    tauc=params[4]\n",
    "    Vstar=params[5]\n",
    "    Cstar=params[6]\n",
    "    delV=params[7]\n",
    "    delC=params[8]\n",
    "    r_1=params[9]\n",
    "    V0=params[10]\n",
    "    C0=params[11]\n",
    "    delVmin=params[12]\n",
    "    r_0=params[13]\n",
    "    V=zeros(N*n).reshape(N,n)  #now we have potencial and calcium concentration for each neuron\n",
    "    C=zeros(N*n).reshape(N,n)\n",
    "    #P=zeros(n)  # function P(V), sigmoid\n",
    "    P = zeros(N*n).reshape(N,n)\n",
    "    deltaV=zeros(n)\n",
    "    sump=zeros(n)  #sum of P over the vertices\n",
    "    avV=zeros(N) #average potencial\n",
    "    avC=zeros(N)  #average calcium\n",
    "    firing_neurons_count = zeros(N*n).reshape(N,n) #Individually count how may neurons are actually firing in this model at a given step N.\n",
    "    \n",
    "    for i in range(n):\n",
    "        V[0,i]= np.random.uniform(0, 2*Vstar)#V0 #initial conditions\n",
    "        C[0,i]= np.random.uniform(Cstar - 0.5, Cstar + 0.5)#C0 \n",
    "        if V[0,i] > Vstar: #keep track of and return how many neurons in the network are actually firing  \n",
    "            firing_neurons_count[0,i] = 1\n",
    "        avV[0]=n*V0  #we will divide to n later\n",
    "        avC[0]=n*C0\n",
    "    for i in range (N-1):\n",
    "        for j in range(n):\n",
    "            if (V[i,j]>Vstar): #V[i,j] stores voltage of each neuron instead of returning the average voltage \n",
    "                P[i,j]=r_1+r_0\n",
    "            else:\n",
    "                P[i,j]=r_0\n",
    "            if (C[i,j]<Cstar):\n",
    "                deltaV[j]=delV #change from 1.2 \n",
    "            else:\n",
    "                deltaV[j]=0#delVmin #changed from .4\n",
    "        for j in range(n):\n",
    "            a=int(l[j,0]) #a should give number of firing neighbors \n",
    "            for k in range(a):\n",
    "                #b=int(l[j,k])\n",
    "                b = int(l[j,k+1])\n",
    "                sump[j]=sump[j]+P[i,b]  #if neuron connected to j-th neuron it participates in sum\n",
    "        for j in range(n):\n",
    "            V[i+1,j]=(-V[i,j]/tauv + deltaV[j]*sump[j])*dt + V[i,j]\n",
    "            if V[i+1,j] > Vstar: \n",
    "                firing_neurons_count[i+1,j] = 1 #used to return count of firing neurons later\n",
    "            #if ((firing_neurons_count[i,j] == 1) and (firing_neurons_count[i+1,j] == 0)):\n",
    "            #    print(sump[j])\n",
    "            #C[i+1,j]=(-C[i,j]/tauc + delC*(r_1+r_0)*sump[j])*dt + C[i,j]\n",
    "            C[i+1,j]=(-C[i,j]/tauc + delC*sump[j])*dt + C[i,j]\n",
    "            #print(sump[j])\n",
    "            avC[i+1]=avC[i+1]+C[i+1,j]\n",
    "            avV[i+1]=avV[i+1]+V[i+1,j]\n",
    "        for j in range(n):\n",
    "            sump[j]=0\n",
    "    for i in range (N):\n",
    "        avC[i]=avC[i]/n\n",
    "        avV[i]=avV[i]/n\n",
    "        \n",
    "        #plot([avC[i],avC[i+1]],[avV[i],avV[i+1]])    \n",
    "    return(avC,avV, firing_neurons_count, P, V, C)\n",
    "\n",
    "@jit(nopython=True)\n",
    "def mean_field_dynamics(params):\n",
    "    N = int(params[0])\n",
    "    n = int(params[1]) \n",
    "    dt = params[2]\n",
    "    tauv = params[3]\n",
    "    tauc = params[4] \n",
    "    Vstar = params[5] \n",
    "    Cstar = params[6]\n",
    "    delV = params[7]\n",
    "    delC = params[8]\n",
    "    r_1 = params[9]\n",
    "    r_0 = params[10]\n",
    "    V_0 = params[11]\n",
    "    C_0 = params[12]\n",
    "    \n",
    "    V=zeros(N*n).reshape(N,n)  #now we have potencial and calcium concentration for each neuron\n",
    "    C=zeros(N*n).reshape(N,n)\n",
    "    \n",
    "    firing_neurons_count = zeros(N*n).reshape(N,n) #Individually count how may neurons are actually firing in this model at a given step N.\n",
    "    \n",
    "    avV=zeros(N) #average potencial\n",
    "    avC=zeros(N)  #average calcium\n",
    "    \n",
    "    for i in range(n):\n",
    "        V[0,i]=V_0 #initial conditions\n",
    "        C[0,i]=C_0\n",
    "        if V[0,i] > Vstar: #keep track of and return how many neurons in the network are actually firing  \n",
    "            firing_neurons_count[0,i] = 1\n",
    "        avV[0]=n*V_0  #we will divide to n later\n",
    "        avC[0]=n*C_0\n",
    "    \n",
    "    for i in range(N - 1): \n",
    "        for j in range(n):\n",
    "            if V[i,j] > Vstar: \n",
    "                r = r_1\n",
    "            else:\n",
    "                r = 0\n",
    "\n",
    "            if C[i,j] < Cstar: \n",
    "                dV = delV \n",
    "            else: \n",
    "                dV = 0\n",
    "\n",
    "            V[i+1,j] = (-V[i,j]/tauv + (n-1)*dV*(r + r_0)) * dt + V[i,j]\n",
    "            if V[i+1,j] > Vstar: \n",
    "                firing_neurons_count[i+1,j] = 1\n",
    "            C[i+1,j] = (-C[i,j]/tauc + (n-1)*delC*(r + r_0)) * dt + C[i,j]\n",
    "            avC[i+1]=avC[i+1]+C[i+1,j]\n",
    "            avV[i+1]=avV[i+1]+V[i+1,j]\n",
    "            \n",
    "    for i in range (N):\n",
    "        avC[i]=avC[i]/n\n",
    "        avV[i]=avV[i]/n    \n",
    "    \n",
    "    return avC, avV, firing_neurons_count \n",
    "\n",
    "@jit(nopython=True)\n",
    "def mean_field_dynamics2(params):\n",
    "    N=int(params[0])\n",
    "    n=int(params[1])\n",
    "    dt=params[2]\n",
    "    tauv=params[3]\n",
    "    tauc=params[4]\n",
    "    Vstar=params[5]\n",
    "    Cstar=params[6]\n",
    "    delV=params[7]\n",
    "    delC=params[8]\n",
    "    r=params[9]\n",
    "    V0=params[10]\n",
    "    C0=params[11]\n",
    "    Va=zeros(N)  #now we have potencial and calcium concentration for each neuron\n",
    "    Ca=zeros(N)\n",
    "    Vi=zeros(N)\n",
    "    Ci=zeros(N)\n",
    "    P=zeros(n)  # function P(V), sigmoid\n",
    "    sump=zeros(n)  #sum of P over the vertices\n",
    "    avVa=zeros(N) #average potencial\n",
    "    avCa=zeros(N)  #average calcium\n",
    "    avVi=zeros(N) \n",
    "    avCi=zeros(N)  \n",
    "    g_v=params[12]\n",
    "    g_c=params[13]\n",
    "    r_0=params[14]\n",
    "    \n",
    "    n_firing = 32\n",
    "    m_not_firing = n-32\n",
    "    \n",
    "    for i in range(n):\n",
    "        Va[0]=Vstar+1 #initial conditions\n",
    "        Ca[0]=Cstar-1\n",
    "        Vi[0]=Vstar-1 #initial conditions\n",
    "        Ci[0]=Cstar+1\n",
    "\n",
    "    for i in range(N - 1): \n",
    "        \n",
    "        #Change to Va\n",
    "        #V[i+1,j] = (-V[i,j]/tauv + (n-1)*dV*(r + r_0)) * dt + V[i,j]\n",
    "        Va[i+1] = (-Va[i]/tauv + (1/(1+exp((Ca[i]-Cstar)/g_c))) * \n",
    "                     ((n_firing-1)*(r/(1+exp((Vstar-Va[i])/g_v)) + r_0) + \n",
    "                    m_not_firing*(r/(1+exp((Vstar-Vi[i])/g_v)) + r_0))) * dt + Va[i] \n",
    "        Ca[i+1] = (-Ca[i]/tauc + (delC * ((n_firing-1)*(r/(1+exp((Vstar-Va[i])/g_v)) + r_0) + \n",
    "                    m_not_firing*(r/(1+exp((Vstar-Vi[i])/g_v)) + r_0)))) * dt + Ca[i]\n",
    "\n",
    "        Vi[i+1] = (-Vi[i]/tauv + (1/(1+exp((Ci[i]-Cstar)/g_c))) * \n",
    "                     ((n_firing)*(r/(1+exp((Vstar-Va[i])/g_v)) + r_0) + \n",
    "                    (m_not_firing - 1)*(r/(1+exp((Vstar-Vi[i])/g_v)) + r_0))) * dt + Va[i] \n",
    "        Ci[i+1] = (-Ci[i]/tauc + (delC * ((n_firing)*(r/(1+exp((Vstar-Va[i])/g_v)) + r_0) + \n",
    "                    (m_not_firing - 1)*(r/(1+exp((Vstar-Vi[i])/g_v)) + r_0)))) * dt + Ca[i]\n",
    "\n",
    "    return Va, Ca, Vi, Ci\n",
    "\n",
    "class Network: \n",
    "    def __init__(self, M, l, params):\n",
    "        self.M_init = M\n",
    "        self.l_init = l \n",
    "        self.M = M\n",
    "        self.l = l\n",
    "        self.params = params\n",
    "        self.N = int(params[0])\n",
    "        self.n_init = int(params[1])\n",
    "        self.n = int(params[1])\n",
    "        self.dt = params[2]\n",
    "        self.tauv = params[3]\n",
    "        self.tauc = params[4]\n",
    "        self.Vstar = params[5]\n",
    "        self.Cstar = params[6]\n",
    "        self.delV = params[7]\n",
    "        self.delC = params[8]\n",
    "        self.r = params[9]\n",
    "        self.V0 = params[10]\n",
    "        self.C0 = params[11]\n",
    "        self.g_v = params[12]\n",
    "        self.g_c = params[13]\n",
    "        self.r_0 = params[14]\n",
    "        self.n_edges = np.sum(self.l[:,0])\n",
    "        self.kill_order = []\n",
    "        \n",
    "    def kill_neuron(self):\n",
    "        x = 1\n",
    "        self.n -= 1\n",
    "        self.params[1] = self.n\n",
    "        self.M = np.delete(self.M,x,axis=0)\n",
    "        self.M = np.delete(self.M,x,axis=1)\n",
    "        #self.M[x] = np.zeros(self.n_init)\n",
    "        #self.M[:,x] = np.zeros(self.n_init)\n",
    "        self.l = matrixOfEdges(self.M, self.n)\n",
    "\n",
    "    def killEdge(self):\n",
    "        l_copy = copy.deepcopy(self.l)\n",
    "        \n",
    "        non_zero_rows = []\n",
    "        \n",
    "        for i in range(self.n):\n",
    "            if l_copy[i,0] != 0:\n",
    "                non_zero_rows.append(i)\n",
    "            # Experimental removal of neurons as all incoming edges are killed \n",
    "            #else:\n",
    "            #    self.n -= 1\n",
    "            \n",
    "        \n",
    "        #randomly pick a row that has some connections\n",
    "        if len(non_zero_rows) == 0:\n",
    "            return False\n",
    "        \n",
    "        row_idx = random.randint(0,len(non_zero_rows) - 1)\n",
    "        row = non_zero_rows[row_idx]\n",
    "        \n",
    "        if l_copy[row,0] == 0:\n",
    "            self.l = l_copy\n",
    "            return False\n",
    "        \n",
    "        else: \n",
    "            #randomly pick edge\n",
    "            edge_idx = random.randint(1,l_copy[row,0])\n",
    "            row_reinsert = l_copy[row]#np.zeros(self.n)\n",
    "            row_reinsert[0] = l_copy[row,0] - 1\n",
    "            row_reinsert[1:edge_idx] = l_copy[row,1:edge_idx]\n",
    "            \n",
    "            #remove entry and roll array \n",
    "            row_reinsert[edge_idx] = 0\n",
    "            \n",
    "            rolled = np.roll(row_reinsert[edge_idx:],-1)\n",
    "            row_reinsert[edge_idx:] = rolled\n",
    "            l_copy[row] = row_reinsert\n",
    "            \n",
    "            self.l = l_copy\n",
    "            self.M = connectivityMap(self.l, self.n)\n",
    "            self.n_edges -= 1\n",
    "            \n",
    "            return True\n",
    "        \n",
    "    def killEdge2(self, n):\n",
    "        for i in range(n): \n",
    "            l_copy = copy.deepcopy(self.l)\n",
    "        \n",
    "            non_zero_rows = []\n",
    "\n",
    "            for j in range(self.n):\n",
    "                if l_copy[j,0] != 0:\n",
    "                    non_zero_rows.append(j)\n",
    "                    \n",
    "            row = non_zero_rows[self.kill_order[i][0]]\n",
    "            \n",
    "        \n",
    "            #randomly pick edge\n",
    "            edge_idx = self.kill_order[i][1]\n",
    "            row_reinsert = l_copy[row]#np.zeros(self.n)\n",
    "            row_reinsert[0] = l_copy[row,0] - 1\n",
    "            row_reinsert[1:edge_idx] = l_copy[row,1:edge_idx]\n",
    "\n",
    "            #remove entry and roll array \n",
    "            row_reinsert[edge_idx] = 0\n",
    "\n",
    "            rolled = np.roll(row_reinsert[edge_idx:],-1)\n",
    "            row_reinsert[edge_idx:] = rolled\n",
    "            l_copy[row] = row_reinsert\n",
    "\n",
    "            self.l = l_copy\n",
    "            self.M = connectivityMap(self.l, self.n)\n",
    "            self.n_edges -= 1\n",
    "        \n",
    "    def init_kill_order(self):\n",
    "        while True:\n",
    "            l_copy = copy.deepcopy(self.l)\n",
    "\n",
    "            non_zero_rows = []\n",
    "\n",
    "            for i in range(self.n):\n",
    "                if l_copy[i,0] != 0:\n",
    "                    non_zero_rows.append(i)\n",
    "                # Experimental removal of neurons as all incoming edges are killed \n",
    "                #else:\n",
    "                #    self.n -= 1\n",
    "\n",
    "\n",
    "            #randomly pick a row that has some connections\n",
    "            if len(non_zero_rows) == 0:\n",
    "                #reset initial values \n",
    "                self.M = self.M_init\n",
    "                self.l = self.l_init\n",
    "                self.n_edges = np.sum(self.l_init[:,0])\n",
    "                break\n",
    "\n",
    "            row_idx = random.randint(0,len(non_zero_rows) - 1)\n",
    "            row = non_zero_rows[row_idx]\n",
    "\n",
    "            #randomly pick edge\n",
    "            edge_idx = random.randint(1,l_copy[row,0])\n",
    "            row_reinsert = l_copy[row]#np.zeros(self.n)\n",
    "            row_reinsert[0] = l_copy[row,0] - 1\n",
    "            row_reinsert[1:edge_idx] = l_copy[row,1:edge_idx]\n",
    "\n",
    "            #remove entry and roll array \n",
    "            row_reinsert[edge_idx] = 0\n",
    "\n",
    "            rolled = np.roll(row_reinsert[edge_idx:],-1)\n",
    "            row_reinsert[edge_idx:] = rolled\n",
    "            l_copy[row] = row_reinsert\n",
    "\n",
    "            self.l = l_copy\n",
    "            self.M = connectivityMap(self.l, self.n)\n",
    "            self.n_edges -= 1\n",
    "            \n",
    "            self.kill_order.append((row_idx, edge_idx))\n",
    "        \n",
    "    def simdyn(self, M, l, params):\n",
    "        return simDynamics(self.M, self.l, self.params)\n",
    "    \n",
    "class StepNetwork:\n",
    "    def __init__(self, M, l, params):\n",
    "        self.M_init = M\n",
    "        self.M = M\n",
    "        self.l_init = l\n",
    "        self.l = l\n",
    "        self.params = params \n",
    "        self.n = int(params[1])\n",
    "        \n",
    "        self.n_edges = np.sum(self.l[:,0])\n",
    "        self.kill_order = []\n",
    "        \n",
    "    def killEdge(self):\n",
    "        l_copy = copy.deepcopy(self.l)\n",
    "        \n",
    "        non_zero_rows = []\n",
    "        \n",
    "        for i in range(self.n):\n",
    "            if l_copy[i,0] != 0:\n",
    "                non_zero_rows.append(i)\n",
    "            # Experimental removal of neurons as all incoming edges are killed \n",
    "            #else:\n",
    "            #    self.n -= 1\n",
    "            \n",
    "        \n",
    "        #randomly pick a row that has some connections\n",
    "        if len(non_zero_rows) == 0:\n",
    "            return False\n",
    "        \n",
    "        row_idx = random.randint(0,len(non_zero_rows) - 1)\n",
    "        row = non_zero_rows[row_idx]\n",
    "        \n",
    "        if l_copy[row,0] == 0:\n",
    "            self.l = l_copy\n",
    "            return False\n",
    "        \n",
    "        else: \n",
    "            #randomly pick edge\n",
    "            edge_idx = random.randint(1,l_copy[row,0])\n",
    "            row_reinsert = l_copy[row]#np.zeros(self.n)\n",
    "            row_reinsert[0] = l_copy[row,0] - 1\n",
    "            row_reinsert[1:edge_idx] = l_copy[row,1:edge_idx]\n",
    "            \n",
    "            #remove entry and roll array \n",
    "            row_reinsert[edge_idx] = 0\n",
    "            \n",
    "            rolled = np.roll(row_reinsert[edge_idx:],-1)\n",
    "            row_reinsert[edge_idx:] = rolled\n",
    "            l_copy[row] = row_reinsert\n",
    "            \n",
    "            self.l = l_copy\n",
    "            self.M = connectivityMap(self.l, self.n)\n",
    "            self.n_edges -= 1\n",
    "            \n",
    "            return True\n",
    "        \n",
    "    def killEdge2(self, n):\n",
    "        for i in range(n): \n",
    "            l_copy = copy.deepcopy(self.l)\n",
    "        \n",
    "            non_zero_rows = []\n",
    "\n",
    "            for j in range(self.n):\n",
    "                if l_copy[j,0] != 0:\n",
    "                    non_zero_rows.append(j)\n",
    "                    \n",
    "            row = non_zero_rows[self.kill_order[i][0]]\n",
    "            \n",
    "        \n",
    "            #randomly pick edge\n",
    "            edge_idx = self.kill_order[i][1]\n",
    "            row_reinsert = l_copy[row]#np.zeros(self.n)\n",
    "            row_reinsert[0] = l_copy[row,0] - 1\n",
    "            row_reinsert[1:edge_idx] = l_copy[row,1:edge_idx]\n",
    "\n",
    "            #remove entry and roll array \n",
    "            row_reinsert[edge_idx] = 0\n",
    "\n",
    "            rolled = np.roll(row_reinsert[edge_idx:],-1)\n",
    "            row_reinsert[edge_idx:] = rolled\n",
    "            l_copy[row] = row_reinsert\n",
    "\n",
    "            self.l = l_copy\n",
    "            self.M = connectivityMap(self.l, self.n)\n",
    "            self.n_edges -= 1\n",
    "        \n",
    "    def init_kill_order(self):\n",
    "        while True:\n",
    "            l_copy = copy.deepcopy(self.l)\n",
    "\n",
    "            non_zero_rows = []\n",
    "\n",
    "            for i in range(self.n):\n",
    "                if l_copy[i,0] != 0:\n",
    "                    non_zero_rows.append(i)\n",
    "                # Experimental removal of neurons as all incoming edges are killed \n",
    "                #else:\n",
    "                #    self.n -= 1\n",
    "\n",
    "\n",
    "            #randomly pick a row that has some connections\n",
    "            if len(non_zero_rows) == 0:\n",
    "                #reset initial values \n",
    "                self.M = self.M_init\n",
    "                self.l = self.l_init\n",
    "                self.n_edges = np.sum(self.l_init[:,0])\n",
    "                break\n",
    "\n",
    "            row_idx = random.randint(0,len(non_zero_rows) - 1)\n",
    "            row = non_zero_rows[row_idx]\n",
    "\n",
    "            #randomly pick edge\n",
    "            edge_idx = random.randint(1,l_copy[row,0])\n",
    "            row_reinsert = l_copy[row]#np.zeros(self.n)\n",
    "            row_reinsert[0] = l_copy[row,0] - 1\n",
    "            row_reinsert[1:edge_idx] = l_copy[row,1:edge_idx]\n",
    "\n",
    "            #remove entry and roll array \n",
    "            row_reinsert[edge_idx] = 0\n",
    "\n",
    "            rolled = np.roll(row_reinsert[edge_idx:],-1)\n",
    "            row_reinsert[edge_idx:] = rolled\n",
    "            l_copy[row] = row_reinsert\n",
    "\n",
    "            self.l = l_copy\n",
    "            self.M = connectivityMap(self.l, self.n)\n",
    "            self.n_edges -= 1\n",
    "            \n",
    "            self.kill_order.append((row_idx, edge_idx))\n",
    "        \n",
    "    #Return JIT'd dynamics simulation for step function \n",
    "    def simdyn(self, M, l, params): \n",
    "        return simDynamics2(self.M, self.l, self.params)\n",
    "    \n",
    "class MeanFieldStepNetwork:\n",
    "    def __init__(self, M, l, params):\n",
    "        self.M_init = M\n",
    "        self.M = M\n",
    "        self.l_init = l\n",
    "        self.l = l\n",
    "        self.params = params \n",
    "        self.n = int(params[1])\n",
    "        \n",
    "        self.n_edges = np.sum(self.l[:,0])\n",
    "        self.kill_order = []\n",
    "        \n",
    "    def killEdge(self):\n",
    "        l_copy = copy.deepcopy(self.l)\n",
    "        \n",
    "        non_zero_rows = []\n",
    "        \n",
    "        for i in range(self.n):\n",
    "            if l_copy[i,0] != 0:\n",
    "                non_zero_rows.append(i)\n",
    "            # Experimental removal of neurons as all incoming edges are killed \n",
    "            #else:\n",
    "            #    self.n -= 1\n",
    "            \n",
    "        \n",
    "        #randomly pick a row that has some connections\n",
    "        if len(non_zero_rows) == 0:\n",
    "            return False\n",
    "        \n",
    "        row_idx = random.randint(0,len(non_zero_rows) - 1)\n",
    "        row = non_zero_rows[row_idx]\n",
    "        \n",
    "        if l_copy[row,0] == 0:\n",
    "            self.l = l_copy\n",
    "            return False\n",
    "        \n",
    "        else: \n",
    "            #randomly pick edge\n",
    "            edge_idx = random.randint(1,l_copy[row,0])\n",
    "            row_reinsert = l_copy[row]#np.zeros(self.n)\n",
    "            row_reinsert[0] = l_copy[row,0] - 1\n",
    "            row_reinsert[1:edge_idx] = l_copy[row,1:edge_idx]\n",
    "            \n",
    "            #remove entry and roll array \n",
    "            row_reinsert[edge_idx] = 0\n",
    "            \n",
    "            rolled = np.roll(row_reinsert[edge_idx:],-1)\n",
    "            row_reinsert[edge_idx:] = rolled\n",
    "            l_copy[row] = row_reinsert\n",
    "            \n",
    "            self.l = l_copy\n",
    "            self.M = connectivityMap(self.l, self.n)\n",
    "            self.n_edges -= 1\n",
    "            \n",
    "            return True\n",
    "        \n",
    "    def killEdge2(self, n):\n",
    "        for i in range(n): \n",
    "            l_copy = copy.deepcopy(self.l)\n",
    "        \n",
    "            non_zero_rows = []\n",
    "\n",
    "            for j in range(self.n):\n",
    "                if l_copy[j,0] != 0:\n",
    "                    non_zero_rows.append(j)\n",
    "                    \n",
    "            row = non_zero_rows[self.kill_order[i][0]]\n",
    "            \n",
    "        \n",
    "            #randomly pick edge\n",
    "            edge_idx = self.kill_order[i][1]\n",
    "            row_reinsert = l_copy[row]#np.zeros(self.n)\n",
    "            row_reinsert[0] = l_copy[row,0] - 1\n",
    "            row_reinsert[1:edge_idx] = l_copy[row,1:edge_idx]\n",
    "\n",
    "            #remove entry and roll array \n",
    "            row_reinsert[edge_idx] = 0\n",
    "\n",
    "            rolled = np.roll(row_reinsert[edge_idx:],-1)\n",
    "            row_reinsert[edge_idx:] = rolled\n",
    "            l_copy[row] = row_reinsert\n",
    "\n",
    "            self.l = l_copy\n",
    "            self.M = connectivityMap(self.l, self.n)\n",
    "            self.n_edges -= 1\n",
    "        \n",
    "    def init_kill_order(self):\n",
    "        while True:\n",
    "            l_copy = copy.deepcopy(self.l)\n",
    "\n",
    "            non_zero_rows = []\n",
    "\n",
    "            for i in range(self.n):\n",
    "                if l_copy[i,0] != 0:\n",
    "                    non_zero_rows.append(i)\n",
    "                # Experimental removal of neurons as all incoming edges are killed \n",
    "                #else:\n",
    "                #    self.n -= 1\n",
    "\n",
    "\n",
    "            #randomly pick a row that has some connections\n",
    "            if len(non_zero_rows) == 0:\n",
    "                #reset initial values \n",
    "                self.M = self.M_init\n",
    "                self.l = self.l_init\n",
    "                self.n_edges = np.sum(self.l_init[:,0])\n",
    "                break\n",
    "\n",
    "            row_idx = random.randint(0,len(non_zero_rows) - 1)\n",
    "            row = non_zero_rows[row_idx]\n",
    "\n",
    "            #randomly pick edge\n",
    "            edge_idx = random.randint(1,l_copy[row,0])\n",
    "            row_reinsert = l_copy[row]#np.zeros(self.n)\n",
    "            row_reinsert[0] = l_copy[row,0] - 1\n",
    "            row_reinsert[1:edge_idx] = l_copy[row,1:edge_idx]\n",
    "\n",
    "            #remove entry and roll array \n",
    "            row_reinsert[edge_idx] = 0\n",
    "\n",
    "            rolled = np.roll(row_reinsert[edge_idx:],-1)\n",
    "            row_reinsert[edge_idx:] = rolled\n",
    "            l_copy[row] = row_reinsert\n",
    "\n",
    "            self.l = l_copy\n",
    "            self.M = connectivityMap(self.l, self.n)\n",
    "            self.n_edges -= 1\n",
    "            \n",
    "            self.kill_order.append((row_idx, edge_idx))\n",
    "        \n",
    "    #Return JIT'd dynamics simulation for step function \n",
    "    def simdyn(self, params): \n",
    "        return mean_field_dynamics2(self.params)\n",
    "     "
   ]
  },
  {
   "cell_type": "code",
   "execution_count": 6,
   "metadata": {},
   "outputs": [
    {
     "ename": "NameError",
     "evalue": "name 'M' is not defined",
     "output_type": "error",
     "traceback": [
      "\u001b[0;31m---------------------------------------------------------------------------\u001b[0m",
      "\u001b[0;31mNameError\u001b[0m                                 Traceback (most recent call last)",
      "\u001b[0;32m<ipython-input-6-a09044594169>\u001b[0m in \u001b[0;36m<module>\u001b[0;34m\u001b[0m\n\u001b[1;32m     37\u001b[0m \u001b[0mparams\u001b[0m\u001b[0;34m[\u001b[0m\u001b[0;36m12\u001b[0m\u001b[0;34m]\u001b[0m \u001b[0;34m=\u001b[0m \u001b[0mC_0\u001b[0m\u001b[0;34m\u001b[0m\u001b[0m\n\u001b[1;32m     38\u001b[0m \u001b[0;34m\u001b[0m\u001b[0m\n\u001b[0;32m---> 39\u001b[0;31m \u001b[0mnetwork\u001b[0m \u001b[0;34m=\u001b[0m \u001b[0mMeanFieldStepNetwork\u001b[0m\u001b[0;34m(\u001b[0m\u001b[0mM\u001b[0m\u001b[0;34m,\u001b[0m\u001b[0ml\u001b[0m\u001b[0;34m,\u001b[0m\u001b[0mparams\u001b[0m\u001b[0;34m)\u001b[0m\u001b[0;34m\u001b[0m\u001b[0m\n\u001b[0m\u001b[1;32m     40\u001b[0m \u001b[0;34m\u001b[0m\u001b[0m\n\u001b[1;32m     41\u001b[0m \u001b[0mCm\u001b[0m\u001b[0;34m,\u001b[0m\u001b[0mVm\u001b[0m\u001b[0;34m,\u001b[0m\u001b[0mfm\u001b[0m \u001b[0;34m=\u001b[0m \u001b[0mnetwork\u001b[0m\u001b[0;34m.\u001b[0m\u001b[0msimdyn\u001b[0m\u001b[0;34m(\u001b[0m\u001b[0mnetwork\u001b[0m\u001b[0;34m.\u001b[0m\u001b[0mparams\u001b[0m\u001b[0;34m)\u001b[0m\u001b[0;34m\u001b[0m\u001b[0m\n",
      "\u001b[0;31mNameError\u001b[0m: name 'M' is not defined"
     ]
    }
   ],
   "source": [
    "N = 10000 #Number of Steps \n",
    "dt = 0.001\n",
    "n = 10 #100\n",
    "\n",
    "T = zeros(N)\n",
    "\n",
    "V_0, C_0 = 18, 18\n",
    "\n",
    "tauv = 0.01 #0.01\n",
    "tauc = 0.5 #0.5\n",
    "\n",
    "Vstar = 15#15\n",
    "Cstar = 20#20\n",
    "\n",
    "\n",
    "\n",
    "delV = 5. #1.\n",
    "delC = 0.01#0.015, 0.01\n",
    "r_1 = 770 #3000\n",
    "r_0 = 55 #5\n",
    "\n",
    "conditions = tauc*delC*r_1 > Cstar and tauc*delC*r_0 < Cstar and delV*tauv*r_0 > Vstar\n",
    "\n",
    "params = zeros(13)\n",
    "params[0] = N\n",
    "params[1] = n\n",
    "params[2] = dt \n",
    "params[3] = tauv \n",
    "params[4] = tauc \n",
    "params[5] = Vstar\n",
    "params[6] = Cstar \n",
    "params[7] = delV \n",
    "params[8] = delC \n",
    "params[9] = r_1 \n",
    "params[10] = r_0 \n",
    "params[11] = V_0\n",
    "params[12] = C_0\n",
    "\n",
    "network = MeanFieldStepNetwork(M,l,params)\n",
    "\n",
    "Cm,Vm,fm = network.simdyn(network.params)\n",
    "\n",
    "plt.plot(Cm,Vm,lw=4)\n",
    "print(\"Classification:\", classify(Vm,params))\n",
    "print(\"Conditions for SO phase met:\", conditions)\n",
    "\n",
    "#plt.title(\"High Voltage Fixed Point\")\n",
    "plt.xlabel(\"C\",fontsize=30)\n",
    "plt.ylabel(\"V\",fontsize=30)\n",
    "plt.tick_params(axis='both', labelsize=25)"
   ]
  },
  {
   "cell_type": "code",
   "execution_count": 88,
   "metadata": {},
   "outputs": [],
   "source": [
    "n = 100\n",
    "p = 1. #Probability of Connection \n",
    "M = getRandomConnectivity(n,p)\n",
    "l = matrixOfEdges(M,n)\n",
    "\n",
    "N = 100000 #15000\n",
    "dt = 0.0001\n",
    "T = zeros(N)\n",
    "for i in range(N):\n",
    "    T[i] = i*dt\n",
    "\n",
    "tauv = 0.01 \n",
    "tauc = 0.5\n",
    "Vstar = 15\n",
    "Cstar = 20 \n",
    "V0 = 10 #20\n",
    "C0 = 24 #24\n",
    "\n",
    "delV = 5. #12\n",
    "delC = 0.015\n",
    "r = 70\n",
    "r_0 = 5\n",
    "\n",
    "g = 5.\n",
    "g_v = g #.95\n",
    "g_c = g #.95\n",
    "\n",
    "params = zeros(15)\n",
    "params[0] = N\n",
    "params[1] = n\n",
    "params[2] = dt\n",
    "params[3] = tauv\n",
    "params[4] = tauc\n",
    "params[5] = Vstar\n",
    "params[6] = Cstar\n",
    "params[7] = delV\n",
    "params[8] = delC\n",
    "params[9] = r\n",
    "params[10] = V0\n",
    "params[11] = C0\n",
    "params[12] = g_v\n",
    "params[13] = g_c\n",
    "params[14] = r_0\n",
    "\n",
    "network = Network(M,l,params)"
   ]
  },
  {
   "cell_type": "code",
   "execution_count": 89,
   "metadata": {},
   "outputs": [
    {
     "data": {
      "text/plain": [
       "[<matplotlib.lines.Line2D at 0xa174b1550>]"
      ]
     },
     "execution_count": 89,
     "metadata": {},
     "output_type": "execute_result"
    },
    {
     "data": {
      "image/png": "[encoded data removed]",
      "text/plain": [
       "<Figure size 432x288 with 1 Axes>"
      ]
     },
     "metadata": {
      "needs_background": "light"
     },
     "output_type": "display_data"
    }
   ],
   "source": [
    "C,V = network.simdyn(M,l,params)\n",
    "title(\"Mean Field, Sigmoid activation, V>V* initial state\")\n",
    "xlabel(\"C\")\n",
    "ylabel(\"V\")\n",
    "plot(C[N//2:],V[N//2:])\n",
    "#savefig(\"meeting_figs/mean_field_sig_v_init.png\")"
   ]
  },
  {
   "cell_type": "code",
   "execution_count": 534,
   "metadata": {},
   "outputs": [
    {
     "data": {
      "text/plain": [
       "9900.0"
      ]
     },
     "execution_count": 534,
     "metadata": {},
     "output_type": "execute_result"
    }
   ],
   "source": [
    "network.n_edges"
   ]
  },
  {
   "cell_type": "code",
   "execution_count": 535,
   "metadata": {},
   "outputs": [],
   "source": [
    "for i in range(1000):\n",
    "    network.killEdge()"
   ]
  },
  {
   "cell_type": "code",
   "execution_count": 536,
   "metadata": {},
   "outputs": [
    {
     "data": {
      "text/plain": [
       "[<matplotlib.lines.Line2D at 0xaf99032b0>]"
      ]
     },
     "execution_count": 536,
     "metadata": {},
     "output_type": "execute_result"
    }
   ],
   "source": []
  },
  {
   "cell_type": "code",
   "execution_count": 538,
   "metadata": {},
   "outputs": [
    {
     "data": {
      "text/plain": [
       "[<matplotlib.lines.Line2D at 0xb0471bcf8>]"
      ]
     },
     "execution_count": 538,
     "metadata": {},
     "output_type": "execute_result"
    }
   ],
   "source": [
    "title(classifier(V,1/dt,0.1))\n",
    "plot(C,V)"
   ]
  },
  {
   "cell_type": "code",
   "execution_count": 22,
   "metadata": {},
   "outputs": [],
   "source": [
    "##########DEPRECATED##########\n",
    "def classify(V, params):\n",
    "    #Set up some globals \n",
    "    \n",
    "    N = int(params[0])\n",
    "    n = int(params[1])\n",
    "    \n",
    "    #Network uniformly connected but vectorized lets us scale later \n",
    "    #for i in range (N/2, N):\n",
    "    #max_V = max(V[int(N/2):N])\n",
    "    #min_V = min(V[int(N/2):N])\n",
    "    max_V = max(V[int(.9*N):N])\n",
    "    min_V = min(V[int(.9*N):N])\n",
    "   \n",
    "            \n",
    "    V_delta = max_V - min_V\n",
    "    #print(V_delta)\n",
    "    \n",
    "    if V_delta < 0.001: #changed from 1\n",
    "        if V[N-1] < 15:\n",
    "            #params[12] = 2\n",
    "            return 2\n",
    "        else:\n",
    "            #params[12] = 3\n",
    "            return 3\n",
    "    else:\n",
    "        #params[12] = 1\n",
    "        return 1\n",
    "    \n",
    "#print(classify(V,network.params)) #1: SO, 2,3: F\n",
    "#print(classifier(V,1/dt,0.1)) # 0: Chaos, 1: SO, 2:F"
   ]
  },
  {
   "cell_type": "code",
   "execution_count": 336,
   "metadata": {},
   "outputs": [
    {
     "name": "stdout",
     "output_type": "stream",
     "text": [
      "[[3. 1. 4. 9. 0. 0. 0. 0. 0. 0.]\n",
      " [3. 0. 5. 6. 0. 0. 0. 0. 0. 0.]\n",
      " [2. 3. 4. 0. 0. 0. 0. 0. 0. 0.]\n",
      " [6. 0. 1. 4. 6. 7. 9. 0. 0. 0.]\n",
      " [6. 0. 3. 5. 6. 7. 8. 0. 0. 0.]\n",
      " [5. 0. 1. 3. 6. 7. 0. 0. 0. 0.]\n",
      " [5. 3. 5. 7. 8. 9. 0. 0. 0. 0.]\n",
      " [3. 0. 2. 9. 0. 0. 0. 0. 0. 0.]\n",
      " [4. 1. 3. 5. 7. 0. 0. 0. 0. 0.]\n",
      " [4. 4. 5. 7. 8. 0. 0. 0. 0. 0.]] \n",
      "\n",
      "True \n",
      "\n",
      "[[3. 1. 4. 9. 0. 0. 0. 0. 0. 0.]\n",
      " [3. 0. 5. 6. 0. 0. 0. 0. 0. 0.]\n",
      " [2. 3. 4. 0. 0. 0. 0. 0. 0. 0.]\n",
      " [6. 0. 1. 4. 6. 7. 9. 0. 0. 0.]\n",
      " [6. 0. 3. 5. 6. 7. 8. 0. 0. 0.]\n",
      " [5. 0. 1. 3. 6. 7. 0. 0. 0. 0.]\n",
      " [5. 3. 5. 7. 8. 9. 0. 0. 0. 0.]\n",
      " [2. 0. 9. 0. 0. 0. 0. 0. 0. 0.]\n",
      " [4. 1. 3. 5. 7. 0. 0. 0. 0. 0.]\n",
      " [4. 4. 5. 7. 8. 0. 0. 0. 0. 0.]]\n"
     ]
    }
   ],
   "source": [
    "print(network.l, '\\n')\n",
    "print(network.killEdge(), '\\n')\n",
    "print(network.l)\n"
   ]
  },
  {
   "cell_type": "code",
   "execution_count": 695,
   "metadata": {},
   "outputs": [
    {
     "name": "stdout",
     "output_type": "stream",
     "text": [
      "Transition at edges = 3640.0, g = 0.1, from 1 to 2\n",
      "Transition at edges = 3470.0, g = 0.15000000000000002, from 1 to 2\n",
      "Transition at edges = 3360.0, g = 0.2, from 1 to 2\n",
      "Transition at edges = 3370.0, g = 0.25, from 1 to 2\n",
      "Transition at edges = 3320.0, g = 0.3, from 1 to 2\n",
      "Transition at edges = 3040.0, g = 0.35, from 1 to 2\n",
      "Transition at edges = 3270.0, g = 0.39999999999999997, from 1 to 2\n",
      "Transition at edges = 3010.0, g = 0.44999999999999996, from 1 to 2\n",
      "Transition at edges = 2810.0, g = 0.49999999999999994, from 1 to 2\n",
      "Transition at edges = 2950.0, g = 0.5499999999999999, from 1 to 2\n",
      "Transition at edges = 2880.0, g = 0.6, from 1 to 2\n",
      "Transition at edges = 2810.0, g = 0.65, from 1 to 2\n",
      "Transition at edges = 2640.0, g = 0.7000000000000001, from 1 to 2\n",
      "Transition at edges = 2730.0, g = 0.7500000000000001, from 1 to 2\n",
      "Transition at edges = 2710.0, g = 0.8000000000000002, from 1 to 2\n",
      "Transition at edges = 2640.0, g = 0.8500000000000002, from 1 to 2\n",
      "Transition at edges = 2440.0, g = 0.9000000000000002, from 1 to 2\n",
      "Transition at edges = 2510.0, g = 0.9500000000000003, from 1 to 2\n",
      "Transition at edges = 2410.0, g = 1.0000000000000002, from 1 to 2\n",
      "Transition at edges = 2350.0, g = 1.0500000000000003, from 1 to 2\n",
      "Transition at edges = 2180.0, g = 1.1000000000000003, from 1 to 2\n",
      "Transition at edges = 2280.0, g = 1.1500000000000004, from 1 to 2\n",
      "Transition at edges = 2240.0, g = 1.2000000000000004, from 1 to 2\n",
      "Transition at edges = 2060.0, g = 1.2500000000000004, from 1 to 2\n",
      "Transition at edges = 2080.0, g = 1.3000000000000005, from 1 to 2\n",
      "Transition at edges = 1990.0, g = 1.3500000000000005, from 1 to 2\n",
      "Transition at edges = 1860.0, g = 1.4000000000000006, from 1 to 2\n",
      "Transition at edges = 1810.0, g = 1.4500000000000006, from 1 to 2\n",
      "Transition at edges = 1910.0, g = 1.5000000000000007, from 1 to 2\n",
      "Transition at edges = 1790.0, g = 1.5500000000000007, from 1 to 2\n",
      "Transition at edges = 1720.0, g = 1.6000000000000008, from 1 to 2\n",
      "Transition at edges = 1660.0, g = 1.6500000000000008, from 1 to 2\n",
      "Transition at edges = 1650.0, g = 1.7000000000000008, from 1 to 2\n",
      "Transition at edges = 1670.0, g = 1.7500000000000009, from 1 to 2\n",
      "Transition at edges = 1530.0, g = 1.800000000000001, from 1 to 2\n",
      "Transition at edges = 1460.0, g = 1.850000000000001, from 1 to 2\n",
      "Transition at edges = 1330.0, g = 1.900000000000001, from 1 to 2\n",
      "Transition at edges = 1290.0, g = 1.950000000000001, from 1 to 2\n",
      "Transition at edges = 1200.0, g = 2.000000000000001, from 1 to 2\n",
      "Transition at edges = 1040.0, g = 2.0500000000000007, from 1 to 2\n",
      "Transition at edges = 980.0, g = 2.1000000000000005, from 1 to 2\n",
      "Transition at edges = 920.0, g = 2.1500000000000004, from 1 to 2\n",
      "Transition at edges = 880.0, g = 2.2, from 1 to 2\n",
      "Transition at edges = 750.0, g = 2.25, from 1 to 2\n",
      "Transition at edges = 670.0, g = 2.3, from 1 to 2\n",
      "Transition at edges = 670.0, g = 2.3499999999999996, from 1 to 2\n",
      "Transition at edges = 590.0, g = 2.3999999999999995, from 1 to 2\n",
      "Transition at edges = 530.0, g = 2.4499999999999993, from 1 to 2\n",
      "Transition at edges = 470.0, g = 2.499999999999999, from 1 to 2\n",
      "Transition at edges = 450.0, g = 2.549999999999999, from 1 to 2\n",
      "Transition at edges = 400.0, g = 2.5999999999999988, from 1 to 2\n",
      "Transition at edges = 370.0, g = 2.6499999999999986, from 1 to 2\n",
      "Transition at edges = 330.0, g = 2.6999999999999984, from 1 to 2\n",
      "Transition at edges = 310.0, g = 2.7499999999999982, from 1 to 2\n",
      "Transition at edges = 300.0, g = 2.799999999999998, from 1 to 2\n",
      "Transition at edges = 250.0, g = 2.849999999999998, from 1 to 2\n",
      "Transition at edges = 250.0, g = 2.8999999999999977, from 1 to 2\n",
      "Transition at edges = 220.0, g = 2.9499999999999975, from 1 to 2\n",
      "Transition at edges = 210.0, g = 2.9999999999999973, from 1 to 2\n",
      "Transition at edges = 190.0, g = 3.049999999999997, from 1 to 2\n",
      "Transition at edges = 180.0, g = 3.099999999999997, from 1 to 2\n",
      "Transition at edges = 170.0, g = 3.149999999999997, from 1 to 2\n",
      "Transition at edges = 160.0, g = 3.1999999999999966, from 1 to 2\n",
      "Transition at edges = 140.0, g = 3.2499999999999964, from 1 to 2\n",
      "Transition at edges = 130.0, g = 3.2999999999999963, from 1 to 2\n",
      "Transition at edges = 130.0, g = 3.349999999999996, from 1 to 2\n",
      "Transition at edges = 120.0, g = 3.399999999999996, from 1 to 2\n",
      "Transition at edges = 120.0, g = 3.4499999999999957, from 1 to 2\n",
      "Transition at edges = 110.0, g = 3.4999999999999956, from 1 to 2\n"
     ]
    }
   ],
   "source": [
    "n = 75\n",
    "p = 1. #Probability of Connection \n",
    "M = getRandomConnectivity(n,p)\n",
    "l = matrixOfEdges(M,n)\n",
    "\n",
    "N = 10000 #15000\n",
    "dt = 0.0001\n",
    "T = zeros(N)\n",
    "for i in range(N):\n",
    "    T[i] = i*dt\n",
    "\n",
    "tauv = 0.01 \n",
    "tauc = 0.5\n",
    "Vstar = 15\n",
    "Cstar = 20 \n",
    "V0 = 10 #20\n",
    "C0 = 24 #24\n",
    "\n",
    "delV = 5. #12\n",
    "delC = 0.015\n",
    "r = 70\n",
    "r_0 = 5\n",
    "\n",
    "g = 0.1\n",
    "g_v = g #.95\n",
    "g_c = g #.95\n",
    "\n",
    "params = zeros(15)\n",
    "params[0] = N\n",
    "params[1] = n\n",
    "params[2] = dt\n",
    "params[3] = tauv\n",
    "params[4] = tauc\n",
    "params[5] = Vstar\n",
    "params[6] = Cstar\n",
    "params[7] = delV\n",
    "params[8] = delC\n",
    "params[9] = r\n",
    "params[10] = V0\n",
    "params[11] = C0\n",
    "params[12] = g_v\n",
    "params[13] = g_c\n",
    "params[14] = r_0\n",
    "\n",
    "network = Network(M,l,params)\n",
    "network.init_kill_order()\n",
    "\n",
    "g_max = 5.0\n",
    "dg = 0.05\n",
    "edge_min = 100\n",
    "edge_step = 10\n",
    "\n",
    "phasen = []\n",
    "phaseg = []\n",
    "\n",
    "while True: \n",
    "    C,V = network.simdyn(network.M,network.l,network.params)\n",
    "    #classification1 = classifier(V,1/dt,0.1)\n",
    "    classification1 = classify(V,network.params)\n",
    "    while True: \n",
    "        for i in range(edge_step):\n",
    "            network.killEdge()\n",
    "        if network.n_edges <= edge_min:\n",
    "            network.params[12] += dg \n",
    "            network.params[13] += dg \n",
    "            network.M = network.M_init\n",
    "            network.l = network.l_init\n",
    "            network.n_edges = np.sum(network.l_init[:,0])\n",
    "            break\n",
    "        C,V = network.simdyn(network.M,network.l,network.params)\n",
    "        #classification2 = classifier(V,1/dt,0.1)\n",
    "        classification2 = classify(V,network.params)\n",
    "        if classification2 != classification1: \n",
    "            print(\"Transition at edges = {}, g = {}, from {} to {}\".format(network.n_edges,network.params[12],\n",
    "                                                                          classification1,classification2))\n",
    "            phasen.append(network.n_edges)\n",
    "            phaseg.append(network.params[12])\n",
    "\n",
    "            network.params[12] += dg \n",
    "            network.params[13] += dg \n",
    "            network.M = network.M_init\n",
    "            network.l = network.l_init \n",
    "            network.n_edges = np.sum(network.l_init[:,0])\n",
    "            break\n",
    "            \n",
    "    if network.params[12] >= g_max:\n",
    "        break"
   ]
  },
  {
   "cell_type": "code",
   "execution_count": 698,
   "metadata": {},
   "outputs": [],
   "source": [
    "xlabel(\"g\")\n",
    "ylabel(\"edges\")\n",
    "plot(phaseg,phasen)\n",
    "savefig(\"prelim.png\")"
   ]
  },
  {
   "cell_type": "code",
   "execution_count": 687,
   "metadata": {},
   "outputs": [
    {
     "ename": "IndexError",
     "evalue": "list index out of range",
     "output_type": "error",
     "traceback": [
      "\u001b[0;31m---------------------------------------------------------------------------\u001b[0m",
      "\u001b[0;31mIndexError\u001b[0m                                Traceback (most recent call last)",
      "\u001b[0;32m<ipython-input-687-de31a1d687c5>\u001b[0m in \u001b[0;36m<module>\u001b[0;34m\u001b[0m\n\u001b[1;32m     68\u001b[0m             \u001b[0;32mbreak\u001b[0m\u001b[0;34m\u001b[0m\u001b[0m\n\u001b[1;32m     69\u001b[0m         \u001b[0;32melse\u001b[0m\u001b[0;34m:\u001b[0m\u001b[0;34m\u001b[0m\u001b[0m\n\u001b[0;32m---> 70\u001b[0;31m             \u001b[0mnetwork\u001b[0m\u001b[0;34m.\u001b[0m\u001b[0mkillEdge2\u001b[0m\u001b[0;34m(\u001b[0m\u001b[0mstep_counter\u001b[0m\u001b[0;34m)\u001b[0m\u001b[0;34m\u001b[0m\u001b[0m\n\u001b[0m\u001b[1;32m     71\u001b[0m         \u001b[0;31m#for i in range(edge_step):\u001b[0m\u001b[0;34m\u001b[0m\u001b[0;34m\u001b[0m\u001b[0m\n\u001b[1;32m     72\u001b[0m         \u001b[0;31m#    network.killEdge()\u001b[0m\u001b[0;34m\u001b[0m\u001b[0;34m\u001b[0m\u001b[0m\n",
      "\u001b[0;32m<ipython-input-669-233ae6237923>\u001b[0m in \u001b[0;36mkillEdge2\u001b[0;34m(self, n)\u001b[0m\n\u001b[1;32m    144\u001b[0m                     \u001b[0mnon_zero_rows\u001b[0m\u001b[0;34m.\u001b[0m\u001b[0mappend\u001b[0m\u001b[0;34m(\u001b[0m\u001b[0mj\u001b[0m\u001b[0;34m)\u001b[0m\u001b[0;34m\u001b[0m\u001b[0m\n\u001b[1;32m    145\u001b[0m \u001b[0;34m\u001b[0m\u001b[0m\n\u001b[0;32m--> 146\u001b[0;31m             \u001b[0mrow\u001b[0m \u001b[0;34m=\u001b[0m \u001b[0mnon_zero_rows\u001b[0m\u001b[0;34m[\u001b[0m\u001b[0mself\u001b[0m\u001b[0;34m.\u001b[0m\u001b[0mkill_order\u001b[0m\u001b[0;34m[\u001b[0m\u001b[0mi\u001b[0m\u001b[0;34m]\u001b[0m\u001b[0;34m[\u001b[0m\u001b[0;36m0\u001b[0m\u001b[0;34m]\u001b[0m\u001b[0;34m]\u001b[0m\u001b[0;34m\u001b[0m\u001b[0m\n\u001b[0m\u001b[1;32m    147\u001b[0m \u001b[0;34m\u001b[0m\u001b[0m\n\u001b[1;32m    148\u001b[0m \u001b[0;34m\u001b[0m\u001b[0m\n",
      "\u001b[0;31mIndexError\u001b[0m: list index out of range"
     ]
    }
   ],
   "source": [
    "n = 50\n",
    "p = 1. #Probability of Connection \n",
    "M = getRandomConnectivity(n,p)\n",
    "l = matrixOfEdges(M,n)\n",
    "\n",
    "N = 10000 #15000\n",
    "dt = 0.0001\n",
    "T = zeros(N)\n",
    "for i in range(N):\n",
    "    T[i] = i*dt\n",
    "\n",
    "tauv = 0.01 \n",
    "tauc = 0.5\n",
    "Vstar = 15\n",
    "Cstar = 20 \n",
    "V0 = 10 #20\n",
    "C0 = 24 #24\n",
    "\n",
    "delV = 5. #12\n",
    "delC = 0.015\n",
    "r = 70\n",
    "r_0 = 5\n",
    "\n",
    "g = 0.1\n",
    "g_v = g #.95\n",
    "g_c = g #.95\n",
    "\n",
    "params = zeros(15)\n",
    "params[0] = N\n",
    "params[1] = n\n",
    "params[2] = dt\n",
    "params[3] = tauv\n",
    "params[4] = tauc\n",
    "params[5] = Vstar\n",
    "params[6] = Cstar\n",
    "params[7] = delV\n",
    "params[8] = delC\n",
    "params[9] = r\n",
    "params[10] = V0\n",
    "params[11] = C0\n",
    "params[12] = g_v\n",
    "params[13] = g_c\n",
    "params[14] = r_0\n",
    "\n",
    "network = Network(M,l,params)\n",
    "network.init_kill_order()\n",
    "\n",
    "g_max = 5.0\n",
    "dg = 0.1\n",
    "edge_min = network.n_edges//4\n",
    "edge_step = 20\n",
    "\n",
    "phasen = []\n",
    "phaseg = []\n",
    "\n",
    "while True: \n",
    "    C,V = network.simdyn(network.M,network.l,network.params)\n",
    "    #classification1 = classifier(V,1/dt,0.1)\n",
    "    classification1 = classify(V,network.params)\n",
    "    while True: \n",
    "        step_counter = 1\n",
    "        if step_counter * edge_step >= network.n_edges:\n",
    "            network.params[12] += dg \n",
    "            network.params[13] += dg \n",
    "            network.M = network.M_init\n",
    "            network.l = network.l_init\n",
    "            network.n_edges = np.sum(network.l_init[:,0])\n",
    "            break\n",
    "        else:\n",
    "            network.killEdge2(step_counter)\n",
    "        #for i in range(edge_step):\n",
    "        #    network.killEdge()\n",
    "        if network.n_edges <= edge_min:\n",
    "            network.params[12] += dg \n",
    "            network.params[13] += dg \n",
    "            network.M = network.M_init\n",
    "            network.l = network.l_init\n",
    "            network.n_edges = np.sum(network.l_init[:,0])\n",
    "            break\n",
    "        C,V = network.simdyn(network.M,network.l,network.params)\n",
    "        #classification2 = classifier(V,1/dt,0.1)\n",
    "        classification2 = classify(V,network.params)\n",
    "        if classification2 != classification1: \n",
    "            print(\"Transition at edges = {}, g = {}, from {} to {}\".format(network.n_edges,network.params[12],\n",
    "                                                                          classification1,classification2))\n",
    "            phasen.append(network.n_edges)\n",
    "            phaseg.append(network.params[12])\n",
    "\n",
    "            network.params[12] += dg \n",
    "            network.params[13] += dg \n",
    "            network.M = network.M_init\n",
    "            network.l = network.l_init \n",
    "            network.n_edges = np.sum(network.l_init[:,0])\n",
    "            break\n",
    "        step_counter += 1\n",
    "            \n",
    "    if network.params[12] >= g_max:\n",
    "        break"
   ]
  },
  {
   "cell_type": "code",
   "execution_count": 582,
   "metadata": {},
   "outputs": [],
   "source": [
    "C,V = network.simdyn(network.M_init,network.l_init,network.params)"
   ]
  },
  {
   "cell_type": "code",
   "execution_count": 583,
   "metadata": {},
   "outputs": [
    {
     "data": {
      "text/plain": [
       "[<matplotlib.lines.Line2D at 0xb35fa5ef0>]"
      ]
     },
     "execution_count": 583,
     "metadata": {},
     "output_type": "execute_result"
    }
   ],
   "source": [
    "title(classifier(V,1/dt,0.1))\n",
    "plot(C,V)"
   ]
  },
  {
   "cell_type": "code",
   "execution_count": 589,
   "metadata": {},
   "outputs": [],
   "source": [
    "network.params[12] = 5.0\n",
    "network.params[13] = 5.0\n",
    "\n",
    "C,V = network.simdyn(network.M_init,network.l_init,network.params)"
   ]
  },
  {
   "cell_type": "code",
   "execution_count": 592,
   "metadata": {},
   "outputs": [],
   "source": [
    "for i in range(500):\n",
    "    network.killEdge()"
   ]
  },
  {
   "cell_type": "code",
   "execution_count": 593,
   "metadata": {},
   "outputs": [],
   "source": [
    "C,V = network.simdyn(network.M_init,network.l_init,network.params)"
   ]
  },
  {
   "cell_type": "code",
   "execution_count": 596,
   "metadata": {},
   "outputs": [
    {
     "data": {
      "text/plain": [
       "[<matplotlib.lines.Line2D at 0xb3cc1ab70>]"
      ]
     },
     "execution_count": 596,
     "metadata": {},
     "output_type": "execute_result"
    }
   ],
   "source": [
    "title(classifier(V,1/dt,0.1))\n",
    "plot(C,V)"
   ]
  },
  {
   "cell_type": "code",
   "execution_count": 591,
   "metadata": {},
   "outputs": [
    {
     "data": {
      "text/plain": [
       "8900.0"
      ]
     },
     "execution_count": 591,
     "metadata": {},
     "output_type": "execute_result"
    }
   ],
   "source": [
    "network.n_edges"
   ]
  },
  {
   "cell_type": "code",
   "execution_count": 1124,
   "metadata": {},
   "outputs": [],
   "source": [
    "n = 100\n",
    "p = 1. #Probability of Connection \n",
    "M = getRandomConnectivity(n,p)\n",
    "l = matrixOfEdges(M,n)"
   ]
  },
  {
   "cell_type": "code",
   "execution_count": 1137,
   "metadata": {},
   "outputs": [
    {
     "data": {
      "text/plain": [
       "Text(0.5, 1.0, 'Mean Field, V > V* starting state')"
      ]
     },
     "execution_count": 1137,
     "metadata": {},
     "output_type": "execute_result"
    }
   ],
   "source": [
    "N = 100000 #15000\n",
    "dt = 0.00001\n",
    "T = zeros(N)\n",
    "for i in range(N):\n",
    "    T[i] = i*dt\n",
    "\n",
    "tauv=0.01 #0.01\n",
    "tauc=0.5 #0.5\n",
    "Vstar=15 #Constant (according to experiments) 15\n",
    "Cstar=20 #20\n",
    "V0=18 #18\n",
    "C0=18 #18\n",
    "\n",
    "delV= 5.0 #1.2\n",
    "delVmin = delV/3 #delV/3\n",
    "delC= 0.01 #0.01\n",
    "r_1= 70#*99/4#Max Firing rate is r_1 + r_0 70\n",
    "r_0 = 5#*99/4 #Min firing rate 5\n",
    "\n",
    "params=zeros(14)\n",
    "params[0]=N\n",
    "params[1]=n #instead of actual n, cull neurons til desired value\n",
    "params[2]=dt\n",
    "params[3]=tauv\n",
    "params[4]=tauc\n",
    "params[5]=Vstar\n",
    "params[6]=Cstar\n",
    "params[7]=delV\n",
    "params[8]=delC\n",
    "params[9]=r_1\n",
    "params[10]=V0\n",
    "params[11]=C0\n",
    "params[12]=delVmin #connenctivity rate from above.\n",
    "params[13]=r_0 \n",
    "\n",
    "network = StepNetwork(M,l,params)\n",
    "\n",
    "'''\n",
    "print(\"initial edge count: {}\".format(network.n_edges))\n",
    "while True: \n",
    "    transition = False\n",
    "    C,V,f,p_arr,v_arr,c_arr = network.simdyn(network.M,network.l,network.params)\n",
    "    classification1 = classify(V,params) \n",
    "    k1 = largestkcore(network.M)\n",
    "    network.killEdge() \n",
    "    C,V,f,p_arr,c_arr = network.simdyn(network.M,network.l,network.params)\n",
    "    classification2 = classify(V,params)\n",
    "    k2 = largestkcore(network.M)\n",
    "    if k1 != k2: \n",
    "        print(\"kcore transition from k1 = {} to k2 = {}\".format(k1,k2))\n",
    "        transition = True\n",
    "    if classification1 != classification2:\n",
    "        if transition:\n",
    "            print(\"Coincidence with kcore transition\")\n",
    "        print(\"Transition from {} to {} at n_edges = {}\".format(classification1, classification2, network.n_edges))\n",
    "        break\n",
    "\n",
    "'''\n",
    "C,V,f,p_arr,v_arr,c_arr = network.simdyn(network.M,network.l,network.params)\n",
    "plot(C,V)\n",
    "title(\"Mean Field, V > V* starting state\")\n",
    "#savefig(\"meeting_figs/mean_field_v_init.png\")\n",
    "\n"
   ]
  },
  {
   "cell_type": "code",
   "execution_count": 1146,
   "metadata": {},
   "outputs": [
    {
     "name": "stdout",
     "output_type": "stream",
     "text": [
      "[ 5. 75. 75.  5.  5. 75. 75. 75. 75. 75. 75.  5. 75.  5.  5. 75.  5. 75.\n",
      "  5. 75.  5. 75.  5.  5. 75.  5.  5. 75.  5.  5.  5.  5.  5.  5. 75.  5.\n",
      "  5. 75. 75.  5. 75.  5.  5. 75.  5.  5. 75.  5.  5.  5.  5. 75.  5. 75.\n",
      "  5. 75. 75. 75. 75. 75. 75. 75.  5.  5.  5. 75. 75. 75. 75.  5. 75.  5.\n",
      " 75. 75.  5.  5. 75. 75. 75.  5.  5.  5.  5.  5. 75. 75. 75.  5.  5. 75.\n",
      " 75.  5.  5. 75.  5.  5.  5. 75.  5.  5.]\n",
      "[ 5.  5.  5. 75.  5.  5. 75.  5.  5.  5. 75.  5. 75.  5.  5. 75. 75.  5.\n",
      "  5. 75. 75.  5. 75. 75.  5.  5.  5. 75. 75. 75.  5. 75. 75.  5. 75.  5.\n",
      "  5.  5. 75. 75. 75. 75. 75.  5.  5.  5.  5.  5. 75.  5. 75. 75.  5. 75.\n",
      "  5. 75.  5. 75.  5.  5.  5.  5.  5. 75.  5. 75. 75.  5. 75. 75.  5. 75.\n",
      " 75. 75. 75.  5.  5.  5.  5. 75. 75.  5. 75. 75. 75. 75.  5. 75.  5. 75.\n",
      " 75.  5. 75. 75. 75. 75.  5. 75.  5. 75.]\n"
     ]
    }
   ],
   "source": [
    "print(p_arr[0])\n",
    "print(p_arr[-2])"
   ]
  },
  {
   "cell_type": "code",
   "execution_count": 1079,
   "metadata": {},
   "outputs": [],
   "source": [
    "C,V,f,p_arr,v_arr,c_arr = network2.simdyn(network2.M,network2.l,network2.params)\n"
   ]
  },
  {
   "cell_type": "code",
   "execution_count": 1081,
   "metadata": {},
   "outputs": [
    {
     "data": {
      "text/plain": [
       "Text(0.5, 1.0, '1')"
      ]
     },
     "execution_count": 1081,
     "metadata": {},
     "output_type": "execute_result"
    }
   ],
   "source": [
    "plot(C[:],V[:])\n",
    "title(classify(V,network2.params))"
   ]
  },
  {
   "cell_type": "code",
   "execution_count": 1066,
   "metadata": {},
   "outputs": [
    {
     "name": "stdout",
     "output_type": "stream",
     "text": [
      "[4.17992656e-43 2.50380425e-37 1.98000000e+02 1.98000000e+02\n",
      " 1.98000000e+02]\n",
      "[11.80080248 29.08734002 22.67705446  5.20969585  0.1939882 ]\n"
     ]
    }
   ],
   "source": [
    "print(v_arr[-1])\n",
    "print(v_arr[0])"
   ]
  },
  {
   "cell_type": "code",
   "execution_count": 1048,
   "metadata": {},
   "outputs": [
    {
     "data": {
      "text/plain": [
       "[<matplotlib.lines.Line2D at 0xd4614cfd0>]"
      ]
     },
     "execution_count": 1048,
     "metadata": {},
     "output_type": "execute_result"
    }
   ],
   "source": [
    "count = 1000000\n",
    "plot(T[-count:],v_arr[-count:].T[0])\n",
    "plot(T[-count:],v_arr[-count:].T[1])\n",
    "plot(T[-count:],v_arr[-count:].T[2])\n",
    "plot(T[-count:],v_arr[-count:].T[3])\n",
    "plot(T[-count:],v_arr[-count:].T[4])\n",
    "plot(T[-count:],v_arr[-count:].T[5])\n",
    "plot(T[-count:],v_arr[-count:].T[6])\n",
    "plot(T[-count:],v_arr[-count:].T[7])\n",
    "plot(T[-count:],v_arr[-count:].T[8])\n",
    "plot(T[-count:],v_arr[-count:].T[9])"
   ]
  },
  {
   "cell_type": "code",
   "execution_count": 950,
   "metadata": {
    "scrolled": true
   },
   "outputs": [
    {
     "data": {
      "text/plain": [
       "True"
      ]
     },
     "execution_count": 950,
     "metadata": {},
     "output_type": "execute_result"
    }
   ],
   "source": [
    "network.killEdge()"
   ]
  },
  {
   "cell_type": "code",
   "execution_count": 1021,
   "metadata": {},
   "outputs": [
    {
     "data": {
      "text/plain": [
       "Text(0.5, 1.0, '3')"
      ]
     },
     "execution_count": 1021,
     "metadata": {},
     "output_type": "execute_result"
    }
   ],
   "source": [
    "#C,V,f,p_arr,v_arr,c_arr = network.simdyn(network.M,network.l,network.params)\n",
    "plot(C[:],V[:])\n",
    "title(classify(V,network.params))"
   ]
  },
  {
   "cell_type": "code",
   "execution_count": 1026,
   "metadata": {},
   "outputs": [
    {
     "data": {
      "text/plain": [
       "array([2.46539e-321, 4.95000e+001, 2.46539e-321, 2.46539e-321,\n",
       "       2.46539e-321, 2.46539e-321, 2.46539e-321, 2.46539e-321,\n",
       "       1.36125e+002, 2.46539e-321])"
      ]
     },
     "execution_count": 1026,
     "metadata": {},
     "output_type": "execute_result"
    }
   ],
   "source": [
    "v_arr[-1]"
   ]
  },
  {
   "cell_type": "code",
   "execution_count": 1027,
   "metadata": {},
   "outputs": [
    {
     "data": {
      "text/plain": [
       "[<matplotlib.lines.Line2D at 0xb67614e80>]"
      ]
     },
     "execution_count": 1027,
     "metadata": {},
     "output_type": "execute_result"
    }
   ],
   "source": [
    "count = 10000\n",
    "plot(T[-count:],v_arr[-count:].T[0])\n",
    "plot(T[-count:],v_arr[-count:].T[1])\n",
    "plot(T[-count:],v_arr[-count:].T[2])\n",
    "plot(T[-count:],v_arr[-count:].T[3])\n",
    "plot(T[-count:],v_arr[-count:].T[4])"
   ]
  },
  {
   "cell_type": "code",
   "execution_count": 1029,
   "metadata": {},
   "outputs": [
    {
     "data": {
      "text/plain": [
       "array([[0., 1., 1., 1., 1., 1., 1., 1., 1., 1.],\n",
       "       [1., 0., 1., 1., 1., 1., 1., 1., 1., 1.],\n",
       "       [1., 1., 0., 1., 1., 1., 1., 1., 1., 1.],\n",
       "       [1., 1., 1., 0., 1., 1., 1., 1., 1., 1.],\n",
       "       [1., 1., 1., 1., 0., 1., 1., 1., 1., 1.],\n",
       "       [1., 1., 1., 1., 1., 0., 1., 1., 1., 1.],\n",
       "       [1., 1., 1., 1., 1., 1., 0., 1., 0., 1.],\n",
       "       [1., 1., 1., 1., 1., 1., 1., 0., 1., 1.],\n",
       "       [1., 0., 1., 1., 1., 1., 1., 1., 0., 1.],\n",
       "       [1., 1., 1., 1., 1., 1., 1., 1., 1., 0.]])"
      ]
     },
     "execution_count": 1029,
     "metadata": {},
     "output_type": "execute_result"
    }
   ],
   "source": [
    "network.M"
   ]
  },
  {
   "cell_type": "code",
   "execution_count": 1032,
   "metadata": {},
   "outputs": [],
   "source": [
    "keep_M = network.M\n",
    "keep_l = network.l"
   ]
  },
  {
   "cell_type": "code",
   "execution_count": 1084,
   "metadata": {},
   "outputs": [],
   "source": [
    "C,V,f,p_arr,v_arr,c_arr = network.simdyn(keep_M, keep_l, network.params)"
   ]
  },
  {
   "cell_type": "code",
   "execution_count": 1085,
   "metadata": {},
   "outputs": [
    {
     "data": {
      "text/plain": [
       "[<matplotlib.lines.Line2D at 0xfc2604c50>]"
      ]
     },
     "execution_count": 1085,
     "metadata": {},
     "output_type": "execute_result"
    }
   ],
   "source": [
    "plot(C,V)"
   ]
  },
  {
   "cell_type": "code",
   "execution_count": 1086,
   "metadata": {},
   "outputs": [
    {
     "name": "stdout",
     "output_type": "stream",
     "text": [
      "[22.89375  4.95    22.89375 22.89375 22.89375 22.89375 22.89375 22.89375\n",
      " 13.6125  22.89375]\n"
     ]
    }
   ],
   "source": [
    "print(c_arr[-1])"
   ]
  },
  {
   "cell_type": "code",
   "execution_count": 1087,
   "metadata": {
    "scrolled": true
   },
   "outputs": [
    {
     "name": "stdout",
     "output_type": "stream",
     "text": [
      "[2.46539e-321 4.95000e+001 2.46539e-321 2.46539e-321 2.46539e-321\n",
      " 2.46539e-321 2.46539e-321 2.46539e-321 1.36125e+002 2.46539e-321]\n"
     ]
    }
   ],
   "source": [
    "print(v_arr[-1])"
   ]
  },
  {
   "cell_type": "code",
   "execution_count": 1089,
   "metadata": {},
   "outputs": [
    {
     "name": "stdout",
     "output_type": "stream",
     "text": [
      "[0. 1. 0. 0. 0. 0. 0. 0. 1. 0.]\n"
     ]
    }
   ],
   "source": [
    "print(f[-1])"
   ]
  },
  {
   "cell_type": "code",
   "execution_count": 1041,
   "metadata": {},
   "outputs": [
    {
     "data": {
      "text/plain": [
       "[<matplotlib.lines.Line2D at 0xcb9463dd8>]"
      ]
     },
     "execution_count": 1041,
     "metadata": {},
     "output_type": "execute_result"
    }
   ],
   "source": [
    "count = 10000\n",
    "plot(T[-count:],c_arr[-count:].T[0])\n",
    "plot(T[-count:],c_arr[-count:].T[1])\n",
    "plot(T[-count:],c_arr[-count:].T[2])\n",
    "plot(T[-count:],c_arr[-count:].T[3])\n",
    "plot(T[-count:],c_arr[-count:].T[4])\n",
    "plot(T[-count:],c_arr[-count:].T[5])\n",
    "plot(T[-count:],c_arr[-count:].T[6])\n",
    "plot(T[-count:],c_arr[-count:].T[7])\n",
    "plot(T[-count:],c_arr[-count:].T[8])\n",
    "plot(T[-count:],c_arr[-count:].T[9])"
   ]
  },
  {
   "cell_type": "markdown",
   "metadata": {},
   "source": [
    "### Compute probability of random configuration resulting in SO or F. "
   ]
  },
  {
   "cell_type": "code",
   "execution_count": 68,
   "metadata": {},
   "outputs": [],
   "source": [
    "n = 100\n",
    "p = 1. #Probability of Connection \n",
    "M = getRandomConnectivity(n,p)\n",
    "l = matrixOfEdges(M,n)"
   ]
  },
  {
   "cell_type": "code",
   "execution_count": 69,
   "metadata": {},
   "outputs": [
    {
     "data": {
      "text/plain": [
       "Text(0.5, 1.0, 'V: 2, C: 2')"
      ]
     },
     "execution_count": 69,
     "metadata": {},
     "output_type": "execute_result"
    },
    {
     "data": {
      "image/png": "[encoded data removed]",
      "text/plain": [
       "<Figure size 432x288 with 1 Axes>"
      ]
     },
     "metadata": {
      "needs_background": "light"
     },
     "output_type": "display_data"
    }
   ],
   "source": [
    "N = 100000 #15000\n",
    "dt = 0.0001\n",
    "T = zeros(N)\n",
    "for i in range(N):\n",
    "    T[i] = i*dt\n",
    "\n",
    "tauv=0.01 #0.01\n",
    "tauc=0.5 #0.5\n",
    "Vstar=15 #Constant (according to experiments) 15\n",
    "Cstar=20 #20\n",
    "V0=18 #18\n",
    "C0=18 #18\n",
    "\n",
    "delV= 5.0 #1.2\n",
    "delVmin = delV/3 #delV/3\n",
    "delC= 0.01 #0.01\n",
    "r_1 = 70 * 99/(n-1) #70*99/19#*99/4#Max Firing rate is r_1 + r_0 70\n",
    "r_0 = 5 * 99/(n-1) #*99/4 #Min firing rate 5\n",
    "\n",
    "params=zeros(14)\n",
    "params[0]=N\n",
    "params[1]=n #instead of actual n, cull neurons til desired value\n",
    "params[2]=dt\n",
    "params[3]=tauv\n",
    "params[4]=tauc\n",
    "params[5]=Vstar\n",
    "params[6]=Cstar\n",
    "params[7]=delV\n",
    "params[8]=delC\n",
    "params[9]=r_1\n",
    "params[10]=V0\n",
    "params[11]=C0\n",
    "params[12]=delVmin #connenctivity rate from above.\n",
    "params[13]=r_0 \n",
    "\n",
    "N_samples = 100\n",
    "V_init = []\n",
    "V_final = []\n",
    "C_init = []\n",
    "C_final = []\n",
    "v_classification = []\n",
    "c_classification = []\n",
    "\n",
    "network = StepNetwork(M,l,params)\n",
    "'''\n",
    "for i in range(N_samples):\n",
    "    if i%10 == 0:\n",
    "        print(\"Step {}\".format(i))\n",
    "    C,V,f,p_arr,v_arr,c_arr = network.simdyn(network.M,network.l,network.params)\n",
    "    V_init.append(v_arr[0])\n",
    "    V_final.append(v_arr[-1])\n",
    "    C_init.append(c_arr[0])\n",
    "    C_final.append(c_arr[-1])\n",
    "    v_classification.append(classifier(V,1/dt,0.1))\n",
    "    c_classification.append(classifier(C,1/dt,0.1))\n",
    "'''\n",
    "C,V,f,p_arr,v_arr,c_arr = network.simdyn(network.M,network.l,network.params)\n",
    "plot(C[:],V[:])\n",
    "xlabel(\"C\")\n",
    "ylabel(\"V\")\n",
    "title(\"V: {}, C: {}\".format(classifier(V, 1/dt, 0.1), classifier(C, 1/dt, 0.1)))"
   ]
  },
  {
   "cell_type": "code",
   "execution_count": 1329,
   "metadata": {
    "scrolled": true
   },
   "outputs": [
    {
     "data": {
      "text/plain": [
       "array([75., 75., 75., 75., 75., 75., 75., 75., 75., 75., 75., 75., 75.,\n",
       "       75., 75., 75., 75., 75., 75., 75., 75., 75., 75., 75., 75., 75.,\n",
       "       75., 75., 75., 75., 75., 75., 75., 75., 75., 75., 75., 75., 75.,\n",
       "       75., 75., 75., 75., 75., 75., 75., 75., 75., 75., 75., 75., 75.,\n",
       "       75., 75., 75., 75., 75., 75., 75., 75., 75., 75., 75., 75., 75.,\n",
       "       75., 75., 75., 75., 75., 75., 75., 75., 75., 75., 75., 75., 75.,\n",
       "       75., 75., 75., 75., 75., 75., 75., 75., 75., 75., 75., 75., 75.,\n",
       "       75., 75., 75., 75., 75., 75., 75., 75., 75.])"
      ]
     },
     "execution_count": 1329,
     "metadata": {},
     "output_type": "execute_result"
    }
   ],
   "source": [
    "p_arr[0]"
   ]
  },
  {
   "cell_type": "code",
   "execution_count": 1351,
   "metadata": {},
   "outputs": [
    {
     "data": {
      "text/plain": [
       "array([20.325     , 19.97499999, 19.97499999, 20.32500001, 20.32500002,\n",
       "       20.32500001, 20.32500002, 19.97499998, 19.97499998, 19.97499998,\n",
       "       19.97499998, 20.32500002, 19.97499999, 19.97499998, 20.32500001,\n",
       "       20.32500001, 19.975     , 19.97499999, 19.97499999, 20.325     ,\n",
       "       19.97499999, 20.325     , 20.325     , 19.97499999, 20.325     ,\n",
       "       20.32500001, 20.32500001, 20.32500001, 20.32500001, 20.32500001,\n",
       "       20.32500001, 19.97499999, 19.975     , 20.32500002, 19.97499998,\n",
       "       19.97499998, 20.325     , 20.32500002, 19.975     , 19.97499999,\n",
       "       19.97499998, 20.32500001, 20.32500002, 19.97499998, 20.32500001,\n",
       "       19.97499999, 20.32500002, 19.97499999, 20.325     , 20.32500001,\n",
       "       20.325     , 19.97499999, 20.32500001, 20.325     , 20.32500001,\n",
       "       20.32500002, 20.32500002, 20.32500001, 20.325     , 19.97499999,\n",
       "       20.325     , 20.325     , 19.97499999, 20.32500002, 19.97499998,\n",
       "       19.97499999, 19.97499999, 19.975     , 20.325     , 19.97499999,\n",
       "       20.32500001, 20.325     , 19.97499998, 20.32500002, 19.97499999,\n",
       "       19.975     , 19.97499998, 19.975     , 19.97499999, 20.32500001,\n",
       "       19.97499999, 19.97499998, 19.97499998, 20.325     , 19.97499999,\n",
       "       19.97499999, 19.975     , 19.975     , 19.975     , 19.975     ,\n",
       "       19.975     , 20.32500002, 20.325     , 20.32500002, 19.97499999,\n",
       "       19.97499999, 19.97499999, 20.325     , 20.32500001, 19.97499998])"
      ]
     },
     "execution_count": 1351,
     "metadata": {},
     "output_type": "execute_result"
    }
   ],
   "source": [
    "c_arr[-2]"
   ]
  },
  {
   "cell_type": "code",
   "execution_count": 1355,
   "metadata": {},
   "outputs": [
    {
     "data": {
      "text/plain": [
       "(100000, 100)"
      ]
     },
     "execution_count": 1355,
     "metadata": {},
     "output_type": "execute_result"
    }
   ],
   "source": [
    "c_arr.shape"
   ]
  },
  {
   "cell_type": "code",
   "execution_count": 48,
   "metadata": {},
   "outputs": [
    {
     "data": {
      "text/plain": [
       "3543.1578947368425"
      ]
     },
     "execution_count": 48,
     "metadata": {},
     "output_type": "execute_result"
    }
   ],
   "source": [
    "(n_firing ) * (r_1 + r_0) + (m_not_firing - 1) * r_0"
   ]
  },
  {
   "cell_type": "code",
   "execution_count": 42,
   "metadata": {},
   "outputs": [
    {
     "data": {
      "text/plain": [
       "3600.0"
      ]
     },
     "execution_count": 42,
     "metadata": {},
     "output_type": "execute_result"
    }
   ],
   "source": [
    "equality"
   ]
  },
  {
   "cell_type": "code",
   "execution_count": 72,
   "metadata": {},
   "outputs": [
    {
     "name": "stdout",
     "output_type": "stream",
     "text": [
      "True\n",
      "Firing:  51\n",
      "Quiescent:  49\n"
     ]
    }
   ],
   "source": [
    "equality = Cstar/(tauc * delC)\n",
    "n_firing = sum(f[-1] != 0)\n",
    "m_not_firing = sum(f[-1] == 0)\n",
    "print((((n_firing - 1) * (r_1 + r_0) + m_not_firing * r_0) < equality) and \n",
    "      ((n_firing * (r_1 + r_0) + (m_not_firing - 1) * r_0) > equality)) \n",
    "print(\"Firing: \", n_firing)\n",
    "print(\"Quiescent: \", m_not_firing)"
   ]
  },
  {
   "cell_type": "code",
   "execution_count": 71,
   "metadata": {},
   "outputs": [
    {
     "data": {
      "text/plain": [
       "[<matplotlib.lines.Line2D at 0xad8f15b00>,\n",
       " <matplotlib.lines.Line2D at 0xad8f15c18>,\n",
       " <matplotlib.lines.Line2D at 0xad8f15e48>,\n",
       " <matplotlib.lines.Line2D at 0xad8f15080>,\n",
       " <matplotlib.lines.Line2D at 0xad8f15240>,\n",
       " <matplotlib.lines.Line2D at 0xad8f15550>,\n",
       " <matplotlib.lines.Line2D at 0xad8f15668>,\n",
       " <matplotlib.lines.Line2D at 0xad8f15828>,\n",
       " <matplotlib.lines.Line2D at 0xa5c376a90>,\n",
       " <matplotlib.lines.Line2D at 0xa5c376da0>,\n",
       " <matplotlib.lines.Line2D at 0xad8f0bcf8>,\n",
       " <matplotlib.lines.Line2D at 0xa5c376c18>,\n",
       " <matplotlib.lines.Line2D at 0xa5c376cf8>,\n",
       " <matplotlib.lines.Line2D at 0xa5c3760f0>,\n",
       " <matplotlib.lines.Line2D at 0xa5c376128>,\n",
       " <matplotlib.lines.Line2D at 0xa5c376278>,\n",
       " <matplotlib.lines.Line2D at 0xa5c3765f8>,\n",
       " <matplotlib.lines.Line2D at 0xa5c376710>,\n",
       " <matplotlib.lines.Line2D at 0xa5c376ac8>,\n",
       " <matplotlib.lines.Line2D at 0xa5c376fd0>,\n",
       " <matplotlib.lines.Line2D at 0xa5e287b38>,\n",
       " <matplotlib.lines.Line2D at 0xa5e287780>,\n",
       " <matplotlib.lines.Line2D at 0xa5e287a20>,\n",
       " <matplotlib.lines.Line2D at 0xa5e287cc0>,\n",
       " <matplotlib.lines.Line2D at 0xa5e287e80>,\n",
       " <matplotlib.lines.Line2D at 0xa5e287cf8>,\n",
       " <matplotlib.lines.Line2D at 0xa5e287710>,\n",
       " <matplotlib.lines.Line2D at 0xa586f86a0>,\n",
       " <matplotlib.lines.Line2D at 0xa5e161a20>,\n",
       " <matplotlib.lines.Line2D at 0xa5e161898>,\n",
       " <matplotlib.lines.Line2D at 0xa5e161ef0>,\n",
       " <matplotlib.lines.Line2D at 0xa5e161c50>,\n",
       " <matplotlib.lines.Line2D at 0xad8eabe80>,\n",
       " <matplotlib.lines.Line2D at 0xad8eab978>,\n",
       " <matplotlib.lines.Line2D at 0xad8eab550>,\n",
       " <matplotlib.lines.Line2D at 0xad8eabda0>,\n",
       " <matplotlib.lines.Line2D at 0xad8eab470>,\n",
       " <matplotlib.lines.Line2D at 0xad8eab630>,\n",
       " <matplotlib.lines.Line2D at 0xad8eab7f0>,\n",
       " <matplotlib.lines.Line2D at 0xad8eaba20>,\n",
       " <matplotlib.lines.Line2D at 0xad8eabc18>,\n",
       " <matplotlib.lines.Line2D at 0xad8eabe10>,\n",
       " <matplotlib.lines.Line2D at 0xad8eab2e8>,\n",
       " <matplotlib.lines.Line2D at 0xad8eab0f0>,\n",
       " <matplotlib.lines.Line2D at 0xa5e294518>,\n",
       " <matplotlib.lines.Line2D at 0xa5e294898>,\n",
       " <matplotlib.lines.Line2D at 0xa5e2949e8>,\n",
       " <matplotlib.lines.Line2D at 0xa5e294208>,\n",
       " <matplotlib.lines.Line2D at 0xa5e294d68>,\n",
       " <matplotlib.lines.Line2D at 0xa5e294390>,\n",
       " <matplotlib.lines.Line2D at 0xa5e294b70>,\n",
       " <matplotlib.lines.Line2D at 0xa5e2947b8>,\n",
       " <matplotlib.lines.Line2D at 0xa5e294f28>,\n",
       " <matplotlib.lines.Line2D at 0xa5e294048>,\n",
       " <matplotlib.lines.Line2D at 0xa5e294358>,\n",
       " <matplotlib.lines.Line2D at 0xa5e294cc0>,\n",
       " <matplotlib.lines.Line2D at 0xa5c36a3c8>,\n",
       " <matplotlib.lines.Line2D at 0xa5c36ad68>,\n",
       " <matplotlib.lines.Line2D at 0xa5c36a828>,\n",
       " <matplotlib.lines.Line2D at 0xa5c36a978>,\n",
       " <matplotlib.lines.Line2D at 0xa5c36aa20>,\n",
       " <matplotlib.lines.Line2D at 0xa5c36a4e0>,\n",
       " <matplotlib.lines.Line2D at 0xa5c36a550>,\n",
       " <matplotlib.lines.Line2D at 0xa5e269908>,\n",
       " <matplotlib.lines.Line2D at 0xa5e269358>,\n",
       " <matplotlib.lines.Line2D at 0xa5e269470>,\n",
       " <matplotlib.lines.Line2D at 0xa5e2692b0>,\n",
       " <matplotlib.lines.Line2D at 0xa5e269780>,\n",
       " <matplotlib.lines.Line2D at 0xa5e2699b0>,\n",
       " <matplotlib.lines.Line2D at 0xa5e269518>,\n",
       " <matplotlib.lines.Line2D at 0xa5e269e80>,\n",
       " <matplotlib.lines.Line2D at 0xa5e2697b8>,\n",
       " <matplotlib.lines.Line2D at 0xa5e2694e0>,\n",
       " <matplotlib.lines.Line2D at 0xa5e269a58>,\n",
       " <matplotlib.lines.Line2D at 0xa5e269ba8>,\n",
       " <matplotlib.lines.Line2D at 0xa5e275c18>,\n",
       " <matplotlib.lines.Line2D at 0xa5e275128>,\n",
       " <matplotlib.lines.Line2D at 0xa5e275438>,\n",
       " <matplotlib.lines.Line2D at 0xa5e275978>,\n",
       " <matplotlib.lines.Line2D at 0xa5e2752b0>,\n",
       " <matplotlib.lines.Line2D at 0xa5e26db70>,\n",
       " <matplotlib.lines.Line2D at 0xa5e26dbe0>,\n",
       " <matplotlib.lines.Line2D at 0xa5e26d908>,\n",
       " <matplotlib.lines.Line2D at 0xa5e26d198>,\n",
       " <matplotlib.lines.Line2D at 0xa5e26d5f8>,\n",
       " <matplotlib.lines.Line2D at 0xa5e26d4e0>,\n",
       " <matplotlib.lines.Line2D at 0xa5e26dfd0>,\n",
       " <matplotlib.lines.Line2D at 0xa5e26dc50>,\n",
       " <matplotlib.lines.Line2D at 0xa5e26d940>,\n",
       " <matplotlib.lines.Line2D at 0xa5e26d6d8>,\n",
       " <matplotlib.lines.Line2D at 0xa5e26d470>,\n",
       " <matplotlib.lines.Line2D at 0xad8ad85f8>,\n",
       " <matplotlib.lines.Line2D at 0xad8ad86d8>,\n",
       " <matplotlib.lines.Line2D at 0xad8ad86a0>,\n",
       " <matplotlib.lines.Line2D at 0xad8ad80f0>,\n",
       " <matplotlib.lines.Line2D at 0xad8ad8240>,\n",
       " <matplotlib.lines.Line2D at 0xad8ad82b0>,\n",
       " <matplotlib.lines.Line2D at 0xad8ad87b8>,\n",
       " <matplotlib.lines.Line2D at 0xad8ad89b0>,\n",
       " <matplotlib.lines.Line2D at 0xad8ad8b00>]"
      ]
     },
     "execution_count": 71,
     "metadata": {},
     "output_type": "execute_result"
    },
    {
     "data": {
      "image/png": "[encoded data removed]",
      "text/plain": [
       "<Figure size 432x288 with 1 Axes>"
      ]
     },
     "metadata": {
      "needs_background": "light"
     },
     "output_type": "display_data"
    }
   ],
   "source": [
    "plot(T,c_arr)"
   ]
  },
  {
   "cell_type": "markdown",
   "metadata": {},
   "source": [
    "### At what steepness parameter does the SO phase disappear? (using random initialization of neurons)."
   ]
  },
  {
   "cell_type": "code",
   "execution_count": 10,
   "metadata": {},
   "outputs": [],
   "source": [
    "n = 100\n",
    "p = 1. #Probability of Connection \n",
    "M = getRandomConnectivity(n,p)\n",
    "l = matrixOfEdges(M,n)"
   ]
  },
  {
   "cell_type": "code",
   "execution_count": 13,
   "metadata": {},
   "outputs": [
    {
     "name": "stdout",
     "output_type": "stream",
     "text": [
      "0\n",
      "1\n",
      "2\n",
      "3\n",
      "4\n",
      "5\n",
      "6\n",
      "7\n",
      "8\n",
      "9\n"
     ]
    },
    {
     "data": {
      "text/plain": [
       "'\\nfor i in range(N_samples):\\n    if i%10 == 0:\\n        print(\"Step {}\".format(i))\\n    C,V,f,p_arr,v_arr,c_arr = network.simdyn(network.M,network.l,network.params)\\n    V_init.append(v_arr[0])\\n    V_final.append(v_arr[-1])\\n    C_init.append(c_arr[0])\\n    C_final.append(c_arr[-1])\\n    v_classification.append(classifier(V,1/dt,0.1))\\n    c_classification.append(classifier(C,1/dt,0.1))\\n'"
      ]
     },
     "execution_count": 13,
     "metadata": {},
     "output_type": "execute_result"
    }
   ],
   "source": [
    "N = 1000000 #15000\n",
    "dt = 0.0001\n",
    "T = zeros(N)\n",
    "for i in range(N):\n",
    "    T[i] = i*dt\n",
    "\n",
    "tauv = 0.01 \n",
    "tauc = 0.5\n",
    "Vstar = 15\n",
    "Cstar = 20 \n",
    "V0 = np.random.uniform(Vstar-1,Vstar+1)#10 #20\n",
    "C0 = np.random.uniform(Cstar-1,Cstar+1)#24 #24\n",
    "\n",
    "delV = 3. #12\n",
    "delC = 0.015\n",
    "r = 70\n",
    "r_0 = 5\n",
    "\n",
    "g = 0.5\n",
    "g_v = g #.95\n",
    "g_c = g #.95\n",
    "\n",
    "params = zeros(15)\n",
    "params[0] = N\n",
    "params[1] = n\n",
    "params[2] = dt\n",
    "params[3] = tauv\n",
    "params[4] = tauc\n",
    "params[5] = Vstar\n",
    "params[6] = Cstar\n",
    "params[7] = delV\n",
    "params[8] = delC\n",
    "params[9] = r\n",
    "params[10] = V0\n",
    "params[11] = C0\n",
    "params[12] = g_v\n",
    "params[13] = g_c\n",
    "params[14] = r_0\n",
    "\n",
    "N_samples = 100\n",
    "V_final=[]\n",
    "C_final=[]\n",
    "g_arr = []\n",
    "v_classification = []\n",
    "c_classification = []\n",
    "\n",
    "network = MeanFieldStepNetwork(M,l,params)\n",
    "\n",
    "dg = 0.05\n",
    "\n",
    "N_samples = 10\n",
    "for i in range(N_samples):\n",
    "    print(i)\n",
    "    V0 = np.random.uniform(Vstar-1,Vstar+1)\n",
    "    C0 = np.random.uniform(Cstar-1,Cstar+1)\n",
    "    \n",
    "    params[10] = V0\n",
    "    params[11] = C0\n",
    "    \n",
    "    g = 4\n",
    "    \n",
    "    params[12] = g\n",
    "    params[13] = g\n",
    "    \n",
    "    network=MeanFieldStepNetwork(M,l,params)\n",
    "    \n",
    "    while(g > 0):\n",
    "        Ca,Va,Ci,Vi = network.simdyn(network.params)\n",
    "        v_class = classifier(Va,1/dt,0.1)\n",
    "        c_class = classifier(Ca,1/dt,0.1)\n",
    "        if v_class != 1 or c_class !=1:\n",
    "            v_classification.append(v_class)\n",
    "            c_classification.append(c_class)\n",
    "            C_final.append(Ca)\n",
    "            V_final.append(Va)\n",
    "            g_arr.append(g)\n",
    "            break\n",
    "        g -= dg\n",
    "        params[12] = g\n",
    "        params[13] = g\n",
    "        network=MeanFieldStepNetwork(M,l,params)\n",
    "\n",
    "'''\n",
    "for i in range(N_samples):\n",
    "    if i%10 == 0:\n",
    "        print(\"Step {}\".format(i))\n",
    "    C,V,f,p_arr,v_arr,c_arr = network.simdyn(network.M,network.l,network.params)\n",
    "    V_init.append(v_arr[0])\n",
    "    V_final.append(v_arr[-1])\n",
    "    C_init.append(c_arr[0])\n",
    "    C_final.append(c_arr[-1])\n",
    "    v_classification.append(classifier(V,1/dt,0.1))\n",
    "    c_classification.append(classifier(C,1/dt,0.1))\n",
    "'''\n",
    "\n",
    "#C,V = network.simdyn(network.M,network.l,network.params)\n",
    "#plot(C[:],V[:])\n",
    "#xlabel(\"C\")\n",
    "#ylabel(\"V\")\n",
    "#title(\"V: {}, C: {}\".format(classifier(V, 1/dt, 0.1), classifier(C, 1/dt, 0.1)))"
   ]
  },
  {
   "cell_type": "code",
   "execution_count": 14,
   "metadata": {},
   "outputs": [
    {
     "data": {
      "text/plain": [
       "[2.300000000000006,\n",
       " 2.300000000000006,\n",
       " 2.300000000000006,\n",
       " 2.300000000000006,\n",
       " 2.300000000000006,\n",
       " 2.300000000000006,\n",
       " 2.300000000000006,\n",
       " 2.300000000000006,\n",
       " 2.300000000000006,\n",
       " 2.300000000000006]"
      ]
     },
     "execution_count": 14,
     "metadata": {},
     "output_type": "execute_result"
    }
   ],
   "source": [
    "g_arr"
   ]
  },
  {
   "cell_type": "code",
   "execution_count": 17,
   "metadata": {},
   "outputs": [
    {
     "data": {
      "text/plain": [
       "[<matplotlib.lines.Line2D at 0xa2183e400>]"
      ]
     },
     "execution_count": 17,
     "metadata": {},
     "output_type": "execute_result"
    },
    {
     "data": {
      "image/png": "[encoded data removed]",
      "text/plain": [
       "<Figure size 432x288 with 1 Axes>"
      ]
     },
     "metadata": {
      "needs_background": "light"
     },
     "output_type": "display_data"
    }
   ],
   "source": [
    "network=MeanFieldStepNetwork(M,l,params)\n",
    "g = 2.35\n",
    "params[12]=g\n",
    "params[13]=g\n",
    "Ca,Va,Ci,Vi = network.simdyn(network.params)\n",
    "plot(Ca,Va)"
   ]
  },
  {
   "cell_type": "code",
   "execution_count": 165,
   "metadata": {},
   "outputs": [
    {
     "data": {
      "text/plain": [
       "32.00016683906536"
      ]
     },
     "execution_count": 165,
     "metadata": {},
     "output_type": "execute_result"
    }
   ],
   "source": [
    "sum(v_arr[-1])/56.723\n"
   ]
  },
  {
   "cell_type": "code",
   "execution_count": 164,
   "metadata": {},
   "outputs": [
    {
     "data": {
      "text/plain": [
       "array([5.67233097e+01, 1.03707409e-14, 5.67233097e+01, 1.03707403e-14,\n",
       "       5.67233094e+01, 1.03707404e-14, 1.03707398e-14, 5.67233100e+01,\n",
       "       1.03707386e-14, 1.03707395e-14, 1.03707405e-14, 1.03707384e-14,\n",
       "       1.03707395e-14, 1.03707392e-14, 1.03707401e-14, 1.03707404e-14,\n",
       "       5.67233106e+01, 1.03707390e-14, 1.03707393e-14, 1.03707399e-14,\n",
       "       1.03707405e-14, 5.67233096e+01, 1.03707385e-14, 5.67233105e+01,\n",
       "       1.03707406e-14, 5.67233086e+01, 1.03707391e-14, 1.03707399e-14,\n",
       "       5.67233106e+01, 1.03707389e-14, 1.03707404e-14, 1.03707396e-14,\n",
       "       1.03707404e-14, 5.67233107e+01, 5.67233105e+01, 1.03707402e-14,\n",
       "       1.03707385e-14, 1.03707393e-14, 5.67233107e+01, 1.03707399e-14,\n",
       "       1.03707385e-14, 1.03707401e-14, 5.67233092e+01, 1.03707389e-14,\n",
       "       1.03707398e-14, 5.67233105e+01, 1.03707395e-14, 1.03707402e-14,\n",
       "       1.03707397e-14, 1.03707401e-14, 1.03707395e-14, 1.03707393e-14,\n",
       "       1.03707403e-14, 5.67233105e+01, 1.03707396e-14, 1.03707399e-14,\n",
       "       5.67233097e+01, 1.03707388e-14, 5.67233095e+01, 5.67233100e+01,\n",
       "       5.67233104e+01, 1.03707388e-14, 1.03707398e-14, 1.03707392e-14,\n",
       "       5.67228524e+01, 1.03707392e-14, 5.67233103e+01, 1.03707387e-14,\n",
       "       5.67233095e+01, 1.03707392e-14, 1.03707396e-14, 1.03707389e-14,\n",
       "       1.03707405e-14, 5.67233104e+01, 5.67233098e+01, 5.67233104e+01,\n",
       "       5.67233099e+01, 1.03707394e-14, 1.03707394e-14, 1.03707385e-14,\n",
       "       5.67233105e+01, 1.03707392e-14, 1.03707401e-14, 1.03707395e-14,\n",
       "       1.03707392e-14, 1.03707385e-14, 5.67233095e+01, 1.03707405e-14,\n",
       "       5.67233097e+01, 1.03707396e-14, 1.03707401e-14, 5.67233103e+01,\n",
       "       1.03707395e-14, 1.03707402e-14, 5.67233106e+01, 1.03707393e-14,\n",
       "       1.03707385e-14, 5.67233099e+01, 1.03707401e-14, 1.03707407e-14])"
      ]
     },
     "execution_count": 164,
     "metadata": {},
     "output_type": "execute_result"
    }
   ],
   "source": [
    "v_arr[-1]"
   ]
  },
  {
   "cell_type": "markdown",
   "metadata": {},
   "source": [
    "### phase diagram: number of neurons vs g"
   ]
  },
  {
   "cell_type": "code",
   "execution_count": 167,
   "metadata": {},
   "outputs": [],
   "source": [
    "n = 100\n",
    "p = 1. #Probability of Connection \n",
    "M = getRandomConnectivity(n,p)\n",
    "l = matrixOfEdges(M,n)"
   ]
  },
  {
   "cell_type": "code",
   "execution_count": 169,
   "metadata": {},
   "outputs": [
    {
     "name": "stdout",
     "output_type": "stream",
     "text": [
      "Transition at n = 57, g = 0.1, from 1 to 2\n",
      "Transition at n = 54, g = 0.2, from 1 to 2\n",
      "Transition at n = 49, g = 0.4, from 1 to 2\n",
      "Transition at n = 47, g = 0.5, from 1 to 2\n",
      "Transition at n = 45, g = 0.6, from 1 to 2\n",
      "Transition at n = 43, g = 0.7, from 1 to 2\n",
      "Transition at n = 39, g = 0.8999999999999999, from 1 to 2\n",
      "Transition at n = 37, g = 0.9999999999999999, from 1 to 2\n",
      "Transition at n = 32, g = 1.3, from 1 to 2\n",
      "Transition at n = 31, g = 1.4000000000000001, from 1 to 2\n",
      "Transition at n = 28, g = 1.6000000000000003, from 1 to 2\n",
      "Transition at n = 26, g = 1.7000000000000004, from 1 to 2\n",
      "Transition at n = 24, g = 1.8000000000000005, from 1 to 2\n",
      "Transition at n = 22, g = 1.9000000000000006, from 1 to 2\n",
      "Transition at n = 19, g = 2.0000000000000004, from 1 to 2\n",
      "Transition at n = 17, g = 2.1000000000000005, from 1 to 2\n",
      "Transition at n = 14, g = 2.2000000000000006, from 1 to 2\n",
      "Transition at n = 12, g = 2.3000000000000007, from 1 to 2\n",
      "Transition at n = 10, g = 2.400000000000001, from 1 to 2\n",
      "Transition at n = 8, g = 2.500000000000001, from 1 to 2\n",
      "Transition at n = 7, g = 2.600000000000001, from 1 to 2\n",
      "Transition at n = 6, g = 2.700000000000001, from 1 to 2\n",
      "Transition at n = 5, g = 2.800000000000001, from 1 to 2\n",
      "Transition at n = 4, g = 2.9000000000000012, from 1 to 2\n",
      "Transition at n = 4, g = 3.0000000000000013, from 1 to 2\n",
      "Transition at n = 3, g = 3.1000000000000014, from 1 to 2\n",
      "Transition at n = 3, g = 3.2000000000000015, from 1 to 2\n",
      "Transition at n = 3, g = 3.3000000000000016, from 1 to 2\n",
      "Transition at n = 2, g = 3.4000000000000017, from 1 to 2\n",
      "Transition at n = 2, g = 3.5000000000000018, from 1 to 2\n",
      "Transition at n = 2, g = 3.600000000000002, from 1 to 2\n",
      "Transition at n = 2, g = 3.800000000000002, from 1 to 2\n",
      "Transition at n = 2, g = 3.900000000000002, from 1 to 2\n",
      "Transition at n = 1, g = 4.000000000000002, from 1 to 2\n",
      "Transition at n = 1, g = 4.100000000000001, from 1 to 2\n",
      "Transition at n = 1, g = 4.200000000000001, from 1 to 2\n",
      "Transition at n = 1, g = 4.300000000000001, from 1 to 2\n",
      "Transition at n = 1, g = 4.899999999999999, from 1 to 2\n",
      "Transition at n = 1, g = 4.999999999999998, from 1 to 2\n"
     ]
    }
   ],
   "source": [
    "N = 10000 #15000\n",
    "dt = 0.0001\n",
    "T = zeros(N)\n",
    "for i in range(N):\n",
    "    T[i] = i*dt\n",
    "\n",
    "tauv = 0.01 \n",
    "tauc = 0.5\n",
    "Vstar = 15\n",
    "Cstar = 20 \n",
    "V0 = 10 #20\n",
    "C0 = 24 #24\n",
    "\n",
    "delV = 5. #12\n",
    "delC = 0.015\n",
    "r = 70\n",
    "r_0 = 5\n",
    "\n",
    "g = 0.1\n",
    "g_v = g #.95\n",
    "g_c = g #.95\n",
    "\n",
    "params = zeros(15)\n",
    "params[0] = N\n",
    "params[1] = n\n",
    "params[2] = dt\n",
    "params[3] = tauv\n",
    "params[4] = tauc\n",
    "params[5] = Vstar\n",
    "params[6] = Cstar\n",
    "params[7] = delV\n",
    "params[8] = delC\n",
    "params[9] = r\n",
    "params[10] = V0\n",
    "params[11] = C0\n",
    "params[12] = g_v\n",
    "params[13] = g_c\n",
    "params[14] = r_0\n",
    "\n",
    "network = Network(M,l,params)\n",
    "network.init_kill_order()\n",
    "\n",
    "g_max = 5.0\n",
    "dg = 0.1\n",
    "edge_min = network.n_edges//4\n",
    "edge_step = 20\n",
    "\n",
    "phasen = []\n",
    "phaseg = []\n",
    "\n",
    "while True: \n",
    "    C,V,c_arr,v_arr = network.simdyn(network.M,network.l,network.params)\n",
    "    classification1 = classify(V,network.params)\n",
    "    n_culled = 0\n",
    "    while True: \n",
    "        if n_culled >= n-1:\n",
    "            network.params[12] += dg\n",
    "            network.params[13] += dg\n",
    "            network.M = network.M_init\n",
    "            network.l = network.l_init\n",
    "            network.n = network.n_init\n",
    "            break\n",
    "            \n",
    "        else:\n",
    "            network.kill_neuron()\n",
    "            n_culled += 1\n",
    "            \n",
    "        C,V,c_arr,v_arr = network.simdyn(network.M,network.l,network.params)\n",
    "        classification2 = classify(V,network.params)\n",
    "        #if classification2 != classification1: \n",
    "        if classification2 == 2 and classification1 == 1:\n",
    "            print(\"Transition at n = {}, g = {}, from {} to {}\".format(network.n,network.params[12],\n",
    "                                                                          classification1,classification2))\n",
    "            phasen.append(network.n)\n",
    "            phaseg.append(network.params[12])\n",
    "\n",
    "            network.params[12] += dg \n",
    "            network.params[13] += dg \n",
    "            network.M = network.M_init\n",
    "            network.l = network.l_init \n",
    "            network.n = network.n_init\n",
    "            break\n",
    "            \n",
    "    if network.params[12] >= g_max:\n",
    "        break"
   ]
  },
  {
   "cell_type": "code",
   "execution_count": 170,
   "metadata": {},
   "outputs": [
    {
     "data": {
      "text/plain": [
       "[<matplotlib.lines.Line2D at 0xa24ac3358>]"
      ]
     },
     "execution_count": 170,
     "metadata": {},
     "output_type": "execute_result"
    },
    {
     "data": {
      "image/png": "[encoded data removed]",
      "text/plain": [
       "<Figure size 432x288 with 1 Axes>"
      ]
     },
     "metadata": {
      "needs_background": "light"
     },
     "output_type": "display_data"
    }
   ],
   "source": [
    "plot(phaseg, phasen)"
   ]
  },
  {
   "cell_type": "code",
   "execution_count": 165,
   "metadata": {},
   "outputs": [],
   "source": [
    "N = 10000 #15000\n",
    "dt = 0.001\n",
    "T = zeros(N)\n",
    "for i in range(N):\n",
    "    T[i] = i*dt\n",
    "\n",
    "tauv = 0.01 \n",
    "tauc = 0.5\n",
    "Vstar = 15\n",
    "Cstar = 20 \n",
    "V0 = 10 #20\n",
    "C0 = 24 #24\n",
    "\n",
    "target_n = 70\n",
    "\n",
    "delV = 5. #12\n",
    "delC = 0.015\n",
    "r = 70\n",
    "r_0 = 5\n",
    "\n",
    "g = 4.0\n",
    "g_v = g #.95\n",
    "g_c = g #.95\n",
    "\n",
    "params = zeros(15)\n",
    "params[0] = N\n",
    "params[1] = n\n",
    "params[2] = dt\n",
    "params[3] = tauv\n",
    "params[4] = tauc\n",
    "params[5] = Vstar\n",
    "params[6] = Cstar\n",
    "params[7] = delV\n",
    "params[8] = delC\n",
    "params[9] = r\n",
    "params[10] = V0\n",
    "params[11] = C0\n",
    "params[12] = g_v\n",
    "params[13] = g_c\n",
    "params[14] = r_0\n",
    "\n",
    "network = Network(M,l,params)\n",
    "\n",
    "for i in range(n-target_n):\n",
    "    network.kill_neuron()\n",
    "    \n",
    "C,V,c_arr,v_arr = network.simdyn(network.M,network.l,network.params)"
   ]
  },
  {
   "cell_type": "code",
   "execution_count": 166,
   "metadata": {},
   "outputs": [
    {
     "name": "stdout",
     "output_type": "stream",
     "text": [
      "1\n",
      "70\n"
     ]
    },
    {
     "data": {
      "image/png": "[encoded data removed]",
      "text/plain": [
       "<Figure size 432x288 with 1 Axes>"
      ]
     },
     "metadata": {
      "needs_background": "light"
     },
     "output_type": "display_data"
    }
   ],
   "source": [
    "plot(C,V)\n",
    "print(classify(V,network.params))\n",
    "print(network.n)\n"
   ]
  },
  {
   "cell_type": "code",
   "execution_count": null,
   "metadata": {},
   "outputs": [],
   "source": []
  }
 ],
 "metadata": {
  "kernelspec": {
   "display_name": "Python 3",
   "language": "python",
   "name": "python3"
  },
  "language_info": {
   "codemirror_mode": {
    "name": "ipython",
    "version": 3
   },
   "file_extension": ".py",
   "mimetype": "text/x-python",
   "name": "python",
   "nbconvert_exporter": "python",
   "pygments_lexer": "ipython3",
   "version": "3.6.6"
  }
 },
 "nbformat": 4,
 "nbformat_minor": 2
}
