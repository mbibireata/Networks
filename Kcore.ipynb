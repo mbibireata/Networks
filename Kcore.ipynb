{
 "cells": [
  {
   "cell_type": "code",
   "execution_count": 1,
   "metadata": {},
   "outputs": [
    {
     "name": "stdout",
     "output_type": "stream",
     "text": [
      "Using matplotlib backend: Qt5Agg\n",
      "Populating the interactive namespace from numpy and matplotlib\n"
     ]
    }
   ],
   "source": [
    "#1\n",
    "import numpy as np\n",
    "%pylab \n",
    "style.use('ggplot')\n",
    "rcParams['figure.figsize'] = (7,7)\n",
    "from numba import jit\n",
    "\n",
    "#from IPython.core.display import display, HTML\n",
    "#display(HTML(\"<style>.container { width:90% !important; }</style>\"))\n",
    "import copy\n",
    "import networkx as nx"
   ]
  },
  {
   "cell_type": "code",
   "execution_count": 2,
   "metadata": {},
   "outputs": [],
   "source": [
    "#2\n",
    "#TODO: Implement different random connectivity matrix to make loops more or less probable\n",
    "#Here we construct a random connectivity matrix (single-directional map)\n",
    "def getRandomConnectivity(N, pct_connected):\n",
    "    #Directed mapping\n",
    "    M = np.random.rand(N**2).reshape(N,N)\n",
    "    for i in range(N):\n",
    "        for j in range(N):\n",
    "            if (i == j):\n",
    "                M[i,j] = 0\n",
    "            else:\n",
    "                if (M[i,j] < pct_connected):\n",
    "                    M[i,j] = 1 #i connects to j\n",
    "                else:\n",
    "                    M[i,j] = 0\n",
    "    return M\n",
    "\n",
    "# alternate version\n",
    "def getRandomConnectivity2(N, pct_connected):\n",
    "    # There are N*(N-1)/2 upper diagonal elements\n",
    "    rand_elems = np.where(np.random.rand(N*(N-1)/2) < pct_connected, 1, 0)\n",
    "    M = np.zeros((N,N))\n",
    "    M[np.triu_indices(N,1)] = rand_elems\n",
    "    return M + M.T\n",
    "\n",
    "# Original version with bidirectional mapping \n",
    "def getRandomConnectivity3(N, pct_connected):\n",
    "    # There is no self coupling so the diagonal must be zero. \n",
    "    # The graph is non directed so M must be symmetric\n",
    "    M = np.random.rand(N**2).reshape(N,N)\n",
    "    for i in range(N):\n",
    "        for j in range(i, N):\n",
    "            if (i == j):\n",
    "                M[i,j] = 0\n",
    "            else:\n",
    "                if (M[i,j] < pct_connected):\n",
    "                    M[i,j] = 1\n",
    "                else:\n",
    "                    M[i,j] = 0\n",
    "                M[j,i] = M[i,j]\n",
    "    return M"
   ]
  },
  {
   "cell_type": "code",
   "execution_count": 3,
   "metadata": {},
   "outputs": [],
   "source": [
    "#3\n",
    "# algorithm for finding k cores\n",
    "# The basic idea is to recursively remove nodes of connectivity < k until we either have nothing to remove or no nodes left\n",
    "\n",
    "def hasKcore(M, k):\n",
    "    # we'll be destroying the array so make a copy to work with\n",
    "    X = M.copy()\n",
    "    while(True):\n",
    "        cur_num_nodes = X.shape[0]\n",
    "        s = np.sum(X, 0)\n",
    "        nodes_to_delete = np.where(s < k)[0]\n",
    "        if (len(nodes_to_delete) == cur_num_nodes):\n",
    "            # nothing has at least k connections\n",
    "            \n",
    "            X = np.delete(X, nodes_to_delete, axis=0)\n",
    "            X = np.delete(X, nodes_to_delete, axis=1)\n",
    "            \n",
    "            return False\n",
    "            break\n",
    "        elif (len(nodes_to_delete) == 0):\n",
    "            # They all have at least k connections, we've found a kcore\n",
    "            return True\n",
    "            break\n",
    "        else:\n",
    "            X = np.delete(X, nodes_to_delete, axis=0)\n",
    "            X = np.delete(X, nodes_to_delete, axis=1)\n",
    "\n",
    "            \n",
    "# TODO get Kcore indices \n",
    "\n",
    "def largestKcore(M):\n",
    "    # we can begin the search at the least connected node\n",
    "    connectivity = np.sum(M,0)\n",
    "    min_kcore = np.min(connectivity)\n",
    "    max_kcore = np.max(connectivity)\n",
    "    if max_kcore == 0:\n",
    "        return 0\n",
    "    k = min_kcore\n",
    "    while (hasKcore(M,k)):\n",
    "        k = k+1\n",
    "        \n",
    "    return k - 1\n",
    "        \n",
    "    \n",
    "    \n",
    "def largestkcore(M):\n",
    "    # we can begin the search at the least connected node\n",
    "    connectivity = np.sum(M,0)\n",
    "    min_kcore = np.min(connectivity)\n",
    "    max_kcore = np.max(connectivity)\n",
    "    if max_kcore == 0:\n",
    "        return 0\n",
    "    k = min_kcore\n",
    "    s=1\n",
    "    while (s==1):\n",
    "        \n",
    "        X = M.copy()\n",
    "        while(True):\n",
    "            cur_num_nodes = X.shape[0]\n",
    "            s = np.sum(X, 0)\n",
    "            nodes_to_delete = np.where(s < k)[0]\n",
    "            if (len(nodes_to_delete) == cur_num_nodes):\n",
    "            # nothing has at least k connections\n",
    "            \n",
    "                X = np.delete(X, nodes_to_delete, axis=0)\n",
    "                X = np.delete(X, nodes_to_delete, axis=1)\n",
    "            \n",
    "                s=0\n",
    "                break\n",
    "            elif (len(nodes_to_delete) == 0):\n",
    "            # They all have at least k connections, we've found a kcore\n",
    "                s=1\n",
    "                break\n",
    "            else:\n",
    "                X = np.delete(X, nodes_to_delete, axis=0)\n",
    "                X = np.delete(X, nodes_to_delete, axis=1)\n",
    "        k = k+1\n",
    "        \n",
    "    return k - 1\n",
    "\n",
    "#TODO: Instead of deleting nodes, put 0's on all the connections for the rows and columns that are disconnected\n",
    "    #Keeps number of all neurons the same so that neuron 3 doesnt become neuron 2 etc. \n",
    "    #Look for neurons not in Kcore which are firing and neurons that are in kcore and not firing. \n",
    "def kcoreitself(M, k):\n",
    "    # we'll be destroying the array so make a copy to work with\n",
    "    X = M.copy()\n",
    "    \n",
    "    while(True):\n",
    "        cur_num_nodes = X.shape[0]\n",
    "        s = np.sum(X, 0)\n",
    "        nodes_to_delete = np.where(s < k)[0]\n",
    "        if (len(nodes_to_delete) == cur_num_nodes):\n",
    "            \n",
    "            X = np.delete(X, nodes_to_delete, axis=0)\n",
    "            X = np.delete(X, nodes_to_delete, axis=1)\n",
    "            # nothing has at least k connections\n",
    "            return X\n",
    "            break\n",
    "        elif (len(nodes_to_delete) == 0):\n",
    "            # They all have at least k connections, we've found a kcore\n",
    "            return X\n",
    "            break\n",
    "        else:\n",
    "            X = np.delete(X, nodes_to_delete, axis=0)\n",
    "            X = np.delete(X, nodes_to_delete, axis=1)\n",
    "\n",
    "\n",
    "\n",
    "#here we get the largest connected component of  the graph\n",
    "\n",
    "def largestcomponent(l,N):\n",
    "    n=np.random.randint(0,N)\n",
    "    \n",
    "    boundary=[n]\n",
    "    b=1\n",
    "    comp=[n]\n",
    "    c=1\n",
    "   \n",
    "    while(b>0):\n",
    "        a=boundary.pop()\n",
    "        \n",
    "        oldvertex=int(a)\n",
    "        \n",
    "        deg=l[oldvertex,0]\n",
    "        degree=int(deg)\n",
    "        #print(degree)\n",
    "        for j in range(degree):\n",
    "            newvertex=l[oldvertex,j+1]\n",
    "            q=comp.count(newvertex)\n",
    "            #print(newvertex)\n",
    "            q=int(q)\n",
    "            #print(q)\n",
    "            if (q==0):\n",
    "                comp.append(newvertex)\n",
    "                boundary.append(newvertex)\n",
    "                #print(newvertex)\n",
    "                #print(boundary)\n",
    "            \n",
    "        b=len(boundary)\n",
    "            \n",
    "    #sizeofcomp=len(comp)\n",
    "    return(comp)\n",
    "\n",
    "def matrixOfEdges(M,N):\n",
    "    N = int(N)\n",
    "    E=np.zeros(N**2).reshape(N,N)  #prepare array with zeros\n",
    "    k=np.sum(M,0) #array with degree of each vertex\n",
    "    for i in range(N):\n",
    "        a=int(k[i]) #degree of the current vertex\n",
    "        E[i,0]=a  #we put it to the zero row of matrix of edges\n",
    "    for i in range(N):\n",
    "        a=int(k[i])\n",
    "        q=1\n",
    "        for j in range(N):\n",
    "            if (M[j,i]==1):\n",
    "                E[i,q]=j #all the next elements in current column are number of vertices current vertex is connected to\n",
    "                q=q+1\n",
    "    return(E)"
   ]
  },
  {
   "cell_type": "code",
   "execution_count": 22,
   "metadata": {},
   "outputs": [],
   "source": [
    "def simdyn(M,l,params):\n",
    "    return simDynamics(M,l,params)\n",
    "\n",
    "@jit(nopython=True)\n",
    "def simDynamics(M,l,params):\n",
    "    N=int(params[0])\n",
    "    n=int(params[1])\n",
    "    dt=params[2]\n",
    "    tauv=params[3]\n",
    "    tauc=params[4]\n",
    "    Vstar=params[5]\n",
    "    Cstar=params[6]\n",
    "    delV=params[7]\n",
    "    delC=params[8]\n",
    "    r=params[9]\n",
    "    V0=params[10]\n",
    "    C0=params[11]\n",
    "    V=zeros(N*n).reshape(N,n)  #now we have potencial and calcium concentration for each neuron\n",
    "    C=zeros(N*n).reshape(N,n)\n",
    "    P=zeros(n)  # function P(V), sigmoid\n",
    "    sump=zeros(n)  #sum of P over the vertices\n",
    "    avV=zeros(N) #average potencial\n",
    "    avC=zeros(N)  #average calcium\n",
    "    #res = int(params[12]) #resulting classification \n",
    "    \n",
    "    for i in range(n):\n",
    "        V[0,i]=V0 #initial conditions\n",
    "        C[0,i]=C0 \n",
    "        avV[0]=n*V0  #we will divide to n later\n",
    "        avC[0]=n*C0\n",
    "    for i in range (N-1):\n",
    "        for j in range(n):\n",
    "            P[j] = 1/(1+exp((Vstar-V[i,j])*0.2))\n",
    "        for j in range(n):\n",
    "            a=int(l[j,0])\n",
    "            for k in range(a):\n",
    "                b=int(l[j,k])\n",
    "                sump[j]=sump[j]+P[b]  #if neuron connected to j-th neuron it participates in sum\n",
    "        for j in range(n):\n",
    "            V[i+1,j]=(-V[i,j]/tauv + delV*r*sump[j]*(1/(1+exp(C[i,j]-Cstar))) )*dt + V[i,j]\n",
    "            C[i+1,j]=(-C[i,j]/tauc + delC*r*sump[j])*dt + C[i,j]\n",
    "            avC[i+1]=avC[i+1]+C[i+1,j]\n",
    "            avV[i+1]=avV[i+1]+V[i+1,j]\n",
    "        for j in range(n):\n",
    "            sump[j]=0\n",
    "    for i in range (N):\n",
    "        avC[i]=avC[i]/n\n",
    "        avV[i]=avV[i]/n\n",
    "        \n",
    "   \n",
    "    return(avC,avV,C,V)"
   ]
  },
  {
   "cell_type": "markdown",
   "metadata": {},
   "source": [
    "### Phase Diagram"
   ]
  },
  {
   "cell_type": "code",
   "execution_count": 57,
   "metadata": {},
   "outputs": [],
   "source": [
    "p = 0.95\n",
    "n=100 #100\n",
    "M=getRandomConnectivity(n,p) #args(n,p)\n",
    "l=matrixOfEdges(M,n)"
   ]
  },
  {
   "cell_type": "code",
   "execution_count": 61,
   "metadata": {},
   "outputs": [
    {
     "name": "stdout",
     "output_type": "stream",
     "text": [
      "delV:  1.0\n",
      "transition from 1 to 2\n",
      "delV:  1.1\n",
      "transition from 1 to 2\n",
      "delV:  1.2000000000000002\n",
      "transition from 1 to 3\n",
      "delV:  1.3000000000000003\n",
      "transition from 1 to 3\n",
      "delV:  1.4000000000000004\n",
      "transition from 1 to 3\n",
      "delV:  1.5000000000000004\n",
      "transition from 1 to 3\n",
      "delV:  1.6000000000000005\n",
      "transition from 1 to 3\n",
      "delV:  1.7000000000000006\n",
      "transition from 1 to 3\n",
      "delV:  1.8000000000000007\n",
      "transition from 1 to 3\n",
      "delV:  1.9000000000000008\n",
      "transition from 1 to 3\n",
      "delV:  2.000000000000001\n",
      "transition from 1 to 3\n",
      "delV:  2.100000000000001\n",
      "transition from 1 to 3\n",
      "delV:  2.200000000000001\n",
      "transition from 1 to 3\n",
      "delV:  2.300000000000001\n",
      "transition from 1 to 3\n",
      "delV:  2.4000000000000012\n",
      "transition from 1 to 3\n",
      "delV:  2.5000000000000013\n",
      "transition from 1 to 3\n",
      "delV:  2.6000000000000014\n",
      "transition from 1 to 3\n",
      "delV:  2.7000000000000015\n",
      "transition from 1 to 3\n",
      "delV:  2.8000000000000016\n",
      "transition from 1 to 3\n",
      "delV:  2.9000000000000017\n",
      "transition from 1 to 3\n",
      "delV:  3.0000000000000018\n",
      "transition from 1 to 3\n",
      "delV:  3.100000000000002\n",
      "transition from 1 to 3\n",
      "delV:  3.200000000000002\n",
      "transition from 1 to 3\n",
      "delV:  3.300000000000002\n",
      "transition from 1 to 3\n",
      "delV:  3.400000000000002\n",
      "transition from 1 to 3\n",
      "delV:  3.500000000000002\n",
      "transition from 1 to 3\n",
      "delV:  3.6000000000000023\n",
      "transition from 1 to 3\n",
      "delV:  3.7000000000000024\n",
      "transition from 1 to 3\n",
      "delV:  3.8000000000000025\n",
      "transition from 1 to 3\n",
      "delV:  3.9000000000000026\n",
      "transition from 1 to 3\n",
      "delV:  4.000000000000003\n",
      "transition from 1 to 3\n",
      "delV:  4.100000000000002\n",
      "transition from 1 to 3\n",
      "delV:  4.200000000000002\n",
      "transition from 1 to 3\n",
      "delV:  4.300000000000002\n",
      "transition from 1 to 3\n",
      "delV:  4.400000000000001\n",
      "transition from 1 to 3\n",
      "delV:  4.500000000000001\n",
      "transition from 1 to 3\n",
      "delV:  4.6000000000000005\n",
      "transition from 1 to 3\n",
      "delV:  4.7\n",
      "transition from 1 to 3\n",
      "delV:  4.8\n",
      "transition from 1 to 3\n",
      "delV:  4.8999999999999995\n",
      "transition from 1 to 3\n",
      "delV:  4.999999999999999\n",
      "transition from 1 to 3\n",
      "delV:  5.099999999999999\n",
      "transition from 1 to 3\n",
      "delV:  5.199999999999998\n",
      "transition from 1 to 3\n",
      "delV:  5.299999999999998\n",
      "transition from 1 to 3\n",
      "delV:  5.399999999999998\n",
      "transition from 1 to 3\n",
      "delV:  5.499999999999997\n",
      "transition from 1 to 3\n",
      "delV:  5.599999999999997\n",
      "transition from 1 to 3\n",
      "delV:  5.699999999999997\n",
      "transition from 1 to 3\n",
      "delV:  5.799999999999996\n",
      "transition from 1 to 3\n",
      "delV:  5.899999999999996\n",
      "transition from 1 to 3\n",
      "delV:  5.999999999999996\n",
      "transition from 1 to 3\n",
      "delV:  6.099999999999995\n",
      "transition from 1 to 3\n",
      "delV:  6.199999999999995\n",
      "transition from 1 to 3\n",
      "delV:  6.2999999999999945\n",
      "transition from 1 to 3\n",
      "delV:  6.399999999999994\n",
      "transition from 1 to 3\n",
      "delV:  6.499999999999994\n",
      "transition from 1 to 3\n",
      "delV:  6.599999999999993\n",
      "transition from 1 to 3\n",
      "delV:  6.699999999999993\n",
      "transition from 1 to 3\n",
      "delV:  6.799999999999993\n",
      "transition from 1 to 3\n",
      "delV:  6.899999999999992\n",
      "transition from 1 to 3\n",
      "delV:  6.999999999999992\n",
      "transition from 1 to 3\n"
     ]
    },
    {
     "ename": "KeyboardInterrupt",
     "evalue": "",
     "output_type": "error",
     "traceback": [
      "\u001b[0;31m---------------------------------------------------------------------------\u001b[0m",
      "\u001b[0;31mKeyboardInterrupt\u001b[0m                         Traceback (most recent call last)",
      "\u001b[0;32m<ipython-input-61-c1370b1a4293>\u001b[0m in \u001b[0;36m<module>\u001b[0;34m\u001b[0m\n\u001b[1;32m     62\u001b[0m             \u001b[0;31m#curr_n = n\u001b[0m\u001b[0;34m\u001b[0m\u001b[0;34m\u001b[0m\u001b[0m\n\u001b[1;32m     63\u001b[0m             \u001b[0;32mbreak\u001b[0m\u001b[0;34m\u001b[0m\u001b[0m\n\u001b[0;32m---> 64\u001b[0;31m         \u001b[0mC\u001b[0m\u001b[0;34m,\u001b[0m\u001b[0mV\u001b[0m\u001b[0;34m,\u001b[0m\u001b[0mc_arr\u001b[0m\u001b[0;34m,\u001b[0m\u001b[0mv_arr\u001b[0m \u001b[0;34m=\u001b[0m \u001b[0msimdyn\u001b[0m\u001b[0;34m(\u001b[0m\u001b[0mM_prime\u001b[0m\u001b[0;34m,\u001b[0m\u001b[0ml_prime\u001b[0m\u001b[0;34m,\u001b[0m\u001b[0mparams\u001b[0m\u001b[0;34m)\u001b[0m\u001b[0;34m\u001b[0m\u001b[0m\n\u001b[0m\u001b[1;32m     65\u001b[0m         \u001b[0mcheck2\u001b[0m \u001b[0;34m=\u001b[0m \u001b[0mclassify\u001b[0m\u001b[0;34m(\u001b[0m\u001b[0mV\u001b[0m\u001b[0;34m,\u001b[0m\u001b[0mparams\u001b[0m\u001b[0;34m)\u001b[0m\u001b[0;34m\u001b[0m\u001b[0m\n\u001b[1;32m     66\u001b[0m         \u001b[0;32mif\u001b[0m \u001b[0mcheck2\u001b[0m \u001b[0;34m!=\u001b[0m \u001b[0mcheck\u001b[0m\u001b[0;34m:\u001b[0m\u001b[0;34m\u001b[0m\u001b[0m\n",
      "\u001b[0;32m<ipython-input-22-23d8d5701372>\u001b[0m in \u001b[0;36msimdyn\u001b[0;34m(M, l, params)\u001b[0m\n\u001b[1;32m      1\u001b[0m \u001b[0;32mdef\u001b[0m \u001b[0msimdyn\u001b[0m\u001b[0;34m(\u001b[0m\u001b[0mM\u001b[0m\u001b[0;34m,\u001b[0m\u001b[0ml\u001b[0m\u001b[0;34m,\u001b[0m\u001b[0mparams\u001b[0m\u001b[0;34m)\u001b[0m\u001b[0;34m:\u001b[0m\u001b[0;34m\u001b[0m\u001b[0m\n\u001b[0;32m----> 2\u001b[0;31m     \u001b[0;32mreturn\u001b[0m \u001b[0msimDynamics\u001b[0m\u001b[0;34m(\u001b[0m\u001b[0mM\u001b[0m\u001b[0;34m,\u001b[0m\u001b[0ml\u001b[0m\u001b[0;34m,\u001b[0m\u001b[0mparams\u001b[0m\u001b[0;34m)\u001b[0m\u001b[0;34m\u001b[0m\u001b[0m\n\u001b[0m\u001b[1;32m      3\u001b[0m \u001b[0;34m\u001b[0m\u001b[0m\n\u001b[1;32m      4\u001b[0m \u001b[0;34m@\u001b[0m\u001b[0mjit\u001b[0m\u001b[0;34m(\u001b[0m\u001b[0mnopython\u001b[0m\u001b[0;34m=\u001b[0m\u001b[0;32mTrue\u001b[0m\u001b[0;34m)\u001b[0m\u001b[0;34m\u001b[0m\u001b[0m\n\u001b[1;32m      5\u001b[0m \u001b[0;32mdef\u001b[0m \u001b[0msimDynamics\u001b[0m\u001b[0;34m(\u001b[0m\u001b[0mM\u001b[0m\u001b[0;34m,\u001b[0m\u001b[0ml\u001b[0m\u001b[0;34m,\u001b[0m\u001b[0mparams\u001b[0m\u001b[0;34m)\u001b[0m\u001b[0;34m:\u001b[0m\u001b[0;34m\u001b[0m\u001b[0m\n",
      "\u001b[0;31mKeyboardInterrupt\u001b[0m: "
     ]
    }
   ],
   "source": [
    "N=10000\n",
    "dt=0.001\n",
    "T=zeros(N)\n",
    "for i in range(N):\n",
    "    T[i]=i*dt\n",
    "\n",
    "\n",
    "M_prime = copy.deepcopy(M)\n",
    "l_prime = copy.deepcopy(l)\n",
    "#curr_n = n #Current number of neurons in network \n",
    "to_cull = 0\n",
    "\n",
    "tauv=0.01 #0.01\n",
    "tauc=0.5 #0.5\n",
    "Vstar=15 #Constant (according to experiments) 15\n",
    "Cstar=20 #15\n",
    "V0=18 #18\n",
    "C0=18 #18\n",
    "\n",
    "delV= 1. #1.2\n",
    "delVmin = delV/3\n",
    "delC= 0.015 #0.015\n",
    "r= 70 #70\n",
    "\n",
    "params=zeros(12)\n",
    "params[0]=N\n",
    "params[1]=n\n",
    "params[2]=dt\n",
    "params[3]=tauv\n",
    "params[4]=tauc\n",
    "params[5]=Vstar\n",
    "params[6]=Cstar\n",
    "params[7]=delV\n",
    "params[8]=delC\n",
    "params[9]=r\n",
    "params[10]=V0\n",
    "params[11]=C0\n",
    "\n",
    "phasen = []\n",
    "phaseV = []\n",
    "kCore = []\n",
    "\n",
    "dV = 0.1\n",
    "delVmax = 15.\n",
    "\n",
    "while True:\n",
    "    C,V,c_arr,v_arr = simdyn(M_prime,l_prime,params)\n",
    "    check = classify(V,params)\n",
    "    while True:\n",
    "        #import pdb; pdb.set_trace()\n",
    "        params[1] -= 1\n",
    "        #curr_n = curr_n-1\n",
    "        to_cull += 1\n",
    "        M_prime = killNeuron2(to_cull, M)\n",
    "        l_prime = matrixOfEdges(M_prime, params[1])\n",
    "        if params[1] <= 1:\n",
    "            params[7] += dV\n",
    "            params[1] = n\n",
    "            to_cull = 0\n",
    "            M_prime = copy.deepcopy(M)\n",
    "            l_prime = copy.deepcopy(l)\n",
    "            #curr_n = n\n",
    "            break\n",
    "        C,V,c_arr,v_arr = simdyn(M_prime,l_prime,params)\n",
    "        check2 = classify(V,params)\n",
    "        if check2 != check:\n",
    "            print(\"delV: \", params[7])\n",
    "            print(\"transition from\", check, \"to\", check2)\n",
    "            phasen.append(params[1])\n",
    "            phaseV.append(params[7])\n",
    "            params[7] += dV\n",
    "            '''\n",
    "            if params[1] < n-3:\n",
    "                to_cull -= 3\n",
    "                params[1] += 3 #Changed from params[1] = n to track boundary \n",
    "                M_prime = killNeuron2(to_cull, M)\n",
    "                l_prime = matrixOfEdges(M_prime, params[1])\n",
    "            '''\n",
    "            #else:\n",
    "            to_cull = 0\n",
    "            params[1] = n \n",
    "            M_prime = copy.deepcopy(M)\n",
    "            l_prime = copy.deepcopy(l)\n",
    "                \n",
    "            break\n",
    "\n",
    "    if params[7] > delVmax:\n",
    "        break\n",
    "print('loop complete')"
   ]
  },
  {
   "cell_type": "code",
   "execution_count": 62,
   "metadata": {},
   "outputs": [
    {
     "data": {
      "text/plain": [
       "[<matplotlib.lines.Line2D at 0xa18c52f98>]"
      ]
     },
     "execution_count": 62,
     "metadata": {},
     "output_type": "execute_result"
    },
    {
     "data": {
      "image/png": "[encoded data removed]",
      "text/plain": [
       "<Figure size 432x288 with 1 Axes>"
      ]
     },
     "metadata": {
      "needs_background": "light"
     },
     "output_type": "display_data"
    }
   ],
   "source": [
    "plot(phaseV,phasen)"
   ]
  },
  {
   "cell_type": "markdown",
   "metadata": {},
   "source": [
    "### Dynamics for specific parameters"
   ]
  },
  {
   "cell_type": "code",
   "execution_count": 123,
   "metadata": {},
   "outputs": [],
   "source": [
    "N=100000\n",
    "n=100 #100\n",
    "dt=0.001\n",
    "T=zeros(N)\n",
    "for i in range(N):\n",
    "    T[i]=i*dt\n",
    "p = 0.9\n",
    "\n",
    "M_prime = copy.deepcopy(M)\n",
    "l_prime = copy.deepcopy(l)\n",
    "#curr_n = n #Current number of neurons in network \n",
    "\n",
    "target_n = 53\n",
    "to_cull = n-target_n\n",
    "\n",
    "tauv=0.01 #0.01\n",
    "tauc=0.5 #0.5\n",
    "Vstar=15 #Constant (according to experiments) 15\n",
    "Cstar=20 #15\n",
    "V0=18 #18\n",
    "C0=18 #18\n",
    "\n",
    "delV= 1.2 #1.2\n",
    "delC= 0.015 #0.015\n",
    "r= 70 #70\n",
    "\n",
    "params=zeros(12)\n",
    "params[0]=N\n",
    "params[1]=target_n\n",
    "params[2]=dt\n",
    "params[3]=tauv\n",
    "params[4]=tauc\n",
    "params[5]=Vstar\n",
    "params[6]=Cstar\n",
    "params[7]=delV\n",
    "params[8]=delC\n",
    "params[9]=r\n",
    "params[10]=V0\n",
    "params[11]=C0\n",
    "\n",
    "M_prime = killNeuron2(to_cull, M)\n",
    "l_prime = matrixOfEdges(M_prime, params[1])\n",
    "\n",
    "C,V,c_arr,v_arr=simdyn(M_prime, l_prime, params)"
   ]
  },
  {
   "cell_type": "code",
   "execution_count": 125,
   "metadata": {},
   "outputs": [
    {
     "name": "stdout",
     "output_type": "stream",
     "text": [
      "15\n",
      "total neurons: 53 \n",
      "total firing neurons: 48\n"
     ]
    }
   ],
   "source": [
    "print(Vstar)\n",
    "firing = 0\n",
    "for i in range(len(v_arr[-1])):\n",
    "    if v_arr[-1,i] > Vstar and c_arr[-1,i] < Cstar:\n",
    "        firing += 1\n",
    "        \n",
    "print(\"total neurons: {} \\ntotal firing neurons: {}\".format(target_n, firing))"
   ]
  },
  {
   "cell_type": "code",
   "execution_count": 124,
   "metadata": {},
   "outputs": [
    {
     "data": {
      "text/plain": [
       "Text(0.5, 1.0, '3')"
      ]
     },
     "execution_count": 124,
     "metadata": {},
     "output_type": "execute_result"
    },
    {
     "data": {
      "image/png": "[encoded data removed]",
      "text/plain": [
       "<Figure size 432x288 with 1 Axes>"
      ]
     },
     "metadata": {
      "needs_background": "light"
     },
     "output_type": "display_data"
    }
   ],
   "source": [
    "plot(C,V)\n",
    "title(classify(V,params))"
   ]
  },
  {
   "cell_type": "code",
   "execution_count": 126,
   "metadata": {},
   "outputs": [
    {
     "data": {
      "text/plain": [
       "47.0"
      ]
     },
     "execution_count": 126,
     "metadata": {},
     "output_type": "execute_result"
    }
   ],
   "source": [
    "largestkcore(M_prime)"
   ]
  },
  {
   "cell_type": "code",
   "execution_count": 136,
   "metadata": {},
   "outputs": [],
   "source": [
    "x=kcoreitself(M_prime,46)"
   ]
  },
  {
   "cell_type": "code",
   "execution_count": 138,
   "metadata": {},
   "outputs": [
    {
     "data": {
      "text/plain": [
       "(53, 53)"
      ]
     },
     "execution_count": 138,
     "metadata": {},
     "output_type": "execute_result"
    }
   ],
   "source": [
    "x.shape"
   ]
  },
  {
   "cell_type": "code",
   "execution_count": 9,
   "metadata": {},
   "outputs": [],
   "source": [
    "def simdyn2(M,l,params):\n",
    "    return simDynamics2(M,l,params)\n",
    "\n",
    "@jit(nopython=True)\n",
    "def simDynamics2(M,l,params):\n",
    "    N=int(params[0])\n",
    "    n=int(params[1])\n",
    "    dt=params[2]\n",
    "    tauv=params[3]\n",
    "    tauc=params[4]\n",
    "    Vstar=params[5]\n",
    "    Cstar=params[6]\n",
    "    delV=params[7]\n",
    "    delC=params[8]\n",
    "    r=params[9]\n",
    "    V0=params[10]\n",
    "    C0=params[11]\n",
    "    V=zeros(N*n).reshape(N,n)  #now we have potencial and calcium concentration for each neuron\n",
    "    C=zeros(N*n).reshape(N,n)\n",
    "    P=zeros(n)  # function P(V), sigmoid\n",
    "    sump=zeros(n)  #sum of P over the vertices\n",
    "    avV=zeros(N) #average potencial\n",
    "    avC=zeros(N)  #average calcium\n",
    "    #res = int(params[12]) #resulting classification \n",
    "    \n",
    "    for i in range(n):\n",
    "        V[0,i]=V0 #initial conditions\n",
    "        C[0,i]=C0 \n",
    "        avV[0]=n*V0  #we will divide to n later\n",
    "        avC[0]=n*C0\n",
    "    for i in range (N-1):\n",
    "        for j in range(n):\n",
    "            if V[i,j] < Vstar:\n",
    "                P[j] = 0 #5\n",
    "            else: \n",
    "                P[j] = 70 #70\n",
    "        for j in range(n):\n",
    "            a=int(l[j,0])\n",
    "            for k in range(a):\n",
    "                b=int(l[j,k])\n",
    "                sump[j]=sump[j]+P[b]  #if neuron connected to j-th neuron it participates in sum\n",
    "            \n",
    "        #pull conditionals to next loop\n",
    "        for j in range(n):\n",
    "            if V[i,j] < Vstar:\n",
    "                r = 0 #5\n",
    "            else:\n",
    "                r = 70 #250\n",
    "            if C[i,j] < Cstar: \n",
    "                delV = params[7]\n",
    "                #delC = params[8]\n",
    "            else:\n",
    "                delV = .1*params[7] #0\n",
    "                #delC = 0.0005\n",
    "                \n",
    "            V[i+1,j]=(-V[i,j]/tauv + sump[j]*delV*r)*dt + V[i,j] \n",
    "            C[i+1,j]=(-C[i,j]/tauc + sump[j]*delC*r)*dt + C[i,j]\n",
    "            avC[i+1]=avC[i+1]+C[i+1,j]\n",
    "            avV[i+1]=avV[i+1]+V[i+1,j]\n",
    "        for j in range(n):\n",
    "            sump[j]=0\n",
    "    for i in range (N):\n",
    "        avC[i]=avC[i]/n\n",
    "        avV[i]=avV[i]/n\n",
    "        \n",
    "   \n",
    "    return(avC,avV)"
   ]
  },
  {
   "cell_type": "code",
   "execution_count": 10,
   "metadata": {},
   "outputs": [],
   "source": [
    "#4\n",
    "#here we define the simulation process for random matrix. It is longer for numerical point of view so we use @jit compiler which significantly accelerates it \n",
    "import pdb\n",
    "#for some reason we need this funky embedding\n",
    "def simdyn3(M, l, params):\n",
    "    return simDynamics3(M, l, params)\n",
    "\n",
    "\n",
    "\n",
    "#@jit(nopython=True)\n",
    "def simDynamics3(M, l, params):  #params is a vector of parameters\n",
    "    N=int(params[0])\n",
    "    n=int(params[1])\n",
    "    dt=params[2]\n",
    "    tauv=params[3]\n",
    "    tauc=params[4]\n",
    "    Vstar=params[5]\n",
    "    Cstar=params[6]\n",
    "    delV=params[7]\n",
    "    delC=params[8]\n",
    "    r=params[9]\n",
    "    V0=params[10]\n",
    "    C0=params[11]\n",
    "    delVmin = params[12]\n",
    "    V=zeros(N*n).reshape(N,n)  #now we have potencial and calcium concentration for each neuron\n",
    "    C=zeros(N*n).reshape(N,n)\n",
    "    #P=zeros(n)  # function P(V), sigmoid\n",
    "    P = zeros(N*n).reshape(N,n)\n",
    "    deltaV=zeros(n)\n",
    "    sump=zeros(n)  #sum of P over the vertices\n",
    "    avV=zeros(N) #average potencial\n",
    "    avC=zeros(N)  #average calcium\n",
    "    firing_neurons_count = zeros(N*n).reshape(N,n) #Individually count how may neurons are actually firing in this model at a given step N.\n",
    "    \n",
    "    for i in range(n):\n",
    "        V[0,i]=V0 #initial conditions\n",
    "        C[0,i]=C0 \n",
    "        if V[0,i] > Vstar: #keep track of and return how many neurons in the network are actually firing  \n",
    "            firing_neurons_count[0,i] = 1\n",
    "        avV[0]=n*V0  #we will divide to n later\n",
    "        avC[0]=n*C0\n",
    "    for i in range (N-1):\n",
    "        for j in range(n):\n",
    "            if (V[i,j]>Vstar): #V[i,j] stores voltage of each neuron instead of returning the average voltage \n",
    "                P[i,j]=70\n",
    "            else:\n",
    "                P[i,j]=0\n",
    "            if (C[i,j]<Cstar):\n",
    "                deltaV[j]=delV #change from 1.2 \n",
    "            else:\n",
    "                deltaV[j]=delVmin #changed from .4\n",
    "        for j in range(n):\n",
    "            a=int(l[j,0]) #a should give number of firing neighbors \n",
    "            for k in range(a):\n",
    "                #b=int(l[j,k])\n",
    "                b = int(l[j,k+1])\n",
    "                sump[j]=sump[j]+P[i,b]  #if neuron connected to j-th neuron it participates in sum\n",
    "        for j in range(n):\n",
    "            V[i+1,j]=(-V[i,j]/tauv + deltaV[j]*sump[j])*dt + V[i,j]\n",
    "            if V[i+1,j] > Vstar: \n",
    "                firing_neurons_count[i+1,j] = 1 #used to return count of firing neurons later\n",
    "            if ((firing_neurons_count[i,j] == 1) and (firing_neurons_count[i+1,j] == 0)):\n",
    "                print(sump[j])\n",
    "            C[i+1,j]=(-C[i,j]/tauc + delC*r*sump[j])*dt + C[i,j]\n",
    "            avC[i+1]=avC[i+1]+C[i+1,j]\n",
    "            avV[i+1]=avV[i+1]+V[i+1,j]\n",
    "        for j in range(n):\n",
    "            sump[j]=0\n",
    "    for i in range (N):\n",
    "        avC[i]=avC[i]/n\n",
    "        avV[i]=avV[i]/n\n",
    "        \n",
    "        #plot([avC[i],avC[i+1]],[avV[i],avV[i+1]])    \n",
    "    return(avC,avV, firing_neurons_count, P, V)"
   ]
  },
  {
   "cell_type": "code",
   "execution_count": 11,
   "metadata": {},
   "outputs": [],
   "source": [
    "#5\n",
    "#TODO: Implement Fourier Analysis for classification\n",
    "    #Compare activity of one neuron with the results of classification graph \n",
    "###Classification 1 : Simple###\n",
    "def classify(V, params):\n",
    "    #Set up some globals \n",
    "    \n",
    "    N = int(params[0])\n",
    "    n = int(params[1])\n",
    "    \n",
    "    #Network uniformly connected but vectorized lets us scale later \n",
    "    #for i in range (N/2, N):\n",
    "    max_V = max(V[int(N/2):N])\n",
    "    min_V = min(V[int(N/2):N])\n",
    "   \n",
    "            \n",
    "    V_delta = max_V - min_V\n",
    "    \n",
    "    if V_delta < 0.1: #changed from 1\n",
    "        if V[N-1] < 15:\n",
    "            #params[12] = 2\n",
    "            return 2\n",
    "        else:\n",
    "            #params[12] = 3\n",
    "            return 3\n",
    "    else:\n",
    "        #params[12] = 1\n",
    "        return 1"
   ]
  },
  {
   "cell_type": "code",
   "execution_count": 12,
   "metadata": {},
   "outputs": [],
   "source": [
    "#6\n",
    "#Removes one neuron from the network (cull an x,y axis). \n",
    "def killNeuron(N,M_prime):\n",
    "    M = copy.deepcopy(M_prime)\n",
    "    #Randomly pick a neuron to remove\n",
    "    #x = np.random.randint(N)\n",
    "    x = 1\n",
    "    M = np.delete(M,x,axis=0)\n",
    "    M = np.delete(M,x,axis=1)\n",
    "    return M\n",
    "\n",
    "#TODO: Kill N neurons from the network systematically instead of one at a time. \n",
    "def killNeuron2(to_cull, M_prime):\n",
    "    M = copy.deepcopy(M_prime) \n",
    "    #Systemically cull certain neuron from the matrix\n",
    "    x = 0    \n",
    "    for i in range (int(to_cull)):\n",
    "        M = np.delete(M,x,axis=0)\n",
    "        M = np.delete(M,x,axis=1)\n",
    "    return M"
   ]
  },
  {
   "cell_type": "markdown",
   "metadata": {},
   "source": [
    "Iterate from the right with classification algorithm \n",
    "        1. ONLY decrement neuron count.\n",
    "        2. Append to right array \n",
    "        3. When hit 0 break\n",
    "    5. Start algorithm from the left (steps 1-3), appending to left array\n",
    "    6. Reverse right array and append to left array for end result. "
   ]
  },
  {
   "cell_type": "code",
   "execution_count": 9,
   "metadata": {},
   "outputs": [
    {
     "name": "stdout",
     "output_type": "stream",
     "text": [
      "1050.0\n",
      "1120.0\n",
      "1120.0\n",
      "1120.0\n",
      "1120.0\n",
      "1120.0\n",
      "1120.0\n",
      "1120.0\n",
      "1120.0\n",
      "1120.0\n",
      "1120.0\n",
      "1120.0\n",
      "1050.0\n",
      "1120.0\n"
     ]
    },
    {
     "ename": "ValueError",
     "evalue": "too many values to unpack (expected 3)",
     "output_type": "error",
     "traceback": [
      "\u001b[1;31m---------------------------------------------------------------------------\u001b[0m",
      "\u001b[1;31mValueError\u001b[0m                                Traceback (most recent call last)",
      "\u001b[1;32m<ipython-input-9-d4d1d823a92f>\u001b[0m in \u001b[0;36m<module>\u001b[1;34m()\u001b[0m\n\u001b[0;32m     52\u001b[0m \u001b[1;33m\u001b[0m\u001b[0m\n\u001b[0;32m     53\u001b[0m \u001b[1;32mwhile\u001b[0m \u001b[1;32mTrue\u001b[0m\u001b[1;33m:\u001b[0m\u001b[1;33m\u001b[0m\u001b[0m\n\u001b[1;32m---> 54\u001b[1;33m     \u001b[0mC\u001b[0m\u001b[1;33m,\u001b[0m\u001b[0mV\u001b[0m\u001b[1;33m,\u001b[0m\u001b[0mf\u001b[0m \u001b[1;33m=\u001b[0m \u001b[0msimdyn3\u001b[0m\u001b[1;33m(\u001b[0m\u001b[0mM_prime\u001b[0m\u001b[1;33m,\u001b[0m\u001b[0ml_prime\u001b[0m\u001b[1;33m,\u001b[0m\u001b[0mparams\u001b[0m\u001b[1;33m)\u001b[0m\u001b[1;33m\u001b[0m\u001b[0m\n\u001b[0m\u001b[0;32m     55\u001b[0m     \u001b[0mcheck\u001b[0m \u001b[1;33m=\u001b[0m \u001b[0mclassify\u001b[0m\u001b[1;33m(\u001b[0m\u001b[0mV\u001b[0m\u001b[1;33m,\u001b[0m\u001b[0mparams\u001b[0m\u001b[1;33m)\u001b[0m\u001b[1;33m\u001b[0m\u001b[0m\n\u001b[0;32m     56\u001b[0m     \u001b[1;32mwhile\u001b[0m \u001b[1;32mTrue\u001b[0m\u001b[1;33m:\u001b[0m\u001b[1;33m\u001b[0m\u001b[0m\n",
      "\u001b[1;31mValueError\u001b[0m: too many values to unpack (expected 3)"
     ]
    }
   ],
   "source": [
    "#7\n",
    "### Run this one after running matrix cells and the cell for simdyn3 \n",
    "N=10000\n",
    "n=100 #100\n",
    "dt=0.001\n",
    "T=zeros(N)\n",
    "for i in range(N):\n",
    "    T[i]=i*dt\n",
    "p = 1/6 #Connectivity rate High connectivity is just mean field so it looks a lot smoother... want to maybe not make it so high\n",
    "\n",
    "M=getRandomConnectivity(n,p) #args(n,p)\n",
    "l=matrixOfEdges(M,n)\n",
    "M_prime = copy.deepcopy(M)\n",
    "l_prime = copy.deepcopy(l)\n",
    "#curr_n = n #Current number of neurons in network \n",
    "to_cull = 0\n",
    "\n",
    "tauv=0.01 #0.01\n",
    "tauc=0.5 #0.5\n",
    "Vstar=15 #Constant (according to experiments) 15\n",
    "Cstar=20 #15\n",
    "V0=18 #18\n",
    "C0=18 #18\n",
    "\n",
    "delV= 4. #1.2\n",
    "delVmin = delV/3\n",
    "delC= 0.015 #0.015\n",
    "r= 70 #70\n",
    "\n",
    "params=zeros(13)\n",
    "params[0]=N\n",
    "params[1]=n\n",
    "params[2]=dt\n",
    "params[3]=tauv\n",
    "params[4]=tauc\n",
    "params[5]=Vstar\n",
    "params[6]=Cstar\n",
    "params[7]=delV\n",
    "params[8]=delC\n",
    "params[9]=r\n",
    "params[10]=V0\n",
    "params[11]=C0\n",
    "params[12]=delVmin #connenctivity rate from above.\n",
    "\n",
    "\n",
    "phasen = []\n",
    "phaseV = []\n",
    "kCore = []\n",
    "\n",
    "dV = 0.1\n",
    "delVmax = 20.\n",
    "\n",
    "while True:\n",
    "    C,V,f = simdyn3(M_prime,l_prime,params)\n",
    "    check = classify(V,params)\n",
    "    while True:\n",
    "        #import pdb; pdb.set_trace()\n",
    "        params[1] -= 1\n",
    "        #curr_n = curr_n-1\n",
    "        to_cull += 1\n",
    "        M_prime = killNeuron2(to_cull, M)\n",
    "        l_prime = matrixOfEdges(M_prime, params[1])\n",
    "        if params[1] <= 1:\n",
    "            params[7] += dV\n",
    "            params[12] = params[7]/3\n",
    "            params[1] = n\n",
    "            to_cull = 0\n",
    "            M_prime = copy.deepcopy(M)\n",
    "            l_prime = copy.deepcopy(l)\n",
    "            #curr_n = n\n",
    "            break\n",
    "        C,V,f = simdyn3(M_prime,l_prime,params)\n",
    "        check2 = classify(V,params)\n",
    "        if check2 != check:\n",
    "            print(\"delV: \", params[7])\n",
    "            print(\"transition from\", check, \"to\", check2)\n",
    "            #print(\"Kcore: \", largestKcore(M_prime), \"Predicted:\",floor(Vstar/(tauv*70*params[12])))\n",
    "            print(\"Kcore: \", largestKcore(M_prime), \"Predicted:\",Vstar/(tauv*70*params[12]))\n",
    "            phasen.append(params[1])\n",
    "            phaseV.append(params[7])\n",
    "            kCore.append(largestKcore(M_prime))\n",
    "            params[7] += dV\n",
    "            params[12] = params[7]/3\n",
    "            if params[1] < n-3:\n",
    "                to_cull -= 3\n",
    "                params[1] += 3 #Changed from params[1] = n to track boundary \n",
    "                M_prime = killNeuron2(to_cull, M)\n",
    "                l_prime = matrixOfEdges(M_prime, params[1])\n",
    "            else:\n",
    "                to_cull = 0\n",
    "                params[1] = n \n",
    "                M_prime = copy.deepcopy(M)\n",
    "                l_prime = copy.deepcopy(l)\n",
    "                \n",
    "            break\n",
    "\n",
    "    if params[7] > delVmax:\n",
    "        break\n",
    "print('loop complete')\n"
   ]
  },
  {
   "cell_type": "code",
   "execution_count": 12,
   "metadata": {
    "collapsed": true
   },
   "outputs": [],
   "source": [
    "#8\n",
    "#TODO: HA to SO phase.... find the k that it needs to bump up\n",
    "#Plots everything \n",
    "\n",
    "if len(phasen) > 0 and len(phaseV) > 0:\n",
    "\n",
    "    figure(1)\n",
    "    ylabel('n, number of neurons')\n",
    "    xlabel('delV')\n",
    "    yticks(np.arange(0, 150, 5.0))\n",
    "    grid(color='black', linestyle='dotted', linewidth=1)\n",
    "    plot(phaseV,phasen, '-o')\n",
    "    #savefig('kcore_correct2.png')\n",
    "\n",
    "    figure(2)\n",
    "    ylabel('largest k core') \n",
    "    xlabel('delV') \n",
    "    plot(phaseV, kCore, '-0') \n",
    "    #savefig('kcore_kcores_correct2.png')\n",
    "    \n",
    "else:\n",
    "    print('no transition')\n"
   ]
  },
  {
   "cell_type": "code",
   "execution_count": 10,
   "metadata": {},
   "outputs": [
    {
     "name": "stdout",
     "output_type": "stream",
     "text": [
      "280.0\n",
      "490.0\n"
     ]
    }
   ],
   "source": [
    "#Looking at k-core size versus the actual number of firing neurons in the network \n",
    "N=1000\n",
    "n=80 #150\n",
    "dt=0.001\n",
    "T=zeros(N)\n",
    "for i in range(N):\n",
    "    T[i]=i*dt\n",
    "p = 1/6 #Connectivity rate High connectivity is just mean field so it looks a lot smoother... want to maybe not make it so high\n",
    "\n",
    "M=getRandomConnectivity(n,p) #args(n,p)\n",
    "M_T = transpose(M)\n",
    "l1=matrixOfEdges(M,n)\n",
    "l2=matrixOfEdges(M_T,n)\n",
    "#M_prime = copy.deepcopy(M_T)\n",
    "#l_prime = copy.deepcopy(l)\n",
    "\n",
    "tauv=0.01 #0.01\n",
    "tauc=0.5 #0.5\n",
    "Vstar=15 #Constant (according to experiments) 15\n",
    "Cstar=20 #15\n",
    "V0=30 #18\n",
    "C0=30 #18\n",
    "\n",
    "delV= 8.4 #1.2\n",
    "delVmin = delV/3\n",
    "delC= 0.015 #0.015\n",
    "r= 70 #70\n",
    "\n",
    "cull_to = 10 #How many neurons we want to cut down to from original matrix 50 worked well\n",
    "#M_prime = killNeuron2(n-cull_to, M_T)\n",
    "#l_prime = matrixOfEdges(M_prime, cull_to)\n",
    "\n",
    "params=zeros(13)\n",
    "params[0]=N\n",
    "params[1]=n #instead of actual n, cull neurons til desired value\n",
    "params[2]=dt\n",
    "params[3]=tauv\n",
    "params[4]=tauc\n",
    "params[5]=Vstar\n",
    "params[6]=Cstar\n",
    "params[7]=delV\n",
    "params[8]=delC\n",
    "params[9]=r\n",
    "params[10]=V0\n",
    "params[11]=C0\n",
    "params[12]=delVmin #connenctivity rate from above.\n",
    "\n",
    "\n",
    "#C,V,neuron_counts = simdyn3(M_prime,l_prime,params)\n",
    "C,V,neuron_counts, P, Voltages = simdyn3(M,l1,params)\n",
    "itself = kcoreitself(M,ceil(Vstar/(tauv*delVmin*r)))"
   ]
  },
  {
   "cell_type": "code",
   "execution_count": 11,
   "metadata": {},
   "outputs": [
    {
     "name": "stdout",
     "output_type": "stream",
     "text": [
      "Classification: 3\n",
      "Largest kcore: 8.0\n",
      "Predicted k:  7.653061224489795\n",
      "Shape of kcore (gives kcore size): (78, 78)\n",
      "Number of neurons total in network: 80.0\n",
      "Number of firing neurons: 78.0\n"
     ]
    }
   ],
   "source": [
    "out = Vstar/(tauv*delVmin*r)\n",
    "\n",
    "print(\"Classification:\",classify(V,params))\n",
    "print(\"Largest kcore:\", largestKcore(M))\n",
    "print(\"Predicted k: \",out)\n",
    "print(\"Shape of kcore (gives kcore size):\",itself.shape)\n",
    "print(\"Number of neurons total in network:\",params[1])\n",
    "print(\"Number of firing neurons:\",sum(neuron_counts[N-1]))"
   ]
  },
  {
   "cell_type": "code",
   "execution_count": 15,
   "metadata": {},
   "outputs": [],
   "source": [
    "plt.xlim(0,50)\n",
    "for i in range(10):\n",
    "    plt.plot(Voltages[:,i],label=i)\n",
    "plt.legend()\n",
    "plt.show()\n",
    "#plt.savefig(\"Voltages.png\")"
   ]
  },
  {
   "cell_type": "code",
   "execution_count": 13,
   "metadata": {},
   "outputs": [
    {
     "data": {
      "text/plain": [
       "<matplotlib.legend.Legend at 0x21d3880e9b0>"
      ]
     },
     "execution_count": 13,
     "metadata": {},
     "output_type": "execute_result"
    }
   ],
   "source": [
    "plt.xlim(0,50)\n",
    "for i in range(10):\n",
    "    plt.plot(P[:,i],label=i)\n",
    "plt.legend()\n",
    "#plt.savefig(\"P.png\")"
   ]
  },
  {
   "cell_type": "code",
   "execution_count": 278,
   "metadata": {},
   "outputs": [
    {
     "name": "stdout",
     "output_type": "stream",
     "text": [
      "(10, 10)\n"
     ]
    }
   ],
   "source": [
    "print(shape(kcoreitself(M_T,ceil(Vstar/(tauv*delVmin*r)))))"
   ]
  },
  {
   "cell_type": "code",
   "execution_count": 111,
   "metadata": {},
   "outputs": [
    {
     "name": "stdout",
     "output_type": "stream",
     "text": [
      "[[1. 1. 1. ... 1. 1. 1.]\n",
      " [1. 1. 1. ... 1. 1. 1.]\n",
      " [1. 1. 1. ... 1. 1. 1.]\n",
      " ...\n",
      " [0. 0. 0. ... 0. 0. 0.]\n",
      " [0. 0. 0. ... 0. 0. 0.]\n",
      " [0. 0. 0. ... 0. 0. 0.]]\n"
     ]
    }
   ],
   "source": [
    "print(neuron_counts)"
   ]
  },
  {
   "cell_type": "code",
   "execution_count": 673,
   "metadata": {
    "collapsed": true
   },
   "outputs": [],
   "source": [
    "#Plots where each neuron stops firing \n",
    "plt.xlim(0,100)\n",
    "for i in range(10):\n",
    "    plt.plot(neuron_counts[:,i],label=\"%d\"%i)\n",
    "plt.legend()\n",
    "plt.savefig(\"stop_firing.png\")"
   ]
  },
  {
   "cell_type": "code",
   "execution_count": 674,
   "metadata": {
    "scrolled": false
   },
   "outputs": [
    {
     "name": "stdout",
     "output_type": "stream",
     "text": [
      "[1. 1. 1. 1. 1. 1. 1. 1. 1. 1.]\n"
     ]
    }
   ],
   "source": [
    "print(neuron_counts[9])"
   ]
  },
  {
   "cell_type": "code",
   "execution_count": 675,
   "metadata": {
    "collapsed": true
   },
   "outputs": [],
   "source": [
    "#Attempt to visualize network connectivity\n",
    "#TODO: Check with smaller numbers of neurons and check connectivities. \n",
    "\n",
    "#TODO: make red edges point FROM firing neuron. \n",
    "G = nx.DiGraph()\n",
    "H = nx.DiGraph()\n",
    "G.add_nodes_from(range(0,n))\n",
    "H.add_nodes_from(range(0,n))\n",
    "for i in range(n):\n",
    "    for j in range(n):\n",
    "        if M[i,j] == 1: #and neuron_counts[N-1,j] == 1:\n",
    "            #if neuron_counts[N-1,j] == 1:\n",
    "            if neuron_counts[N-1,i] == 1:\n",
    "                H.add_edge(i,j,firing=True)\n",
    "            else:\n",
    "                G.add_edge(i,j,firing=False)\n",
    "        \n"
   ]
  },
  {
   "cell_type": "code",
   "execution_count": 676,
   "metadata": {},
   "outputs": [
    {
     "name": "stdout",
     "output_type": "stream",
     "text": [
      "[[4. 1. 2. 7. 8. 0. 0. 0. 0. 0.]\n",
      " [5. 3. 4. 6. 8. 9. 0. 0. 0. 0.]\n",
      " [5. 0. 3. 5. 6. 9. 0. 0. 0. 0.]\n",
      " [5. 0. 4. 7. 8. 9. 0. 0. 0. 0.]\n",
      " [5. 1. 2. 6. 7. 9. 0. 0. 0. 0.]\n",
      " [6. 1. 2. 4. 6. 8. 9. 0. 0. 0.]\n",
      " [3. 7. 8. 9. 0. 0. 0. 0. 0. 0.]\n",
      " [5. 0. 2. 3. 4. 8. 0. 0. 0. 0.]\n",
      " [2. 0. 9. 0. 0. 0. 0. 0. 0. 0.]\n",
      " [5. 0. 2. 4. 5. 7. 0. 0. 0. 0.]]\n",
      "7\n"
     ]
    }
   ],
   "source": [
    "print(l1)\n",
    "print(int(l1[9,5]))"
   ]
  },
  {
   "cell_type": "code",
   "execution_count": 583,
   "metadata": {},
   "outputs": [
    {
     "name": "stdout",
     "output_type": "stream",
     "text": [
      "[[70. 70. 70. ... 70. 70. 70.]\n",
      " [70. 70. 70. ... 70. 70. 70.]\n",
      " [70. 70. 70. ... 70. 70. 70.]\n",
      " ...\n",
      " [70. 70. 70. ... 70. 70.  0.]\n",
      " [70. 70. 70. ... 70. 70.  0.]\n",
      " [ 0.  0.  0. ...  0.  0.  0.]]\n"
     ]
    }
   ],
   "source": []
  },
  {
   "cell_type": "code",
   "execution_count": 677,
   "metadata": {},
   "outputs": [
    {
     "name": "stdout",
     "output_type": "stream",
     "text": [
      "[1. 1. 1. 1. 1. 1. 0. 1. 0. 1.]\n"
     ]
    }
   ],
   "source": [
    "print(neuron_counts[N-1])"
   ]
  },
  {
   "cell_type": "code",
   "execution_count": 678,
   "metadata": {
    "collapsed": true
   },
   "outputs": [],
   "source": [
    "plt.title(\"%d Neurons in network\"%G.order())\n",
    "nx.draw_circular(H,node_size=20,width=0.3,node_color='black', edge_color='red',with_labels=True)\n",
    "nx.draw_circular(G,node_size=20,width=0.3,edge_color='black',node_color='black')\n",
    "plt.savefig('neuron_connectivity.png')"
   ]
  },
  {
   "cell_type": "code",
   "execution_count": 679,
   "metadata": {},
   "outputs": [
    {
     "data": {
      "text/plain": [
       "OutEdgeView([(0, 2), (0, 3), (0, 7), (0, 8), (0, 9), (1, 0), (1, 4), (1, 5), (2, 0), (2, 4), (2, 5), (2, 7), (2, 9), (3, 1), (3, 2), (3, 7), (4, 1), (4, 3), (4, 5), (4, 7), (4, 9), (5, 2), (5, 9), (7, 0), (7, 3), (7, 4), (7, 6), (7, 9), (9, 1), (9, 2), (9, 3), (9, 4), (9, 5), (9, 6), (9, 8)])"
      ]
     },
     "execution_count": 679,
     "metadata": {},
     "output_type": "execute_result"
    }
   ],
   "source": [
    "H.edges"
   ]
  },
  {
   "cell_type": "code",
   "execution_count": 680,
   "metadata": {},
   "outputs": [
    {
     "data": {
      "text/plain": [
       "OutEdgeView([(6, 1), (6, 2), (6, 4), (6, 5), (8, 0), (8, 1), (8, 3), (8, 5), (8, 6), (8, 7)])"
      ]
     },
     "execution_count": 680,
     "metadata": {},
     "output_type": "execute_result"
    }
   ],
   "source": [
    "G.edges"
   ]
  },
  {
   "cell_type": "code",
   "execution_count": null,
   "metadata": {
    "collapsed": true
   },
   "outputs": [],
   "source": []
  }
 ],
 "metadata": {
  "kernelspec": {
   "display_name": "Python 3",
   "language": "python",
   "name": "python3"
  },
  "language_info": {
   "codemirror_mode": {
    "name": "ipython",
    "version": 3
   },
   "file_extension": ".py",
   "mimetype": "text/x-python",
   "name": "python",
   "nbconvert_exporter": "python",
   "pygments_lexer": "ipython3",
   "version": "3.6.6"
  }
 },
 "nbformat": 4,
 "nbformat_minor": 2
}
